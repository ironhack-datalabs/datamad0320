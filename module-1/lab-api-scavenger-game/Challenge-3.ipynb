{
 "cells": [
  {
   "cell_type": "code",
   "execution_count": 267,
   "metadata": {},
   "outputs": [
    {
     "data": {
      "text/plain": [
       "<Response [200]>"
      ]
     },
     "execution_count": 267,
     "metadata": {},
     "output_type": "execute_result"
    }
   ],
   "source": [
    "import requests\n",
    "import json\n",
    "url = \"https://api.github.com/repos/ironhack-datalabs/scavenger/contents\"\n",
    "res = requests.get(url)\n",
    "res"
   ]
  },
  {
   "cell_type": "code",
   "execution_count": 268,
   "metadata": {},
   "outputs": [],
   "source": [
    "import os\n",
    "from dotenv import load_dotenv\n",
    "load_dotenv()\n",
    "apiKey = os.getenv(\"GITHUB_APIKEY\")"
   ]
  },
  {
   "cell_type": "code",
   "execution_count": 269,
   "metadata": {},
   "outputs": [],
   "source": [
    "def getFromGithub(url,queryParams=dict(),apiKey=\"\"):\n",
    "    headers = {\"Authorization\":f\"token {apiKey}\"} if apiKey else {}\n",
    "    res = requests.get(url, params=queryParams, headers=headers)\n",
    "    print(res.status_code, res.url)\n",
    "    return res.json()"
   ]
  },
  {
   "cell_type": "code",
   "execution_count": 270,
   "metadata": {},
   "outputs": [
    {
     "name": "stdout",
     "output_type": "stream",
     "text": [
      "200 https://api.github.com/repos/ironhack-datalabs/scavenger/contents\n"
     ]
    }
   ],
   "source": [
    "contents = getFromGithub(\"https://api.github.com/repos/ironhack-datalabs/scavenger/contents\", apiKey=apiKey)"
   ]
  },
  {
   "cell_type": "code",
   "execution_count": 271,
   "metadata": {},
   "outputs": [
    {
     "name": "stdout",
     "output_type": "stream",
     "text": [
      "200 https://api.github.com/repos/ironhack-datalabs/scavenger/contents/.gitignore\n",
      "200 https://api.github.com/repos/ironhack-datalabs/scavenger/contents/15024\n",
      "200 https://api.github.com/repos/ironhack-datalabs/scavenger/contents/15534\n",
      "200 https://api.github.com/repos/ironhack-datalabs/scavenger/contents/17020\n",
      "200 https://api.github.com/repos/ironhack-datalabs/scavenger/contents/30351\n",
      "200 https://api.github.com/repos/ironhack-datalabs/scavenger/contents/40303\n",
      "200 https://api.github.com/repos/ironhack-datalabs/scavenger/contents/44639\n",
      "200 https://api.github.com/repos/ironhack-datalabs/scavenger/contents/45525\n",
      "200 https://api.github.com/repos/ironhack-datalabs/scavenger/contents/47222\n",
      "200 https://api.github.com/repos/ironhack-datalabs/scavenger/contents/47830\n",
      "200 https://api.github.com/repos/ironhack-datalabs/scavenger/contents/49418\n",
      "200 https://api.github.com/repos/ironhack-datalabs/scavenger/contents/50896\n",
      "200 https://api.github.com/repos/ironhack-datalabs/scavenger/contents/55417\n",
      "200 https://api.github.com/repos/ironhack-datalabs/scavenger/contents/55685\n",
      "200 https://api.github.com/repos/ironhack-datalabs/scavenger/contents/60224\n",
      "200 https://api.github.com/repos/ironhack-datalabs/scavenger/contents/64880\n",
      "200 https://api.github.com/repos/ironhack-datalabs/scavenger/contents/66032\n",
      "200 https://api.github.com/repos/ironhack-datalabs/scavenger/contents/68848\n",
      "200 https://api.github.com/repos/ironhack-datalabs/scavenger/contents/70751\n",
      "200 https://api.github.com/repos/ironhack-datalabs/scavenger/contents/70985\n",
      "200 https://api.github.com/repos/ironhack-datalabs/scavenger/contents/88596\n",
      "200 https://api.github.com/repos/ironhack-datalabs/scavenger/contents/89046\n",
      "200 https://api.github.com/repos/ironhack-datalabs/scavenger/contents/89338\n",
      "200 https://api.github.com/repos/ironhack-datalabs/scavenger/contents/91701\n",
      "200 https://api.github.com/repos/ironhack-datalabs/scavenger/contents/97881\n",
      "200 https://api.github.com/repos/ironhack-datalabs/scavenger/contents/98750\n"
     ]
    }
   ],
   "source": [
    "files = []\n",
    "files_path = []\n",
    "for c in contents:\n",
    "    files.append(c[\"path\"])\n",
    "for f in files:\n",
    "    files_path.append(getFromGithub(f\"https://api.github.com/repos/ironhack-datalabs/scavenger/contents/{f}\", apiKey=apiKey))"
   ]
  },
  {
   "cell_type": "code",
   "execution_count": 276,
   "metadata": {},
   "outputs": [
    {
     "name": "stdout",
     "output_type": "stream",
     "text": [
      "200 https://api.github.com/repos/ironhack-datalabs/scavenger/contents/15024/.0006.scavengerhunt?ref=master\n",
      "200 https://api.github.com/repos/ironhack-datalabs/scavenger/contents/15534/.0008.scavengerhunt?ref=master\n",
      "200 https://api.github.com/repos/ironhack-datalabs/scavenger/contents/15534/.0012.scavengerhunt?ref=master\n",
      "200 https://api.github.com/repos/ironhack-datalabs/scavenger/contents/17020/.0007.scavengerhunt?ref=master\n",
      "200 https://api.github.com/repos/ironhack-datalabs/scavenger/contents/30351/.0021.scavengerhunt?ref=master\n",
      "200 https://api.github.com/repos/ironhack-datalabs/scavenger/contents/40303/.0022.scavengerhunt?ref=master\n",
      "200 https://api.github.com/repos/ironhack-datalabs/scavenger/contents/44639/.0005.scavengerhunt?ref=master\n",
      "200 https://api.github.com/repos/ironhack-datalabs/scavenger/contents/45525/.0018.scavengerhunt?ref=master\n",
      "200 https://api.github.com/repos/ironhack-datalabs/scavenger/contents/47222/.0016.scavengerhunt?ref=master\n",
      "200 https://api.github.com/repos/ironhack-datalabs/scavenger/contents/47222/.0024.scavengerhunt?ref=master\n",
      "200 https://api.github.com/repos/ironhack-datalabs/scavenger/contents/47830/.0010.scavengerhunt?ref=master\n",
      "200 https://api.github.com/repos/ironhack-datalabs/scavenger/contents/49418/.0014.scavengerhunt?ref=master\n",
      "200 https://api.github.com/repos/ironhack-datalabs/scavenger/contents/50896/.0011.scavengerhunt?ref=master\n",
      "200 https://api.github.com/repos/ironhack-datalabs/scavenger/contents/55417/.0023.scavengerhunt?ref=master\n",
      "200 https://api.github.com/repos/ironhack-datalabs/scavenger/contents/55685/.0020.scavengerhunt?ref=master\n",
      "200 https://api.github.com/repos/ironhack-datalabs/scavenger/contents/60224/.0003.scavengerhunt?ref=master\n",
      "200 https://api.github.com/repos/ironhack-datalabs/scavenger/contents/68848/.0004.scavengerhunt?ref=master\n",
      "200 https://api.github.com/repos/ironhack-datalabs/scavenger/contents/70751/.0019.scavengerhunt?ref=master\n",
      "200 https://api.github.com/repos/ironhack-datalabs/scavenger/contents/70985/.0017.scavengerhunt?ref=master\n",
      "200 https://api.github.com/repos/ironhack-datalabs/scavenger/contents/88596/.0002.scavengerhunt?ref=master\n",
      "200 https://api.github.com/repos/ironhack-datalabs/scavenger/contents/89338/.0013.scavengerhunt?ref=master\n",
      "200 https://api.github.com/repos/ironhack-datalabs/scavenger/contents/91701/.0015.scavengerhunt?ref=master\n",
      "200 https://api.github.com/repos/ironhack-datalabs/scavenger/contents/97881/.0009.scavengerhunt?ref=master\n",
      "200 https://api.github.com/repos/ironhack-datalabs/scavenger/contents/98750/.0001.scavengerhunt?ref=master\n"
     ]
    }
   ],
   "source": [
    "lst= []\n",
    "for c in files_path:\n",
    "    for d in c:\n",
    "        if type(d) == dict and \".scavengerhunt\" in d[\"name\"]:\n",
    "            lst.append(getFromGithub(d[\"url\"], apiKey=apiKey))"
   ]
  },
  {
   "cell_type": "code",
   "execution_count": 290,
   "metadata": {},
   "outputs": [
    {
     "data": {
      "text/plain": [
       "[b'20\\n',\n",
       " b'80\\n',\n",
       " b'In\\n',\n",
       " b'complaining\\n',\n",
       " b'about\\n',\n",
       " b'data\\n',\n",
       " b'data.\\n',\n",
       " b'data,\\n',\n",
       " b'is\\n',\n",
       " b'is\\n',\n",
       " b'of\\n',\n",
       " b'of\\n',\n",
       " b'need\\n',\n",
       " b'science,\\n',\n",
       " b'spent\\n',\n",
       " b'spent\\n',\n",
       " b'percent\\n',\n",
       " b'percent\\n',\n",
       " b'prepare\\n',\n",
       " b'preparing\\n',\n",
       " b'to\\n',\n",
       " b'the\\n',\n",
       " b'time\\n',\n",
       " b'time\\n']"
      ]
     },
     "execution_count": 290,
     "metadata": {},
     "output_type": "execute_result"
    }
   ],
   "source": [
    "import base64\n",
    "import re\n",
    "cont = [x[\"content\"] for x in lst]\n",
    "decode = [base64.b64decode(e) for e in cont_sort]\n",
    "decode"
   ]
  },
  {
   "cell_type": "code",
   "execution_count": null,
   "metadata": {},
   "outputs": [],
   "source": [
    "#Hasta aquí he llegado, no he sido capaz de ordenarlo correctamente, supongo que no sería muy complicad"
   ]
  }
 ],
 "metadata": {
  "kernelspec": {
   "display_name": "Python 3",
   "language": "python",
   "name": "python3"
  },
  "language_info": {
   "codemirror_mode": {
    "name": "ipython",
    "version": 3
   },
   "file_extension": ".py",
   "mimetype": "text/x-python",
   "name": "python",
   "nbconvert_exporter": "python",
   "pygments_lexer": "ipython3",
   "version": "3.7.6"
  }
 },
 "nbformat": 4,
 "nbformat_minor": 4
}
