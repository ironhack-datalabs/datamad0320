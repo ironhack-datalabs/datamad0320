{
 "cells": [
  {
   "cell_type": "code",
   "execution_count": 1,
   "metadata": {},
   "outputs": [],
   "source": [
    "import requests\n",
    "import os\n",
    "from dotenv import load_dotenv\n",
    "import json\n"
   ]
  },
  {
   "cell_type": "code",
   "execution_count": 2,
   "metadata": {},
   "outputs": [
    {
     "name": "stdout",
     "output_type": "stream",
     "text": [
      "WE HAVE APIKEY\n"
     ]
    }
   ],
   "source": [
    "load_dotenv()\n",
    "\n",
    "apiKey = os.getenv(\"GITHUB_APIKEY\")\n",
    "print(\"WE HAVE APIKEY\") if apiKey else print(\"NO APIKEY FOUND\")"
   ]
  },
  {
   "cell_type": "markdown",
   "metadata": {},
   "source": [
    "#### CHALLENGE 1"
   ]
  },
  {
   "cell_type": "code",
   "execution_count": 3,
   "metadata": {},
   "outputs": [],
   "source": [
    "def getFromGithub(path,queryParams=dict(),apiKey=\"\"):\n",
    "    \n",
    "    url = f\"https://api.github.com{path}\"\n",
    "    headers = {\"Authorization\":f\"token {apiKey}\"} if apiKey else {}\n",
    "\n",
    "    res = requests.get(url, params=queryParams, headers=headers)\n",
    "    print(res.status_code, res.url)\n",
    "    \n",
    "    return res.json()"
   ]
  },
  {
   "cell_type": "code",
   "execution_count": 4,
   "metadata": {},
   "outputs": [
    {
     "name": "stdout",
     "output_type": "stream",
     "text": [
      "200 https://api.github.com/repos/ironhack-datalabs/datamad0320/forks\n"
     ]
    },
    {
     "data": {
      "text/plain": [
       "25"
      ]
     },
     "execution_count": 4,
     "metadata": {},
     "output_type": "execute_result"
    }
   ],
   "source": [
    "forks = getFromGithub(\"/repos/ironhack-datalabs/datamad0320/forks\",apiKey=apiKey)\n",
    "\n",
    "len(forks)\n"
   ]
  },
  {
   "cell_type": "code",
   "execution_count": 5,
   "metadata": {},
   "outputs": [
    {
     "name": "stdout",
     "output_type": "stream",
     "text": [
      "Jupyter Notebook\n",
      "200 https://api.github.com/repos/octocat/Hello-World/languages\n"
     ]
    }
   ],
   "source": [
    "for e in forks:\n",
    "    print(e[\"language\"])\n",
    "    break\n",
    "\n",
    "    \n",
    "for e in forks:\n",
    "    getFromGithub(\"/repos/octocat/Hello-World/languages\",apiKey=apiKey)\n",
    "    break\n",
    "    \n",
    "\n",
    "# Lo dejo para seguir y vuelvo si me da tiempo   \n",
    "    \n"
   ]
  },
  {
   "cell_type": "markdown",
   "metadata": {},
   "source": [
    "#### CHALLENGE 2"
   ]
  },
  {
   "cell_type": "code",
   "execution_count": 6,
   "metadata": {},
   "outputs": [
    {
     "name": "stdout",
     "output_type": "stream",
     "text": [
      "200 https://api.github.com/repos/ironhack-datalabs/datamad0320/commits?since=2020-04-01T00%3A00%3A00Z\n",
      "0\n",
      "200 https://api.github.com/repos/ironhack-datalabs/datamad0320/commits?untils=2020-04-01T00%3A00%3A00Z\n",
      "3\n"
     ]
    }
   ],
   "source": [
    "#SINCE\n",
    "queryParams = {\n",
    "    \"since\":\"2020-04-01T00:00:00Z\"    \n",
    "}\n",
    "\n",
    "commits = getFromGithub(\"/repos/ironhack-datalabs/datamad0320/commits\",queryParams,apiKey=apiKey)\n",
    "\n",
    "print(len(commits))\n",
    "\n",
    "\n",
    "#UNTIL\n",
    "queryParams = {\n",
    "    \"untils\":\"2020-04-01T00:00:00Z\"    \n",
    "}\n",
    "\n",
    "commits = getFromGithub(\"/repos/ironhack-datalabs/datamad0320/commits\",queryParams,apiKey=apiKey)\n",
    "\n",
    "print(len(commits))"
   ]
  },
  {
   "cell_type": "markdown",
   "metadata": {},
   "source": [
    "#### CHALLENGE 3"
   ]
  },
  {
   "cell_type": "code",
   "execution_count": 7,
   "metadata": {},
   "outputs": [],
   "source": [
    "#CONTENT: GET /repos/:owner/:repo/contents/"
   ]
  },
  {
   "cell_type": "code",
   "execution_count": 8,
   "metadata": {},
   "outputs": [
    {
     "name": "stdout",
     "output_type": "stream",
     "text": [
      "200 https://api.github.com/repos/ironhack-datalabs/scavenger/contents/\n"
     ]
    }
   ],
   "source": [
    "content=getFromGithub(\"/repos/ironhack-datalabs/scavenger/contents/\")\n"
   ]
  },
  {
   "cell_type": "code",
   "execution_count": 9,
   "metadata": {},
   "outputs": [],
   "source": [
    "path=[]\n",
    "for e in content:\n",
    "    path.append(e[\"path\"]) \n",
    "    "
   ]
  },
  {
   "cell_type": "code",
   "execution_count": 10,
   "metadata": {},
   "outputs": [
    {
     "data": {
      "text/plain": [
       "'.gitignore'"
      ]
     },
     "execution_count": 10,
     "metadata": {},
     "output_type": "execute_result"
    }
   ],
   "source": [
    "path.pop(0)"
   ]
  },
  {
   "cell_type": "code",
   "execution_count": 11,
   "metadata": {},
   "outputs": [
    {
     "name": "stdout",
     "output_type": "stream",
     "text": [
      "['15024', '15534', '17020', '30351', '40303', '44639', '45525', '47222', '47830', '49418', '50896', '55417', '55685', '60224', '64880', '66032', '68848', '70751', '70985', '88596', '89046', '89338', '91701', '97881', '98750']\n"
     ]
    }
   ],
   "source": [
    "print(path)"
   ]
  },
  {
   "cell_type": "code",
   "execution_count": 12,
   "metadata": {},
   "outputs": [
    {
     "name": "stdout",
     "output_type": "stream",
     "text": [
      "200 https://api.github.com/repos/ironhack-datalabs/scavenger/contents/15024\n",
      "200 https://api.github.com/repos/ironhack-datalabs/scavenger/contents/15534\n",
      "200 https://api.github.com/repos/ironhack-datalabs/scavenger/contents/17020\n",
      "200 https://api.github.com/repos/ironhack-datalabs/scavenger/contents/30351\n",
      "200 https://api.github.com/repos/ironhack-datalabs/scavenger/contents/40303\n",
      "200 https://api.github.com/repos/ironhack-datalabs/scavenger/contents/44639\n",
      "200 https://api.github.com/repos/ironhack-datalabs/scavenger/contents/45525\n",
      "200 https://api.github.com/repos/ironhack-datalabs/scavenger/contents/47222\n",
      "200 https://api.github.com/repos/ironhack-datalabs/scavenger/contents/47830\n",
      "200 https://api.github.com/repos/ironhack-datalabs/scavenger/contents/49418\n",
      "200 https://api.github.com/repos/ironhack-datalabs/scavenger/contents/50896\n",
      "200 https://api.github.com/repos/ironhack-datalabs/scavenger/contents/55417\n",
      "200 https://api.github.com/repos/ironhack-datalabs/scavenger/contents/55685\n",
      "200 https://api.github.com/repos/ironhack-datalabs/scavenger/contents/60224\n",
      "200 https://api.github.com/repos/ironhack-datalabs/scavenger/contents/64880\n",
      "200 https://api.github.com/repos/ironhack-datalabs/scavenger/contents/66032\n",
      "200 https://api.github.com/repos/ironhack-datalabs/scavenger/contents/68848\n",
      "200 https://api.github.com/repos/ironhack-datalabs/scavenger/contents/70751\n",
      "200 https://api.github.com/repos/ironhack-datalabs/scavenger/contents/70985\n",
      "200 https://api.github.com/repos/ironhack-datalabs/scavenger/contents/88596\n",
      "200 https://api.github.com/repos/ironhack-datalabs/scavenger/contents/89046\n",
      "200 https://api.github.com/repos/ironhack-datalabs/scavenger/contents/89338\n",
      "200 https://api.github.com/repos/ironhack-datalabs/scavenger/contents/91701\n",
      "200 https://api.github.com/repos/ironhack-datalabs/scavenger/contents/97881\n",
      "200 https://api.github.com/repos/ironhack-datalabs/scavenger/contents/98750\n"
     ]
    }
   ],
   "source": [
    "for e in path:\n",
    "    content2=getFromGithub(f\"/repos/ironhack-datalabs/scavenger/contents/{e}\") \n"
   ]
  },
  {
   "cell_type": "code",
   "execution_count": null,
   "metadata": {},
   "outputs": [],
   "source": [
    "GET /repos/:owner/:repo/:archive_format/:ref"
   ]
  },
  {
   "cell_type": "code",
   "execution_count": 17,
   "metadata": {},
   "outputs": [],
   "source": [
    "path2=[]\n",
    "for el in content2:\n",
    "    if el[\"path\"].endswith(\"scavengerhunt\"):\n",
    "        path2.append(el[\"path\"]) "
   ]
  },
  {
   "cell_type": "code",
   "execution_count": 18,
   "metadata": {},
   "outputs": [
    {
     "data": {
      "text/plain": [
       "['98750/.0001.scavengerhunt']"
      ]
     },
     "execution_count": 18,
     "metadata": {},
     "output_type": "execute_result"
    }
   ],
   "source": [
    "path2\n"
   ]
  },
  {
   "cell_type": "code",
   "execution_count": 20,
   "metadata": {},
   "outputs": [
    {
     "name": "stdout",
     "output_type": "stream",
     "text": [
      "403 https://api.github.com/repos/ironhack-datalabs/scavenger/contents/15024/98750/.0001.scavengerhunt\n",
      "403 https://api.github.com/repos/ironhack-datalabs/scavenger/contents/15534/98750/.0001.scavengerhunt\n",
      "403 https://api.github.com/repos/ironhack-datalabs/scavenger/contents/17020/98750/.0001.scavengerhunt\n",
      "403 https://api.github.com/repos/ironhack-datalabs/scavenger/contents/30351/98750/.0001.scavengerhunt\n",
      "403 https://api.github.com/repos/ironhack-datalabs/scavenger/contents/40303/98750/.0001.scavengerhunt\n",
      "403 https://api.github.com/repos/ironhack-datalabs/scavenger/contents/44639/98750/.0001.scavengerhunt\n",
      "403 https://api.github.com/repos/ironhack-datalabs/scavenger/contents/45525/98750/.0001.scavengerhunt\n",
      "403 https://api.github.com/repos/ironhack-datalabs/scavenger/contents/47222/98750/.0001.scavengerhunt\n",
      "403 https://api.github.com/repos/ironhack-datalabs/scavenger/contents/47830/98750/.0001.scavengerhunt\n",
      "403 https://api.github.com/repos/ironhack-datalabs/scavenger/contents/49418/98750/.0001.scavengerhunt\n",
      "403 https://api.github.com/repos/ironhack-datalabs/scavenger/contents/50896/98750/.0001.scavengerhunt\n",
      "403 https://api.github.com/repos/ironhack-datalabs/scavenger/contents/55417/98750/.0001.scavengerhunt\n",
      "403 https://api.github.com/repos/ironhack-datalabs/scavenger/contents/55685/98750/.0001.scavengerhunt\n",
      "403 https://api.github.com/repos/ironhack-datalabs/scavenger/contents/60224/98750/.0001.scavengerhunt\n",
      "403 https://api.github.com/repos/ironhack-datalabs/scavenger/contents/64880/98750/.0001.scavengerhunt\n",
      "403 https://api.github.com/repos/ironhack-datalabs/scavenger/contents/66032/98750/.0001.scavengerhunt\n",
      "403 https://api.github.com/repos/ironhack-datalabs/scavenger/contents/68848/98750/.0001.scavengerhunt\n",
      "403 https://api.github.com/repos/ironhack-datalabs/scavenger/contents/70751/98750/.0001.scavengerhunt\n",
      "403 https://api.github.com/repos/ironhack-datalabs/scavenger/contents/70985/98750/.0001.scavengerhunt\n",
      "403 https://api.github.com/repos/ironhack-datalabs/scavenger/contents/88596/98750/.0001.scavengerhunt\n",
      "403 https://api.github.com/repos/ironhack-datalabs/scavenger/contents/89046/98750/.0001.scavengerhunt\n",
      "403 https://api.github.com/repos/ironhack-datalabs/scavenger/contents/89338/98750/.0001.scavengerhunt\n",
      "403 https://api.github.com/repos/ironhack-datalabs/scavenger/contents/91701/98750/.0001.scavengerhunt\n",
      "403 https://api.github.com/repos/ironhack-datalabs/scavenger/contents/97881/98750/.0001.scavengerhunt\n",
      "403 https://api.github.com/repos/ironhack-datalabs/scavenger/contents/98750/98750/.0001.scavengerhunt\n"
     ]
    }
   ],
   "source": [
    "for e in path:\n",
    "    for el in path2:\n",
    "        content3=getFromGithub(f\"/repos/ironhack-datalabs/scavenger/contents/{e}/{el}\") \n",
    "\n",
    "        "
   ]
  },
  {
   "cell_type": "code",
   "execution_count": null,
   "metadata": {},
   "outputs": [],
   "source": [
    "#No puedo seguir debido que llego al límite y tengo que esperar.Lo que hubiera hecho sería usar el enlace de abajo"
   ]
  },
  {
   "cell_type": "code",
   "execution_count": null,
   "metadata": {},
   "outputs": [],
   "source": [
    "GET /repos/:owner/:repo/:archive_format/:ref"
   ]
  },
  {
   "cell_type": "code",
   "execution_count": null,
   "metadata": {},
   "outputs": [],
   "source": []
  },
  {
   "cell_type": "code",
   "execution_count": null,
   "metadata": {},
   "outputs": [],
   "source": []
  },
  {
   "cell_type": "code",
   "execution_count": null,
   "metadata": {},
   "outputs": [],
   "source": []
  },
  {
   "cell_type": "code",
   "execution_count": null,
   "metadata": {},
   "outputs": [],
   "source": []
  },
  {
   "cell_type": "code",
   "execution_count": null,
   "metadata": {},
   "outputs": [],
   "source": []
  },
  {
   "cell_type": "code",
   "execution_count": null,
   "metadata": {},
   "outputs": [],
   "source": []
  }
 ],
 "metadata": {
  "kernelspec": {
   "display_name": "Python 3",
   "language": "python",
   "name": "python3"
  },
  "language_info": {
   "codemirror_mode": {
    "name": "ipython",
    "version": 3
   },
   "file_extension": ".py",
   "mimetype": "text/x-python",
   "name": "python",
   "nbconvert_exporter": "python",
   "pygments_lexer": "ipython3",
   "version": "3.7.4"
  }
 },
 "nbformat": 4,
 "nbformat_minor": 2
}
