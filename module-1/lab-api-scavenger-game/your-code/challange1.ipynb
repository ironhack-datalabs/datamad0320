{
 "cells": [
  {
   "cell_type": "code",
   "execution_count": 1,
   "metadata": {},
   "outputs": [],
   "source": [
    "import json\n",
    "import requests\n",
    "import os\n",
    "\n"
   ]
  },
  {
   "cell_type": "code",
   "execution_count": 7,
   "metadata": {},
   "outputs": [
    {
     "name": "stdout",
     "output_type": "stream",
     "text": [
      "WE HAVE APIKEY\n"
     ]
    }
   ],
   "source": [
    "\n",
    "from dotenv import load_dotenv\n",
    "load_dotenv()\n",
    "\n",
    "# Load the apikey\n",
    "apiKey = os.getenv(\"GITHUB_APIKEY\")\n",
    "print(\"WE HAVE APIKEY\") if apiKey else print(\"NO APIKEY FOUND\")\n"
   ]
  },
  {
   "cell_type": "code",
   "execution_count": 29,
   "metadata": {},
   "outputs": [],
   "source": [
    "def getFromGithub(path,queryParams=dict(),apiKey=\"\"):\n",
    "    \n",
    "    # Construct the resource url\n",
    "    url = f\"https://api.github.com{path}\"\n",
    "    \n",
    "    # If apiKey is defined, pass a header\n",
    "    headers = {\"Authorization\":f\"token {apiKey}\"} if apiKey else {}\n",
    "\n",
    "    # Perform the request\n",
    "    res = requests.get(url, params=queryParams, headers=headers)\n",
    "    #print(res.status_code, res.url)\n",
    "    \n",
    "    # Extract json from body response\n",
    "    return res.json()\n",
    "\n",
    "def getFromGithubUrl( url = \"https://api.github.com/repos/ironhack-datalabs/datamad0320/\",lastPart='',apiKey=\"\"):\n",
    "    \n",
    "    # If apiKey is defined, pass a header\n",
    "    headers = {\"Authorization\":f\"token {apiKey}\"} if apiKey else {}\n",
    "\n",
    "    # Perform the request\n",
    "    res = requests.get(url, params=queryParams, headers=headers)\n",
    "    #print(res.status_code, res.url)\n",
    "    \n",
    "    # Extract json from body response\n",
    "    return res.json()"
   ]
  },
  {
   "cell_type": "code",
   "execution_count": 30,
   "metadata": {},
   "outputs": [
    {
     "name": "stdout",
     "output_type": "stream",
     "text": [
      "200 https://api.github.com/repos/ironhack-datalabs/datamad0320/forks\n"
     ]
    }
   ],
   "source": [
    "#url = \"https://api.github.com/repos/ironhack-datalabs/datamad0320.git/forks\"\n",
    "path=\"/repos/ironhack-datalabs/datamad0320/forks\"\n",
    "forks1=getFromGithub(path,apiKey=apiKey)\n"
   ]
  },
  {
   "cell_type": "code",
   "execution_count": 31,
   "metadata": {},
   "outputs": [
    {
     "data": {
      "text/plain": [
       "25"
      ]
     },
     "execution_count": 31,
     "metadata": {},
     "output_type": "execute_result"
    }
   ],
   "source": [
    "#the number of forks is the length of this list: 25\n",
    "len(forks1)"
   ]
  },
  {
   "cell_type": "code",
   "execution_count": 38,
   "metadata": {},
   "outputs": [
    {
     "name": "stdout",
     "output_type": "stream",
     "text": [
      "['Jupyter Notebook']\n"
     ]
    }
   ],
   "source": [
    "languages=[]\n",
    "for fork in forks1:\n",
    "    #print(fork[\"language\"])\n",
    "    if (fork[\"language\"] not in languages) & (fork[\"language\"] != None):\n",
    "        languages.append(fork[\"language\"])\n",
    "print(languages)   "
   ]
  },
  {
   "cell_type": "code",
   "execution_count": null,
   "metadata": {},
   "outputs": [],
   "source": [
    "\n",
    "for fork in forks1:\n",
    "    forks2= getFromGithubUrl(url=fork['languages_url'])\n",
    "    for language in forks2.keys():\n",
    "        if language not in languages:\n",
    "            languages.append(language)\n",
    "print(languages)   "
   ]
  },
  {
   "cell_type": "code",
   "execution_count": null,
   "metadata": {},
   "outputs": [],
   "source": []
  },
  {
   "cell_type": "code",
   "execution_count": null,
   "metadata": {},
   "outputs": [],
   "source": []
  }
 ],
 "metadata": {
  "kernelspec": {
   "display_name": "Python 3",
   "language": "python",
   "name": "python3"
  },
  "language_info": {
   "codemirror_mode": {
    "name": "ipython",
    "version": 3
   },
   "file_extension": ".py",
   "mimetype": "text/x-python",
   "name": "python",
   "nbconvert_exporter": "python",
   "pygments_lexer": "ipython3",
   "version": "3.6.2"
  }
 },
 "nbformat": 4,
 "nbformat_minor": 2
}
