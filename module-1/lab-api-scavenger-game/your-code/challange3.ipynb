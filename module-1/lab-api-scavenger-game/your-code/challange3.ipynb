{
 "cells": [
  {
   "cell_type": "code",
   "execution_count": 9,
   "metadata": {},
   "outputs": [],
   "source": [
    "import json\n",
    "import requests\n",
    "import os\n",
    "import base64"
   ]
  },
  {
   "cell_type": "code",
   "execution_count": 10,
   "metadata": {},
   "outputs": [
    {
     "name": "stdout",
     "output_type": "stream",
     "text": [
      "WE HAVE APIKEY\n"
     ]
    }
   ],
   "source": [
    "from dotenv import load_dotenv\n",
    "load_dotenv()\n",
    "\n",
    "# Load the apikey\n",
    "apiKey = os.getenv(\"GITHUB_APIKEY\")\n",
    "print(\"WE HAVE APIKEY\") if apiKey else print(\"NO APIKEY FOUND\")"
   ]
  },
  {
   "cell_type": "code",
   "execution_count": 11,
   "metadata": {},
   "outputs": [],
   "source": [
    "def getFromGithub(path,queryParams=dict(),apiKey=\"\"):\n",
    "    \n",
    "    # Construct the resource url\n",
    "    url = f\"https://api.github.com{path}\"\n",
    "    \n",
    "    # If apiKey is defined, pass a header\n",
    "    headers = {\"Authorization\":f\"token {apiKey}\"} if apiKey else {}\n",
    "\n",
    "    # Perform the request\n",
    "    res = requests.get(url, params=queryParams, headers=headers)\n",
    "    print(res.status_code, res.url)\n",
    "    \n",
    "    # Extract json from body response\n",
    "    return res.json()\n"
   ]
  },
  {
   "cell_type": "code",
   "execution_count": 12,
   "metadata": {},
   "outputs": [
    {
     "name": "stdout",
     "output_type": "stream",
     "text": [
      "200 https://api.github.com/repos/ironhack-datalabs/scavenger/contents\n"
     ]
    }
   ],
   "source": [
    "#get all the folders of the repository\n",
    "\n",
    "path=\"/repos/ironhack-datalabs/scavenger/contents\"\n",
    "\n",
    "contents=getFromGithub(path,apiKey=apiKey)\n"
   ]
  },
  {
   "cell_type": "code",
   "execution_count": 13,
   "metadata": {},
   "outputs": [
    {
     "data": {
      "text/plain": [
       "26"
      ]
     },
     "execution_count": 13,
     "metadata": {},
     "output_type": "execute_result"
    }
   ],
   "source": [
    "len(contents)"
   ]
  },
  {
   "cell_type": "code",
   "execution_count": 14,
   "metadata": {},
   "outputs": [
    {
     "name": "stdout",
     "output_type": "stream",
     "text": [
      "200 https://api.github.com/repositories/162375181/contents/15024\n",
      "200 https://api.github.com/repositories/162375181/contents/15534\n",
      "200 https://api.github.com/repositories/162375181/contents/17020\n",
      "200 https://api.github.com/repositories/162375181/contents/30351\n",
      "200 https://api.github.com/repositories/162375181/contents/40303\n",
      "200 https://api.github.com/repositories/162375181/contents/44639\n",
      "200 https://api.github.com/repositories/162375181/contents/45525\n",
      "200 https://api.github.com/repositories/162375181/contents/47222\n",
      "200 https://api.github.com/repositories/162375181/contents/47830\n",
      "200 https://api.github.com/repositories/162375181/contents/49418\n",
      "200 https://api.github.com/repositories/162375181/contents/50896\n",
      "200 https://api.github.com/repositories/162375181/contents/55417\n",
      "200 https://api.github.com/repositories/162375181/contents/55685\n",
      "200 https://api.github.com/repositories/162375181/contents/60224\n",
      "200 https://api.github.com/repositories/162375181/contents/64880\n",
      "200 https://api.github.com/repositories/162375181/contents/66032\n",
      "200 https://api.github.com/repositories/162375181/contents/68848\n",
      "200 https://api.github.com/repositories/162375181/contents/70751\n",
      "200 https://api.github.com/repositories/162375181/contents/70985\n",
      "200 https://api.github.com/repositories/162375181/contents/88596\n",
      "200 https://api.github.com/repositories/162375181/contents/89046\n",
      "200 https://api.github.com/repositories/162375181/contents/89338\n",
      "200 https://api.github.com/repositories/162375181/contents/91701\n",
      "200 https://api.github.com/repositories/162375181/contents/97881\n",
      "200 https://api.github.com/repositories/162375181/contents/98750\n",
      "{'.0001.scavengerhunt': '98750/.0001.scavengerhunt', '.0002.scavengerhunt': '88596/.0002.scavengerhunt', '.0003.scavengerhunt': '60224/.0003.scavengerhunt', '.0004.scavengerhunt': '68848/.0004.scavengerhunt', '.0005.scavengerhunt': '44639/.0005.scavengerhunt', '.0006.scavengerhunt': '15024/.0006.scavengerhunt', '.0007.scavengerhunt': '17020/.0007.scavengerhunt', '.0008.scavengerhunt': '15534/.0008.scavengerhunt', '.0009.scavengerhunt': '97881/.0009.scavengerhunt', '.0010.scavengerhunt': '47830/.0010.scavengerhunt', '.0011.scavengerhunt': '50896/.0011.scavengerhunt', '.0012.scavengerhunt': '15534/.0012.scavengerhunt', '.0013.scavengerhunt': '89338/.0013.scavengerhunt', '.0014.scavengerhunt': '49418/.0014.scavengerhunt', '.0015.scavengerhunt': '91701/.0015.scavengerhunt', '.0016.scavengerhunt': '47222/.0016.scavengerhunt', '.0017.scavengerhunt': '70985/.0017.scavengerhunt', '.0018.scavengerhunt': '45525/.0018.scavengerhunt', '.0019.scavengerhunt': '70751/.0019.scavengerhunt', '.0020.scavengerhunt': '55685/.0020.scavengerhunt', '.0021.scavengerhunt': '30351/.0021.scavengerhunt', '.0022.scavengerhunt': '40303/.0022.scavengerhunt', '.0023.scavengerhunt': '55417/.0023.scavengerhunt', '.0024.scavengerhunt': '47222/.0024.scavengerhunt'}\n"
     ]
    }
   ],
   "source": [
    "#finding the names of the folders in the repository\n",
    "names=[]\n",
    "for el in contents:\n",
    "    if el[\"name\"] != '.gitignore':\n",
    "        names.append(el[\"name\"])\n",
    "\n",
    "#make a request per each folder to get all the files and files link\n",
    "filesDict=dict()\n",
    "\n",
    "for name in names:\n",
    "    filePath=path+'/'+name+'/'\n",
    "    res=getFromGithub( filePath,apiKey=apiKey)\n",
    "    for file in res:\n",
    "        fileName=file[\"name\"]\n",
    "        if fileName.startswith('.'):            \n",
    "            filePath=file['path']\n",
    "            filesDict[fileName]=filePath\n",
    "\n",
    "#sort the dictionary according to files names           \n",
    "sorted_dict=dict()\n",
    "for k in sorted(filesDict.keys()):\n",
    "    sorted_dict[k]=filesDict[k]\n",
    "    \n",
    "print(sorted_dict)"
   ]
  },
  {
   "cell_type": "code",
   "execution_count": 15,
   "metadata": {},
   "outputs": [
    {
     "name": "stdout",
     "output_type": "stream",
     "text": [
      "200 https://api.github.com/repos/ironhack-datalabs/scavenger/contents/98750/.0001.scavengerhunt\n",
      "200 https://api.github.com/repos/ironhack-datalabs/scavenger/contents/88596/.0002.scavengerhunt\n",
      "200 https://api.github.com/repos/ironhack-datalabs/scavenger/contents/60224/.0003.scavengerhunt\n",
      "200 https://api.github.com/repos/ironhack-datalabs/scavenger/contents/68848/.0004.scavengerhunt\n",
      "200 https://api.github.com/repos/ironhack-datalabs/scavenger/contents/44639/.0005.scavengerhunt\n",
      "200 https://api.github.com/repos/ironhack-datalabs/scavenger/contents/15024/.0006.scavengerhunt\n",
      "200 https://api.github.com/repos/ironhack-datalabs/scavenger/contents/17020/.0007.scavengerhunt\n",
      "200 https://api.github.com/repos/ironhack-datalabs/scavenger/contents/15534/.0008.scavengerhunt\n",
      "200 https://api.github.com/repos/ironhack-datalabs/scavenger/contents/97881/.0009.scavengerhunt\n",
      "200 https://api.github.com/repos/ironhack-datalabs/scavenger/contents/47830/.0010.scavengerhunt\n",
      "200 https://api.github.com/repos/ironhack-datalabs/scavenger/contents/50896/.0011.scavengerhunt\n",
      "200 https://api.github.com/repos/ironhack-datalabs/scavenger/contents/15534/.0012.scavengerhunt\n",
      "200 https://api.github.com/repos/ironhack-datalabs/scavenger/contents/89338/.0013.scavengerhunt\n",
      "200 https://api.github.com/repos/ironhack-datalabs/scavenger/contents/49418/.0014.scavengerhunt\n",
      "200 https://api.github.com/repos/ironhack-datalabs/scavenger/contents/91701/.0015.scavengerhunt\n",
      "200 https://api.github.com/repos/ironhack-datalabs/scavenger/contents/47222/.0016.scavengerhunt\n",
      "200 https://api.github.com/repos/ironhack-datalabs/scavenger/contents/70985/.0017.scavengerhunt\n",
      "200 https://api.github.com/repos/ironhack-datalabs/scavenger/contents/45525/.0018.scavengerhunt\n",
      "200 https://api.github.com/repos/ironhack-datalabs/scavenger/contents/70751/.0019.scavengerhunt\n",
      "200 https://api.github.com/repos/ironhack-datalabs/scavenger/contents/55685/.0020.scavengerhunt\n",
      "200 https://api.github.com/repos/ironhack-datalabs/scavenger/contents/30351/.0021.scavengerhunt\n",
      "200 https://api.github.com/repos/ironhack-datalabs/scavenger/contents/40303/.0022.scavengerhunt\n",
      "200 https://api.github.com/repos/ironhack-datalabs/scavenger/contents/55417/.0023.scavengerhunt\n",
      "200 https://api.github.com/repos/ironhack-datalabs/scavenger/contents/47222/.0024.scavengerhunt\n",
      "Content was not found.\n"
     ]
    }
   ],
   "source": [
    "content=[]\n",
    "for name, p in sorted_dict.items():\n",
    "    url = path + '/'+ p\n",
    "    req = getFromGithub(url,apiKey=apiKey)  \n",
    "    # the response is a JSON\n",
    "    # req is now a dict with keys: name, encoding, url, size ...\n",
    "    # and content. But it is encoded with base64. I need to decode it\n",
    "    \n",
    "    cont=base64.b64decode((req['content'])) \n",
    "    content.append(cont.decode(\"utf-8\").split('\\n')[0] )\n",
    "else:\n",
    "    print('Content was not found.')\n"
   ]
  },
  {
   "cell_type": "code",
   "execution_count": 19,
   "metadata": {},
   "outputs": [
    {
     "name": "stdout",
     "output_type": "stream",
     "text": [
      "In data science, 80 percent of time spent is preparing data, 20 percent of time is spent complaining about the need to prepare data.\n"
     ]
    }
   ],
   "source": [
    "#print the result\n",
    "\n",
    "print( ' '.join(content))"
   ]
  },
  {
   "cell_type": "code",
   "execution_count": null,
   "metadata": {},
   "outputs": [],
   "source": []
  },
  {
   "cell_type": "code",
   "execution_count": null,
   "metadata": {},
   "outputs": [],
   "source": []
  },
  {
   "cell_type": "code",
   "execution_count": null,
   "metadata": {},
   "outputs": [],
   "source": []
  },
  {
   "cell_type": "code",
   "execution_count": null,
   "metadata": {},
   "outputs": [],
   "source": []
  }
 ],
 "metadata": {
  "kernelspec": {
   "display_name": "Python 3",
   "language": "python",
   "name": "python3"
  },
  "language_info": {
   "codemirror_mode": {
    "name": "ipython",
    "version": 3
   },
   "file_extension": ".py",
   "mimetype": "text/x-python",
   "name": "python",
   "nbconvert_exporter": "python",
   "pygments_lexer": "ipython3",
   "version": "3.6.2"
  }
 },
 "nbformat": 4,
 "nbformat_minor": 2
}
