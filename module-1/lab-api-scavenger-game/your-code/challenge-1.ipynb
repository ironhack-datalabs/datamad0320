{
 "cells": [
  {
   "cell_type": "markdown",
   "metadata": {},
   "source": [
    "# LAB | API Scavenger Game\n",
    "# Challenge 1"
   ]
  },
  {
   "cell_type": "code",
   "execution_count": 1,
   "metadata": {},
   "outputs": [
    {
     "data": {
      "text/plain": [
       "True"
      ]
     },
     "execution_count": 1,
     "metadata": {},
     "output_type": "execute_result"
    }
   ],
   "source": [
    "import requests\n",
    "import os\n",
    "from dotenv import load_dotenv\n",
    "load_dotenv()"
   ]
  },
  {
   "cell_type": "markdown",
   "metadata": {},
   "source": [
    "Función que descarga la info pedida a GitHub"
   ]
  },
  {
   "cell_type": "code",
   "execution_count": 6,
   "metadata": {},
   "outputs": [],
   "source": [
    "def getFromGithub(path,queryParams=dict(),apiKey=\"\"):\n",
    "    \n",
    "    # Construct the resource url\n",
    "    url = f\"{path}\"\n",
    "    \n",
    "    # If apiKey is defined, pass a header\n",
    "    headers = {\"Authorization\":f\"token {apiKey}\"} if apiKey else {}\n",
    "\n",
    "    # Perform the request\n",
    "    res = requests.get(url, params=queryParams, headers=headers)\n",
    "    print(res.status_code, res.url)\n",
    "    \n",
    "    # Extract json from body response\n",
    "    return res.json()"
   ]
  },
  {
   "cell_type": "markdown",
   "metadata": {},
   "source": [
    "Definir los argumentos de la función"
   ]
  },
  {
   "cell_type": "code",
   "execution_count": 3,
   "metadata": {
    "scrolled": false
   },
   "outputs": [
    {
     "name": "stdout",
     "output_type": "stream",
     "text": [
      "200 https://api.github.com/repos/ironhack-datalabs/datamad0320/forks?sort=newest\n"
     ]
    }
   ],
   "source": [
    "path = \"https://api.github.com/repos/ironhack-datalabs/datamad0320/forks\"\n",
    "apiKey = os.getenv(\"GITHUB_KEY\")\n",
    "queryParams = {\n",
    "    \"sort\": \"newest\"\n",
    "}\n",
    "# Ejecutar la función y guardarla en una variable\n",
    "resultado = getFromGithub(path,queryParams,apiKey)\n"
   ]
  },
  {
   "cell_type": "markdown",
   "metadata": {},
   "source": [
    "Extraer la lista de URL's desde donde se accede a los lenguajes de cada usuario."
   ]
  },
  {
   "cell_type": "code",
   "execution_count": 4,
   "metadata": {},
   "outputs": [
    {
     "name": "stdout",
     "output_type": "stream",
     "text": [
      "['https://api.github.com/repos/SabineGoett/datamad0320/languages', 'https://api.github.com/repos/Clapiniella/datamad0320/languages', 'https://api.github.com/repos/Sergio-Perez/datamad0320/languages', 'https://api.github.com/repos/Flori-87/datamad0320/languages', 'https://api.github.com/repos/luissanchezgrisolia/datamad0320/languages', 'https://api.github.com/repos/mariamoyano/datamad0320/languages', 'https://api.github.com/repos/Carolinacastioni/datamad0320/languages', 'https://api.github.com/repos/soledb94/datamad0320/languages', 'https://api.github.com/repos/AnaSenso/datamad0320/languages', 'https://api.github.com/repos/DavidCarricondo/datamad0320/languages', 'https://api.github.com/repos/silviaserafini/datamad0320/languages', 'https://api.github.com/repos/rihp/datamad0320/languages', 'https://api.github.com/repos/MiguelFdezDiaz/datamad0320/languages', 'https://api.github.com/repos/diego-florez/datamad0320/languages', 'https://api.github.com/repos/WHYTEWYLL/datamad0320/languages', 'https://api.github.com/repos/mcanones/datamad0320/languages', 'https://api.github.com/repos/Macarena18/datamad0320/languages', 'https://api.github.com/repos/DavEst91/datamad0320/languages', 'https://api.github.com/repos/TIMEOG/datamad0320-A/languages', 'https://api.github.com/repos/trutorj/datamad0320/languages', 'https://api.github.com/repos/ferrero-felipe/datamad0320/languages', 'https://api.github.com/repos/AlbertJlobera/datamad0320/languages', 'https://api.github.com/repos/BSanau/datamad0320/languages', 'https://api.github.com/repos/mescamez/datamad0320/languages', 'https://api.github.com/repos/yuvtorres/datamad0320/languages']\n"
     ]
    }
   ],
   "source": [
    "# Lista vacía donde almacenar las urls\n",
    "languages_urls = []\n",
    "for dic in resultado:\n",
    "    for k,v in dic.items():\n",
    "        languages_urls.append(dic[\"languages_url\"])\n",
    "\n",
    "languages_urls = list(set(languages_urls))\n",
    "print(languages_urls)"
   ]
  },
  {
   "cell_type": "markdown",
   "metadata": {},
   "source": [
    "Volver a realizar la petición a la API, esta vez, para todas las URLS."
   ]
  },
  {
   "cell_type": "code",
   "execution_count": 8,
   "metadata": {},
   "outputs": [
    {
     "name": "stdout",
     "output_type": "stream",
     "text": [
      "200 https://api.github.com/repos/SabineGoett/datamad0320/languages\n",
      "200 https://api.github.com/repos/Clapiniella/datamad0320/languages\n",
      "200 https://api.github.com/repos/Sergio-Perez/datamad0320/languages\n",
      "200 https://api.github.com/repos/Flori-87/datamad0320/languages\n",
      "200 https://api.github.com/repos/luissanchezgrisolia/datamad0320/languages\n",
      "200 https://api.github.com/repos/mariamoyano/datamad0320/languages\n",
      "200 https://api.github.com/repos/Carolinacastioni/datamad0320/languages\n",
      "200 https://api.github.com/repos/soledb94/datamad0320/languages\n",
      "200 https://api.github.com/repos/AnaSenso/datamad0320/languages\n",
      "200 https://api.github.com/repos/DavidCarricondo/datamad0320/languages\n",
      "200 https://api.github.com/repos/silviaserafini/datamad0320/languages\n",
      "200 https://api.github.com/repos/rihp/datamad0320/languages\n",
      "200 https://api.github.com/repos/MiguelFdezDiaz/datamad0320/languages\n",
      "200 https://api.github.com/repos/diego-florez/datamad0320/languages\n",
      "200 https://api.github.com/repos/WHYTEWYLL/datamad0320/languages\n",
      "200 https://api.github.com/repos/mcanones/datamad0320/languages\n",
      "200 https://api.github.com/repos/Macarena18/datamad0320/languages\n",
      "200 https://api.github.com/repos/DavEst91/datamad0320/languages\n",
      "200 https://api.github.com/repos/TIMEOG/datamad0320-A/languages\n",
      "200 https://api.github.com/repos/trutorj/datamad0320/languages\n",
      "200 https://api.github.com/repos/ferrero-felipe/datamad0320/languages\n",
      "200 https://api.github.com/repos/AlbertJlobera/datamad0320/languages\n",
      "200 https://api.github.com/repos/BSanau/datamad0320/languages\n",
      "200 https://api.github.com/repos/mescamez/datamad0320/languages\n",
      "200 https://api.github.com/repos/yuvtorres/datamad0320/languages\n"
     ]
    }
   ],
   "source": [
    "queryParams = {} # No hay parámetros para esta query\n",
    "\n",
    "listalenguajes = [getFromGithub(path, queryParams, apiKey) for path in languages_urls]"
   ]
  },
  {
   "cell_type": "code",
   "execution_count": 10,
   "metadata": {},
   "outputs": [
    {
     "name": "stdout",
     "output_type": "stream",
     "text": [
      "['HTML', 'Jupyter Notebook', 'Python']\n"
     ]
    }
   ],
   "source": [
    "# Crear la lista para almacenar los lenguajes y extraerlos de las claves de los diccionarios.\n",
    "lenguajes = []\n",
    "\n",
    "for d in listalenguajes:\n",
    "    for k,v in d.items():\n",
    "        lenguajes.append(k)\n",
    "# Sacar los valores únicos y meterlos en una lista\n",
    "lenguajes = list(set(lenguajes))\n",
    "print(lenguajes)"
   ]
  }
 ],
 "metadata": {
  "kernelspec": {
   "display_name": "Python 3",
   "language": "python",
   "name": "python3"
  },
  "language_info": {
   "codemirror_mode": {
    "name": "ipython",
    "version": 3
   },
   "file_extension": ".py",
   "mimetype": "text/x-python",
   "name": "python",
   "nbconvert_exporter": "python",
   "pygments_lexer": "ipython3",
   "version": "3.8.1"
  }
 },
 "nbformat": 4,
 "nbformat_minor": 4
}
