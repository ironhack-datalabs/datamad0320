{
 "cells": [
  {
   "cell_type": "markdown",
   "metadata": {},
   "source": [
    "# LAB | API Scavenger Game\n",
    "# Challenge 1"
   ]
  },
  {
   "cell_type": "code",
   "execution_count": 16,
   "metadata": {},
   "outputs": [
    {
     "data": {
      "text/plain": [
       "True"
      ]
     },
     "execution_count": 16,
     "metadata": {},
     "output_type": "execute_result"
    }
   ],
   "source": [
    "import requests\n",
    "import os\n",
    "from dotenv import load_dotenv\n",
    "load_dotenv()"
   ]
  },
  {
   "cell_type": "code",
   "execution_count": 17,
   "metadata": {},
   "outputs": [
    {
     "data": {
      "text/plain": [
       "'0a4b4'"
      ]
     },
     "execution_count": 17,
     "metadata": {},
     "output_type": "execute_result"
    }
   ],
   "source": [
    "apiKey = os.getenv(\"GITHUB_KEY\")\n",
    "apiKey[5:10]"
   ]
  },
  {
   "cell_type": "markdown",
   "metadata": {},
   "source": [
    "Función que descarga la info pedida a GitHub"
   ]
  },
  {
   "cell_type": "code",
   "execution_count": 14,
   "metadata": {},
   "outputs": [],
   "source": [
    "def getFromGithub(path,queryParams=dict(),apiKey=\"\"):\n",
    "    \n",
    "    # Construct the resource url\n",
    "    url = f\"{path}\"\n",
    "    \n",
    "    # If apiKey is defined, pass a header\n",
    "    headers = {\"Authorization\":f\"token {apiKey}\"} if apiKey else {}\n",
    "\n",
    "    # Perform the request\n",
    "    res = requests.get(url, params=queryParams, headers=headers)\n",
    "    print(res.status_code, res.url)\n",
    "    \n",
    "    # Extract json from body response\n",
    "    return res.json()"
   ]
  },
  {
   "cell_type": "markdown",
   "metadata": {},
   "source": [
    "Definir los argumentos de la función y ejecutarla"
   ]
  },
  {
   "cell_type": "code",
   "execution_count": 19,
   "metadata": {
    "scrolled": false
   },
   "outputs": [
    {
     "name": "stdout",
     "output_type": "stream",
     "text": [
      "200 https://api.github.com/repos/ironhack-datalabs/datamad0320/forks?sort=newest\n"
     ]
    }
   ],
   "source": [
    "path = \"https://api.github.com/repos/ironhack-datalabs/datamad0320/forks\"\n",
    "apiKey = os.getenv(\"GITHUB_KEY\")\n",
    "queryParams = {\n",
    "    \"sort\": \"newest\"\n",
    "}\n",
    "# Ejecutar la función y guardarla en una variable\n",
    "resultado = getFromGithub(path,queryParams,apiKey)\n"
   ]
  },
  {
   "cell_type": "markdown",
   "metadata": {},
   "source": [
    "Extraer la lista de URL's desde donde se accede a los lenguajes de cada usuario."
   ]
  },
  {
   "cell_type": "code",
   "execution_count": 4,
   "metadata": {},
   "outputs": [
    {
     "name": "stdout",
     "output_type": "stream",
     "text": [
      "['https://api.github.com/repos/SabineGoett/datamad0320/languages', 'https://api.github.com/repos/Clapiniella/datamad0320/languages', 'https://api.github.com/repos/Sergio-Perez/datamad0320/languages', 'https://api.github.com/repos/Flori-87/datamad0320/languages', 'https://api.github.com/repos/luissanchezgrisolia/datamad0320/languages', 'https://api.github.com/repos/mariamoyano/datamad0320/languages', 'https://api.github.com/repos/Carolinacastioni/datamad0320/languages', 'https://api.github.com/repos/soledb94/datamad0320/languages', 'https://api.github.com/repos/AnaSenso/datamad0320/languages', 'https://api.github.com/repos/DavidCarricondo/datamad0320/languages', 'https://api.github.com/repos/silviaserafini/datamad0320/languages', 'https://api.github.com/repos/rihp/datamad0320/languages', 'https://api.github.com/repos/MiguelFdezDiaz/datamad0320/languages', 'https://api.github.com/repos/diego-florez/datamad0320/languages', 'https://api.github.com/repos/WHYTEWYLL/datamad0320/languages', 'https://api.github.com/repos/mcanones/datamad0320/languages', 'https://api.github.com/repos/Macarena18/datamad0320/languages', 'https://api.github.com/repos/DavEst91/datamad0320/languages', 'https://api.github.com/repos/TIMEOG/datamad0320-A/languages', 'https://api.github.com/repos/trutorj/datamad0320/languages', 'https://api.github.com/repos/ferrero-felipe/datamad0320/languages', 'https://api.github.com/repos/AlbertJlobera/datamad0320/languages', 'https://api.github.com/repos/BSanau/datamad0320/languages', 'https://api.github.com/repos/mescamez/datamad0320/languages', 'https://api.github.com/repos/yuvtorres/datamad0320/languages']\n"
     ]
    }
   ],
   "source": [
    "# Lista vacía donde almacenar las urls\n",
    "languages_urls = []\n",
    "for dic in resultado:\n",
    "    for k,v in dic.items():\n",
    "        languages_urls.append(dic[\"languages_url\"])\n",
    "\n",
    "languages_urls = list(set(languages_urls))\n",
    "print(languages_urls)"
   ]
  },
  {
   "cell_type": "markdown",
   "metadata": {},
   "source": [
    "Volver a realizar la petición a la API, esta vez, para todas las URLS."
   ]
  },
  {
   "cell_type": "code",
   "execution_count": 8,
   "metadata": {},
   "outputs": [
    {
     "name": "stdout",
     "output_type": "stream",
     "text": [
      "200 https://api.github.com/repos/SabineGoett/datamad0320/languages\n",
      "200 https://api.github.com/repos/Clapiniella/datamad0320/languages\n",
      "200 https://api.github.com/repos/Sergio-Perez/datamad0320/languages\n",
      "200 https://api.github.com/repos/Flori-87/datamad0320/languages\n",
      "200 https://api.github.com/repos/luissanchezgrisolia/datamad0320/languages\n",
      "200 https://api.github.com/repos/mariamoyano/datamad0320/languages\n",
      "200 https://api.github.com/repos/Carolinacastioni/datamad0320/languages\n",
      "200 https://api.github.com/repos/soledb94/datamad0320/languages\n",
      "200 https://api.github.com/repos/AnaSenso/datamad0320/languages\n",
      "200 https://api.github.com/repos/DavidCarricondo/datamad0320/languages\n",
      "200 https://api.github.com/repos/silviaserafini/datamad0320/languages\n",
      "200 https://api.github.com/repos/rihp/datamad0320/languages\n",
      "200 https://api.github.com/repos/MiguelFdezDiaz/datamad0320/languages\n",
      "200 https://api.github.com/repos/diego-florez/datamad0320/languages\n",
      "200 https://api.github.com/repos/WHYTEWYLL/datamad0320/languages\n",
      "200 https://api.github.com/repos/mcanones/datamad0320/languages\n",
      "200 https://api.github.com/repos/Macarena18/datamad0320/languages\n",
      "200 https://api.github.com/repos/DavEst91/datamad0320/languages\n",
      "200 https://api.github.com/repos/TIMEOG/datamad0320-A/languages\n",
      "200 https://api.github.com/repos/trutorj/datamad0320/languages\n",
      "200 https://api.github.com/repos/ferrero-felipe/datamad0320/languages\n",
      "200 https://api.github.com/repos/AlbertJlobera/datamad0320/languages\n",
      "200 https://api.github.com/repos/BSanau/datamad0320/languages\n",
      "200 https://api.github.com/repos/mescamez/datamad0320/languages\n",
      "200 https://api.github.com/repos/yuvtorres/datamad0320/languages\n"
     ]
    }
   ],
   "source": [
    "queryParams = {} # No hay parámetros para esta query\n",
    "\n",
    "listalenguajes = [getFromGithub(path, queryParams, apiKey) for path in languages_urls]"
   ]
  },
  {
   "cell_type": "code",
   "execution_count": 10,
   "metadata": {
    "scrolled": true
   },
   "outputs": [
    {
     "name": "stdout",
     "output_type": "stream",
     "text": [
      "['HTML', 'Jupyter Notebook', 'Python']\n"
     ]
    }
   ],
   "source": [
    "# Crear la lista para almacenar los lenguajes y extraerlos de las claves de los diccionarios.\n",
    "lenguajes = []\n",
    "\n",
    "for d in listalenguajes:\n",
    "    for k,v in d.items():\n",
    "        lenguajes.append(k)\n",
    "# Sacar los valores únicos y meterlos en una lista\n",
    "lenguajes = list(set(lenguajes))\n",
    "print(lenguajes)"
   ]
  },
  {
   "cell_type": "markdown",
   "metadata": {},
   "source": [
    "# Challenge 2"
   ]
  },
  {
   "cell_type": "markdown",
   "metadata": {},
   "source": [
    "Definir los nuevos parámetros"
   ]
  },
  {
   "cell_type": "code",
   "execution_count": 33,
   "metadata": {},
   "outputs": [
    {
     "name": "stdout",
     "output_type": "stream",
     "text": [
      "200 https://api.github.com/repos/ironhack-datalabs/datamad0320/commits?sha=master&since=2020-03-01-T18%3A04%3A52.428556330\n"
     ]
    },
    {
     "data": {
      "text/plain": [
       "[{'sha': '6ff3bc11c87a4e7b729c62499bd52117e6eff71d',\n",
       "  'node_id': 'MDY6Q29tbWl0MjQ5NDEyNjY2OjZmZjNiYzExYzg3YTRlN2I3MjljNjI0OTliZDUyMTE3ZTZlZmY3MWQ=',\n",
       "  'commit': {'author': {'name': 'Felipe Ferrero',\n",
       "    'email': '52798316+ferrero-felipe@users.noreply.github.com',\n",
       "    'date': '2020-03-27T15:03:10Z'},\n",
       "   'committer': {'name': 'GitHub',\n",
       "    'email': 'noreply@github.com',\n",
       "    'date': '2020-03-27T15:03:10Z'},\n",
       "   'message': 'Merge pull request #133 from ferrero-felipe/master\\n\\nadding __pycache__/ to gitignore',\n",
       "   'tree': {'sha': 'a26220c1db1e2ef8847c8e3e712ad38f8a0e62e1',\n",
       "    'url': 'https://api.github.com/repos/ironhack-datalabs/datamad0320/git/trees/a26220c1db1e2ef8847c8e3e712ad38f8a0e62e1'},\n",
       "   'url': 'https://api.github.com/repos/ironhack-datalabs/datamad0320/git/commits/6ff3bc11c87a4e7b729c62499bd52117e6eff71d',\n",
       "   'comment_count': 0,\n",
       "   'verification': {'verified': True,\n",
       "    'reason': 'valid',\n",
       "    'signature': '-----BEGIN PGP SIGNATURE-----\\n\\nwsBcBAABCAAQBQJefhWuCRBK7hj4Ov3rIwAAdHIIABGxWDbsjSQcQ5wm9no+JHpV\\nKODJ9gfSAUDC/+BvmuhvuLO73RoH213V+Kfc4oM86Jl/UGl0/wgjaiVljjiQcilg\\nPHBJnp4xVLHfZeUgjeIgdytMOPZ24XaFG07Nai1R1ScLxP4gSydZQmMxhwCq+3b2\\n6/9Q3GmjDt56Jmibtr1DxtM8kfoCivc0M1xOXPNeChEHe4EyqPcl6NmcyzlwMhjf\\nNfzhDXLi57LShuBszV4UAYgyeymAmuc9+VE6d6fr8tYNQ+HXrqKqePvFL17TvUfq\\n4qsbsmTcEjb6A8FyBIroq5kzmiHO1p9xJz+JtP8fD/EkUvLOGKl1P2IcxCFAnMs=\\n=FocB\\n-----END PGP SIGNATURE-----\\n',\n",
       "    'payload': 'tree a26220c1db1e2ef8847c8e3e712ad38f8a0e62e1\\nparent c9d3b913fdb50a35a52778f53a928d5d3a6ec746\\nparent 817303f225cef4dd5a4c7eb9e213d1be212f51d2\\nauthor Felipe Ferrero <52798316+ferrero-felipe@users.noreply.github.com> 1585321390 +0100\\ncommitter GitHub <noreply@github.com> 1585321390 +0100\\n\\nMerge pull request #133 from ferrero-felipe/master\\n\\nadding __pycache__/ to gitignore'}},\n",
       "  'url': 'https://api.github.com/repos/ironhack-datalabs/datamad0320/commits/6ff3bc11c87a4e7b729c62499bd52117e6eff71d',\n",
       "  'html_url': 'https://github.com/ironhack-datalabs/datamad0320/commit/6ff3bc11c87a4e7b729c62499bd52117e6eff71d',\n",
       "  'comments_url': 'https://api.github.com/repos/ironhack-datalabs/datamad0320/commits/6ff3bc11c87a4e7b729c62499bd52117e6eff71d/comments',\n",
       "  'author': {'login': 'ferrero-felipe',\n",
       "   'id': 52798316,\n",
       "   'node_id': 'MDQ6VXNlcjUyNzk4MzE2',\n",
       "   'avatar_url': 'https://avatars2.githubusercontent.com/u/52798316?v=4',\n",
       "   'gravatar_id': '',\n",
       "   'url': 'https://api.github.com/users/ferrero-felipe',\n",
       "   'html_url': 'https://github.com/ferrero-felipe',\n",
       "   'followers_url': 'https://api.github.com/users/ferrero-felipe/followers',\n",
       "   'following_url': 'https://api.github.com/users/ferrero-felipe/following{/other_user}',\n",
       "   'gists_url': 'https://api.github.com/users/ferrero-felipe/gists{/gist_id}',\n",
       "   'starred_url': 'https://api.github.com/users/ferrero-felipe/starred{/owner}{/repo}',\n",
       "   'subscriptions_url': 'https://api.github.com/users/ferrero-felipe/subscriptions',\n",
       "   'organizations_url': 'https://api.github.com/users/ferrero-felipe/orgs',\n",
       "   'repos_url': 'https://api.github.com/users/ferrero-felipe/repos',\n",
       "   'events_url': 'https://api.github.com/users/ferrero-felipe/events{/privacy}',\n",
       "   'received_events_url': 'https://api.github.com/users/ferrero-felipe/received_events',\n",
       "   'type': 'User',\n",
       "   'site_admin': False},\n",
       "  'committer': {'login': 'web-flow',\n",
       "   'id': 19864447,\n",
       "   'node_id': 'MDQ6VXNlcjE5ODY0NDQ3',\n",
       "   'avatar_url': 'https://avatars3.githubusercontent.com/u/19864447?v=4',\n",
       "   'gravatar_id': '',\n",
       "   'url': 'https://api.github.com/users/web-flow',\n",
       "   'html_url': 'https://github.com/web-flow',\n",
       "   'followers_url': 'https://api.github.com/users/web-flow/followers',\n",
       "   'following_url': 'https://api.github.com/users/web-flow/following{/other_user}',\n",
       "   'gists_url': 'https://api.github.com/users/web-flow/gists{/gist_id}',\n",
       "   'starred_url': 'https://api.github.com/users/web-flow/starred{/owner}{/repo}',\n",
       "   'subscriptions_url': 'https://api.github.com/users/web-flow/subscriptions',\n",
       "   'organizations_url': 'https://api.github.com/users/web-flow/orgs',\n",
       "   'repos_url': 'https://api.github.com/users/web-flow/repos',\n",
       "   'events_url': 'https://api.github.com/users/web-flow/events{/privacy}',\n",
       "   'received_events_url': 'https://api.github.com/users/web-flow/received_events',\n",
       "   'type': 'User',\n",
       "   'site_admin': False},\n",
       "  'parents': [{'sha': 'c9d3b913fdb50a35a52778f53a928d5d3a6ec746',\n",
       "    'url': 'https://api.github.com/repos/ironhack-datalabs/datamad0320/commits/c9d3b913fdb50a35a52778f53a928d5d3a6ec746',\n",
       "    'html_url': 'https://github.com/ironhack-datalabs/datamad0320/commit/c9d3b913fdb50a35a52778f53a928d5d3a6ec746'},\n",
       "   {'sha': '817303f225cef4dd5a4c7eb9e213d1be212f51d2',\n",
       "    'url': 'https://api.github.com/repos/ironhack-datalabs/datamad0320/commits/817303f225cef4dd5a4c7eb9e213d1be212f51d2',\n",
       "    'html_url': 'https://github.com/ironhack-datalabs/datamad0320/commit/817303f225cef4dd5a4c7eb9e213d1be212f51d2'}]},\n",
       " {'sha': '817303f225cef4dd5a4c7eb9e213d1be212f51d2',\n",
       "  'node_id': 'MDY6Q29tbWl0MjQ5NDEyNjY2OjgxNzMwM2YyMjVjZWY0ZGQ1YTRjN2ViOWUyMTNkMWJlMjEyZjUxZDI=',\n",
       "  'commit': {'author': {'name': 'ferrero-felipe',\n",
       "    'email': 'ferrero.felipe@gmail.com',\n",
       "    'date': '2020-03-27T14:59:56Z'},\n",
       "   'committer': {'name': 'ferrero-felipe',\n",
       "    'email': 'ferrero.felipe@gmail.com',\n",
       "    'date': '2020-03-27T14:59:56Z'},\n",
       "   'message': 'adding __pycache__/ to gitignore',\n",
       "   'tree': {'sha': 'a26220c1db1e2ef8847c8e3e712ad38f8a0e62e1',\n",
       "    'url': 'https://api.github.com/repos/ironhack-datalabs/datamad0320/git/trees/a26220c1db1e2ef8847c8e3e712ad38f8a0e62e1'},\n",
       "   'url': 'https://api.github.com/repos/ironhack-datalabs/datamad0320/git/commits/817303f225cef4dd5a4c7eb9e213d1be212f51d2',\n",
       "   'comment_count': 0,\n",
       "   'verification': {'verified': False,\n",
       "    'reason': 'unsigned',\n",
       "    'signature': None,\n",
       "    'payload': None}},\n",
       "  'url': 'https://api.github.com/repos/ironhack-datalabs/datamad0320/commits/817303f225cef4dd5a4c7eb9e213d1be212f51d2',\n",
       "  'html_url': 'https://github.com/ironhack-datalabs/datamad0320/commit/817303f225cef4dd5a4c7eb9e213d1be212f51d2',\n",
       "  'comments_url': 'https://api.github.com/repos/ironhack-datalabs/datamad0320/commits/817303f225cef4dd5a4c7eb9e213d1be212f51d2/comments',\n",
       "  'author': {'login': 'ferrero-felipe',\n",
       "   'id': 52798316,\n",
       "   'node_id': 'MDQ6VXNlcjUyNzk4MzE2',\n",
       "   'avatar_url': 'https://avatars2.githubusercontent.com/u/52798316?v=4',\n",
       "   'gravatar_id': '',\n",
       "   'url': 'https://api.github.com/users/ferrero-felipe',\n",
       "   'html_url': 'https://github.com/ferrero-felipe',\n",
       "   'followers_url': 'https://api.github.com/users/ferrero-felipe/followers',\n",
       "   'following_url': 'https://api.github.com/users/ferrero-felipe/following{/other_user}',\n",
       "   'gists_url': 'https://api.github.com/users/ferrero-felipe/gists{/gist_id}',\n",
       "   'starred_url': 'https://api.github.com/users/ferrero-felipe/starred{/owner}{/repo}',\n",
       "   'subscriptions_url': 'https://api.github.com/users/ferrero-felipe/subscriptions',\n",
       "   'organizations_url': 'https://api.github.com/users/ferrero-felipe/orgs',\n",
       "   'repos_url': 'https://api.github.com/users/ferrero-felipe/repos',\n",
       "   'events_url': 'https://api.github.com/users/ferrero-felipe/events{/privacy}',\n",
       "   'received_events_url': 'https://api.github.com/users/ferrero-felipe/received_events',\n",
       "   'type': 'User',\n",
       "   'site_admin': False},\n",
       "  'committer': {'login': 'ferrero-felipe',\n",
       "   'id': 52798316,\n",
       "   'node_id': 'MDQ6VXNlcjUyNzk4MzE2',\n",
       "   'avatar_url': 'https://avatars2.githubusercontent.com/u/52798316?v=4',\n",
       "   'gravatar_id': '',\n",
       "   'url': 'https://api.github.com/users/ferrero-felipe',\n",
       "   'html_url': 'https://github.com/ferrero-felipe',\n",
       "   'followers_url': 'https://api.github.com/users/ferrero-felipe/followers',\n",
       "   'following_url': 'https://api.github.com/users/ferrero-felipe/following{/other_user}',\n",
       "   'gists_url': 'https://api.github.com/users/ferrero-felipe/gists{/gist_id}',\n",
       "   'starred_url': 'https://api.github.com/users/ferrero-felipe/starred{/owner}{/repo}',\n",
       "   'subscriptions_url': 'https://api.github.com/users/ferrero-felipe/subscriptions',\n",
       "   'organizations_url': 'https://api.github.com/users/ferrero-felipe/orgs',\n",
       "   'repos_url': 'https://api.github.com/users/ferrero-felipe/repos',\n",
       "   'events_url': 'https://api.github.com/users/ferrero-felipe/events{/privacy}',\n",
       "   'received_events_url': 'https://api.github.com/users/ferrero-felipe/received_events',\n",
       "   'type': 'User',\n",
       "   'site_admin': False},\n",
       "  'parents': [{'sha': 'c9d3b913fdb50a35a52778f53a928d5d3a6ec746',\n",
       "    'url': 'https://api.github.com/repos/ironhack-datalabs/datamad0320/commits/c9d3b913fdb50a35a52778f53a928d5d3a6ec746',\n",
       "    'html_url': 'https://github.com/ironhack-datalabs/datamad0320/commit/c9d3b913fdb50a35a52778f53a928d5d3a6ec746'}]},\n",
       " {'sha': 'c9d3b913fdb50a35a52778f53a928d5d3a6ec746',\n",
       "  'node_id': 'MDY6Q29tbWl0MjQ5NDEyNjY2OmM5ZDNiOTEzZmRiNTBhMzVhNTI3NzhmNTNhOTI4ZDVkM2E2ZWM3NDY=',\n",
       "  'commit': {'author': {'name': 'Marc Pomar',\n",
       "    'email': 'marc@faable.com',\n",
       "    'date': '2020-03-23T11:31:26Z'},\n",
       "   'committer': {'name': 'Marc Pomar',\n",
       "    'email': 'marc@faable.com',\n",
       "    'date': '2020-03-23T11:31:26Z'},\n",
       "   'message': 'hola',\n",
       "   'tree': {'sha': '118a8f97daba7d501114eebf2dafce3856382459',\n",
       "    'url': 'https://api.github.com/repos/ironhack-datalabs/datamad0320/git/trees/118a8f97daba7d501114eebf2dafce3856382459'},\n",
       "   'url': 'https://api.github.com/repos/ironhack-datalabs/datamad0320/git/commits/c9d3b913fdb50a35a52778f53a928d5d3a6ec746',\n",
       "   'comment_count': 0,\n",
       "   'verification': {'verified': False,\n",
       "    'reason': 'unsigned',\n",
       "    'signature': None,\n",
       "    'payload': None}},\n",
       "  'url': 'https://api.github.com/repos/ironhack-datalabs/datamad0320/commits/c9d3b913fdb50a35a52778f53a928d5d3a6ec746',\n",
       "  'html_url': 'https://github.com/ironhack-datalabs/datamad0320/commit/c9d3b913fdb50a35a52778f53a928d5d3a6ec746',\n",
       "  'comments_url': 'https://api.github.com/repos/ironhack-datalabs/datamad0320/commits/c9d3b913fdb50a35a52778f53a928d5d3a6ec746/comments',\n",
       "  'author': {'login': 'boyander',\n",
       "   'id': 568638,\n",
       "   'node_id': 'MDQ6VXNlcjU2ODYzOA==',\n",
       "   'avatar_url': 'https://avatars1.githubusercontent.com/u/568638?v=4',\n",
       "   'gravatar_id': '',\n",
       "   'url': 'https://api.github.com/users/boyander',\n",
       "   'html_url': 'https://github.com/boyander',\n",
       "   'followers_url': 'https://api.github.com/users/boyander/followers',\n",
       "   'following_url': 'https://api.github.com/users/boyander/following{/other_user}',\n",
       "   'gists_url': 'https://api.github.com/users/boyander/gists{/gist_id}',\n",
       "   'starred_url': 'https://api.github.com/users/boyander/starred{/owner}{/repo}',\n",
       "   'subscriptions_url': 'https://api.github.com/users/boyander/subscriptions',\n",
       "   'organizations_url': 'https://api.github.com/users/boyander/orgs',\n",
       "   'repos_url': 'https://api.github.com/users/boyander/repos',\n",
       "   'events_url': 'https://api.github.com/users/boyander/events{/privacy}',\n",
       "   'received_events_url': 'https://api.github.com/users/boyander/received_events',\n",
       "   'type': 'User',\n",
       "   'site_admin': False},\n",
       "  'committer': {'login': 'boyander',\n",
       "   'id': 568638,\n",
       "   'node_id': 'MDQ6VXNlcjU2ODYzOA==',\n",
       "   'avatar_url': 'https://avatars1.githubusercontent.com/u/568638?v=4',\n",
       "   'gravatar_id': '',\n",
       "   'url': 'https://api.github.com/users/boyander',\n",
       "   'html_url': 'https://github.com/boyander',\n",
       "   'followers_url': 'https://api.github.com/users/boyander/followers',\n",
       "   'following_url': 'https://api.github.com/users/boyander/following{/other_user}',\n",
       "   'gists_url': 'https://api.github.com/users/boyander/gists{/gist_id}',\n",
       "   'starred_url': 'https://api.github.com/users/boyander/starred{/owner}{/repo}',\n",
       "   'subscriptions_url': 'https://api.github.com/users/boyander/subscriptions',\n",
       "   'organizations_url': 'https://api.github.com/users/boyander/orgs',\n",
       "   'repos_url': 'https://api.github.com/users/boyander/repos',\n",
       "   'events_url': 'https://api.github.com/users/boyander/events{/privacy}',\n",
       "   'received_events_url': 'https://api.github.com/users/boyander/received_events',\n",
       "   'type': 'User',\n",
       "   'site_admin': False},\n",
       "  'parents': []}]"
      ]
     },
     "execution_count": 33,
     "metadata": {},
     "output_type": "execute_result"
    }
   ],
   "source": [
    "path = \"https://api.github.com/repos/ironhack-datalabs/datamad0320/commits\"\n",
    "apiKey = os.getenv(\"GITHUB_KEY\")\n",
    "queryParams = {\n",
    "    \"sha\": \"master\",\n",
    "    \"since\": \"2020-03-01-T18:04:52.428556330\" #He metido más de un mes para que salga algún cambio\n",
    "}\n",
    "# Ejecutar la función y guardarla en una variable\n",
    "resultado = getFromGithub(path,queryParams,apiKey)\n",
    "#resultado"
   ]
  },
  {
   "cell_type": "code",
   "execution_count": 39,
   "metadata": {},
   "outputs": [
    {
     "name": "stdout",
     "output_type": "stream",
     "text": [
      "Desde el 1 de marzo de han hecho 3 commits\n"
     ]
    }
   ],
   "source": [
    "# Lista vacía donde almacenar las urls\n",
    "commits_number = 0\n",
    "for dic in resultado:\n",
    "    for k,v in dic.items():\n",
    "        #print(k)       \n",
    "        if k == \"commit\":\n",
    "            commits_number += 1\n",
    "\n",
    "print(\"Desde el 1 de marzo de han hecho\", commits_number, \"commits\")\n",
    "        \n"
   ]
  },
  {
   "cell_type": "markdown",
   "metadata": {},
   "source": [
    "# Challenge 3"
   ]
  },
  {
   "cell_type": "code",
   "execution_count": null,
   "metadata": {},
   "outputs": [],
   "source": []
  }
 ],
 "metadata": {
  "kernelspec": {
   "display_name": "Python 3",
   "language": "python",
   "name": "python3"
  },
  "language_info": {
   "codemirror_mode": {
    "name": "ipython",
    "version": 3
   },
   "file_extension": ".py",
   "mimetype": "text/x-python",
   "name": "python",
   "nbconvert_exporter": "python",
   "pygments_lexer": "ipython3",
   "version": "3.8.1"
  }
 },
 "nbformat": 4,
 "nbformat_minor": 4
}
