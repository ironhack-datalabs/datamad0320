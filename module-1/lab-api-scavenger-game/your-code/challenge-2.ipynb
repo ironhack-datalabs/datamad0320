{
 "cells": [
  {
   "cell_type": "code",
   "execution_count": 1,
   "metadata": {
    "scrolled": true
   },
   "outputs": [
    {
     "name": "stdout",
     "output_type": "stream",
     "text": [
      "['/usr/lib/python36.zip', '/usr/lib/python3.6', '/usr/lib/python3.6/lib-dynload', '', '/home/rh/.local/lib/python3.6/site-packages', '/usr/local/lib/python3.6/dist-packages', '/usr/lib/python3/dist-packages', '/home/rh/.local/lib/python3.6/site-packages/IPython/extensions', '/home/rh/.ipython'] 3.6.9 (default, Nov  7 2019, 10:44:02) \n",
      "[GCC 8.3.0]\n"
     ]
    }
   ],
   "source": [
    "# Debugging wrong kernel \n",
    "import sys\n",
    "print(sys.path, sys.version)"
   ]
  },
  {
   "cell_type": "code",
   "execution_count": 2,
   "metadata": {},
   "outputs": [
    {
     "name": "stdout",
     "output_type": "stream",
     "text": [
      "bc3\n"
     ]
    }
   ],
   "source": [
    "import os\n",
    "import requests\n",
    "from dotenv import load_dotenv\n",
    "\n",
    "load_dotenv()\n",
    "apiKey=os.getenv(\"GITHUB_APIKEY\")\n",
    "print(apiKey[:3])"
   ]
  },
  {
   "cell_type": "markdown",
   "metadata": {},
   "source": [
    "# Now that I have authenticated with the token"
   ]
  },
  {
   "cell_type": "code",
   "execution_count": 3,
   "metadata": {},
   "outputs": [],
   "source": [
    "# Create functin that GETs the response from server\n",
    "def getFromGithub(path, queryParams=dict(), apiKey=''):\n",
    "    url = f\"https://api.github.com{path}\"\n",
    "    headers = {'Authorization':'token {}'.format(apiKey)} if apiKey else {}\n",
    "    res = requests.get(url, params=queryParams, headers=headers)\n",
    "    print(res.status_code, res.url)\n",
    "    \n",
    "    return res.json()"
   ]
  },
  {
   "cell_type": "code",
   "execution_count": 5,
   "metadata": {},
   "outputs": [
    {
     "name": "stdout",
     "output_type": "stream",
     "text": [
      "200 https://api.github.com/repos/ironhack-datalabs/datamad0320/commits\n"
     ]
    },
    {
     "data": {
      "text/plain": [
       "3"
      ]
     },
     "execution_count": 5,
     "metadata": {},
     "output_type": "execute_result"
    }
   ],
   "source": [
    "# To see all commits\n",
    "datalabs_commits = getFromGithub('/repos/ironhack-datalabs/datamad0320/commits')\n",
    "len(datalabs_commits)"
   ]
  },
  {
   "cell_type": "code",
   "execution_count": 22,
   "metadata": {},
   "outputs": [
    {
     "name": "stdout",
     "output_type": "stream",
     "text": [
      "200 https://api.github.com/repos/ironhack-datalabs/datamad0320/commits?since=2020-04-01T00%3A00%3A00\n"
     ]
    }
   ],
   "source": [
    "# Seeing only the commits that were SINCE the last week\n",
    "datalabs_commits = getFromGithub('/repos/ironhack-datalabs/datamad0320/commits',\n",
    "                                queryParams={\"since\":\"2020-04-01T00:00:00\"})"
   ]
  },
  {
   "cell_type": "code",
   "execution_count": 24,
   "metadata": {},
   "outputs": [
    {
     "data": {
      "text/plain": [
       "0"
      ]
     },
     "execution_count": 24,
     "metadata": {},
     "output_type": "execute_result"
    }
   ],
   "source": [
    "# No commits have been made in the last week\n",
    "len(datalabs_commits)"
   ]
  },
  {
   "cell_type": "code",
   "execution_count": 26,
   "metadata": {},
   "outputs": [
    {
     "name": "stdout",
     "output_type": "stream",
     "text": [
      "200 https://api.github.com/repos/ironhack-datalabs/datamad0320/commits?until=2020-04-01T00%3A00%3A00\n"
     ]
    }
   ],
   "source": [
    "# Seeing the commits that were made UNTIL last week\n",
    "datalabs_commits = getFromGithub('/repos/ironhack-datalabs/datamad0320/commits',\n",
    "                                queryParams={\"until\":\"2020-04-01T00:00:00\"})"
   ]
  },
  {
   "cell_type": "code",
   "execution_count": 27,
   "metadata": {},
   "outputs": [
    {
     "data": {
      "text/plain": [
       "3"
      ]
     },
     "execution_count": 27,
     "metadata": {},
     "output_type": "execute_result"
    }
   ],
   "source": [
    "# THREE commits have been made in the last week\n",
    "len(datalabs_commits)"
   ]
  }
 ],
 "metadata": {
  "kernelspec": {
   "display_name": "Python 3",
   "language": "python",
   "name": "python3"
  },
  "language_info": {
   "codemirror_mode": {
    "name": "ipython",
    "version": 3
   },
   "file_extension": ".py",
   "mimetype": "text/x-python",
   "name": "python",
   "nbconvert_exporter": "python",
   "pygments_lexer": "ipython3",
   "version": "3.6.9"
  }
 },
 "nbformat": 4,
 "nbformat_minor": 4
}
