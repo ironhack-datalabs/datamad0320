{
 "cells": [
  {
   "cell_type": "markdown",
   "metadata": {},
   "source": [
    "# LAB | API Scavenger Game\n",
    "# Challenge 2"
   ]
  },
  {
   "cell_type": "code",
   "execution_count": 1,
   "metadata": {},
   "outputs": [
    {
     "data": {
      "text/plain": [
       "True"
      ]
     },
     "execution_count": 1,
     "metadata": {},
     "output_type": "execute_result"
    }
   ],
   "source": [
    "import requests\n",
    "import os\n",
    "from dotenv import load_dotenv\n",
    "load_dotenv()"
   ]
  },
  {
   "cell_type": "markdown",
   "metadata": {},
   "source": [
    "Función que descarga la info pedida a GitHub"
   ]
  },
  {
   "cell_type": "code",
   "execution_count": 2,
   "metadata": {},
   "outputs": [],
   "source": [
    "def getFromGithub(path,queryParams=dict(),apiKey=\"\"):\n",
    "    \n",
    "    # Construct the resource url\n",
    "    url = f\"{path}\"\n",
    "    \n",
    "    # If apiKey is defined, pass a header\n",
    "    headers = {\"Authorization\":f\"token {apiKey}\"} if apiKey else {}\n",
    "\n",
    "    # Perform the request\n",
    "    res = requests.get(url, params=queryParams, headers=headers)\n",
    "    print(res.status_code, res.url)\n",
    "    \n",
    "    # Extract json from body response\n",
    "    return res.json()"
   ]
  },
  {
   "cell_type": "markdown",
   "metadata": {},
   "source": [
    "Definir los argumentos de la función y ejecutarla"
   ]
  },
  {
   "cell_type": "code",
   "execution_count": 3,
   "metadata": {},
   "outputs": [
    {
     "name": "stdout",
     "output_type": "stream",
     "text": [
      "200 https://api.github.com/repos/ironhack-datalabs/datamad0320/commits?sha=master&since=2020-03-01-T18%3A04%3A52.428556330\n"
     ]
    }
   ],
   "source": [
    "path = \"https://api.github.com/repos/ironhack-datalabs/datamad0320/commits\"\n",
    "apiKey = os.getenv(\"GITHUB_KEY\")\n",
    "queryParams = {\n",
    "    \"sha\": \"master\",\n",
    "    \"since\": \"2020-03-01-T18:04:52.428556330\" #He metido más de un mes para que salga algún cambio\n",
    "}\n",
    "# Ejecutar la función y guardarla en una variable\n",
    "resultado = getFromGithub(path,queryParams,apiKey)\n",
    "#resultado"
   ]
  },
  {
   "cell_type": "code",
   "execution_count": 4,
   "metadata": {},
   "outputs": [
    {
     "name": "stdout",
     "output_type": "stream",
     "text": [
      "Desde el 1 de marzo de han hecho 3 commits\n"
     ]
    }
   ],
   "source": [
    "# Lista vacía donde almacenar las urls\n",
    "commits_number = 0\n",
    "for dic in resultado:\n",
    "    for k,v in dic.items():\n",
    "        #print(k)       \n",
    "        if k == \"commit\":\n",
    "            commits_number += 1\n",
    "\n",
    "print(\"Desde el 1 de marzo de han hecho\", commits_number, \"commits\")      \n"
   ]
  }
 ],
 "metadata": {
  "kernelspec": {
   "display_name": "Python 3",
   "language": "python",
   "name": "python3"
  },
  "language_info": {
   "codemirror_mode": {
    "name": "ipython",
    "version": 3
   },
   "file_extension": ".py",
   "mimetype": "text/x-python",
   "name": "python",
   "nbconvert_exporter": "python",
   "pygments_lexer": "ipython3",
   "version": "3.8.1"
  }
 },
 "nbformat": 4,
 "nbformat_minor": 4
}
