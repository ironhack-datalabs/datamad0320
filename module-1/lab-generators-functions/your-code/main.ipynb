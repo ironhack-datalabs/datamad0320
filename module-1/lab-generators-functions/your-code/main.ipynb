{
 "cells": [
  {
   "cell_type": "markdown",
   "metadata": {},
   "source": [
    "# Before your start:\n",
    "- Read the README.md file\n",
    "- Comment as much as you can and use the resources in the README.md file\n",
    "- Happy learning!"
   ]
  },
  {
   "cell_type": "markdown",
   "metadata": {},
   "source": [
    "# Challenge 1 - Functions. \n",
    "\n",
    "A function is a block of organized, reusable code that is used to perform a single, related action. Functions provide better modularity for your application and a high degree of code reusing. Create un function to find the summation of the number of every number from 1 to num."
   ]
  },
  {
   "cell_type": "code",
   "execution_count": 1,
   "metadata": {},
   "outputs": [
    {
     "data": {
      "text/plain": [
       "2926"
      ]
     },
     "execution_count": 1,
     "metadata": {},
     "output_type": "execute_result"
    }
   ],
   "source": [
    "num=76 \n",
    "\n",
    "def summation(num):\n",
    "    summation=0\n",
    "    for i in range(num+1):\n",
    "        summation+=i     \n",
    "    return summation\n",
    "\n",
    "summation(num)"
   ]
  },
  {
   "cell_type": "markdown",
   "metadata": {},
   "source": [
    "# Challenge 2 - Positional arguments, Args and Kwargs.\n",
    "\n",
    "The syntax *args and **kwargs in function definitions is used to pass a variable number of arguments to a function. The single asterisk form (*args) is used to pass a non-keyworded, variable-length argument list, and the double asterisk form is used to pass a keyworded, variable-length argument list. Create a function to find the summation of all elements of the array."
   ]
  },
  {
   "cell_type": "code",
   "execution_count": 2,
   "metadata": {},
   "outputs": [],
   "source": [
    "array=[3, 8, 16]"
   ]
  },
  {
   "cell_type": "code",
   "execution_count": 3,
   "metadata": {},
   "outputs": [
    {
     "data": {
      "text/plain": [
       "27"
      ]
     },
     "execution_count": 3,
     "metadata": {},
     "output_type": "execute_result"
    }
   ],
   "source": [
    "# This function returns the sum of *args\n",
    "\n",
    "def summation2(*args):\n",
    "    #print(args)\n",
    "    #print(type(args))\n",
    "    return sum(*args)\n",
    "\n",
    "summation2(array)\n",
    "\n",
    "#nota 1: Al poner *args en la firma, la lista la convierte en un tuple ([3, 8, 16],).\n",
    "#nota 2: Si intento hacer sum() del tuple ([3, 8, 16],) me da ERROR.\n",
    "#nota 3: La funcion sum necesita argumentos: numbers, list.\n",
    "#nota 4: Al poner *args como argumento cuando llamo a la funcion sum(), el tuple se convierte en arg posicionales. "
   ]
  },
  {
   "cell_type": "markdown",
   "metadata": {},
   "source": [
    "Now, do the same thing with positional arguments."
   ]
  },
  {
   "cell_type": "code",
   "execution_count": 4,
   "metadata": {},
   "outputs": [
    {
     "data": {
      "text/plain": [
       "27"
      ]
     },
     "execution_count": 4,
     "metadata": {},
     "output_type": "execute_result"
    }
   ],
   "source": [
    "# This function returns a+b+c\n",
    "\n",
    "def summation3(a, b, c):\n",
    "    return a+b+c\n",
    "summation3(3, 8, 16)"
   ]
  },
  {
   "cell_type": "markdown",
   "metadata": {},
   "source": [
    "Given the next dictionary of M&Ms, create a function to sum all non red M&Ms."
   ]
  },
  {
   "cell_type": "code",
   "execution_count": 5,
   "metadata": {},
   "outputs": [],
   "source": [
    "dictionary={'red':3, 'blue':8, 'green':24, 'orange':12, 'purple':10}"
   ]
  },
  {
   "cell_type": "code",
   "execution_count": 6,
   "metadata": {},
   "outputs": [
    {
     "data": {
      "text/plain": [
       "54"
      ]
     },
     "execution_count": 6,
     "metadata": {},
     "output_type": "execute_result"
    }
   ],
   "source": [
    "# This function returns the sum of all M&Ms, except the red ones\n",
    "def summation4(**kwargs):\n",
    "    #print(kwargs)\n",
    "    #print(type(kwargs))\n",
    "    summation=0\n",
    "    for key, value in kwargs.items():\n",
    "        if key != 'red':\n",
    "            summation+=value\n",
    "    return summation\n",
    "   \n",
    "summation4(red=3, blue=8, green=24, orange=12, purple=10)\n",
    "\n",
    "#nota: al poner **kwargs, la función recibe un número indeterminado de key-word arguments.\n",
    "#nota: kwargs es un diccionario.\n",
    "#nota: recorro el diccionario y sumo los values. "
   ]
  },
  {
   "cell_type": "markdown",
   "metadata": {},
   "source": [
    "Below, create a function to sum all following elements."
   ]
  },
  {
   "cell_type": "code",
   "execution_count": 7,
   "metadata": {},
   "outputs": [],
   "source": [
    "a=4\n",
    "b=6\n",
    "c=15\n",
    "d=[48, 465, 23, 96]\n",
    "e={'A':16, 'B':32, 'C':64}"
   ]
  },
  {
   "cell_type": "code",
   "execution_count": 8,
   "metadata": {},
   "outputs": [
    {
     "data": {
      "text/plain": [
       "769"
      ]
     },
     "execution_count": 8,
     "metadata": {},
     "output_type": "execute_result"
    }
   ],
   "source": [
    "# This function returns the sum of a,b,c,d and e\n",
    "\n",
    "def summation5(*args, **kwargs):\n",
    "    \n",
    "    #suma de argumentos posicionales\n",
    "    summation_pos=sum([*args])\n",
    "    \n",
    "    #suma de argumentos key-word \n",
    "    summation_kw=sum(kwargs.values())\n",
    "    \n",
    "    return summation_pos+summation_kw\n",
    "\n",
    "summation5(a,b,c,*d,A=16, B=32, C=64)"
   ]
  },
  {
   "cell_type": "markdown",
   "metadata": {},
   "source": [
    "# Challenge 3 - Iterators, Generators and `yield`. \n",
    "\n",
    "In iterator in Python is an object that represents a stream of data. However, iterators contain a countable number of values. We traverse through the iterator and return one value at a time. All iterators support a `next` function that allows us to traverse through the iterator. We can create an iterator using the `iter` function that comes with the base package of Python. Below is an example of an iterator."
   ]
  },
  {
   "cell_type": "code",
   "execution_count": 9,
   "metadata": {},
   "outputs": [
    {
     "name": "stdout",
     "output_type": "stream",
     "text": [
      "1\n",
      "2\n",
      "3\n"
     ]
    }
   ],
   "source": [
    "# We first define our iterator:\n",
    "\n",
    "iterator = iter([1,2,3])\n",
    "\n",
    "# We can now iterate through the object using the next function\n",
    "\n",
    "print(next(iterator))\n",
    "print(next(iterator))\n",
    "print(next(iterator))"
   ]
  },
  {
   "cell_type": "code",
   "execution_count": 10,
   "metadata": {},
   "outputs": [],
   "source": [
    "# After we have iterated through all elements, we will get a StopIteration Error\n",
    "\n",
    "#print(next(iterator))\n",
    "\n",
    "#nota: pongo la línea anterior como comentario para que me pueda correr el códiogo que viene a continuación."
   ]
  },
  {
   "cell_type": "code",
   "execution_count": 11,
   "metadata": {},
   "outputs": [
    {
     "name": "stdout",
     "output_type": "stream",
     "text": [
      "1\n",
      "2\n",
      "3\n"
     ]
    }
   ],
   "source": [
    "# We can also iterate through an iterator using a for loop like this:\n",
    "# Note: we cannot go back directly in an iterator once we have traversed through the elements. \n",
    "# This is why we are redefining the iterator below\n",
    "\n",
    "iterator = iter([1,2,3])\n",
    "\n",
    "for i in iterator:\n",
    "    print(i)"
   ]
  },
  {
   "cell_type": "markdown",
   "metadata": {},
   "source": [
    "In the cell below, write a function that takes an iterator and returns the first element in the iterator that is divisible by 2. Assume that all iterators contain only numeric data. If we have not found a single element that is divisible by 2, return zero."
   ]
  },
  {
   "cell_type": "code",
   "execution_count": 12,
   "metadata": {},
   "outputs": [
    {
     "data": {
      "text/plain": [
       "4"
      ]
     },
     "execution_count": 12,
     "metadata": {},
     "output_type": "execute_result"
    }
   ],
   "source": [
    "# This function takes an iterable (numeric) and returns the first element that is divisible by 2 and 0 otherwise.\n",
    "\n",
    "\n",
    "def divisible2(it): \n",
    "    for e in it:\n",
    "        if e % 2 == 0:\n",
    "            return e\n",
    "        else:\n",
    "            pass\n",
    "              \n",
    "divisible2(iter([1,7,5,4,3]))"
   ]
  },
  {
   "cell_type": "markdown",
   "metadata": {},
   "source": [
    "### Generators\n",
    "\n",
    "It is quite difficult to create your own iterator since you would have to implement a `next` function. Generators are functions that enable us to create iterators. The difference between a function and a generator is that instead of using `return`, we use `yield`. For example, below we have a function that returns an iterator containing the numbers 0 through n:"
   ]
  },
  {
   "cell_type": "code",
   "execution_count": 13,
   "metadata": {},
   "outputs": [],
   "source": [
    "def firstn(n):\n",
    "     number = 0\n",
    "     while number < n:\n",
    "         yield number\n",
    "         number = number + 1"
   ]
  },
  {
   "cell_type": "markdown",
   "metadata": {},
   "source": [
    "If we pass 5 to the function, we will see that we have a iterator containing the numbers 0 through 4."
   ]
  },
  {
   "cell_type": "code",
   "execution_count": 14,
   "metadata": {},
   "outputs": [
    {
     "name": "stdout",
     "output_type": "stream",
     "text": [
      "0\n",
      "1\n",
      "2\n",
      "3\n",
      "4\n"
     ]
    }
   ],
   "source": [
    "iterator = firstn(5)\n",
    "\n",
    "for i in iterator:\n",
    "    print(i)"
   ]
  },
  {
   "cell_type": "markdown",
   "metadata": {},
   "source": [
    "In the cell below, create a generator that takes a number and returns an iterator containing all even numbers between 0 and the number you passed to the generator."
   ]
  },
  {
   "cell_type": "code",
   "execution_count": 15,
   "metadata": {},
   "outputs": [
    {
     "name": "stdout",
     "output_type": "stream",
     "text": [
      "1\n",
      "3\n",
      "5\n",
      "7\n",
      "9\n"
     ]
    }
   ],
   "source": [
    "# This function produces an iterator containing all even numbers between 0 and n\n",
    "\n",
    "def even_iterator(n):\n",
    "    list=[]\n",
    "    for i in range (n):\n",
    "        if i % 2 != 0:\n",
    "            list.append(i)\n",
    "            yield i\n",
    "    return list\n",
    "\n",
    "iterator = even_iterator(10)\n",
    "for i in iterator:\n",
    "    print(i)\n",
    "    \n",
    "#nota: yield ejecuta la función de forma pausada.\n",
    "#nota: un generador es ejecutar un iterador en un bucle.\n",
    "#nota: un generator es un iterator, pero no viceversa.  "
   ]
  }
 ],
 "metadata": {
  "kernelspec": {
   "display_name": "Python 3",
   "language": "python",
   "name": "python3"
  },
  "language_info": {
   "codemirror_mode": {
    "name": "ipython",
    "version": 3
   },
   "file_extension": ".py",
   "mimetype": "text/x-python",
   "name": "python",
   "nbconvert_exporter": "python",
   "pygments_lexer": "ipython3",
   "version": "3.7.7"
  }
 },
 "nbformat": 4,
 "nbformat_minor": 2
}
