{
 "cells": [
  {
   "cell_type": "markdown",
   "metadata": {},
   "source": [
    "# List Comprehensions Lab\n",
    "\n",
    "Complete the following set of exercises to solidify your knowledge of list comprehensions."
   ]
  },
  {
   "cell_type": "code",
   "execution_count": 8,
   "metadata": {},
   "outputs": [],
   "source": [
    "import os\n",
    "import numpy as np\n",
    "import pandas as pd"
   ]
  },
  {
   "cell_type": "markdown",
   "metadata": {},
   "source": [
    "### 1. Use a list comprehension to create and print a list of consecutive integers starting with 1 and ending with 50."
   ]
  },
  {
   "cell_type": "code",
   "execution_count": 18,
   "metadata": {},
   "outputs": [
    {
     "data": {
      "text/plain": [
       "[1,\n",
       " 2,\n",
       " 3,\n",
       " 4,\n",
       " 5,\n",
       " 6,\n",
       " 7,\n",
       " 8,\n",
       " 9,\n",
       " 10,\n",
       " 11,\n",
       " 12,\n",
       " 13,\n",
       " 14,\n",
       " 15,\n",
       " 16,\n",
       " 17,\n",
       " 18,\n",
       " 19,\n",
       " 20,\n",
       " 21,\n",
       " 22,\n",
       " 23,\n",
       " 24,\n",
       " 25,\n",
       " 26,\n",
       " 27,\n",
       " 28,\n",
       " 29,\n",
       " 30,\n",
       " 31,\n",
       " 32,\n",
       " 33,\n",
       " 34,\n",
       " 35,\n",
       " 36,\n",
       " 37,\n",
       " 38,\n",
       " 39,\n",
       " 40,\n",
       " 41,\n",
       " 42,\n",
       " 43,\n",
       " 44,\n",
       " 45,\n",
       " 46,\n",
       " 47,\n",
       " 48,\n",
       " 49,\n",
       " 50]"
      ]
     },
     "execution_count": 18,
     "metadata": {},
     "output_type": "execute_result"
    }
   ],
   "source": [
    "[i for i in range(1,51)]"
   ]
  },
  {
   "cell_type": "markdown",
   "metadata": {},
   "source": [
    "### 2. Use a list comprehension to create and print a list of even numbers starting with 2 and ending with 200."
   ]
  },
  {
   "cell_type": "code",
   "execution_count": 17,
   "metadata": {},
   "outputs": [
    {
     "data": {
      "text/plain": [
       "[2,\n",
       " 4,\n",
       " 6,\n",
       " 8,\n",
       " 10,\n",
       " 12,\n",
       " 14,\n",
       " 16,\n",
       " 18,\n",
       " 20,\n",
       " 22,\n",
       " 24,\n",
       " 26,\n",
       " 28,\n",
       " 30,\n",
       " 32,\n",
       " 34,\n",
       " 36,\n",
       " 38,\n",
       " 40,\n",
       " 42,\n",
       " 44,\n",
       " 46,\n",
       " 48,\n",
       " 50,\n",
       " 52,\n",
       " 54,\n",
       " 56,\n",
       " 58,\n",
       " 60,\n",
       " 62,\n",
       " 64,\n",
       " 66,\n",
       " 68,\n",
       " 70,\n",
       " 72,\n",
       " 74,\n",
       " 76,\n",
       " 78,\n",
       " 80,\n",
       " 82,\n",
       " 84,\n",
       " 86,\n",
       " 88,\n",
       " 90,\n",
       " 92,\n",
       " 94,\n",
       " 96,\n",
       " 98,\n",
       " 100,\n",
       " 102,\n",
       " 104,\n",
       " 106,\n",
       " 108,\n",
       " 110,\n",
       " 112,\n",
       " 114,\n",
       " 116,\n",
       " 118,\n",
       " 120,\n",
       " 122,\n",
       " 124,\n",
       " 126,\n",
       " 128,\n",
       " 130,\n",
       " 132,\n",
       " 134,\n",
       " 136,\n",
       " 138,\n",
       " 140,\n",
       " 142,\n",
       " 144,\n",
       " 146,\n",
       " 148,\n",
       " 150,\n",
       " 152,\n",
       " 154,\n",
       " 156,\n",
       " 158,\n",
       " 160,\n",
       " 162,\n",
       " 164,\n",
       " 166,\n",
       " 168,\n",
       " 170,\n",
       " 172,\n",
       " 174,\n",
       " 176,\n",
       " 178,\n",
       " 180,\n",
       " 182,\n",
       " 184,\n",
       " 186,\n",
       " 188,\n",
       " 190,\n",
       " 192,\n",
       " 194,\n",
       " 196,\n",
       " 198,\n",
       " 200]"
      ]
     },
     "execution_count": 17,
     "metadata": {},
     "output_type": "execute_result"
    }
   ],
   "source": [
    "[2*i for i in range(1,101)]"
   ]
  },
  {
   "cell_type": "markdown",
   "metadata": {},
   "source": [
    "### 3. Use a list comprehension to create and print a list containing all elements of the 10 x 4 Numpy array below."
   ]
  },
  {
   "cell_type": "code",
   "execution_count": 11,
   "metadata": {},
   "outputs": [],
   "source": [
    "a = np.array([[0.84062117, 0.48006452, 0.7876326 , 0.77109654],\n",
    "       [0.44409793, 0.09014516, 0.81835917, 0.87645456],\n",
    "       [0.7066597 , 0.09610873, 0.41247947, 0.57433389],\n",
    "       [0.29960807, 0.42315023, 0.34452557, 0.4751035 ],\n",
    "       [0.17003563, 0.46843998, 0.92796258, 0.69814654],\n",
    "       [0.41290051, 0.19561071, 0.16284783, 0.97016248],\n",
    "       [0.71725408, 0.87702738, 0.31244595, 0.76615487],\n",
    "       [0.20754036, 0.57871812, 0.07214068, 0.40356048],\n",
    "       [0.12149553, 0.53222417, 0.9976855 , 0.12536346],\n",
    "       [0.80930099, 0.50962849, 0.94555126, 0.33364763]])"
   ]
  },
  {
   "cell_type": "code",
   "execution_count": 26,
   "metadata": {},
   "outputs": [
    {
     "data": {
      "text/plain": [
       "[0.84062117,\n",
       " 0.48006452,\n",
       " 0.7876326,\n",
       " 0.77109654,\n",
       " 0.44409793,\n",
       " 0.09014516,\n",
       " 0.81835917,\n",
       " 0.87645456,\n",
       " 0.7066597,\n",
       " 0.09610873,\n",
       " 0.41247947,\n",
       " 0.57433389,\n",
       " 0.29960807,\n",
       " 0.42315023,\n",
       " 0.34452557,\n",
       " 0.4751035,\n",
       " 0.17003563,\n",
       " 0.46843998,\n",
       " 0.92796258,\n",
       " 0.69814654,\n",
       " 0.41290051,\n",
       " 0.19561071,\n",
       " 0.16284783,\n",
       " 0.97016248,\n",
       " 0.71725408,\n",
       " 0.87702738,\n",
       " 0.31244595,\n",
       " 0.76615487,\n",
       " 0.20754036,\n",
       " 0.57871812,\n",
       " 0.07214068,\n",
       " 0.40356048,\n",
       " 0.12149553,\n",
       " 0.53222417,\n",
       " 0.9976855,\n",
       " 0.12536346,\n",
       " 0.80930099,\n",
       " 0.50962849,\n",
       " 0.94555126,\n",
       " 0.33364763]"
      ]
     },
     "execution_count": 26,
     "metadata": {},
     "output_type": "execute_result"
    }
   ],
   "source": [
    "[j for i in a for j in i]"
   ]
  },
  {
   "cell_type": "markdown",
   "metadata": {},
   "source": [
    "### 4. Add a condition to the list comprehension above so that only values greater than or equal to 0.5 are printed."
   ]
  },
  {
   "cell_type": "code",
   "execution_count": 28,
   "metadata": {},
   "outputs": [
    {
     "data": {
      "text/plain": [
       "[0.84062117,\n",
       " 0.7876326,\n",
       " 0.77109654,\n",
       " 0.81835917,\n",
       " 0.87645456,\n",
       " 0.7066597,\n",
       " 0.57433389,\n",
       " 0.92796258,\n",
       " 0.69814654,\n",
       " 0.97016248,\n",
       " 0.71725408,\n",
       " 0.87702738,\n",
       " 0.76615487,\n",
       " 0.57871812,\n",
       " 0.53222417,\n",
       " 0.9976855,\n",
       " 0.80930099,\n",
       " 0.50962849,\n",
       " 0.94555126]"
      ]
     },
     "execution_count": 28,
     "metadata": {},
     "output_type": "execute_result"
    }
   ],
   "source": [
    "[j for i in a for j in i if j>=0.5]"
   ]
  },
  {
   "cell_type": "markdown",
   "metadata": {},
   "source": [
    "### 5. Use a list comprehension to create and print a list containing all elements of the 5 x 2 x 3 Numpy array below."
   ]
  },
  {
   "cell_type": "code",
   "execution_count": 24,
   "metadata": {},
   "outputs": [],
   "source": [
    "b = np.array([[[0.55867166, 0.06210792, 0.08147297],\n",
    "        [0.82579068, 0.91512478, 0.06833034]],\n",
    "\n",
    "       [[0.05440634, 0.65857693, 0.30296619],\n",
    "        [0.06769833, 0.96031863, 0.51293743]],\n",
    "\n",
    "       [[0.09143215, 0.71893382, 0.45850679],\n",
    "        [0.58256464, 0.59005654, 0.56266457]],\n",
    "\n",
    "       [[0.71600294, 0.87392666, 0.11434044],\n",
    "        [0.8694668 , 0.65669313, 0.10708681]],\n",
    "\n",
    "       [[0.07529684, 0.46470767, 0.47984544],\n",
    "        [0.65368638, 0.14901286, 0.23760688]]])"
   ]
  },
  {
   "cell_type": "code",
   "execution_count": 29,
   "metadata": {},
   "outputs": [
    {
     "data": {
      "text/plain": [
       "[0.55867166,\n",
       " 0.06210792,\n",
       " 0.08147297,\n",
       " 0.82579068,\n",
       " 0.91512478,\n",
       " 0.06833034,\n",
       " 0.05440634,\n",
       " 0.65857693,\n",
       " 0.30296619,\n",
       " 0.06769833,\n",
       " 0.96031863,\n",
       " 0.51293743,\n",
       " 0.09143215,\n",
       " 0.71893382,\n",
       " 0.45850679,\n",
       " 0.58256464,\n",
       " 0.59005654,\n",
       " 0.56266457,\n",
       " 0.71600294,\n",
       " 0.87392666,\n",
       " 0.11434044,\n",
       " 0.8694668,\n",
       " 0.65669313,\n",
       " 0.10708681,\n",
       " 0.07529684,\n",
       " 0.46470767,\n",
       " 0.47984544,\n",
       " 0.65368638,\n",
       " 0.14901286,\n",
       " 0.23760688]"
      ]
     },
     "execution_count": 29,
     "metadata": {},
     "output_type": "execute_result"
    }
   ],
   "source": [
    "[e for j in b for k in j for e in k]"
   ]
  },
  {
   "cell_type": "markdown",
   "metadata": {},
   "source": [
    "### 5. Add a condition to the list comprehension above so that the last value in each subarray is printed, but only if it is less than or equal to 0.5."
   ]
  },
  {
   "cell_type": "code",
   "execution_count": 33,
   "metadata": {},
   "outputs": [
    {
     "data": {
      "text/plain": [
       "[0.51293743, 0.56266457]"
      ]
     },
     "execution_count": 33,
     "metadata": {},
     "output_type": "execute_result"
    }
   ],
   "source": [
    "[k[-1] for j in b for k in j if k[-1]>=0.5 ]"
   ]
  },
  {
   "cell_type": "markdown",
   "metadata": {},
   "source": [
    "### 6. Use a list comprehension to select and print the names of all CSV files in the */data* directory."
   ]
  },
  {
   "cell_type": "code",
   "execution_count": 51,
   "metadata": {},
   "outputs": [
    {
     "data": {
      "text/plain": [
       "['sample_file_7.csv',\n",
       " 'sample_file_4.csv',\n",
       " 'sample_file_6.csv',\n",
       " 'sample_file_2.csv',\n",
       " 'sample_file_1.csv',\n",
       " 'sample_file_3.csv',\n",
       " 'sample_file_5.csv',\n",
       " 'sample_file_8.csv',\n",
       " 'sample_file_9.csv',\n",
       " 'sample_file_0.csv']"
      ]
     },
     "execution_count": 51,
     "metadata": {},
     "output_type": "execute_result"
    }
   ],
   "source": [
    "\n",
    "[e for e in os.listdir('/home/david/ironhack/datamad0320/module-1/lab-list-comprehensions/data') if e.endswith('.csv')==True]"
   ]
  },
  {
   "cell_type": "markdown",
   "metadata": {},
   "source": [
    "### 7. Use a list comprehension and the Pandas `read_csv` and `concat` methods to read all CSV files in the */data* directory and combine them into a single data frame. Display the top 10 rows of the resulting data frame."
   ]
  },
  {
   "cell_type": "code",
   "execution_count": 50,
   "metadata": {},
   "outputs": [
    {
     "data": {
      "text/html": [
       "<div>\n",
       "<style scoped>\n",
       "    .dataframe tbody tr th:only-of-type {\n",
       "        vertical-align: middle;\n",
       "    }\n",
       "\n",
       "    .dataframe tbody tr th {\n",
       "        vertical-align: top;\n",
       "    }\n",
       "\n",
       "    .dataframe thead th {\n",
       "        text-align: right;\n",
       "    }\n",
       "</style>\n",
       "<table border=\"1\" class=\"dataframe\">\n",
       "  <thead>\n",
       "    <tr style=\"text-align: right;\">\n",
       "      <th></th>\n",
       "      <th>0</th>\n",
       "      <th>1</th>\n",
       "      <th>2</th>\n",
       "      <th>3</th>\n",
       "      <th>4</th>\n",
       "      <th>5</th>\n",
       "      <th>6</th>\n",
       "      <th>7</th>\n",
       "      <th>8</th>\n",
       "      <th>9</th>\n",
       "      <th>10</th>\n",
       "      <th>11</th>\n",
       "      <th>12</th>\n",
       "      <th>13</th>\n",
       "      <th>14</th>\n",
       "      <th>15</th>\n",
       "      <th>16</th>\n",
       "      <th>17</th>\n",
       "      <th>18</th>\n",
       "      <th>19</th>\n",
       "    </tr>\n",
       "  </thead>\n",
       "  <tbody>\n",
       "    <tr>\n",
       "      <th>0</th>\n",
       "      <td>0.460281</td>\n",
       "      <td>0.308551</td>\n",
       "      <td>0.735894</td>\n",
       "      <td>0.054059</td>\n",
       "      <td>0.593642</td>\n",
       "      <td>0.397679</td>\n",
       "      <td>0.019922</td>\n",
       "      <td>0.855673</td>\n",
       "      <td>0.339445</td>\n",
       "      <td>0.895810</td>\n",
       "      <td>0.832431</td>\n",
       "      <td>0.553308</td>\n",
       "      <td>0.617711</td>\n",
       "      <td>0.841575</td>\n",
       "      <td>0.336094</td>\n",
       "      <td>0.951907</td>\n",
       "      <td>0.050986</td>\n",
       "      <td>0.856135</td>\n",
       "      <td>0.773953</td>\n",
       "      <td>0.295344</td>\n",
       "    </tr>\n",
       "    <tr>\n",
       "      <th>1</th>\n",
       "      <td>0.065851</td>\n",
       "      <td>0.736029</td>\n",
       "      <td>0.797730</td>\n",
       "      <td>0.692722</td>\n",
       "      <td>0.167764</td>\n",
       "      <td>0.839756</td>\n",
       "      <td>0.910186</td>\n",
       "      <td>0.643328</td>\n",
       "      <td>0.371559</td>\n",
       "      <td>0.674311</td>\n",
       "      <td>0.424815</td>\n",
       "      <td>0.279397</td>\n",
       "      <td>0.015081</td>\n",
       "      <td>0.788497</td>\n",
       "      <td>0.132391</td>\n",
       "      <td>0.766033</td>\n",
       "      <td>0.708510</td>\n",
       "      <td>0.752866</td>\n",
       "      <td>0.493862</td>\n",
       "      <td>0.577262</td>\n",
       "    </tr>\n",
       "    <tr>\n",
       "      <th>2</th>\n",
       "      <td>0.671323</td>\n",
       "      <td>0.747296</td>\n",
       "      <td>0.892328</td>\n",
       "      <td>0.732902</td>\n",
       "      <td>0.065608</td>\n",
       "      <td>0.262364</td>\n",
       "      <td>0.712417</td>\n",
       "      <td>0.764379</td>\n",
       "      <td>0.017461</td>\n",
       "      <td>0.131970</td>\n",
       "      <td>0.649451</td>\n",
       "      <td>0.902157</td>\n",
       "      <td>0.034188</td>\n",
       "      <td>0.840938</td>\n",
       "      <td>0.098536</td>\n",
       "      <td>0.957824</td>\n",
       "      <td>0.566209</td>\n",
       "      <td>0.655947</td>\n",
       "      <td>0.592733</td>\n",
       "      <td>0.002596</td>\n",
       "    </tr>\n",
       "    <tr>\n",
       "      <th>3</th>\n",
       "      <td>0.445478</td>\n",
       "      <td>0.523522</td>\n",
       "      <td>0.959355</td>\n",
       "      <td>0.348292</td>\n",
       "      <td>0.761805</td>\n",
       "      <td>0.301391</td>\n",
       "      <td>0.712240</td>\n",
       "      <td>0.945462</td>\n",
       "      <td>0.139241</td>\n",
       "      <td>0.105477</td>\n",
       "      <td>0.889501</td>\n",
       "      <td>0.160828</td>\n",
       "      <td>0.400774</td>\n",
       "      <td>0.770295</td>\n",
       "      <td>0.844655</td>\n",
       "      <td>0.772798</td>\n",
       "      <td>0.584262</td>\n",
       "      <td>0.807400</td>\n",
       "      <td>0.177419</td>\n",
       "      <td>0.926007</td>\n",
       "    </tr>\n",
       "    <tr>\n",
       "      <th>4</th>\n",
       "      <td>0.291399</td>\n",
       "      <td>0.551248</td>\n",
       "      <td>0.736542</td>\n",
       "      <td>0.163562</td>\n",
       "      <td>0.451149</td>\n",
       "      <td>0.888938</td>\n",
       "      <td>0.968465</td>\n",
       "      <td>0.396090</td>\n",
       "      <td>0.681679</td>\n",
       "      <td>0.390542</td>\n",
       "      <td>0.030394</td>\n",
       "      <td>0.944077</td>\n",
       "      <td>0.366139</td>\n",
       "      <td>0.078188</td>\n",
       "      <td>0.175482</td>\n",
       "      <td>0.232489</td>\n",
       "      <td>0.806964</td>\n",
       "      <td>0.904593</td>\n",
       "      <td>0.803629</td>\n",
       "      <td>0.792851</td>\n",
       "    </tr>\n",
       "    <tr>\n",
       "      <th>0</th>\n",
       "      <td>0.901381</td>\n",
       "      <td>0.790944</td>\n",
       "      <td>0.596603</td>\n",
       "      <td>0.354721</td>\n",
       "      <td>0.357002</td>\n",
       "      <td>0.321325</td>\n",
       "      <td>0.738398</td>\n",
       "      <td>0.777885</td>\n",
       "      <td>0.775623</td>\n",
       "      <td>0.717817</td>\n",
       "      <td>0.788198</td>\n",
       "      <td>0.962214</td>\n",
       "      <td>0.394465</td>\n",
       "      <td>0.878922</td>\n",
       "      <td>0.084206</td>\n",
       "      <td>0.680941</td>\n",
       "      <td>0.992897</td>\n",
       "      <td>0.267455</td>\n",
       "      <td>0.212403</td>\n",
       "      <td>0.572150</td>\n",
       "    </tr>\n",
       "    <tr>\n",
       "      <th>1</th>\n",
       "      <td>0.763823</td>\n",
       "      <td>0.537281</td>\n",
       "      <td>0.708804</td>\n",
       "      <td>0.975269</td>\n",
       "      <td>0.053777</td>\n",
       "      <td>0.957740</td>\n",
       "      <td>0.389137</td>\n",
       "      <td>0.689829</td>\n",
       "      <td>0.510885</td>\n",
       "      <td>0.737445</td>\n",
       "      <td>0.097678</td>\n",
       "      <td>0.242906</td>\n",
       "      <td>0.073603</td>\n",
       "      <td>0.497591</td>\n",
       "      <td>0.798467</td>\n",
       "      <td>0.789078</td>\n",
       "      <td>0.947559</td>\n",
       "      <td>0.631497</td>\n",
       "      <td>0.057953</td>\n",
       "      <td>0.060306</td>\n",
       "    </tr>\n",
       "    <tr>\n",
       "      <th>2</th>\n",
       "      <td>0.571864</td>\n",
       "      <td>0.386243</td>\n",
       "      <td>0.567476</td>\n",
       "      <td>0.509283</td>\n",
       "      <td>0.552594</td>\n",
       "      <td>0.173807</td>\n",
       "      <td>0.229092</td>\n",
       "      <td>0.257945</td>\n",
       "      <td>0.313437</td>\n",
       "      <td>0.418311</td>\n",
       "      <td>0.750007</td>\n",
       "      <td>0.604759</td>\n",
       "      <td>0.234886</td>\n",
       "      <td>0.832337</td>\n",
       "      <td>0.421263</td>\n",
       "      <td>0.455785</td>\n",
       "      <td>0.893841</td>\n",
       "      <td>0.726412</td>\n",
       "      <td>0.458360</td>\n",
       "      <td>0.048740</td>\n",
       "    </tr>\n",
       "    <tr>\n",
       "      <th>3</th>\n",
       "      <td>0.956168</td>\n",
       "      <td>0.422274</td>\n",
       "      <td>0.121713</td>\n",
       "      <td>0.685208</td>\n",
       "      <td>0.713370</td>\n",
       "      <td>0.416245</td>\n",
       "      <td>0.337151</td>\n",
       "      <td>0.570693</td>\n",
       "      <td>0.435938</td>\n",
       "      <td>0.360098</td>\n",
       "      <td>0.037437</td>\n",
       "      <td>0.167545</td>\n",
       "      <td>0.847880</td>\n",
       "      <td>0.773456</td>\n",
       "      <td>0.490628</td>\n",
       "      <td>0.544232</td>\n",
       "      <td>0.954668</td>\n",
       "      <td>0.567280</td>\n",
       "      <td>0.571539</td>\n",
       "      <td>0.560742</td>\n",
       "    </tr>\n",
       "    <tr>\n",
       "      <th>4</th>\n",
       "      <td>0.121826</td>\n",
       "      <td>0.237479</td>\n",
       "      <td>0.553956</td>\n",
       "      <td>0.173660</td>\n",
       "      <td>0.354423</td>\n",
       "      <td>0.532080</td>\n",
       "      <td>0.271361</td>\n",
       "      <td>0.766006</td>\n",
       "      <td>0.607020</td>\n",
       "      <td>0.197302</td>\n",
       "      <td>0.526352</td>\n",
       "      <td>0.676571</td>\n",
       "      <td>0.473574</td>\n",
       "      <td>0.953228</td>\n",
       "      <td>0.413186</td>\n",
       "      <td>0.957242</td>\n",
       "      <td>0.642558</td>\n",
       "      <td>0.351496</td>\n",
       "      <td>0.547297</td>\n",
       "      <td>0.177401</td>\n",
       "    </tr>\n",
       "  </tbody>\n",
       "</table>\n",
       "</div>"
      ],
      "text/plain": [
       "          0         1         2         3         4         5         6  \\\n",
       "0  0.460281  0.308551  0.735894  0.054059  0.593642  0.397679  0.019922   \n",
       "1  0.065851  0.736029  0.797730  0.692722  0.167764  0.839756  0.910186   \n",
       "2  0.671323  0.747296  0.892328  0.732902  0.065608  0.262364  0.712417   \n",
       "3  0.445478  0.523522  0.959355  0.348292  0.761805  0.301391  0.712240   \n",
       "4  0.291399  0.551248  0.736542  0.163562  0.451149  0.888938  0.968465   \n",
       "0  0.901381  0.790944  0.596603  0.354721  0.357002  0.321325  0.738398   \n",
       "1  0.763823  0.537281  0.708804  0.975269  0.053777  0.957740  0.389137   \n",
       "2  0.571864  0.386243  0.567476  0.509283  0.552594  0.173807  0.229092   \n",
       "3  0.956168  0.422274  0.121713  0.685208  0.713370  0.416245  0.337151   \n",
       "4  0.121826  0.237479  0.553956  0.173660  0.354423  0.532080  0.271361   \n",
       "\n",
       "          7         8         9        10        11        12        13  \\\n",
       "0  0.855673  0.339445  0.895810  0.832431  0.553308  0.617711  0.841575   \n",
       "1  0.643328  0.371559  0.674311  0.424815  0.279397  0.015081  0.788497   \n",
       "2  0.764379  0.017461  0.131970  0.649451  0.902157  0.034188  0.840938   \n",
       "3  0.945462  0.139241  0.105477  0.889501  0.160828  0.400774  0.770295   \n",
       "4  0.396090  0.681679  0.390542  0.030394  0.944077  0.366139  0.078188   \n",
       "0  0.777885  0.775623  0.717817  0.788198  0.962214  0.394465  0.878922   \n",
       "1  0.689829  0.510885  0.737445  0.097678  0.242906  0.073603  0.497591   \n",
       "2  0.257945  0.313437  0.418311  0.750007  0.604759  0.234886  0.832337   \n",
       "3  0.570693  0.435938  0.360098  0.037437  0.167545  0.847880  0.773456   \n",
       "4  0.766006  0.607020  0.197302  0.526352  0.676571  0.473574  0.953228   \n",
       "\n",
       "         14        15        16        17        18        19  \n",
       "0  0.336094  0.951907  0.050986  0.856135  0.773953  0.295344  \n",
       "1  0.132391  0.766033  0.708510  0.752866  0.493862  0.577262  \n",
       "2  0.098536  0.957824  0.566209  0.655947  0.592733  0.002596  \n",
       "3  0.844655  0.772798  0.584262  0.807400  0.177419  0.926007  \n",
       "4  0.175482  0.232489  0.806964  0.904593  0.803629  0.792851  \n",
       "0  0.084206  0.680941  0.992897  0.267455  0.212403  0.572150  \n",
       "1  0.798467  0.789078  0.947559  0.631497  0.057953  0.060306  \n",
       "2  0.421263  0.455785  0.893841  0.726412  0.458360  0.048740  \n",
       "3  0.490628  0.544232  0.954668  0.567280  0.571539  0.560742  \n",
       "4  0.413186  0.957242  0.642558  0.351496  0.547297  0.177401  "
      ]
     },
     "execution_count": 50,
     "metadata": {},
     "output_type": "execute_result"
    }
   ],
   "source": [
    "os.chdir('/home/david/ironhack/datamad0320/module-1/lab-list-comprehensions/data')\n",
    "lista1=[pd.read_csv(e) for e in os.listdir() if e.endswith('.csv')==True]\n",
    "df=pd.concat(lista1)\n",
    "\n",
    "df.head(10)"
   ]
  },
  {
   "cell_type": "markdown",
   "metadata": {},
   "source": [
    "### 8. Use a list comprehension to select and print the column numbers for columns from the data set whose median is less than 0.48."
   ]
  },
  {
   "cell_type": "code",
   "execution_count": 53,
   "metadata": {},
   "outputs": [
    {
     "ename": "TypeError",
     "evalue": "'Index' object is not callable",
     "output_type": "error",
     "traceback": [
      "\u001b[0;31m---------------------------------------------------------------------------\u001b[0m",
      "\u001b[0;31mTypeError\u001b[0m                                 Traceback (most recent call last)",
      "\u001b[0;32m<ipython-input-53-8f421487bf25>\u001b[0m in \u001b[0;36m<module>\u001b[0;34m()\u001b[0m\n\u001b[0;32m----> 1\u001b[0;31m \u001b[0;34m[\u001b[0m\u001b[0mi\u001b[0m \u001b[0;32mfor\u001b[0m \u001b[0mi\u001b[0m \u001b[0;32min\u001b[0m \u001b[0mdf\u001b[0m\u001b[0;34m.\u001b[0m\u001b[0mcolumns\u001b[0m\u001b[0;34m(\u001b[0m\u001b[0;34m)\u001b[0m\u001b[0;34m]\u001b[0m\u001b[0;34m\u001b[0m\u001b[0;34m\u001b[0m\u001b[0m\n\u001b[0m",
      "\u001b[0;31mTypeError\u001b[0m: 'Index' object is not callable"
     ]
    }
   ],
   "source": []
  },
  {
   "cell_type": "markdown",
   "metadata": {},
   "source": [
    "### 9. Use a list comprehension to add a new column (20) to the data frame whose values are the values in column 19 minus 0.1. Display the top 10 rows of the resulting data frame."
   ]
  },
  {
   "cell_type": "code",
   "execution_count": null,
   "metadata": {},
   "outputs": [],
   "source": []
  },
  {
   "cell_type": "markdown",
   "metadata": {},
   "source": [
    "### 10. Use a list comprehension to extract and print all values from the data set that are between 0.7 and 0.75."
   ]
  },
  {
   "cell_type": "code",
   "execution_count": null,
   "metadata": {},
   "outputs": [],
   "source": []
  }
 ],
 "metadata": {
  "kernelspec": {
   "display_name": "Python 3",
   "language": "python",
   "name": "python3"
  },
  "language_info": {
   "codemirror_mode": {
    "name": "ipython",
    "version": 3
   },
   "file_extension": ".py",
   "mimetype": "text/x-python",
   "name": "python",
   "nbconvert_exporter": "python",
   "pygments_lexer": "ipython3",
   "version": "3.6.9"
  }
 },
 "nbformat": 4,
 "nbformat_minor": 2
}
