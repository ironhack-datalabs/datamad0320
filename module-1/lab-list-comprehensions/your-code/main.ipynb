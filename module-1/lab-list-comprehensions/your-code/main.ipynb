{
 "cells": [
  {
   "cell_type": "markdown",
   "metadata": {},
   "source": [
    "# List Comprehensions Lab\n",
    "\n",
    "Complete the following set of exercises to solidify your knowledge of list comprehensions."
   ]
  },
  {
   "cell_type": "code",
   "execution_count": 1,
   "metadata": {},
   "outputs": [],
   "source": [
    "import os\n",
    "import numpy as np\n",
    "import pandas as pd\n",
    "\n",
    "#from os import listdir\n",
    "#from os.path import isfile, join"
   ]
  },
  {
   "cell_type": "markdown",
   "metadata": {},
   "source": [
    "### 1. Use a list comprehension to create and print a list of consecutive integers starting with 1 and ending with 50."
   ]
  },
  {
   "cell_type": "code",
   "execution_count": 2,
   "metadata": {},
   "outputs": [
    {
     "name": "stdout",
     "output_type": "stream",
     "text": [
      "[1, 2, 3, 4, 5, 6, 7, 8, 9, 10, 11, 12, 13, 14, 15, 16, 17, 18, 19, 20, 21, 22, 23, 24, 25, 26, 27, 28, 29, 30, 31, 32, 33, 34, 35, 36, 37, 38, 39, 40, 41, 42, 43, 44, 45, 46, 47, 48, 49, 50]\n"
     ]
    }
   ],
   "source": [
    "print([e for e in range(1,51)])"
   ]
  },
  {
   "cell_type": "markdown",
   "metadata": {},
   "source": [
    "### 2. Use a list comprehension to create and print a list of even numbers starting with 2 and ending with 200."
   ]
  },
  {
   "cell_type": "code",
   "execution_count": 3,
   "metadata": {},
   "outputs": [
    {
     "name": "stdout",
     "output_type": "stream",
     "text": [
      "[2, 4, 6, 8, 10, 12, 14, 16, 18, 20, 22, 24, 26, 28, 30, 32, 34, 36, 38, 40, 42, 44, 46, 48, 50, 52, 54, 56, 58, 60, 62, 64, 66, 68, 70, 72, 74, 76, 78, 80, 82, 84, 86, 88, 90, 92, 94, 96, 98, 100, 102, 104, 106, 108, 110, 112, 114, 116, 118, 120, 122, 124, 126, 128, 130, 132, 134, 136, 138, 140, 142, 144, 146, 148, 150, 152, 154, 156, 158, 160, 162, 164, 166, 168, 170, 172, 174, 176, 178, 180, 182, 184, 186, 188, 190, 192, 194, 196, 198, 200]\n"
     ]
    }
   ],
   "source": [
    "print([e for e in range(2,201) if e%2==0])"
   ]
  },
  {
   "cell_type": "markdown",
   "metadata": {},
   "source": [
    "### 3. Use a list comprehension to create and print a list containing all elements of the 10 x 4 Numpy array below."
   ]
  },
  {
   "cell_type": "code",
   "execution_count": 4,
   "metadata": {},
   "outputs": [],
   "source": [
    "a = np.array([[0.84062117, 0.48006452, 0.7876326 , 0.77109654],\n",
    "       [0.44409793, 0.09014516, 0.81835917, 0.87645456],\n",
    "       [0.7066597 , 0.09610873, 0.41247947, 0.57433389],\n",
    "       [0.29960807, 0.42315023, 0.34452557, 0.4751035 ],\n",
    "       [0.17003563, 0.46843998, 0.92796258, 0.69814654],\n",
    "       [0.41290051, 0.19561071, 0.16284783, 0.97016248],\n",
    "       [0.71725408, 0.87702738, 0.31244595, 0.76615487],\n",
    "       [0.20754036, 0.57871812, 0.07214068, 0.40356048],\n",
    "       [0.12149553, 0.53222417, 0.9976855 , 0.12536346],\n",
    "       [0.80930099, 0.50962849, 0.94555126, 0.33364763]])"
   ]
  },
  {
   "cell_type": "code",
   "execution_count": 5,
   "metadata": {},
   "outputs": [
    {
     "name": "stdout",
     "output_type": "stream",
     "text": [
      "[[0.84062117, 0.48006452, 0.7876326, 0.77109654], [0.44409793, 0.09014516, 0.81835917, 0.87645456], [0.7066597, 0.09610873, 0.41247947, 0.57433389], [0.29960807, 0.42315023, 0.34452557, 0.4751035], [0.17003563, 0.46843998, 0.92796258, 0.69814654], [0.41290051, 0.19561071, 0.16284783, 0.97016248], [0.71725408, 0.87702738, 0.31244595, 0.76615487], [0.20754036, 0.57871812, 0.07214068, 0.40356048], [0.12149553, 0.53222417, 0.9976855, 0.12536346], [0.80930099, 0.50962849, 0.94555126, 0.33364763]]\n"
     ]
    }
   ],
   "source": [
    "print([list(e) for e in a])"
   ]
  },
  {
   "cell_type": "markdown",
   "metadata": {},
   "source": [
    "### 4. Add a condition to the list comprehension above so that only values greater than or equal to 0.5 are printed."
   ]
  },
  {
   "cell_type": "code",
   "execution_count": 6,
   "metadata": {},
   "outputs": [
    {
     "name": "stdout",
     "output_type": "stream",
     "text": [
      "[0.84062117, 0.7876326, 0.77109654, 0.81835917, 0.87645456, 0.7066597, 0.57433389, 0.92796258, 0.69814654, 0.97016248, 0.71725408, 0.87702738, 0.76615487, 0.57871812, 0.53222417, 0.9976855, 0.80930099, 0.50962849, 0.94555126]\n"
     ]
    }
   ],
   "source": [
    "print([num for e in a for num in e if num>0.5])"
   ]
  },
  {
   "cell_type": "markdown",
   "metadata": {},
   "source": [
    "### 5. Use a list comprehension to create and print a list containing all elements of the 5 x 2 x 3 Numpy array below."
   ]
  },
  {
   "cell_type": "code",
   "execution_count": 7,
   "metadata": {},
   "outputs": [],
   "source": [
    "b = np.array([[[0.55867166, 0.06210792, 0.08147297],\n",
    "        [0.82579068, 0.91512478, 0.06833034]],\n",
    "\n",
    "       [[0.05440634, 0.65857693, 0.30296619],\n",
    "        [0.06769833, 0.96031863, 0.51293743]],\n",
    "\n",
    "       [[0.09143215, 0.71893382, 0.45850679],\n",
    "        [0.58256464, 0.59005654, 0.56266457]],\n",
    "\n",
    "       [[0.71600294, 0.87392666, 0.11434044],\n",
    "        [0.8694668 , 0.65669313, 0.10708681]],\n",
    "\n",
    "       [[0.07529684, 0.46470767, 0.47984544],\n",
    "        [0.65368638, 0.14901286, 0.23760688]]])"
   ]
  },
  {
   "cell_type": "code",
   "execution_count": 8,
   "metadata": {},
   "outputs": [
    {
     "name": "stdout",
     "output_type": "stream",
     "text": [
      "[[0.55867166, 0.06210792, 0.08147297], [0.82579068, 0.91512478, 0.06833034], [0.05440634, 0.65857693, 0.30296619], [0.06769833, 0.96031863, 0.51293743], [0.09143215, 0.71893382, 0.45850679], [0.58256464, 0.59005654, 0.56266457], [0.71600294, 0.87392666, 0.11434044], [0.8694668, 0.65669313, 0.10708681], [0.07529684, 0.46470767, 0.47984544], [0.65368638, 0.14901286, 0.23760688]]\n"
     ]
    }
   ],
   "source": [
    "print([list(array) for lista in b for array in lista])"
   ]
  },
  {
   "cell_type": "markdown",
   "metadata": {},
   "source": [
    "### 5. Add a condition to the list comprehension above so that the last value in each subarray is printed, but only if it is less than or equal to 0.5."
   ]
  },
  {
   "cell_type": "code",
   "execution_count": 9,
   "metadata": {},
   "outputs": [
    {
     "name": "stdout",
     "output_type": "stream",
     "text": [
      "[0.08147297, 0.06833034, 0.30296619, 0.45850679, 0.11434044, 0.10708681, 0.47984544, 0.23760688]\n"
     ]
    }
   ],
   "source": [
    "print([row[2] for row in [list(array) for lista in b for array in lista] if row[2]<=0.5])"
   ]
  },
  {
   "cell_type": "markdown",
   "metadata": {},
   "source": [
    "### 6. Use a list comprehension to select and print the names of all CSV files in the */data* directory."
   ]
  },
  {
   "cell_type": "code",
   "execution_count": 44,
   "metadata": {},
   "outputs": [
    {
     "data": {
      "text/plain": [
       "[['demo', '.DS_Store', 'final-project-template.md', 'README.md'],\n",
       " ['create-request.png',\n",
       "  'ui-merge.png',\n",
       "  'github-create-token.png',\n",
       "  'resolve-conflicts.png',\n",
       "  'git-conflict.png',\n",
       "  'ui-resolved.png',\n",
       "  'git-menu.png',\n",
       "  'conflict-resolved.png',\n",
       "  'master-merging.png',\n",
       "  'new-file.png'],\n",
       " ['lab-probability-distribution',\n",
       "  'lab-survival-analysis',\n",
       "  'lab-pivot-table-and-correlation',\n",
       "  'lab-subsetting-and-descriptive-stats',\n",
       "  'python-bi-project',\n",
       "  'lab-bi-analysis-with-tableau',\n",
       "  'lab-advanced-pandas',\n",
       "  'lab-intro-to-bi-and-tableau',\n",
       "  'lab-time-series',\n",
       "  'lab-storytelling-data-visualization',\n",
       "  'lab-recommender-deepdive',\n",
       "  '.gitkeep',\n",
       "  'statistical-analysis-project',\n",
       "  'lab-plotting-multiple-data-series',\n",
       "  'lab-poker-master',\n",
       "  'lab-intro-recommender-systems',\n",
       "  'lab-interactive-visualization',\n",
       "  'lab-network-analysis',\n",
       "  'lab-two-sample-hypothesis-tests',\n",
       "  'lab-pca',\n",
       "  'lab-hypothesis-testing',\n",
       "  'lab-continuous-probability-distribution',\n",
       "  'tableau-project',\n",
       "  'lab-pandas-deep-dive',\n",
       "  'lab-discrete-probability-distribution',\n",
       "  'lab-bayesian-statistics',\n",
       "  'lab-tableau-data-visualization',\n",
       "  'lab-intro-to-scipy',\n",
       "  'lab-advance-querying-mongo',\n",
       "  'lab-bash',\n",
       "  'lab-matplotlib-seaborn',\n",
       "  'lab-correlation-tests-with-scipy',\n",
       "  'lab-df-calculation-and-transformation',\n",
       "  'lab-regression-analysis',\n",
       "  'visualizing-real-world-data-project'],\n",
       " ['lab-nlp',\n",
       "  'lab-unsupervised-learning-evaluation',\n",
       "  'supervised-learning-project',\n",
       "  'lab-supervised-learning-evaluation',\n",
       "  'lab-supervised-learning',\n",
       "  'lab-supervised-model-evaluation',\n",
       "  'lab-sklearn-and-unsupervised-learning',\n",
       "  '.DS_Store',\n",
       "  'unsupervised-learning-project',\n",
       "  'lab-neural-networks',\n",
       "  'lab-intro-to-sklearn',\n",
       "  '.gitkeep',\n",
       "  'lab-intro-to-ml',\n",
       "  'machine-learning-pipeline-project',\n",
       "  'lab-apache-spark',\n",
       "  'lab-supervised-learning-feature-extraction',\n",
       "  'lab-unsupervised-learning',\n",
       "  'lab-supervised-learning-sklearn'],\n",
       " ['lab-advanced-mysql',\n",
       "  'python-project',\n",
       "  'lab-web-scraping',\n",
       "  '.DS_Store',\n",
       "  'lab-import-export',\n",
       "  'lab-string-operations',\n",
       "  'lab-generators-functions',\n",
       "  'lab-api-scavenger-game',\n",
       "  'lab-numpy',\n",
       "  'lab-lambda-functions',\n",
       "  'lab-resolving-git-conflicts',\n",
       "  '.gitkeep',\n",
       "  'lab-errhand_listcomp',\n",
       "  'pipelines-project',\n",
       "  'lab-data_cleaning',\n",
       "  'lab-list-comprehensions',\n",
       "  'lab-intro-pandas',\n",
       "  'lab-code-simplicity-efficiency',\n",
       "  'lab-parsing-api',\n",
       "  'lab-mysql',\n",
       "  '.gitignore',\n",
       "  'lab-error-handling',\n",
       "  'lab-tuple-set-dict',\n",
       "  'lab-data-vikings',\n",
       "  'lab-job-board-scraping',\n",
       "  'pandas-project',\n",
       "  'lab-advanced-web-scraping',\n",
       "  'lab-mysql-select',\n",
       "  'web-project',\n",
       "  'lab-advanced-regex',\n",
       "  'lab-functional-programming',\n",
       "  'lab-parallelization',\n",
       "  'lab-object-oriented-programming',\n",
       "  'lab-rss',\n",
       "  'lab-map-reduce-filter'],\n",
       " ['ORIG_HEAD',\n",
       "  'config',\n",
       "  'objects',\n",
       "  'HEAD',\n",
       "  'info',\n",
       "  'logs',\n",
       "  'description',\n",
       "  'hooks',\n",
       "  'refs',\n",
       "  'index',\n",
       "  'packed-refs',\n",
       "  'COMMIT_EDITMSG',\n",
       "  'FETCH_HEAD']]"
      ]
     },
     "execution_count": 44,
     "metadata": {},
     "output_type": "execute_result"
    }
   ],
   "source": [
    "[f3 for f2 in [os.listdir(\"../../../\"+f) for f in os.listdir(\"../../../\") if os.path.isdir(\"../../../\"+f)]  for f3 in f2 if f3.endswith('.csv')]\n",
    "\n",
    "[os.listdir(\"../../../\"+f) for f in os.listdir(\"../../../\") if os.path.isdir(\"../../../\"+f)] "
   ]
  },
  {
   "cell_type": "markdown",
   "metadata": {},
   "source": [
    "### 7. Use a list comprehension and the Pandas `read_csv` and `concat` methods to read all CSV files in the */data* directory and combine them into a single data frame. Display the top 10 rows of the resulting data frame."
   ]
  },
  {
   "cell_type": "code",
   "execution_count": null,
   "metadata": {},
   "outputs": [],
   "source": []
  },
  {
   "cell_type": "markdown",
   "metadata": {},
   "source": [
    "### 8. Use a list comprehension to select and print the column numbers for columns from the data set whose median is less than 0.48."
   ]
  },
  {
   "cell_type": "code",
   "execution_count": null,
   "metadata": {},
   "outputs": [],
   "source": []
  },
  {
   "cell_type": "markdown",
   "metadata": {},
   "source": [
    "### 9. Use a list comprehension to add a new column (20) to the data frame whose values are the values in column 19 minus 0.1. Display the top 10 rows of the resulting data frame."
   ]
  },
  {
   "cell_type": "code",
   "execution_count": null,
   "metadata": {},
   "outputs": [],
   "source": []
  },
  {
   "cell_type": "markdown",
   "metadata": {},
   "source": [
    "### 10. Use a list comprehension to extract and print all values from the data set that are between 0.7 and 0.75."
   ]
  },
  {
   "cell_type": "code",
   "execution_count": null,
   "metadata": {},
   "outputs": [],
   "source": []
  }
 ],
 "metadata": {
  "kernelspec": {
   "display_name": "analytics_env",
   "language": "python",
   "name": "analytics_env"
  },
  "language_info": {
   "codemirror_mode": {
    "name": "ipython",
    "version": 3
   },
   "file_extension": ".py",
   "mimetype": "text/x-python",
   "name": "python",
   "nbconvert_exporter": "python",
   "pygments_lexer": "ipython3",
   "version": "3.8.1"
  }
 },
 "nbformat": 4,
 "nbformat_minor": 2
}
