{
 "cells": [
  {
   "cell_type": "markdown",
   "metadata": {},
   "source": [
    "# List Comprehensions Lab\n",
    "\n",
    "Complete the following set of exercises to solidify your knowledge of list comprehensions."
   ]
  },
  {
   "cell_type": "code",
   "execution_count": 6,
   "metadata": {},
   "outputs": [],
   "source": [
    "import os\n",
    "import numpy as np\n",
    "import pandas as pd"
   ]
  },
  {
   "cell_type": "markdown",
   "metadata": {},
   "source": [
    "### 1. Use a list comprehension to create and print a list of consecutive integers starting with 1 and ending with 50."
   ]
  },
  {
   "cell_type": "code",
   "execution_count": 1,
   "metadata": {},
   "outputs": [
    {
     "name": "stdout",
     "output_type": "stream",
     "text": [
      "[1, 2, 3, 4, 5, 6, 7, 8, 9, 10, 11, 12, 13, 14, 15, 16, 17, 18, 19, 20, 21, 22, 23, 24, 25, 26, 27, 28, 29, 30, 31, 32, 33, 34, 35, 36, 37, 38, 39, 40, 41, 42, 43, 44, 45, 46, 47, 48, 49, 50]\n"
     ]
    }
   ],
   "source": [
    "list1 = [i for i in range(1,51)]\n",
    "print(list1)"
   ]
  },
  {
   "cell_type": "markdown",
   "metadata": {},
   "source": [
    "### 2. Use a list comprehension to create and print a list of even numbers starting with 2 and ending with 200."
   ]
  },
  {
   "cell_type": "code",
   "execution_count": 5,
   "metadata": {},
   "outputs": [
    {
     "name": "stdout",
     "output_type": "stream",
     "text": [
      "[2, 4, 6, 8, 10, 12, 14, 16, 18, 20, 22, 24, 26, 28, 30, 32, 34, 36, 38, 40, 42, 44, 46, 48, 50, 52, 54, 56, 58, 60, 62, 64, 66, 68, 70, 72, 74, 76, 78, 80, 82, 84, 86, 88, 90, 92, 94, 96, 98, 100, 102, 104, 106, 108, 110, 112, 114, 116, 118, 120, 122, 124, 126, 128, 130, 132, 134, 136, 138, 140, 142, 144, 146, 148, 150, 152, 154, 156, 158, 160, 162, 164, 166, 168, 170, 172, 174, 176, 178, 180, 182, 184, 186, 188, 190, 192, 194, 196, 198]\n"
     ]
    }
   ],
   "source": [
    "list2 = [i for i in range(1,200) if i%2==0]\n",
    "print(list2)"
   ]
  },
  {
   "cell_type": "markdown",
   "metadata": {},
   "source": [
    "### 3. Use a list comprehension to create and print a list containing all elements of the 10 x 4 Numpy array below."
   ]
  },
  {
   "cell_type": "code",
   "execution_count": 94,
   "metadata": {},
   "outputs": [],
   "source": [
    "a = np.array([[0.84062117, 0.48006452, 0.7876326 , 0.77109654],\n",
    "       [0.44409793, 0.09014516, 0.81835917, 0.87645456],\n",
    "       [0.7066597 , 0.09610873, 0.41247947, 0.57433389],\n",
    "       [0.29960807, 0.42315023, 0.34452557, 0.4751035 ],\n",
    "       [0.17003563, 0.46843998, 0.92796258, 0.69814654],\n",
    "       [0.41290051, 0.19561071, 0.16284783, 0.97016248],\n",
    "       [0.71725408, 0.87702738, 0.31244595, 0.76615487],\n",
    "       [0.20754036, 0.57871812, 0.07214068, 0.40356048],\n",
    "       [0.12149553, 0.53222417, 0.9976855 , 0.12536346],\n",
    "       [0.80930099, 0.50962849, 0.94555126, 0.33364763]])"
   ]
  },
  {
   "cell_type": "code",
   "execution_count": 98,
   "metadata": {
    "scrolled": true
   },
   "outputs": [
    {
     "name": "stdout",
     "output_type": "stream",
     "text": [
      "[0.84062117, 0.48006452, 0.7876326, 0.77109654, 0.44409793, 0.09014516, 0.81835917, 0.87645456, 0.7066597, 0.09610873, 0.41247947, 0.57433389, 0.29960807, 0.42315023, 0.34452557, 0.4751035, 0.17003563, 0.46843998, 0.92796258, 0.69814654, 0.41290051, 0.19561071, 0.16284783, 0.97016248, 0.71725408, 0.87702738, 0.31244595, 0.76615487, 0.20754036, 0.57871812, 0.07214068, 0.40356048, 0.12149553, 0.53222417, 0.9976855, 0.12536346, 0.80930099, 0.50962849, 0.94555126, 0.33364763] 40\n",
      "[ True  True  True  True  True  True  True  True  True  True  True  True\n",
      "  True  True  True  True  True  True  True  True  True  True  True  True\n",
      "  True  True  True  True  True  True  True  True  True  True  True  True\n",
      "  True  True  True  True]\n"
     ]
    }
   ],
   "source": [
    "# list3 = [elem for peq in grande for elem in peq]      # EJEMPLO CLARA \n",
    "\n",
    "list3 = [elem for peq in a for elem in peq ]\n",
    "\n",
    "print(list3, len(list3))\n",
    "print(list3 == a.flatten())"
   ]
  },
  {
   "cell_type": "markdown",
   "metadata": {},
   "source": [
    "### 4. Add a condition to the list comprehension above so that only values greater than or equal to 0.5 are printed."
   ]
  },
  {
   "cell_type": "code",
   "execution_count": 100,
   "metadata": {},
   "outputs": [
    {
     "name": "stdout",
     "output_type": "stream",
     "text": [
      "[0.84062117, 0.7876326, 0.77109654, 0.81835917, 0.87645456, 0.7066597, 0.57433389, 0.92796258, 0.69814654, 0.97016248, 0.71725408, 0.87702738, 0.76615487, 0.57871812, 0.53222417, 0.9976855, 0.80930099, 0.50962849, 0.94555126] 19\n"
     ]
    }
   ],
   "source": [
    "#list4 = [e for e in a.flatten() if e >= 0.5]\n",
    "list4 = [e for p in a for e in p if e >= 0.5]\n",
    "print(list4, len(list4))"
   ]
  },
  {
   "cell_type": "markdown",
   "metadata": {},
   "source": [
    "### 5. Use a list comprehension to create and print a list containing all elements of the 5 x 2 x 3 Numpy array below."
   ]
  },
  {
   "cell_type": "code",
   "execution_count": 138,
   "metadata": {},
   "outputs": [],
   "source": [
    "b = np.array([[[0.55867166, 0.06210792, 0.08147297],\n",
    "        [0.82579068, 0.91512478, 0.06833034]],\n",
    "\n",
    "       [[0.05440634, 0.65857693, 0.30296619],\n",
    "        [0.06769833, 0.96031863, 0.51293743]],\n",
    "\n",
    "       [[0.09143215, 0.71893382, 0.45850679],\n",
    "        [0.58256464, 0.59005654, 0.56266457]],\n",
    "\n",
    "       [[0.71600294, 0.87392666, 0.11434044],\n",
    "        [0.8694668 , 0.65669313, 0.10708681]],\n",
    "\n",
    "       [[0.07529684, 0.46470767, 0.47984544],\n",
    "        [0.65368638, 0.14901286, 0.23760688]]])"
   ]
  },
  {
   "cell_type": "code",
   "execution_count": 111,
   "metadata": {},
   "outputs": [
    {
     "name": "stdout",
     "output_type": "stream",
     "text": [
      "[0.55867166, 0.06210792, 0.08147297, 0.82579068, 0.91512478, 0.06833034, 0.05440634, 0.65857693, 0.30296619, 0.06769833, 0.96031863, 0.51293743, 0.09143215, 0.71893382, 0.45850679, 0.58256464, 0.59005654, 0.56266457, 0.71600294, 0.87392666, 0.11434044, 0.8694668, 0.65669313, 0.10708681, 0.07529684, 0.46470767, 0.47984544, 0.65368638, 0.14901286, 0.23760688] 30\n"
     ]
    }
   ],
   "source": [
    "list5 = [elem for mediano in b for peq in mediano for elem in peq]     # EJEMPLO CLARA \n",
    "print(list5, len(list5))"
   ]
  },
  {
   "cell_type": "markdown",
   "metadata": {},
   "source": [
    "### 5. Add a condition to the list comprehension above so that the last value in each subarray is printed, but only if it is less than or equal to 0.5."
   ]
  },
  {
   "cell_type": "code",
   "execution_count": 137,
   "metadata": {},
   "outputs": [
    {
     "name": "stdout",
     "output_type": "stream",
     "text": [
      "[0.08147297, 0.06833034, 0.30296619, 0.45850679, 0.11434044, 0.10708681, 0.47984544, 0.23760688] 8\n"
     ]
    }
   ],
   "source": [
    "list6 = [peq[-1]\n",
    "         for mediano in b \n",
    "         for peq in mediano\n",
    "         if peq[-1] <= 0.5]\n",
    "print(list6, len(list6))"
   ]
  },
  {
   "cell_type": "markdown",
   "metadata": {},
   "source": [
    "### 6. Use a list comprehension to select and print the names of all CSV files in the */data* directory."
   ]
  },
  {
   "cell_type": "code",
   "execution_count": 148,
   "metadata": {},
   "outputs": [
    {
     "name": "stdout",
     "output_type": "stream",
     "text": [
      "['sample_file_6.csv', 'sample_file_7.csv', 'sample_file_3.csv', 'sample_file_5.csv', 'sample_file_0.csv', 'sample_file_9.csv', 'sample_file_2.csv', 'sample_file_1.csv', 'sample_file_4.csv', 'sample_file_8.csv']\n"
     ]
    }
   ],
   "source": [
    "list7 = [file for file in os.listdir(path=\"../data/\") if file.endswith('csv')]\n",
    "print(list7)"
   ]
  },
  {
   "cell_type": "markdown",
   "metadata": {},
   "source": [
    "### 7. Use a list comprehension and the Pandas `read_csv` and `concat` methods to read all CSV files in the */data* directory and combine them into a single data frame. Display the top 10 rows of the resulting data frame."
   ]
  },
  {
   "cell_type": "code",
   "execution_count": 214,
   "metadata": {},
   "outputs": [
    {
     "name": "stdout",
     "output_type": "stream",
     "text": [
      "['../data/sample_file_6.csv', '../data/sample_file_7.csv', '../data/sample_file_3.csv', '../data/sample_file_5.csv', '../data/sample_file_0.csv', '../data/sample_file_9.csv', '../data/sample_file_2.csv', '../data/sample_file_1.csv', '../data/sample_file_4.csv', '../data/sample_file_8.csv']\n"
     ]
    },
    {
     "data": {
      "text/html": [
       "<div>\n",
       "<style scoped>\n",
       "    .dataframe tbody tr th:only-of-type {\n",
       "        vertical-align: middle;\n",
       "    }\n",
       "\n",
       "    .dataframe tbody tr th {\n",
       "        vertical-align: top;\n",
       "    }\n",
       "\n",
       "    .dataframe thead th {\n",
       "        text-align: right;\n",
       "    }\n",
       "</style>\n",
       "<table border=\"1\" class=\"dataframe\">\n",
       "  <thead>\n",
       "    <tr style=\"text-align: right;\">\n",
       "      <th></th>\n",
       "      <th>0</th>\n",
       "      <th>1</th>\n",
       "      <th>2</th>\n",
       "      <th>3</th>\n",
       "      <th>4</th>\n",
       "      <th>5</th>\n",
       "      <th>6</th>\n",
       "      <th>7</th>\n",
       "      <th>8</th>\n",
       "      <th>9</th>\n",
       "      <th>10</th>\n",
       "      <th>11</th>\n",
       "      <th>12</th>\n",
       "      <th>13</th>\n",
       "      <th>14</th>\n",
       "      <th>15</th>\n",
       "      <th>16</th>\n",
       "      <th>17</th>\n",
       "      <th>18</th>\n",
       "      <th>19</th>\n",
       "    </tr>\n",
       "  </thead>\n",
       "  <tbody>\n",
       "    <tr>\n",
       "      <th>0</th>\n",
       "      <td>0.702566</td>\n",
       "      <td>0.092336</td>\n",
       "      <td>0.245083</td>\n",
       "      <td>0.918402</td>\n",
       "      <td>0.695110</td>\n",
       "      <td>0.886921</td>\n",
       "      <td>0.588605</td>\n",
       "      <td>0.950970</td>\n",
       "      <td>0.168079</td>\n",
       "      <td>0.783107</td>\n",
       "      <td>0.698836</td>\n",
       "      <td>0.120857</td>\n",
       "      <td>0.207432</td>\n",
       "      <td>0.824789</td>\n",
       "      <td>0.349212</td>\n",
       "      <td>0.818606</td>\n",
       "      <td>0.376941</td>\n",
       "      <td>0.886644</td>\n",
       "      <td>0.472826</td>\n",
       "      <td>0.551858</td>\n",
       "    </tr>\n",
       "    <tr>\n",
       "      <th>1</th>\n",
       "      <td>0.177005</td>\n",
       "      <td>0.649551</td>\n",
       "      <td>0.467321</td>\n",
       "      <td>0.449597</td>\n",
       "      <td>0.458872</td>\n",
       "      <td>0.815586</td>\n",
       "      <td>0.455132</td>\n",
       "      <td>0.729812</td>\n",
       "      <td>0.998528</td>\n",
       "      <td>0.048724</td>\n",
       "      <td>0.377391</td>\n",
       "      <td>0.729498</td>\n",
       "      <td>0.721515</td>\n",
       "      <td>0.566724</td>\n",
       "      <td>0.338366</td>\n",
       "      <td>0.877239</td>\n",
       "      <td>0.129824</td>\n",
       "      <td>0.773155</td>\n",
       "      <td>0.485385</td>\n",
       "      <td>0.686294</td>\n",
       "    </tr>\n",
       "    <tr>\n",
       "      <th>2</th>\n",
       "      <td>0.689556</td>\n",
       "      <td>0.445586</td>\n",
       "      <td>0.005691</td>\n",
       "      <td>0.150171</td>\n",
       "      <td>0.554146</td>\n",
       "      <td>0.492320</td>\n",
       "      <td>0.185612</td>\n",
       "      <td>0.060855</td>\n",
       "      <td>0.457443</td>\n",
       "      <td>0.847337</td>\n",
       "      <td>0.603072</td>\n",
       "      <td>0.346574</td>\n",
       "      <td>0.898464</td>\n",
       "      <td>0.482963</td>\n",
       "      <td>0.443979</td>\n",
       "      <td>0.430132</td>\n",
       "      <td>0.713078</td>\n",
       "      <td>0.302786</td>\n",
       "      <td>0.051382</td>\n",
       "      <td>0.203699</td>\n",
       "    </tr>\n",
       "    <tr>\n",
       "      <th>3</th>\n",
       "      <td>0.047188</td>\n",
       "      <td>0.854596</td>\n",
       "      <td>0.833368</td>\n",
       "      <td>0.043878</td>\n",
       "      <td>0.883505</td>\n",
       "      <td>0.786302</td>\n",
       "      <td>0.980916</td>\n",
       "      <td>0.004030</td>\n",
       "      <td>0.619601</td>\n",
       "      <td>0.547769</td>\n",
       "      <td>0.160962</td>\n",
       "      <td>0.545281</td>\n",
       "      <td>0.931623</td>\n",
       "      <td>0.991855</td>\n",
       "      <td>0.821099</td>\n",
       "      <td>0.654592</td>\n",
       "      <td>0.346710</td>\n",
       "      <td>0.183948</td>\n",
       "      <td>0.372739</td>\n",
       "      <td>0.739383</td>\n",
       "    </tr>\n",
       "    <tr>\n",
       "      <th>4</th>\n",
       "      <td>0.936065</td>\n",
       "      <td>0.725831</td>\n",
       "      <td>0.184239</td>\n",
       "      <td>0.677391</td>\n",
       "      <td>0.242726</td>\n",
       "      <td>0.125457</td>\n",
       "      <td>0.356254</td>\n",
       "      <td>0.937350</td>\n",
       "      <td>0.215774</td>\n",
       "      <td>0.212762</td>\n",
       "      <td>0.483018</td>\n",
       "      <td>0.573162</td>\n",
       "      <td>0.634487</td>\n",
       "      <td>0.423924</td>\n",
       "      <td>0.394633</td>\n",
       "      <td>0.766967</td>\n",
       "      <td>0.606719</td>\n",
       "      <td>0.538712</td>\n",
       "      <td>0.885516</td>\n",
       "      <td>0.667051</td>\n",
       "    </tr>\n",
       "    <tr>\n",
       "      <th>5</th>\n",
       "      <td>0.460281</td>\n",
       "      <td>0.308551</td>\n",
       "      <td>0.735894</td>\n",
       "      <td>0.054059</td>\n",
       "      <td>0.593642</td>\n",
       "      <td>0.397679</td>\n",
       "      <td>0.019922</td>\n",
       "      <td>0.855673</td>\n",
       "      <td>0.339445</td>\n",
       "      <td>0.895810</td>\n",
       "      <td>0.832431</td>\n",
       "      <td>0.553308</td>\n",
       "      <td>0.617711</td>\n",
       "      <td>0.841575</td>\n",
       "      <td>0.336094</td>\n",
       "      <td>0.951907</td>\n",
       "      <td>0.050986</td>\n",
       "      <td>0.856135</td>\n",
       "      <td>0.773953</td>\n",
       "      <td>0.295344</td>\n",
       "    </tr>\n",
       "    <tr>\n",
       "      <th>6</th>\n",
       "      <td>0.065851</td>\n",
       "      <td>0.736029</td>\n",
       "      <td>0.797730</td>\n",
       "      <td>0.692722</td>\n",
       "      <td>0.167764</td>\n",
       "      <td>0.839756</td>\n",
       "      <td>0.910186</td>\n",
       "      <td>0.643328</td>\n",
       "      <td>0.371559</td>\n",
       "      <td>0.674311</td>\n",
       "      <td>0.424815</td>\n",
       "      <td>0.279397</td>\n",
       "      <td>0.015081</td>\n",
       "      <td>0.788497</td>\n",
       "      <td>0.132391</td>\n",
       "      <td>0.766033</td>\n",
       "      <td>0.708510</td>\n",
       "      <td>0.752866</td>\n",
       "      <td>0.493862</td>\n",
       "      <td>0.577262</td>\n",
       "    </tr>\n",
       "    <tr>\n",
       "      <th>7</th>\n",
       "      <td>0.671323</td>\n",
       "      <td>0.747296</td>\n",
       "      <td>0.892328</td>\n",
       "      <td>0.732902</td>\n",
       "      <td>0.065608</td>\n",
       "      <td>0.262364</td>\n",
       "      <td>0.712417</td>\n",
       "      <td>0.764379</td>\n",
       "      <td>0.017461</td>\n",
       "      <td>0.131970</td>\n",
       "      <td>0.649451</td>\n",
       "      <td>0.902157</td>\n",
       "      <td>0.034188</td>\n",
       "      <td>0.840938</td>\n",
       "      <td>0.098536</td>\n",
       "      <td>0.957824</td>\n",
       "      <td>0.566209</td>\n",
       "      <td>0.655947</td>\n",
       "      <td>0.592733</td>\n",
       "      <td>0.002596</td>\n",
       "    </tr>\n",
       "    <tr>\n",
       "      <th>8</th>\n",
       "      <td>0.445478</td>\n",
       "      <td>0.523522</td>\n",
       "      <td>0.959355</td>\n",
       "      <td>0.348292</td>\n",
       "      <td>0.761805</td>\n",
       "      <td>0.301391</td>\n",
       "      <td>0.712240</td>\n",
       "      <td>0.945462</td>\n",
       "      <td>0.139241</td>\n",
       "      <td>0.105477</td>\n",
       "      <td>0.889501</td>\n",
       "      <td>0.160828</td>\n",
       "      <td>0.400774</td>\n",
       "      <td>0.770295</td>\n",
       "      <td>0.844655</td>\n",
       "      <td>0.772798</td>\n",
       "      <td>0.584262</td>\n",
       "      <td>0.807400</td>\n",
       "      <td>0.177419</td>\n",
       "      <td>0.926007</td>\n",
       "    </tr>\n",
       "    <tr>\n",
       "      <th>9</th>\n",
       "      <td>0.291399</td>\n",
       "      <td>0.551248</td>\n",
       "      <td>0.736542</td>\n",
       "      <td>0.163562</td>\n",
       "      <td>0.451149</td>\n",
       "      <td>0.888938</td>\n",
       "      <td>0.968465</td>\n",
       "      <td>0.396090</td>\n",
       "      <td>0.681679</td>\n",
       "      <td>0.390542</td>\n",
       "      <td>0.030394</td>\n",
       "      <td>0.944077</td>\n",
       "      <td>0.366139</td>\n",
       "      <td>0.078188</td>\n",
       "      <td>0.175482</td>\n",
       "      <td>0.232489</td>\n",
       "      <td>0.806964</td>\n",
       "      <td>0.904593</td>\n",
       "      <td>0.803629</td>\n",
       "      <td>0.792851</td>\n",
       "    </tr>\n",
       "  </tbody>\n",
       "</table>\n",
       "</div>"
      ],
      "text/plain": [
       "          0         1         2         3         4         5         6  \\\n",
       "0  0.702566  0.092336  0.245083  0.918402  0.695110  0.886921  0.588605   \n",
       "1  0.177005  0.649551  0.467321  0.449597  0.458872  0.815586  0.455132   \n",
       "2  0.689556  0.445586  0.005691  0.150171  0.554146  0.492320  0.185612   \n",
       "3  0.047188  0.854596  0.833368  0.043878  0.883505  0.786302  0.980916   \n",
       "4  0.936065  0.725831  0.184239  0.677391  0.242726  0.125457  0.356254   \n",
       "5  0.460281  0.308551  0.735894  0.054059  0.593642  0.397679  0.019922   \n",
       "6  0.065851  0.736029  0.797730  0.692722  0.167764  0.839756  0.910186   \n",
       "7  0.671323  0.747296  0.892328  0.732902  0.065608  0.262364  0.712417   \n",
       "8  0.445478  0.523522  0.959355  0.348292  0.761805  0.301391  0.712240   \n",
       "9  0.291399  0.551248  0.736542  0.163562  0.451149  0.888938  0.968465   \n",
       "\n",
       "          7         8         9        10        11        12        13  \\\n",
       "0  0.950970  0.168079  0.783107  0.698836  0.120857  0.207432  0.824789   \n",
       "1  0.729812  0.998528  0.048724  0.377391  0.729498  0.721515  0.566724   \n",
       "2  0.060855  0.457443  0.847337  0.603072  0.346574  0.898464  0.482963   \n",
       "3  0.004030  0.619601  0.547769  0.160962  0.545281  0.931623  0.991855   \n",
       "4  0.937350  0.215774  0.212762  0.483018  0.573162  0.634487  0.423924   \n",
       "5  0.855673  0.339445  0.895810  0.832431  0.553308  0.617711  0.841575   \n",
       "6  0.643328  0.371559  0.674311  0.424815  0.279397  0.015081  0.788497   \n",
       "7  0.764379  0.017461  0.131970  0.649451  0.902157  0.034188  0.840938   \n",
       "8  0.945462  0.139241  0.105477  0.889501  0.160828  0.400774  0.770295   \n",
       "9  0.396090  0.681679  0.390542  0.030394  0.944077  0.366139  0.078188   \n",
       "\n",
       "         14        15        16        17        18        19  \n",
       "0  0.349212  0.818606  0.376941  0.886644  0.472826  0.551858  \n",
       "1  0.338366  0.877239  0.129824  0.773155  0.485385  0.686294  \n",
       "2  0.443979  0.430132  0.713078  0.302786  0.051382  0.203699  \n",
       "3  0.821099  0.654592  0.346710  0.183948  0.372739  0.739383  \n",
       "4  0.394633  0.766967  0.606719  0.538712  0.885516  0.667051  \n",
       "5  0.336094  0.951907  0.050986  0.856135  0.773953  0.295344  \n",
       "6  0.132391  0.766033  0.708510  0.752866  0.493862  0.577262  \n",
       "7  0.098536  0.957824  0.566209  0.655947  0.592733  0.002596  \n",
       "8  0.844655  0.772798  0.584262  0.807400  0.177419  0.926007  \n",
       "9  0.175482  0.232489  0.806964  0.904593  0.803629  0.792851  "
      ]
     },
     "execution_count": 214,
     "metadata": {},
     "output_type": "execute_result"
    }
   ],
   "source": [
    "list8 = [\"../data/\"+e for e in list7]\n",
    "print(list8)\n",
    "\n",
    "array = np.empty((0,20), dtype='float')\n",
    "\n",
    "#df = pd.DataFrame(array)\n",
    "#display(df.head(10))\n",
    "\n",
    "for i in range(len(list8)):\n",
    "    array = np.concatenate([array, pd.read_csv(list8[i])])\n",
    "\n",
    "df = pd.DataFrame(array)\n",
    "df.head(10)"
   ]
  },
  {
   "cell_type": "markdown",
   "metadata": {},
   "source": [
    "### 8. Use a list comprehension to select and print the column numbers for columns from the data set whose median is less than 0.48."
   ]
  },
  {
   "cell_type": "code",
   "execution_count": 235,
   "metadata": {},
   "outputs": [
    {
     "name": "stdout",
     "output_type": "stream",
     "text": [
      "0 0.5183927088531357\n",
      "1 0.4982976284251167\n",
      "2 0.47617375620406\n",
      "3 0.6177974469785128\n",
      "4 0.5443924803856541\n",
      "5 0.6525702257070289\n",
      "6 0.5895587762839766\n",
      "7 0.6525833914513712\n",
      "8 0.4841639880065958\n",
      "9 0.4561419452336911\n",
      "10 0.5294121425646423\n",
      "11 0.5175904648111134\n",
      "12 0.45088123042636974\n",
      "13 0.6935141238122557\n",
      "14 0.4326206030433662\n",
      "15 0.5742865070877934\n",
      "16 0.527874493149453\n",
      "17 0.47384343112174854\n",
      "18 0.5370667066122712\n",
      "19 0.5563000721000172\n"
     ]
    }
   ],
   "source": [
    "#f = [i for i in df.count(axis='rows')]\n",
    "f = [column for column in df.T]\n",
    "\n",
    "#for column in df:\n",
    " #   display(column)\n",
    "    \n",
    "#df.describe().T['mean']\n",
    "\n",
    "for column in df:\n",
    "    print(column, df[column].median())"
   ]
  },
  {
   "cell_type": "markdown",
   "metadata": {},
   "source": [
    "### 9. Use a list comprehension to add a new column (20) to the data frame whose values are the values in column 19 minus 0.1. Display the top 10 rows of the resulting data frame."
   ]
  },
  {
   "cell_type": "code",
   "execution_count": null,
   "metadata": {},
   "outputs": [],
   "source": []
  },
  {
   "cell_type": "markdown",
   "metadata": {},
   "source": [
    "### 10. Use a list comprehension to extract and print all values from the data set that are between 0.7 and 0.75."
   ]
  },
  {
   "cell_type": "code",
   "execution_count": null,
   "metadata": {},
   "outputs": [],
   "source": []
  }
 ],
 "metadata": {
  "kernelspec": {
   "display_name": "Python 3",
   "language": "python",
   "name": "python3"
  },
  "language_info": {
   "codemirror_mode": {
    "name": "ipython",
    "version": 3
   },
   "file_extension": ".py",
   "mimetype": "text/x-python",
   "name": "python",
   "nbconvert_exporter": "python",
   "pygments_lexer": "ipython3",
   "version": "3.6.9"
  }
 },
 "nbformat": 4,
 "nbformat_minor": 2
}
