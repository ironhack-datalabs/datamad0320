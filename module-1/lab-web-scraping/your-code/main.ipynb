{
 "cells": [
  {
   "cell_type": "markdown",
   "metadata": {},
   "source": [
    "# Web Scraping Lab\n",
    "\n",
    "You will find in this notebook some scrapy exercises to practise your scraping skills.\n",
    "\n",
    "**Tips:**\n",
    "\n",
    "- Check the response status code for each request to ensure you have obtained the intended contennt.\n",
    "- Print the response text in each request to understand the kind of info you are getting and its format.\n",
    "- Check for patterns in the response text to extract the data/info requested in each question.\n",
    "- Visit each url and take a look at its source through Chrome DevTools. You'll need to identify the html tags, special class names etc. used for the html content you are expected to extract."
   ]
  },
  {
   "cell_type": "markdown",
   "metadata": {},
   "source": [
    "- [Requests library](http://docs.python-requests.org/en/master/#the-user-guide) documentation \n",
    "- [Beautiful Soup Doc](https://www.crummy.com/software/BeautifulSoup/bs4/doc/)\n",
    "- [Urllib](https://docs.python.org/3/library/urllib.html#module-urllib)\n",
    "- [re lib](https://docs.python.org/3/library/re.html)\n",
    "- [lxml lib](https://lxml.de/)\n",
    "- [Scrapy](https://scrapy.org/)\n",
    "- [List of HTTP status codes](https://en.wikipedia.org/wiki/List_of_HTTP_status_codes)\n",
    "- [HTML basics](http://www.simplehtmlguide.com/cheatsheet.php)\n",
    "- [CSS basics](https://www.cssbasics.com/#page_start)"
   ]
  },
  {
   "cell_type": "markdown",
   "metadata": {},
   "source": [
    "#### Below are the libraries and modules you may need. `requests`,  `BeautifulSoup` and `pandas` are imported for you. If you prefer to use additional libraries feel free to uncomment them."
   ]
  },
  {
   "cell_type": "code",
   "execution_count": 2,
   "metadata": {},
   "outputs": [],
   "source": [
    "import requests\n",
    "from bs4 import BeautifulSoup\n",
    "import pandas as pd\n",
    "# from pprint import pprint\n",
    "# from lxml import html\n",
    "# from lxml.html import fromstring\n",
    "# import urllib.request\n",
    "# from urllib.request import urlopen\n",
    "# import random\n",
    "# import re\n",
    "# import scrapy"
   ]
  },
  {
   "cell_type": "markdown",
   "metadata": {},
   "source": [
    "#### Download, parse (using BeautifulSoup), and print the content from the Trending Developers page from GitHub:"
   ]
  },
  {
   "cell_type": "code",
   "execution_count": 3,
   "metadata": {},
   "outputs": [],
   "source": [
    "# This is the url you will scrape in this exercise\n",
    "url = 'https://github.com/trending/developers'"
   ]
  },
  {
   "cell_type": "code",
   "execution_count": 40,
   "metadata": {},
   "outputs": [],
   "source": [
    "res= requests.get(url).text"
   ]
  },
  {
   "cell_type": "code",
   "execution_count": 123,
   "metadata": {},
   "outputs": [
    {
     "data": {
      "text/plain": [
       "['JeremyApthorp',\n",
       " 'jonesforth',\n",
       " 'JonahWilliams',\n",
       " 'json_widget',\n",
       " 'FelixAngelov',\n",
       " 'bloc',\n",
       " 'chencheng(云谦)',\n",
       " 'awesome-javascript',\n",
       " 'SebastiánRamírez',\n",
       " 'fastapi',\n",
       " 'MariuszNowak',\n",
       " 'memoizee',\n",
       " 'DawidUrbaniak',\n",
       " 'twitterClone',\n",
       " 'JeffreySu',\n",
       " 'WeiXinMPSDK',\n",
       " 'HugoBowne-Anderson',\n",
       " 'COVID-19-EDA-tutorial',\n",
       " 'FelipeFialho',\n",
       " 'frontend-challenges',\n",
       " 'YuriShkuro',\n",
       " 'opentracing-tutorial',\n",
       " 'R.I.Pienaar',\n",
       " 'free-for-dev',\n",
       " 'ZenoRocha',\n",
       " 'clipboard.js',\n",
       " 'MaximKulkin',\n",
       " 'esp-homekit-demo',\n",
       " 'RobertMosolgo',\n",
       " 'graphql-ruby',\n",
       " 'PierreKrieger',\n",
       " 'redshirt',\n",
       " 'Iman',\n",
       " 'laravel-widgetize',\n",
       " 'LuisAlvarezD.',\n",
       " 'next-with-apollo',\n",
       " 'MaticZavadlal',\n",
       " 'graphql-shield',\n",
       " 'MartenSeemann',\n",
       " 'quic-conn',\n",
       " 'DavidPeter',\n",
       " 'bat',\n",
       " 'JakeWharton',\n",
       " 'butterknife',\n",
       " 'JeffBezanson',\n",
       " 'femtolisp',\n",
       " 'JamesMunnelly',\n",
       " 'kube-plex',\n",
       " 'MatthewJohnson',\n",
       " 'pyhsmm']"
      ]
     },
     "execution_count": 123,
     "metadata": {},
     "output_type": "execute_result"
    }
   ],
   "source": [
    "soup= BeautifulSoup(res, 'html.parser')\n",
    "h1=soup.find_all(\"h1\")\n",
    "tag = [tag.find_all(\"a\") for tag in soup.find_all('h1')]\n",
    "name= [e[0].text for e in tag if e!=[]]\n",
    "name=[e.replace(\"\\n\",\"\")for e in name]\n",
    "name=[e.replace(\" \",\"\")for e in name]\n",
    "#name"
   ]
  },
  {
   "cell_type": "markdown",
   "metadata": {},
   "source": [
    "#### Display the trending Python repositories in GitHub\n",
    "\n",
    "The steps to solve this problem is similar to the previous one except that you need to find out the repository names instead of developer names."
   ]
  },
  {
   "cell_type": "code",
   "execution_count": 154,
   "metadata": {},
   "outputs": [],
   "source": [
    "# This is the url you will scrape in this exercise\n",
    "url = 'https://github.com/trending/python?since=daily'"
   ]
  },
  {
   "cell_type": "code",
   "execution_count": 155,
   "metadata": {},
   "outputs": [
    {
     "data": {
      "text/plain": [
       "['rojter-tech/pluradl.py',\n",
       " 'caoscott/SReC',\n",
       " '0voice/interview_internal_reference',\n",
       " 'ageitgey/face_recognition',\n",
       " 'manchenkoff/skillbox-async-chat',\n",
       " 'XiaohangZhan/deocclusion',\n",
       " 'google-research/text-to-text-transfer-transformer',\n",
       " 'kon9chunkit/GitHub-Chinese-Top-Charts',\n",
       " 'tiangolo/fastapi',\n",
       " 'CorentinJ/Real-Time-Voice-Cloning',\n",
       " 'home-assistant/core',\n",
       " 'alex04072000/ObstructionRemoval',\n",
       " 'pcomputo/Whole-Foods-Delivery-Slot',\n",
       " 'CharlesPikachu/Games',\n",
       " 'doccano/doccano',\n",
       " 'google/jax',\n",
       " 'hankcs/HanLP',\n",
       " 'Sentdex/pygta5',\n",
       " 'ray-project/ray',\n",
       " 'Yelp/elastalert',\n",
       " 'timgrossmann/InstaPy',\n",
       " 'huggingface/transformers',\n",
       " 'ikergarcia1996/Self-Driving-Car-in-Video-Games',\n",
       " 'fizyr/keras-retinanet',\n",
       " 'apache/airflow']"
      ]
     },
     "execution_count": 155,
     "metadata": {},
     "output_type": "execute_result"
    }
   ],
   "source": [
    "res2= requests.get(url).text\n",
    "soup= BeautifulSoup(res2, 'html.parser')\n",
    "h1=soup.find_all(\"h1\")\n",
    "tag = [tag.find_all(\"a\") for tag in h1]\n",
    "repo=[e[0].text for e in tag if e!=[]]\n",
    "repo=[e.replace(\"\\n\", \"\") for e in repo] \n",
    "repo=[e.replace(\" \", \"\") for e in repo]\n",
    "repo"
   ]
  },
  {
   "cell_type": "markdown",
   "metadata": {},
   "source": [
    "#### Display all the image links from Walt Disney wikipedia page"
   ]
  },
  {
   "cell_type": "code",
   "execution_count": 156,
   "metadata": {},
   "outputs": [],
   "source": [
    "# This is the url you will scrape in this exercise\n",
    "url = 'https://en.wikipedia.org/wiki/Walt_Disney'"
   ]
  },
  {
   "cell_type": "code",
   "execution_count": 201,
   "metadata": {},
   "outputs": [
    {
     "data": {
      "text/plain": [
       "['/javax.faces.resource/u4.png.xhtml?ln=images',\n",
       " '/javax.faces.resource/u6.png.xhtml?ln=images',\n",
       " '/javax.faces.resource/transparent.gif.xhtml?ln=images',\n",
       " '/javax.faces.resource/u6.png.xhtml?ln=images',\n",
       " '/javax.faces.resource/transparent.gif.xhtml?ln=images',\n",
       " '/javax.faces.resource/u6.png.xhtml?ln=images',\n",
       " '/javax.faces.resource/transparent.gif.xhtml?ln=images',\n",
       " '/javax.faces.resource/u6.png.xhtml?ln=images',\n",
       " '/javax.faces.resource/transparent.gif.xhtml?ln=images',\n",
       " '/javax.faces.resource/u6.png.xhtml?ln=images',\n",
       " '/javax.faces.resource/transparent.gif.xhtml?ln=images',\n",
       " '/javax.faces.resource/u6.png.xhtml?ln=images',\n",
       " '/javax.faces.resource/transparent.gif.xhtml?ln=images',\n",
       " '/javax.faces.resource/u6.png.xhtml?ln=images',\n",
       " '/javax.faces.resource/transparent.gif.xhtml?ln=images',\n",
       " '/javax.faces.resource/u6.png.xhtml?ln=images',\n",
       " '/javax.faces.resource/transparent.gif.xhtml?ln=images',\n",
       " '/javax.faces.resource/u6.png.xhtml?ln=images',\n",
       " '/javax.faces.resource/transparent.gif.xhtml?ln=images',\n",
       " '/javax.faces.resource/u6.png.xhtml?ln=images',\n",
       " '/javax.faces.resource/transparent.gif.xhtml?ln=images',\n",
       " '/javax.faces.resource/u6.png.xhtml?ln=images',\n",
       " '/javax.faces.resource/transparent.gif.xhtml?ln=images',\n",
       " '/javax.faces.resource/u6.png.xhtml?ln=images',\n",
       " '/javax.faces.resource/transparent.gif.xhtml?ln=images',\n",
       " '/javax.faces.resource/u6.png.xhtml?ln=images',\n",
       " '/javax.faces.resource/transparent.gif.xhtml?ln=images',\n",
       " '/javax.faces.resource/u6.png.xhtml?ln=images',\n",
       " '/javax.faces.resource/transparent.gif.xhtml?ln=images',\n",
       " '/javax.faces.resource/u6.png.xhtml?ln=images',\n",
       " '/javax.faces.resource/transparent.gif.xhtml?ln=images',\n",
       " '/javax.faces.resource/u29.png.xhtml?ln=images',\n",
       " '/javax.faces.resource/transparent.gif.xhtml?ln=images',\n",
       " '/javax.faces.resource/u6.png.xhtml?ln=images',\n",
       " '/javax.faces.resource/transparent.gif.xhtml?ln=images',\n",
       " '/javax.faces.resource/u6.png.xhtml?ln=images',\n",
       " '/javax.faces.resource/transparent.gif.xhtml?ln=images',\n",
       " '/javax.faces.resource/u6.png.xhtml?ln=images',\n",
       " '/javax.faces.resource/transparent.gif.xhtml?ln=images',\n",
       " '/javax.faces.resource/u6.png.xhtml?ln=images',\n",
       " '/javax.faces.resource/transparent.gif.xhtml?ln=images']"
      ]
     },
     "execution_count": 201,
     "metadata": {},
     "output_type": "execute_result"
    }
   ],
   "source": [
    "res3= requests.get(url).text\n",
    "soup= BeautifulSoup(res3, 'html.parser')\n",
    "img=soup.select(\"img\")\n",
    "link= [link[\"src\"] for link in img]\n",
    "#link\n",
    "\n"
   ]
  },
  {
   "cell_type": "markdown",
   "metadata": {},
   "source": [
    "#### Retrieve an arbitary Wikipedia page of \"Python\" and create a list of links on that page"
   ]
  },
  {
   "cell_type": "code",
   "execution_count": 192,
   "metadata": {},
   "outputs": [],
   "source": [
    "# This is the url you will scrape in this exercise\n",
    "url ='https://en.wikipedia.org/wiki/Python' "
   ]
  },
  {
   "cell_type": "code",
   "execution_count": 199,
   "metadata": {},
   "outputs": [],
   "source": [
    "res4= requests.get(url).text\n",
    "soup= BeautifulSoup(res4, 'html.parser')\n",
    "link = []\n",
    "for tag in soup.find_all(href=True):\n",
    "    link.append(tag['href'])\n",
    "#link"
   ]
  },
  {
   "cell_type": "markdown",
   "metadata": {},
   "source": [
    "#### Number of Titles that have changed in the United States Code since its last release point "
   ]
  },
  {
   "cell_type": "code",
   "execution_count": 198,
   "metadata": {},
   "outputs": [],
   "source": [
    "# This is the url you will scrape in this exercise\n",
    "url = 'http://uscode.house.gov/download/download.shtml'"
   ]
  },
  {
   "cell_type": "code",
   "execution_count": 208,
   "metadata": {},
   "outputs": [
    {
     "data": {
      "text/plain": [
       "4"
      ]
     },
     "execution_count": 208,
     "metadata": {},
     "output_type": "execute_result"
    }
   ],
   "source": [
    "res5= requests.get(url).text\n",
    "soup= BeautifulSoup(res5, 'html.parser')\n",
    "change=len(soup.select(\".usctitlechanged\"))\n",
    "change\n",
    "    "
   ]
  },
  {
   "cell_type": "markdown",
   "metadata": {},
   "source": [
    "#### A Python list with the top ten FBI's Most Wanted names "
   ]
  },
  {
   "cell_type": "code",
   "execution_count": 217,
   "metadata": {},
   "outputs": [],
   "source": [
    "# This is the url you will scrape in this exercise\n",
    "url = 'https://www.fbi.gov/wanted/topten'"
   ]
  },
  {
   "cell_type": "code",
   "execution_count": 226,
   "metadata": {},
   "outputs": [
    {
     "data": {
      "text/plain": [
       "['Most Wanted',\n",
       " 'YASER ABDEL SAID',\n",
       " 'ALEXIS FLORES',\n",
       " 'EUGENE PALMER',\n",
       " 'SANTIAGO VILLALBA MEDEROS',\n",
       " 'RAFAEL CARO-QUINTERO',\n",
       " 'ROBERT WILLIAM FISHER',\n",
       " 'BHADRESHKUMAR CHETANBHAI PATEL',\n",
       " 'ALEJANDRO ROSALES CASTILLO',\n",
       " 'ARNOLDO JIMENEZ',\n",
       " 'JASON DEREK BROWN']"
      ]
     },
     "execution_count": 226,
     "metadata": {},
     "output_type": "execute_result"
    }
   ],
   "source": [
    "res6= requests.get(url).text\n",
    "soup= BeautifulSoup(res6, 'html.parser')\n",
    "tag= soup.select(\".title a\")\n",
    "names= []\n",
    "for name in tag:\n",
    "    names.append(name.text)\n",
    "names\n"
   ]
  },
  {
   "cell_type": "markdown",
   "metadata": {},
   "source": [
    "####  20 latest earthquakes info (date, time, latitude, longitude and region name) by the EMSC as a pandas dataframe"
   ]
  },
  {
   "cell_type": "code",
   "execution_count": 342,
   "metadata": {},
   "outputs": [],
   "source": [
    "# This is the url you will scrape in this exercise\n",
    "url = 'https://www.emsc-csem.org/Earthquake/'"
   ]
  },
  {
   "cell_type": "code",
   "execution_count": 344,
   "metadata": {},
   "outputs": [
    {
     "ename": "AttributeError",
     "evalue": "ResultSet object has no attribute 'find_all'. You're probably treating a list of elements like a single element. Did you call find_all() when you meant to call find()?",
     "output_type": "error",
     "traceback": [
      "\u001b[0;31m---------------------------------------------------------------------------\u001b[0m",
      "\u001b[0;31mAttributeError\u001b[0m                            Traceback (most recent call last)",
      "\u001b[0;32m<ipython-input-344-5f10c2b0151b>\u001b[0m in \u001b[0;36m<module>\u001b[0;34m\u001b[0m\n\u001b[1;32m      7\u001b[0m         \u001b[0;34m\"Date\"\u001b[0m\u001b[0;34m:\u001b[0m \u001b[0mtd\u001b[0m\u001b[0;34m[\u001b[0m\u001b[0;36m3\u001b[0m\u001b[0;34m]\u001b[0m\u001b[0;34m.\u001b[0m\u001b[0mtext\u001b[0m\u001b[0;34m\u001b[0m\u001b[0;34m\u001b[0m\u001b[0m\n\u001b[1;32m      8\u001b[0m     }\n\u001b[0;32m----> 9\u001b[0;31m \u001b[0minfoEQ\u001b[0m\u001b[0;34m(\u001b[0m\u001b[0mdata\u001b[0m\u001b[0;34m)\u001b[0m\u001b[0;34m\u001b[0m\u001b[0;34m\u001b[0m\u001b[0m\n\u001b[0m\u001b[1;32m     10\u001b[0m \u001b[0;34m\u001b[0m\u001b[0m\n\u001b[1;32m     11\u001b[0m \u001b[0;31m#\u001b[0m\u001b[0;34m\u001b[0m\u001b[0;34m\u001b[0m\u001b[0;34m\u001b[0m\u001b[0m\n",
      "\u001b[0;32m<ipython-input-344-5f10c2b0151b>\u001b[0m in \u001b[0;36minfoEQ\u001b[0;34m(info)\u001b[0m\n\u001b[1;32m      3\u001b[0m \u001b[0mdata\u001b[0m\u001b[0;34m=\u001b[0m\u001b[0msoup\u001b[0m\u001b[0;34m.\u001b[0m\u001b[0mfind_all\u001b[0m\u001b[0;34m(\u001b[0m\u001b[0;34m\"tbody\"\u001b[0m\u001b[0;34m)\u001b[0m\u001b[0;34m[\u001b[0m\u001b[0;36m0\u001b[0m\u001b[0;34m]\u001b[0m\u001b[0;34m\u001b[0m\u001b[0;34m\u001b[0m\u001b[0m\n\u001b[1;32m      4\u001b[0m \u001b[0;32mdef\u001b[0m \u001b[0minfoEQ\u001b[0m\u001b[0;34m(\u001b[0m\u001b[0minfo\u001b[0m\u001b[0;34m)\u001b[0m\u001b[0;34m:\u001b[0m\u001b[0;34m\u001b[0m\u001b[0;34m\u001b[0m\u001b[0m\n\u001b[0;32m----> 5\u001b[0;31m     \u001b[0mtd\u001b[0m \u001b[0;34m=\u001b[0m \u001b[0mtag\u001b[0m\u001b[0;34m.\u001b[0m\u001b[0mfind_all\u001b[0m\u001b[0;34m(\u001b[0m\u001b[0;34m\"td\"\u001b[0m\u001b[0;34m)\u001b[0m\u001b[0;34m\u001b[0m\u001b[0;34m\u001b[0m\u001b[0m\n\u001b[0m\u001b[1;32m      6\u001b[0m     return {\n\u001b[1;32m      7\u001b[0m         \u001b[0;34m\"Date\"\u001b[0m\u001b[0;34m:\u001b[0m \u001b[0mtd\u001b[0m\u001b[0;34m[\u001b[0m\u001b[0;36m3\u001b[0m\u001b[0;34m]\u001b[0m\u001b[0;34m.\u001b[0m\u001b[0mtext\u001b[0m\u001b[0;34m\u001b[0m\u001b[0;34m\u001b[0m\u001b[0m\n",
      "\u001b[0;32m/usr/local/lib/python3.7/site-packages/bs4/element.py\u001b[0m in \u001b[0;36m__getattr__\u001b[0;34m(self, key)\u001b[0m\n\u001b[1;32m   2126\u001b[0m         \u001b[0;34m\"\"\"Raise a helpful exception to explain a common code fix.\"\"\"\u001b[0m\u001b[0;34m\u001b[0m\u001b[0;34m\u001b[0m\u001b[0m\n\u001b[1;32m   2127\u001b[0m         raise AttributeError(\n\u001b[0;32m-> 2128\u001b[0;31m             \u001b[0;34m\"ResultSet object has no attribute '%s'. You're probably treating a list of elements like a single element. Did you call find_all() when you meant to call find()?\"\u001b[0m \u001b[0;34m%\u001b[0m \u001b[0mkey\u001b[0m\u001b[0;34m\u001b[0m\u001b[0;34m\u001b[0m\u001b[0m\n\u001b[0m\u001b[1;32m   2129\u001b[0m         )\n",
      "\u001b[0;31mAttributeError\u001b[0m: ResultSet object has no attribute 'find_all'. You're probably treating a list of elements like a single element. Did you call find_all() when you meant to call find()?"
     ]
    }
   ],
   "source": [
    "res7= requests.get(url).text\n",
    "soup= BeautifulSoup(res7, 'html.parser')\n",
    "data=soup.find_all(\"tbody\")[0]\n",
    "def infoEQ(info):\n",
    "    td = tag.find_all(\"td\")\n",
    "    return {\n",
    "        \"Date\": td[3].text\n",
    "    }\n",
    "infoEQ(data)\n",
    "\n",
    "#No sé donde estoy fallandoooooo . AYUUUUUUUDAAAAA 😭\n"
   ]
  },
  {
   "cell_type": "markdown",
   "metadata": {},
   "source": [
    "#### Display the date, days, title, city, country of next 25 hackathon events as a Pandas dataframe table"
   ]
  },
  {
   "cell_type": "code",
   "execution_count": null,
   "metadata": {},
   "outputs": [],
   "source": [
    "# This is the url you will scrape in this exercise\n",
    "url ='https://hackevents.co/hackathons'"
   ]
  },
  {
   "cell_type": "code",
   "execution_count": null,
   "metadata": {},
   "outputs": [],
   "source": [
    "#your code"
   ]
  },
  {
   "cell_type": "markdown",
   "metadata": {},
   "source": [
    "#### Count number of tweets by a given Twitter account."
   ]
  },
  {
   "cell_type": "markdown",
   "metadata": {},
   "source": [
    "You will need to include a ***try/except block*** for account names not found. \n",
    "<br>***Hint:*** the program should count the number of tweets for any provided account"
   ]
  },
  {
   "cell_type": "code",
   "execution_count": 278,
   "metadata": {},
   "outputs": [],
   "source": [
    "# This is the url you will scrape in this exercise \n",
    "# You will need to add the account credentials to this url\n",
    "url = 'https://twitter.com/Cristiano'"
   ]
  },
  {
   "cell_type": "code",
   "execution_count": 282,
   "metadata": {},
   "outputs": [
    {
     "name": "stdout",
     "output_type": "stream",
     "text": [
      "3.520\n",
      "            \n"
     ]
    }
   ],
   "source": [
    "res9= requests.get(url).text\n",
    "soup= BeautifulSoup(res9, 'html.parser')\n",
    "tweet=soup.select(\".ProfileNav-value\")[0]\n",
    "print(tweet.text)"
   ]
  },
  {
   "cell_type": "markdown",
   "metadata": {},
   "source": [
    "#### Number of followers of a given twitter account"
   ]
  },
  {
   "cell_type": "markdown",
   "metadata": {},
   "source": [
    "You will need to include a ***try/except block*** in case account/s name not found. \n",
    "<br>***Hint:*** the program should count the followers for any provided account"
   ]
  },
  {
   "cell_type": "code",
   "execution_count": 283,
   "metadata": {},
   "outputs": [],
   "source": [
    "# This is the url you will scrape in this exercise \n",
    "# You will need to add the account credentials to this url\n",
    "url = 'https://twitter.com/Cristiano'"
   ]
  },
  {
   "cell_type": "code",
   "execution_count": 284,
   "metadata": {},
   "outputs": [
    {
     "name": "stdout",
     "output_type": "stream",
     "text": [
      "83,7 M\n"
     ]
    }
   ],
   "source": [
    "res10= requests.get(url).text\n",
    "soup= BeautifulSoup(res10, 'html.parser')\n",
    "foll=soup.select(\".ProfileNav-value\")[2]\n",
    "print(foll.text)\n"
   ]
  },
  {
   "cell_type": "markdown",
   "metadata": {},
   "source": [
    "#### List all language names and number of related articles in the order they appear in wikipedia.org"
   ]
  },
  {
   "cell_type": "code",
   "execution_count": 295,
   "metadata": {},
   "outputs": [],
   "source": [
    "# This is the url you will scrape in this exercise\n",
    "url = 'https://www.wikipedia.org/'"
   ]
  },
  {
   "cell_type": "code",
   "execution_count": 298,
   "metadata": {},
   "outputs": [
    {
     "name": "stdout",
     "output_type": "stream",
     "text": [
      "English 6 050 000+\n",
      "EspaÃ±ol 1 588 000+\n",
      "æ¥æ¬èª 1 198 000+\n",
      "Deutsch 2 416 000+\n",
      "FranÃ§ais 2 197 000+\n",
      "Ð ÑÑÑÐºÐ¸Ð¹ 1 611 000+\n",
      "Italiano 1 595 000+\n",
      "ä¸­æ 1 109 000+\n",
      "PortuguÃªs 1 027 000+\n",
      "Polski 1 399 000+\n"
     ]
    }
   ],
   "source": [
    "res11= requests.get(url).text\n",
    "soup= BeautifulSoup(res11, 'html.parser')\n",
    "lang=soup.select(\".link-box\")\n",
    "for i in lang:\n",
    "    lang = i.find('strong')\n",
    "    num = i.find('bdi')\n",
    "    print(lang.text , num.text)"
   ]
  },
  {
   "cell_type": "markdown",
   "metadata": {},
   "source": [
    "#### A list with the different kind of datasets available in data.gov.uk "
   ]
  },
  {
   "cell_type": "code",
   "execution_count": null,
   "metadata": {},
   "outputs": [],
   "source": [
    "# This is the url you will scrape in this exercise\n",
    "url = 'https://data.gov.uk/'"
   ]
  },
  {
   "cell_type": "code",
   "execution_count": null,
   "metadata": {},
   "outputs": [],
   "source": [
    "#your code "
   ]
  },
  {
   "cell_type": "markdown",
   "metadata": {},
   "source": [
    "#### Top 10 languages by number of native speakers stored in a Pandas Dataframe"
   ]
  },
  {
   "cell_type": "code",
   "execution_count": null,
   "metadata": {},
   "outputs": [],
   "source": [
    "# This is the url you will scrape in this exercise\n",
    "url = 'https://en.wikipedia.org/wiki/List_of_languages_by_number_of_native_speakers'"
   ]
  },
  {
   "cell_type": "code",
   "execution_count": null,
   "metadata": {},
   "outputs": [],
   "source": [
    "#your code"
   ]
  },
  {
   "cell_type": "markdown",
   "metadata": {},
   "source": [
    "### BONUS QUESTIONS"
   ]
  },
  {
   "cell_type": "markdown",
   "metadata": {},
   "source": [
    "#### Scrape a certain number of tweets of a given Twitter account."
   ]
  },
  {
   "cell_type": "code",
   "execution_count": null,
   "metadata": {},
   "outputs": [],
   "source": [
    "# This is the url you will scrape in this exercise \n",
    "# You will need to add the account credentials to this url\n",
    "url = 'https://twitter.com/'"
   ]
  },
  {
   "cell_type": "code",
   "execution_count": null,
   "metadata": {},
   "outputs": [],
   "source": [
    "# your code"
   ]
  },
  {
   "cell_type": "markdown",
   "metadata": {},
   "source": [
    "#### IMDB's Top 250 data (movie name, Initial release, director name and stars) as a pandas dataframe"
   ]
  },
  {
   "cell_type": "code",
   "execution_count": null,
   "metadata": {},
   "outputs": [],
   "source": [
    "# This is the url you will scrape in this exercise \n",
    "url = 'https://www.imdb.com/chart/top'"
   ]
  },
  {
   "cell_type": "code",
   "execution_count": null,
   "metadata": {},
   "outputs": [],
   "source": [
    "# your code"
   ]
  },
  {
   "cell_type": "markdown",
   "metadata": {},
   "source": [
    "#### Movie name, year and a brief summary of the top 10 random movies (IMDB) as a pandas dataframe."
   ]
  },
  {
   "cell_type": "code",
   "execution_count": null,
   "metadata": {},
   "outputs": [],
   "source": [
    "#This is the url you will scrape in this exercise\n",
    "url = 'http://www.imdb.com/chart/top'"
   ]
  },
  {
   "cell_type": "code",
   "execution_count": null,
   "metadata": {},
   "outputs": [],
   "source": [
    "#your code"
   ]
  },
  {
   "cell_type": "markdown",
   "metadata": {},
   "source": [
    "#### Find the live weather report (temperature, wind speed, description and weather) of a given city."
   ]
  },
  {
   "cell_type": "code",
   "execution_count": null,
   "metadata": {},
   "outputs": [],
   "source": [
    "#https://openweathermap.org/current\n",
    "city = city=input('Enter the city:')\n",
    "url = 'http://api.openweathermap.org/data/2.5/weather?'+'q='+city+'&APPID=b35975e18dc93725acb092f7272cc6b8&units=metric'"
   ]
  },
  {
   "cell_type": "code",
   "execution_count": null,
   "metadata": {},
   "outputs": [],
   "source": [
    "# your code"
   ]
  },
  {
   "cell_type": "markdown",
   "metadata": {},
   "source": [
    "#### Book name,price and stock availability as a pandas dataframe."
   ]
  },
  {
   "cell_type": "code",
   "execution_count": null,
   "metadata": {},
   "outputs": [],
   "source": [
    "# This is the url you will scrape in this exercise. \n",
    "# It is a fictional bookstore created to be scraped. \n",
    "url = 'http://books.toscrape.com/'"
   ]
  },
  {
   "cell_type": "code",
   "execution_count": null,
   "metadata": {},
   "outputs": [],
   "source": [
    "#your code"
   ]
  }
 ],
 "metadata": {
  "kernelspec": {
   "display_name": "Python 3",
   "language": "python",
   "name": "python3"
  },
  "language_info": {
   "codemirror_mode": {
    "name": "ipython",
    "version": 3
   },
   "file_extension": ".py",
   "mimetype": "text/x-python",
   "name": "python",
   "nbconvert_exporter": "python",
   "pygments_lexer": "ipython3",
   "version": "3.7.7"
  }
 },
 "nbformat": 4,
 "nbformat_minor": 2
}
