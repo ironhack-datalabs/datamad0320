{
 "cells": [
  {
   "cell_type": "markdown",
   "metadata": {},
   "source": [
    "# Web Scraping Lab\n",
    "\n",
    "You will find in this notebook some scrapy exercises to practise your scraping skills.\n",
    "\n",
    "**Tips:**\n",
    "\n",
    "- Check the response status code for each request to ensure you have obtained the intended contennt.\n",
    "- Print the response text in each request to understand the kind of info you are getting and its format.\n",
    "- Check for patterns in the response text to extract the data/info requested in each question.\n",
    "- Visit each url and take a look at its source through Chrome DevTools. You'll need to identify the html tags, special class names etc. used for the html content you are expected to extract."
   ]
  },
  {
   "cell_type": "markdown",
   "metadata": {},
   "source": [
    "- [Requests library](http://docs.python-requests.org/en/master/#the-user-guide) documentation \n",
    "- [Beautiful Soup Doc](https://www.crummy.com/software/BeautifulSoup/bs4/doc/)\n",
    "- [Urllib](https://docs.python.org/3/library/urllib.html#module-urllib)\n",
    "- [re lib](https://docs.python.org/3/library/re.html)\n",
    "- [lxml lib](https://lxml.de/)\n",
    "- [Scrapy](https://scrapy.org/)\n",
    "- [List of HTTP status codes](https://en.wikipedia.org/wiki/List_of_HTTP_status_codes)\n",
    "- [HTML basics](http://www.simplehtmlguide.com/cheatsheet.php)\n",
    "- [CSS basics](https://www.cssbasics.com/#page_start)"
   ]
  },
  {
   "cell_type": "markdown",
   "metadata": {},
   "source": [
    "#### Below are the libraries and modules you may need. `requests`,  `BeautifulSoup` and `pandas` are imported for you. If you prefer to use additional libraries feel free to uncomment them."
   ]
  },
  {
   "cell_type": "code",
   "execution_count": 8,
   "metadata": {},
   "outputs": [],
   "source": [
    "import requests\n",
    "from bs4 import BeautifulSoup\n",
    "import pandas as pd\n",
    "from IPython.display import Image\n",
    "# from pprint import pprint\n",
    "from lxml import html\n",
    "# from lxml.html import fromstring\n",
    "# import urllib.request\n",
    "# from urllib.request import urlopen\n",
    "# import random\n",
    "import re\n",
    "# import scrapy"
   ]
  },
  {
   "cell_type": "markdown",
   "metadata": {},
   "source": [
    "#### Download, parse (using BeautifulSoup), and print the content from the Trending Developers page from GitHub:"
   ]
  },
  {
   "cell_type": "code",
   "execution_count": 3,
   "metadata": {},
   "outputs": [],
   "source": [
    "# This is the url you will scrape in this exercise\n",
    "url = 'https://github.com/trending/developers'\n",
    "\n",
    "request = requests.get(url)\n",
    "\n",
    "texto = request.text\n",
    "# Parsearlo con BeatifulSoup\n",
    "texto_soup = BeautifulSoup(texto)\n",
    "#print(texto_soup)"
   ]
  },
  {
   "cell_type": "markdown",
   "metadata": {},
   "source": [
    "#### Display the names of the trending developers retrieved in the previous step.\n",
    "\n",
    "Your output should be a Python list of developer names. Each name should not contain any html tag.\n",
    "\n",
    "**Instructions:**\n",
    "\n",
    "1. Find out the html tag and class names used for the developer names. You can achieve this using Chrome DevTools.\n",
    "\n",
    "1. Use BeautifulSoup to extract all the html elements that contain the developer names.\n",
    "\n",
    "1. Use string manipulation techniques to replace whitespaces and linebreaks (i.e. `\\n`) in the *text* of each html element. Use a list to store the clean names.\n",
    "\n",
    "1. Print the list of names.\n",
    "\n",
    "Your output should look like below:\n",
    "\n",
    "```\n",
    "['trimstray (@trimstray)',\n",
    " 'joewalnes (JoeWalnes)',\n",
    " 'charlax (Charles-AxelDein)',\n",
    " 'ForrestKnight (ForrestKnight)',\n",
    " 'revery-ui (revery-ui)',\n",
    " 'alibaba (Alibaba)',\n",
    " 'Microsoft (Microsoft)',\n",
    " 'github (GitHub)',\n",
    " 'facebook (Facebook)',\n",
    " 'boazsegev (Bo)',\n",
    " 'google (Google)',\n",
    " 'cloudfetch',\n",
    " 'sindresorhus (SindreSorhus)',\n",
    " 'tensorflow',\n",
    " 'apache (TheApacheSoftwareFoundation)',\n",
    " 'DevonCrawford (DevonCrawford)',\n",
    " 'ARMmbed (ArmMbed)',\n",
    " 'vuejs (vuejs)',\n",
    " 'fastai (fast.ai)',\n",
    " 'QiShaoXuan (Qi)',\n",
    " 'joelparkerhenderson (JoelParkerHenderson)',\n",
    " 'torvalds (LinusTorvalds)',\n",
    " 'CyC2018',\n",
    " 'komeiji-satori (神楽坂覚々)',\n",
    " 'script-8']\n",
    " ```"
   ]
  },
  {
   "cell_type": "code",
   "execution_count": 4,
   "metadata": {},
   "outputs": [
    {
     "data": {
      "text/plain": [
       "'\\n\\n            Jonah Williams\\n\\n'"
      ]
     },
     "execution_count": 4,
     "metadata": {},
     "output_type": "execute_result"
    }
   ],
   "source": [
    "# Buscar todos los elementos h1 de clase 'h3 lh_condensed'\n",
    "nombres = texto_soup.find_all(\"h1\", class_=\"h3 lh-condensed\" )\n",
    "nombres[1].text"
   ]
  },
  {
   "cell_type": "code",
   "execution_count": 5,
   "metadata": {},
   "outputs": [
    {
     "name": "stdout",
     "output_type": "stream",
     "text": [
      "Jeremy Apthorp\n",
      "Jonah Williams\n",
      "Felix Angelov\n",
      "chencheng (云谦)\n",
      "Sebastián Ramírez\n",
      "Mariusz Nowak\n",
      "Dawid Urbaniak\n",
      "Jeffrey Su\n",
      "Hugo Bowne-Anderson\n",
      "Felipe Fialho\n",
      "Yuri Shkuro\n",
      "R.I.Pienaar\n",
      "Zeno Rocha\n",
      "Maxim Kulkin\n",
      "Robert Mosolgo\n",
      "Pierre Krieger\n",
      "Iman\n",
      "Luis Alvarez D.\n",
      "Matic Zavadlal\n",
      "Marten Seemann\n",
      "David Peter\n",
      "Jake Wharton\n",
      "Jeff Bezanson\n",
      "James Munnelly\n",
      "Matthew Johnson\n"
     ]
    }
   ],
   "source": [
    "# Limpiar el resultado y almacenarlo en una nueva lista\n",
    "nombres_cl = [(nombre.text).rstrip().lstrip() for nombre in nombres]\n",
    "\n",
    "# Imprimir el resultado\n",
    "for e in nombres_cl:\n",
    "    print(e)"
   ]
  },
  {
   "cell_type": "markdown",
   "metadata": {},
   "source": [
    "#### Display the trending Python repositories in GitHub\n",
    "\n",
    "The steps to solve this problem is similar to the previous one except that you need to find out the repository names instead of developer names."
   ]
  },
  {
   "cell_type": "code",
   "execution_count": 6,
   "metadata": {},
   "outputs": [],
   "source": [
    "# This is the url you will scrape in this exercise\n",
    "url = 'https://github.com/trending/python?since=daily'"
   ]
  },
  {
   "cell_type": "code",
   "execution_count": 7,
   "metadata": {},
   "outputs": [],
   "source": [
    "# Hacer la request\n",
    "request = requests.get(url)\n",
    "# Parsear la request con BeatifulSoup\n",
    "texto_soup = BeautifulSoup((requests.get(url)).text)\n",
    "#print(texto_soup)"
   ]
  },
  {
   "cell_type": "code",
   "execution_count": 8,
   "metadata": {},
   "outputs": [
    {
     "data": {
      "text/plain": [
       "'\\n\\n\\n\\n        caoscott /\\n\\n\\n\\n      SReC\\n\\n'"
      ]
     },
     "execution_count": 8,
     "metadata": {},
     "output_type": "execute_result"
    }
   ],
   "source": [
    "# Buscar todos los elementos h1 de clase 'h3 lh_condensed'\n",
    "repos = texto_soup.find_all(\"h1\", class_=\"h3 lh-condensed\")\n",
    "repos[1].text"
   ]
  },
  {
   "cell_type": "code",
   "execution_count": 9,
   "metadata": {},
   "outputs": [
    {
     "name": "stdout",
     "output_type": "stream",
     "text": [
      "pluradl.py\n",
      "SReC\n",
      "interview_internal_reference\n",
      "face_recognition\n",
      "skillbox-async-chat\n",
      "deocclusion\n",
      "text-to-text-transfer-transformer\n",
      "GitHub-Chinese-Top-Charts\n",
      "fastapi\n",
      "Real-Time-Voice-Cloning\n",
      "core\n",
      "ObstructionRemoval\n",
      "Whole-Foods-Delivery-Slot\n",
      "Games\n",
      "doccano\n",
      "jax\n",
      "HanLP\n",
      "pygta5\n",
      "ray\n",
      "elastalert\n",
      "InstaPy\n",
      "transformers\n",
      "Self-Driving-Car-in-Video-Games\n",
      "keras-retinanet\n",
      "airflow\n"
     ]
    }
   ],
   "source": [
    "# Cortamos el string por el / y nos quedamos con el segundo elemento\n",
    "cortados = [(repo.text).split(\"/\")[1] for repo in repos]\n",
    "#print(cortados)\n",
    "\n",
    "# Limpiar el resultado y almacenarlo en una nueva lista\n",
    "repos_cl = [(cortado).rstrip().lstrip() for cortado in cortados]\n",
    "\n",
    "# Imprimirlo\n",
    "for e in repos_cl:\n",
    "    print(e)"
   ]
  },
  {
   "cell_type": "markdown",
   "metadata": {},
   "source": [
    "#### Display all the image links from Walt Disney wikipedia page"
   ]
  },
  {
   "cell_type": "code",
   "execution_count": 72,
   "metadata": {},
   "outputs": [],
   "source": [
    "# This is the url you will scrape in this exercise\n",
    "url = 'https://en.wikipedia.org/wiki/Walt_Disney'"
   ]
  },
  {
   "cell_type": "code",
   "execution_count": 73,
   "metadata": {},
   "outputs": [],
   "source": [
    "# Hacer la request\n",
    "request = requests.get(url)\n",
    "# Parsear la request con BeatifulSoup\n",
    "texto_soup = BeautifulSoup((requests.get(url)).text)\n",
    "#print(texto_soup)"
   ]
  },
  {
   "cell_type": "code",
   "execution_count": 11,
   "metadata": {},
   "outputs": [
    {
     "data": {
      "text/plain": [
       "'//upload.wikimedia.org/wikipedia/en/thumb/e/e7/Cscr-featured.svg/20px-Cscr-featured.svg.png'"
      ]
     },
     "execution_count": 11,
     "metadata": {},
     "output_type": "execute_result"
    }
   ],
   "source": [
    "# Buscar todos los elementos h1 de clase 'h3 lh_condensed'\n",
    "images = texto_soup.find_all(\"img\")\n",
    "images[0].get('src')"
   ]
  },
  {
   "cell_type": "code",
   "execution_count": 14,
   "metadata": {},
   "outputs": [],
   "source": [
    "# Sacar las URL\n",
    "image_urls = [image.get('src') for image in images]"
   ]
  },
  {
   "cell_type": "code",
   "execution_count": 15,
   "metadata": {},
   "outputs": [
    {
     "data": {
      "text/html": [
       "<img src=\"https://upload.wikimedia.org/wikipedia/en/thumb/e/e7/Cscr-featured.svg/20px-Cscr-featured.svg.png\"/>"
      ],
      "text/plain": [
       "<IPython.core.display.Image object>"
      ]
     },
     "metadata": {},
     "output_type": "display_data"
    },
    {
     "data": {
      "text/html": [
       "<img src=\"https://upload.wikimedia.org/wikipedia/en/thumb/1/1b/Semi-protection-shackle.svg/20px-Semi-protection-shackle.svg.png\"/>"
      ],
      "text/plain": [
       "<IPython.core.display.Image object>"
      ]
     },
     "metadata": {},
     "output_type": "display_data"
    },
    {
     "data": {
      "text/html": [
       "<img src=\"https://upload.wikimedia.org/wikipedia/commons/thumb/d/df/Walt_Disney_1946.JPG/220px-Walt_Disney_1946.JPG\"/>"
      ],
      "text/plain": [
       "<IPython.core.display.Image object>"
      ]
     },
     "metadata": {},
     "output_type": "display_data"
    },
    {
     "data": {
      "text/html": [
       "<img src=\"https://upload.wikimedia.org/wikipedia/commons/thumb/8/87/Walt_Disney_1942_signature.svg/150px-Walt_Disney_1942_signature.svg.png\"/>"
      ],
      "text/plain": [
       "<IPython.core.display.Image object>"
      ]
     },
     "metadata": {},
     "output_type": "display_data"
    },
    {
     "data": {
      "text/html": [
       "<img src=\"https://upload.wikimedia.org/wikipedia/commons/thumb/c/c4/Walt_Disney_envelope_ca._1921.jpg/220px-Walt_Disney_envelope_ca._1921.jpg\"/>"
      ],
      "text/plain": [
       "<IPython.core.display.Image object>"
      ]
     },
     "metadata": {},
     "output_type": "display_data"
    },
    {
     "data": {
      "text/html": [
       "<img src=\"https://upload.wikimedia.org/wikipedia/commons/thumb/4/4d/Newman_Laugh-O-Gram_%281921%29.webm/220px-seek%3D2-Newman_Laugh-O-Gram_%281921%29.webm.jpg\"/>"
      ],
      "text/plain": [
       "<IPython.core.display.Image object>"
      ]
     },
     "metadata": {},
     "output_type": "display_data"
    },
    {
     "data": {
      "text/html": [
       "<img src=\"https://upload.wikimedia.org/wikipedia/commons/thumb/0/0d/Trolley_Troubles_poster.jpg/170px-Trolley_Troubles_poster.jpg\"/>"
      ],
      "text/plain": [
       "<IPython.core.display.Image object>"
      ]
     },
     "metadata": {},
     "output_type": "display_data"
    },
    {
     "data": {
      "text/html": [
       "<img src=\"https://upload.wikimedia.org/wikipedia/commons/thumb/7/71/Walt_Disney_and_his_cartoon_creation_%22Mickey_Mouse%22_-_National_Board_of_Review_Magazine.jpg/170px-Walt_Disney_and_his_cartoon_creation_%22Mickey_Mouse%22_-_National_Board_of_Review_Magazine.jpg\"/>"
      ],
      "text/plain": [
       "<IPython.core.display.Image object>"
      ]
     },
     "metadata": {},
     "output_type": "display_data"
    },
    {
     "data": {
      "text/html": [
       "<img src=\"https://upload.wikimedia.org/wikipedia/en/thumb/4/4e/Steamboat-willie.jpg/170px-Steamboat-willie.jpg\"/>"
      ],
      "text/plain": [
       "<IPython.core.display.Image object>"
      ]
     },
     "metadata": {},
     "output_type": "display_data"
    },
    {
     "data": {
      "text/html": [
       "<img src=\"https://upload.wikimedia.org/wikipedia/commons/thumb/5/57/Walt_Disney_1935.jpg/170px-Walt_Disney_1935.jpg\"/>"
      ],
      "text/plain": [
       "<IPython.core.display.Image object>"
      ]
     },
     "metadata": {},
     "output_type": "display_data"
    },
    {
     "data": {
      "text/html": [
       "<img src=\"https://upload.wikimedia.org/wikipedia/commons/thumb/c/cd/Walt_Disney_Snow_white_1937_trailer_screenshot_%2813%29.jpg/220px-Walt_Disney_Snow_white_1937_trailer_screenshot_%2813%29.jpg\"/>"
      ],
      "text/plain": [
       "<IPython.core.display.Image object>"
      ]
     },
     "metadata": {},
     "output_type": "display_data"
    },
    {
     "data": {
      "text/html": [
       "<img src=\"https://upload.wikimedia.org/wikipedia/commons/thumb/1/15/Disney_drawing_goofy.jpg/170px-Disney_drawing_goofy.jpg\"/>"
      ],
      "text/plain": [
       "<IPython.core.display.Image object>"
      ]
     },
     "metadata": {},
     "output_type": "display_data"
    },
    {
     "data": {
      "text/html": [
       "<img src=\"https://upload.wikimedia.org/wikipedia/commons/thumb/1/13/DisneySchiphol1951.jpg/220px-DisneySchiphol1951.jpg\"/>"
      ],
      "text/plain": [
       "<IPython.core.display.Image object>"
      ]
     },
     "metadata": {},
     "output_type": "display_data"
    },
    {
     "data": {
      "text/html": [
       "<img src=\"https://upload.wikimedia.org/wikipedia/commons/thumb/8/8c/WaltDisneyplansDisneylandDec1954.jpg/220px-WaltDisneyplansDisneylandDec1954.jpg\"/>"
      ],
      "text/plain": [
       "<IPython.core.display.Image object>"
      ]
     },
     "metadata": {},
     "output_type": "display_data"
    },
    {
     "data": {
      "text/html": [
       "<img src=\"https://upload.wikimedia.org/wikipedia/commons/thumb/f/ff/Walt_disney_portrait_right.jpg/170px-Walt_disney_portrait_right.jpg\"/>"
      ],
      "text/plain": [
       "<IPython.core.display.Image object>"
      ]
     },
     "metadata": {},
     "output_type": "display_data"
    },
    {
     "data": {
      "text/html": [
       "<img src=\"https://upload.wikimedia.org/wikipedia/commons/thumb/1/1a/Walt_Disney_Grave.JPG/170px-Walt_Disney_Grave.JPG\"/>"
      ],
      "text/plain": [
       "<IPython.core.display.Image object>"
      ]
     },
     "metadata": {},
     "output_type": "display_data"
    },
    {
     "data": {
      "text/html": [
       "<img src=\"https://upload.wikimedia.org/wikipedia/commons/thumb/2/2d/Roy_O._Disney_with_Company_at_Press_Conference.jpg/170px-Roy_O._Disney_with_Company_at_Press_Conference.jpg\"/>"
      ],
      "text/plain": [
       "<IPython.core.display.Image object>"
      ]
     },
     "metadata": {},
     "output_type": "display_data"
    },
    {
     "data": {
      "text/html": [
       "<img src=\"https://upload.wikimedia.org/wikipedia/commons/thumb/a/a9/Disney_Display_Case.JPG/170px-Disney_Display_Case.JPG\"/>"
      ],
      "text/plain": [
       "<IPython.core.display.Image object>"
      ]
     },
     "metadata": {},
     "output_type": "display_data"
    },
    {
     "data": {
      "text/html": [
       "<img src=\"https://upload.wikimedia.org/wikipedia/commons/thumb/6/6c/Disney1968.jpg/170px-Disney1968.jpg\"/>"
      ],
      "text/plain": [
       "<IPython.core.display.Image object>"
      ]
     },
     "metadata": {},
     "output_type": "display_data"
    },
    {
     "data": {
      "text/html": [
       "<img src=\"https://upload.wikimedia.org/wikipedia/en/thumb/8/8a/OOjs_UI_icon_edit-ltr-progressive.svg/10px-OOjs_UI_icon_edit-ltr-progressive.svg.png\"/>"
      ],
      "text/plain": [
       "<IPython.core.display.Image object>"
      ]
     },
     "metadata": {},
     "output_type": "display_data"
    },
    {
     "data": {
      "text/html": [
       "<img src=\"https://upload.wikimedia.org/wikipedia/commons/thumb/4/44/The_Walt_Disney_Company_Logo.svg/120px-The_Walt_Disney_Company_Logo.svg.png\"/>"
      ],
      "text/plain": [
       "<IPython.core.display.Image object>"
      ]
     },
     "metadata": {},
     "output_type": "display_data"
    },
    {
     "data": {
      "text/html": [
       "<img src=\"https://upload.wikimedia.org/wikipedia/commons/thumb/d/da/Animation_disc.svg/30px-Animation_disc.svg.png\"/>"
      ],
      "text/plain": [
       "<IPython.core.display.Image object>"
      ]
     },
     "metadata": {},
     "output_type": "display_data"
    },
    {
     "data": {
      "text/html": [
       "<img src=\"https://upload.wikimedia.org/wikipedia/en/thumb/6/69/P_vip.svg/29px-P_vip.svg.png\"/>"
      ],
      "text/plain": [
       "<IPython.core.display.Image object>"
      ]
     },
     "metadata": {},
     "output_type": "display_data"
    },
    {
     "data": {
      "text/html": [
       "<img src=\"https://upload.wikimedia.org/wikipedia/commons/thumb/1/1a/Magic_Kingdom_castle.jpg/24px-Magic_Kingdom_castle.jpg\"/>"
      ],
      "text/plain": [
       "<IPython.core.display.Image object>"
      ]
     },
     "metadata": {},
     "output_type": "display_data"
    },
    {
     "data": {
      "text/html": [
       "<img src=\"https://upload.wikimedia.org/wikipedia/en/thumb/e/e7/Video-x-generic.svg/30px-Video-x-generic.svg.png\"/>"
      ],
      "text/plain": [
       "<IPython.core.display.Image object>"
      ]
     },
     "metadata": {},
     "output_type": "display_data"
    },
    {
     "data": {
      "text/html": [
       "<img src=\"https://upload.wikimedia.org/wikipedia/commons/thumb/a/a3/Flag_of_Los_Angeles_County%2C_California.svg/30px-Flag_of_Los_Angeles_County%2C_California.svg.png\"/>"
      ],
      "text/plain": [
       "<IPython.core.display.Image object>"
      ]
     },
     "metadata": {},
     "output_type": "display_data"
    },
    {
     "data": {
      "text/html": [
       "<img src=\"https://upload.wikimedia.org/wikipedia/commons/thumb/8/8c/Blank_television_set.svg/30px-Blank_television_set.svg.png\"/>"
      ],
      "text/plain": [
       "<IPython.core.display.Image object>"
      ]
     },
     "metadata": {},
     "output_type": "display_data"
    },
    {
     "data": {
      "text/html": [
       "<img src=\"https://upload.wikimedia.org/wikipedia/en/thumb/a/a4/Flag_of_the_United_States.svg/30px-Flag_of_the_United_States.svg.png\"/>"
      ],
      "text/plain": [
       "<IPython.core.display.Image object>"
      ]
     },
     "metadata": {},
     "output_type": "display_data"
    },
    {
     "data": {
      "text/html": [
       "<img src=\"https://upload.wikimedia.org/wikipedia/en/thumb/4/4a/Commons-logo.svg/22px-Commons-logo.svg.png\"/>"
      ],
      "text/plain": [
       "<IPython.core.display.Image object>"
      ]
     },
     "metadata": {},
     "output_type": "display_data"
    },
    {
     "data": {
      "text/html": [
       "<img src=\"https://upload.wikimedia.org/wikipedia/commons/thumb/f/fa/Wikiquote-logo.svg/25px-Wikiquote-logo.svg.png\"/>"
      ],
      "text/plain": [
       "<IPython.core.display.Image object>"
      ]
     },
     "metadata": {},
     "output_type": "display_data"
    },
    {
     "data": {
      "text/html": [
       "<img src=\"https://upload.wikimedia.org/wikipedia/commons/thumb/f/ff/Wikidata-logo.svg/30px-Wikidata-logo.svg.png\"/>"
      ],
      "text/plain": [
       "<IPython.core.display.Image object>"
      ]
     },
     "metadata": {},
     "output_type": "display_data"
    },
    {
     "data": {
      "text/html": [
       "<img src=\"https://upload.wikimedia.org/wikipedia/en/thumb/8/8a/OOjs_UI_icon_edit-ltr-progressive.svg/10px-OOjs_UI_icon_edit-ltr-progressive.svg.png\"/>"
      ],
      "text/plain": [
       "<IPython.core.display.Image object>"
      ]
     },
     "metadata": {},
     "output_type": "display_data"
    },
    {
     "data": {
      "text/html": [
       "<img src=\"https://en.wikipedia.org/wiki/Special:CentralAutoLogin/start?type=1x1\"/>"
      ],
      "text/plain": [
       "<IPython.core.display.Image object>"
      ]
     },
     "metadata": {},
     "output_type": "display_data"
    },
    {
     "data": {
      "text/html": [
       "<img src=\"https:/static/images/wikimedia-button.png\"/>"
      ],
      "text/plain": [
       "<IPython.core.display.Image object>"
      ]
     },
     "metadata": {},
     "output_type": "display_data"
    },
    {
     "data": {
      "text/html": [
       "<img src=\"https:/static/images/poweredby_mediawiki_88x31.png\"/>"
      ],
      "text/plain": [
       "<IPython.core.display.Image object>"
      ]
     },
     "metadata": {},
     "output_type": "display_data"
    }
   ],
   "source": [
    "# Imprimirlas. Añadir https al comienzo de la url para que funcione\n",
    "for e in image_urls:\n",
    "    display(Image(url=f\"https:{e}\"))   \n",
    "    "
   ]
  },
  {
   "cell_type": "code",
   "execution_count": 19,
   "metadata": {},
   "outputs": [
    {
     "ename": "NameError",
     "evalue": "name 'images_url' is not defined",
     "output_type": "error",
     "traceback": [
      "\u001b[0;31m---------------------------------------------------------------------------\u001b[0m",
      "\u001b[0;31mNameError\u001b[0m                                 Traceback (most recent call last)",
      "\u001b[0;32m<ipython-input-19-08f2f534ad2b>\u001b[0m in \u001b[0;36m<module>\u001b[0;34m\u001b[0m\n\u001b[0;32m----> 1\u001b[0;31m \u001b[0mprint\u001b[0m\u001b[0;34m(\u001b[0m\u001b[0mimages_url\u001b[0m\u001b[0;34m)\u001b[0m\u001b[0;34m\u001b[0m\u001b[0;34m\u001b[0m\u001b[0m\n\u001b[0m",
      "\u001b[0;31mNameError\u001b[0m: name 'images_url' is not defined"
     ]
    }
   ],
   "source": [
    "print(images_url)"
   ]
  },
  {
   "cell_type": "markdown",
   "metadata": {},
   "source": [
    "#### Retrieve an arbitary Wikipedia page of \"Python\" and create a list of links on that page"
   ]
  },
  {
   "cell_type": "code",
   "execution_count": 28,
   "metadata": {},
   "outputs": [],
   "source": [
    "# This is the url you will scrape in this exercise\n",
    "url ='https://en.wikipedia.org/wiki/Pythonidae' "
   ]
  },
  {
   "cell_type": "code",
   "execution_count": 29,
   "metadata": {},
   "outputs": [],
   "source": [
    "# Hacer la request\n",
    "request = requests.get(url)\n",
    "# Parsear la request con BeatifulSoup\n",
    "texto_soup = BeautifulSoup((requests.get(url)).text)\n",
    "#print(texto_soup)"
   ]
  },
  {
   "cell_type": "code",
   "execution_count": 30,
   "metadata": {},
   "outputs": [
    {
     "data": {
      "text/plain": [
       "<a class=\"mw-jump-link\" href=\"#mw-head\">Jump to navigation</a>"
      ]
     },
     "execution_count": 30,
     "metadata": {},
     "output_type": "execute_result"
    }
   ],
   "source": [
    "# Sacar los links\n",
    "links = texto_soup.find_all(\"a\")\n",
    "links[1]"
   ]
  },
  {
   "cell_type": "code",
   "execution_count": 31,
   "metadata": {},
   "outputs": [
    {
     "name": "stdout",
     "output_type": "stream",
     "text": [
      "None\n",
      "#mw-head\n",
      "#p-search\n",
      "/wiki/File:Python_molurus_molurus_2.jpg\n",
      "/wiki/Indian_python\n",
      "/wiki/Taxonomy_(biology)\n",
      "/wiki/Template:Taxonomy/Pythonidae\n",
      "/wiki/Animal\n",
      "/wiki/Chordate\n",
      "/wiki/Reptile\n",
      "/wiki/Squamata\n",
      "/wiki/Snake\n",
      "/wiki/Pythonoidea\n",
      "None\n",
      "/wiki/Leopold_Fitzinger\n",
      "/wiki/Synonym_(taxonomy)\n",
      "#cite_note-McD99-1\n",
      "/wiki/Family_(biology)\n",
      "/wiki/Venomous_snake\n",
      "/wiki/Snake\n",
      "/wiki/Genus\n",
      "/wiki/Species\n",
      "#cite_note-ITIS-2\n",
      "#Distribution_and_habitat\n",
      "#Conservation\n",
      "#Behavior\n",
      "#Feeding\n",
      "#Reproduction\n",
      "#Captivity\n",
      "#Taxonomy\n",
      "#Genera\n",
      "#Relationship_with_humans\n",
      "#Poaching\n",
      "#Pythons_and_human_health\n",
      "#Traditional_Use\n",
      "#Skin\n",
      "#Fat\n",
      "#Blood\n",
      "#Feces\n",
      "#Organs\n",
      "#Folklore\n",
      "#References\n",
      "#Notes\n",
      "#Citations\n",
      "#External_links\n",
      "/w/index.php?title=Pythonidae&action=edit&section=1\n",
      "/wiki/Sub-Saharan_Africa\n",
      "/wiki/Nepal\n",
      "/wiki/India\n",
      "/wiki/Sri_Lanka\n",
      "/wiki/Burma\n",
      "/wiki/Philippines\n",
      "/wiki/Indonesia\n",
      "/wiki/New_Guinea\n",
      "/wiki/Australia\n",
      "#cite_note-McD99-1\n",
      "/wiki/Burmese_python\n",
      "/wiki/Invasive_species\n",
      "/wiki/Everglades_National_Park\n",
      "#cite_note-NGeo-3\n",
      "/w/index.php?title=Pythonidae&action=edit&section=2\n",
      "/wiki/Python_molurus\n",
      "/w/index.php?title=Pythonidae&action=edit&section=3\n",
      "/wiki/File:Blackheaded_python2.jpg\n",
      "/wiki/File:Blackheaded_python2.jpg\n",
      "/wiki/Aspidites_melanocephalus\n",
      "/wiki/Ambush_predator\n",
      "#cite_note-Wang-4\n",
      "#cite_note-5\n",
      "/w/index.php?title=Pythonidae&action=edit&section=4\n",
      "/wiki/Constriction\n",
      "#cite_note-6\n",
      "#cite_note-7\n",
      "/wiki/Deer\n",
      "/wiki/Python_sebae\n",
      "/wiki/Antelope\n",
      "/wiki/Human\n",
      "/wiki/Sulawesi\n",
      "/wiki/Indonesia\n",
      "#cite_note-8\n",
      "/wiki/Python_reticulatus\n",
      "/wiki/File:Python_skull_rotation.gif\n",
      "/wiki/File:Python_skull_rotation.gif\n",
      "/w/index.php?title=Pythonidae&action=edit&section=5\n",
      "/wiki/Oviparous\n",
      "/wiki/Boidae\n",
      "/wiki/Ovoviviparous\n",
      "/w/index.php?title=Pythonidae&action=edit&section=6\n",
      "#cite_note-Anapsid-9\n",
      "#cite_note-10\n",
      "/w/index.php?title=Pythonidae&action=edit&section=7\n",
      "/wiki/George_Albert_Boulenger\n",
      "/wiki/Pythoninae\n",
      "/wiki/Subfamily\n",
      "/wiki/Boidae\n",
      "#cite_note-McD99-1\n",
      "/wiki/Xenopeltis\n",
      "/wiki/Loxocemus\n",
      "#cite_note-11\n",
      "#cite_note-12\n",
      "/w/index.php?title=Pythonidae&action=edit&section=8\n",
      "#cite_note-ITIS-2\n",
      "#cite_note-ITIS-2\n",
      "#cite_note-ITIS-2\n",
      "#cite_note-13\n",
      "#cite_note-ITIS-2\n",
      "#cite_note-McD99-1\n",
      "/wiki/Antaresia\n",
      "/wiki/Apodora\n",
      "#cite_note-14\n",
      "/wiki/Aspidites\n",
      "/wiki/Wilhelm_Peters\n",
      "/wiki/Bothrochilus\n",
      "/wiki/Leopold_Fitzinger\n",
      "/wiki/Salawati\n",
      "/wiki/Biak\n",
      "/wiki/Normanby_Island,_Papua_New_Guinea\n",
      "/wiki/Mussau_Island\n",
      "/wiki/Torres_Strait\n",
      "/wiki/Liasis\n",
      "/wiki/John_Edward_Gray\n",
      "/wiki/Indonesia\n",
      "/wiki/Lesser_Sunda_Islands\n",
      "/wiki/Malayopython\n",
      "/wiki/Morelia_(snake)\n",
      "/wiki/Maluku_Islands\n",
      "/wiki/Python_(genus)\n",
      "#cite_note-15\n",
      "/wiki/Fran%C3%A7ois_Marie_Daudin\n",
      "/wiki/Sahara\n",
      "/wiki/Madagascar\n",
      "/wiki/Bangladesh\n",
      "/wiki/Sri_Lanka\n",
      "/wiki/Nicobar_Islands\n",
      "/wiki/Burma\n",
      "/wiki/Indochina\n",
      "/wiki/Hong_Kong\n",
      "/wiki/Hainan\n",
      "/wiki/Indonesia\n",
      "/wiki/Philippines\n",
      "/wiki/Simalia\n",
      "/wiki/Halmahera\n",
      "/wiki/Ambon_Island\n",
      "/wiki/Seram_Island\n",
      "/wiki/Maluku_Islands\n",
      "/wiki/Northern_Territory\n",
      "/wiki/Queensland\n",
      "/wiki/Torres_Strait\n",
      "/wiki/Papua_New_Guinea\n",
      "/w/index.php?title=Pythonidae&action=edit&section=9\n",
      "/w/index.php?title=Pythonidae&action=edit&section=10\n",
      "/wiki/Poaching\n",
      "#cite_note-16\n",
      "/wiki/Bushmeat\n",
      "#cite_note-Jensen_2017-17\n",
      "#cite_note-18\n",
      "/wiki/Bushmeat\n",
      "/wiki/Cameroon\n",
      "/wiki/African_rock_python\n",
      "#cite_note-Jensen_2017-17\n",
      "/wiki/Cameroon\n",
      "/wiki/Kenya\n",
      "/wiki/Snakeskin\n",
      "#cite_note-19\n",
      "/w/index.php?title=Pythonidae&action=edit&section=11\n",
      "/wiki/Salmonellosis\n",
      "/wiki/Chlamydia_infection\n",
      "/wiki/Leptospirosis\n",
      "/wiki/Campylobacteriosis\n",
      "/wiki/Zygomycosis\n",
      "#cite_note-20\n",
      "#cite_note-21\n",
      "/wiki/Sepsis\n",
      "/wiki/Meningitis\n",
      "#cite_note-22\n",
      "#cite_note-Soewu_2008-23\n",
      "/wiki/Hispid_cotton_rat\n",
      "/wiki/Everglades_virus\n",
      "#cite_note-24\n",
      "/w/index.php?title=Pythonidae&action=edit&section=12\n",
      "/w/index.php?title=Pythonidae&action=edit&section=13\n",
      "#cite_note-AlexanderMoshoeu2016-25\n",
      "/wiki/South_Africa\n",
      "/wiki/Zulu_people\n",
      "#cite_note-AlexanderMoshoeu2016-25\n",
      "#cite_note-AlexanderMoshoeu2016-25\n",
      "/w/index.php?title=Pythonidae&action=edit&section=14\n",
      "#cite_note-AlexanderMoshoeu2016-25\n",
      "/wiki/Joint_pain\n",
      "/wiki/Rheumatism\n",
      "/wiki/Toothache\n",
      "/wiki/Eye_sight\n",
      "#cite_note-:2-26\n",
      "/wiki/Psychosis\n",
      "#cite_note-KajawuChingarande2015-27\n",
      "#cite_note-:2-26\n",
      "/w/index.php?title=Pythonidae&action=edit&section=15\n",
      "/wiki/Traditional_medicine\n",
      "/wiki/Fatty_acid\n",
      "/wiki/Triglyceride\n",
      "/wiki/Lipid\n",
      "#cite_note-:2-26\n",
      "#cite_note-:2-26\n",
      "#cite_note-28\n",
      "/w/index.php?title=Pythonidae&action=edit&section=16\n",
      "/wiki/Tanzania\n",
      "/wiki/Feces\n",
      "#cite_note-29\n",
      "/w/index.php?title=Pythonidae&action=edit&section=17\n",
      "/wiki/Gallbladder\n",
      "/wiki/Liver\n",
      "#cite_note-Soewu_2008-23\n",
      "#cite_note-Soewu_2008-23\n",
      "/w/index.php?title=Pythonidae&action=edit&section=18\n",
      "/wiki/Ghana\n",
      "#cite_note-30\n",
      "/wiki/Botswana\n",
      "#cite_note-31\n",
      "/wiki/Benin\n",
      "/wiki/Yoruba_language\n",
      "#cite_note-32\n",
      "/w/index.php?title=Pythonidae&action=edit&section=19\n",
      "/w/index.php?title=Pythonidae&action=edit&section=20\n",
      "#cite_ref-13\n",
      "#cite_ref-15\n",
      "/wiki/Type_genus\n",
      "#cite_note-McD99-1\n",
      "/w/index.php?title=Pythonidae&action=edit&section=21\n",
      "#cite_ref-McD99_1-0\n",
      "#cite_ref-McD99_1-1\n",
      "#cite_ref-McD99_1-2\n",
      "#cite_ref-McD99_1-3\n",
      "#cite_ref-McD99_1-4\n",
      "https://books.google.com/books?id=GQOuswEACAAJ\n",
      "/wiki/International_Standard_Book_Number\n",
      "/wiki/Special:BookSources/978-1-893777-01-9\n",
      "#cite_ref-ITIS_2-0\n",
      "#cite_ref-ITIS_2-1\n",
      "#cite_ref-ITIS_2-2\n",
      "#cite_ref-ITIS_2-3\n",
      "#cite_ref-ITIS_2-4\n",
      "https://www.itis.gov/servlet/SingleRpt/SingleRpt?search_topic=TSN&search_value=563893\n",
      "/wiki/Integrated_Taxonomic_Information_System\n",
      "#cite_ref-NGeo_3-0\n",
      "http://news.nationalgeographic.com/news/2004/06/0603_040603_invasivespecies.html\n",
      "#cite_ref-Wang_4-0\n",
      "https://www.washingtonpost.com/news/worldviews/wp/2017/03/29/an-indonesian-man-disappeared-villagers-found-his-body-inside-a-23-foot-long-python/\n",
      "#cite_ref-5\n",
      "https://www.washingtonpost.com/news/worldviews/wp/2018/06/16/a-woman-went-to-check-her-corn-and-was-swallowed-by-a-python/?wpisrc=nl_most&wpmm=1\n",
      "#cite_ref-6\n",
      "#cite_ref-7\n",
      "/wiki/Digital_object_identifier\n",
      "https://doi.org/10.1242%2Fjeb.121384\n",
      "/wiki/PubMed_Identifier\n",
      "//pubmed.ncbi.nlm.nih.gov/26202779\n",
      "#cite_ref-8\n",
      "https://www.theguardian.com/world/2017/mar/29/giant-python-swallows-indonesian-farmer-in-one-go\n",
      "#cite_ref-Anapsid_9-0\n",
      "http://www.anapsid.org/coloburm.html\n",
      "#cite_ref-10\n",
      "http://m.humanesociety.org/assets/pdfs/wildlife/captive/constrictor-snake-attacks.pdf\n",
      "#cite_ref-11\n",
      "//www.ncbi.nlm.nih.gov/pmc/articles/PMC3682911\n",
      "/wiki/Digital_object_identifier\n",
      "https://doi.org/10.1186%2F1471-2148-13-93\n",
      "/wiki/PubMed_Central\n",
      "//www.ncbi.nlm.nih.gov/pmc/articles/PMC3682911\n",
      "/wiki/PubMed_Identifier\n",
      "//pubmed.ncbi.nlm.nih.gov/23627680\n",
      "#cite_ref-12\n",
      "http://www.rgrahamreynolds.info/wp-content/uploads/2014/01/Reynolds_etal_2014_MPE.pdf\n",
      "/wiki/Digital_object_identifier\n",
      "https://doi.org/10.1016%2Fj.ympev.2013.11.011\n",
      "/wiki/PubMed_Identifier\n",
      "//pubmed.ncbi.nlm.nih.gov/24315866\n",
      "#cite_ref-14\n",
      "https://media.australianmuseum.net.au/media/Uploads/Journals/16847/52_complete.pdf\n",
      "/wiki/Digital_object_identifier\n",
      "https://doi.org/10.3853%2Fj.0812-7387.19.1993.52\n",
      "/wiki/International_Standard_Book_Number\n",
      "/wiki/Special:BookSources/0-7310-1164-3\n",
      "#cite_ref-16\n",
      "https://www.bbc.com/news/science-environment-20509720\n",
      "#cite_ref-Jensen_2017_17-0\n",
      "#cite_ref-Jensen_2017_17-1\n",
      "https://blog.nationalgeographic.org/2017/09/05/large-snakes-are-on-the-menu-at-cameroons-nkoldongo-bushmeat-market/\n",
      "#cite_ref-18\n",
      "https://motherboard.vice.com/en_us/article/pgapvv/snake-farms-could-tackle-the-billion-dollar-black-market-for-python-skin\n",
      "#cite_ref-19\n",
      "https://www.bbc.com/news/business-38499611\n",
      "#cite_ref-20\n",
      "https://ras.research.cornell.edu/care/documents/OHS/zoonosis_information_sheet_reptiles.pdf\n",
      "#cite_ref-21\n",
      "/wiki/Digital_object_identifier\n",
      "https://doi.org/10.1016%2Fj.apjtm.2017.07.020\n",
      "/wiki/PubMed_Identifier\n",
      "//pubmed.ncbi.nlm.nih.gov/28942820\n",
      "#cite_ref-22\n",
      "https://www.zora.uzh.ch/id/eprint/79426/1/Meyer_Vector-Borne_2013.pdf\n",
      "/wiki/Digital_object_identifier\n",
      "https://doi.org/10.1089%2Fvbz.2012.1133\n",
      "/wiki/PubMed_Identifier\n",
      "//pubmed.ncbi.nlm.nih.gov/23473215\n",
      "#cite_ref-Soewu_2008_23-0\n",
      "#cite_ref-Soewu_2008_23-1\n",
      "#cite_ref-Soewu_2008_23-2\n",
      "https://www.researchgate.net/publication/228671991\n",
      "#cite_ref-24\n",
      "//www.ncbi.nlm.nih.gov/pmc/articles/PMC5665769\n",
      "/wiki/Digital_object_identifier\n",
      "https://doi.org/10.1098%2Frsbl.2017.0353\n",
      "/wiki/PubMed_Central\n",
      "//www.ncbi.nlm.nih.gov/pmc/articles/PMC5665769\n",
      "/wiki/PubMed_Identifier\n",
      "//pubmed.ncbi.nlm.nih.gov/28978755\n",
      "#cite_ref-AlexanderMoshoeu2016_25-0\n",
      "#cite_ref-AlexanderMoshoeu2016_25-1\n",
      "#cite_ref-AlexanderMoshoeu2016_25-2\n",
      "#cite_ref-AlexanderMoshoeu2016_25-3\n",
      "https://www.academia.edu/36768122\n",
      "/wiki/Digital_object_identifier\n",
      "https://doi.org/10.17159%2Fsajs.2016%2F20150416\n",
      "/wiki/International_Standard_Serial_Number\n",
      "//www.worldcat.org/issn/0038-2353\n",
      "#cite_ref-:2_26-0\n",
      "#cite_ref-:2_26-1\n",
      "#cite_ref-:2_26-2\n",
      "#cite_ref-:2_26-3\n",
      "https://www.sryahwapublications.com/journal-of-zoological-research/volume-1-issue-1/1.php\n",
      "#cite_ref-KajawuChingarande2015_27-0\n",
      "https://www.researchgate.net/publication/283805674\n",
      "/wiki/Digital_object_identifier\n",
      "https://doi.org/10.1080%2F17542863.2015.1106568\n",
      "/wiki/International_Standard_Serial_Number\n",
      "//www.worldcat.org/issn/1754-2863\n",
      "#cite_ref-28\n",
      "//www.ncbi.nlm.nih.gov/pmc/articles/PMC2853519\n",
      "/wiki/Digital_object_identifier\n",
      "https://doi.org/10.1186%2F1746-4269-6-13\n",
      "/wiki/PubMed_Central\n",
      "//www.ncbi.nlm.nih.gov/pmc/articles/PMC2853519\n",
      "/wiki/PubMed_Identifier\n",
      "//pubmed.ncbi.nlm.nih.gov/20346120\n",
      "#cite_ref-29\n",
      "//www.ncbi.nlm.nih.gov/pmc/articles/PMC4472419\n",
      "/wiki/Digital_object_identifier\n",
      "https://doi.org/10.1186%2Fs13002-015-0001-y\n",
      "/wiki/PubMed_Central\n",
      "//www.ncbi.nlm.nih.gov/pmc/articles/PMC4472419\n",
      "/wiki/PubMed_Identifier\n",
      "//pubmed.ncbi.nlm.nih.gov/25947365\n",
      "#cite_ref-30\n",
      "http://www.jpanafrican.org/docs/vol8no9/8.9-10-FDiawuo.pdf\n",
      "#cite_ref-31\n",
      "https://www.apollon.uio.no/english/articles/2006/python-english.html\n",
      "#cite_ref-32\n",
      "https://www.bbc.com/news/world-africa-41048840\n",
      "/w/index.php?title=Pythonidae&action=edit&section=22\n",
      "/wiki/Wikispecies\n",
      "https://species.wikimedia.org/wiki/Special:Search/Pythonidae\n",
      "https://commons.wikimedia.org/wiki/Special:Search/Pythonidae\n",
      "http://reptile-database.reptarium.cz/search.php?submit=Search&taxon=Pythonidae\n",
      "http://reptile-database.reptarium.cz/\n",
      "http://www.answers.com/topic/pythons-pythonidae-biological-family\n",
      "http://www.answers.com/\n",
      "/wiki/Template:Pythonidae\n",
      "/wiki/Template_talk:Pythonidae\n",
      "https://en.wikipedia.org/w/index.php?title=Template:Pythonidae&action=edit\n",
      "None\n",
      "/wiki/Antaresia\n",
      "/wiki/Antaresia_childreni\n",
      "/wiki/Antaresia_maculosa\n",
      "/wiki/Antaresia_perthensis\n",
      "/wiki/Antaresia_stimsoni\n",
      "/wiki/Apodora\n",
      "/wiki/Apodora_papuana\n",
      "/wiki/Aspidites\n",
      "/wiki/Aspidites_melanocephalus\n",
      "/wiki/Aspidites_ramsayi\n",
      "/wiki/Bothrochilus\n",
      "/wiki/Bothrochilus_albertisii\n",
      "/wiki/Bothrochilus_biakensis\n",
      "/wiki/Bothrochilus_boa\n",
      "/wiki/Bothrochilus_fredparkeri\n",
      "/wiki/Bothrochilus_huonensis\n",
      "/wiki/Bothrochilus_meridionalis\n",
      "/wiki/Bothrochilus_montanus\n",
      "/wiki/Liasis\n",
      "/wiki/Liasis_fuscus\n",
      "/wiki/Liasis_mackloti\n",
      "/wiki/Liasis_olivaceus\n",
      "/wiki/Morelia_(snake)\n",
      "/wiki/Morelia_amethistina\n",
      "/wiki/Morelia_boeleni\n",
      "/wiki/Morelia_bredli\n",
      "/wiki/Morelia_carinata\n",
      "/wiki/Morelia_oenpelliensis\n",
      "/wiki/Morelia_spilota\n",
      "/wiki/Morelia_viridis\n",
      "/wiki/Malayopython\n",
      "/wiki/Malayopython_reticulatus\n",
      "/wiki/Malayopython_timoriensis\n",
      "/wiki/Python_(genus)\n",
      "/wiki/Python_anchietae\n",
      "/wiki/Python_bivittatus\n",
      "/wiki/Python_breitensteini\n",
      "/wiki/Python_brongersmai\n",
      "/wiki/Python_curtus\n",
      "/wiki/Python_kyaiktiyo\n",
      "/wiki/Python_molurus\n",
      "/wiki/Python_regius\n",
      "/wiki/Python_sebae\n",
      "/wiki/Template:Squamata_families\n",
      "/wiki/Template_talk:Squamata_families\n",
      "https://en.wikipedia.org/w/index.php?title=Template:Squamata_families&action=edit\n",
      "/wiki/List_of_Serpentes_families\n",
      "/wiki/Chordate\n",
      "/wiki/Reptile\n",
      "/wiki/Squamata\n",
      "/wiki/Snake\n",
      "/wiki/Alethinophidia\n",
      "/wiki/Acrochordidae\n",
      "/wiki/Aniliidae\n",
      "/wiki/Anomochilidae\n",
      "/wiki/Atractaspididae\n",
      "/wiki/Boidae\n",
      "/wiki/Bolyeriidae\n",
      "/wiki/Colubridae\n",
      "/wiki/Cylindrophis\n",
      "/wiki/Elapidae\n",
      "/wiki/Loxocemidae\n",
      "None\n",
      "/wiki/Tropidophiidae\n",
      "/wiki/Uropeltidae\n",
      "/wiki/Viperidae\n",
      "/wiki/Xenopeltidae\n",
      "/wiki/Scolecophidia\n",
      "/wiki/Anomalepididae\n",
      "/wiki/Gerrhopilidae\n",
      "/wiki/Leptotyphlopidae\n",
      "/wiki/Typhlopidae\n",
      "/wiki/Xenotyphlopidae\n",
      "/wiki/Help:Taxon_identifiers\n",
      "/wiki/Wikidata\n",
      "https://www.wikidata.org/wiki/Q184018\n",
      "/wiki/Wikispecies\n",
      "https://species.wikimedia.org/wiki/Pythonidae\n",
      "/wiki/EPPO_Code\n",
      "https://gd.eppo.int/taxon/1PYTNF\n",
      "/wiki/Fossilworks\n",
      "http://fossilworks.org/bridge.pl?a=taxonInfo&taxon_no=99994\n",
      "/wiki/Global_Biodiversity_Information_Facility\n",
      "https://www.gbif.org/species/4287591\n",
      "/wiki/INaturalist\n",
      "https://www.inaturalist.org/taxa/67532\n",
      "/wiki/Interim_Register_of_Marine_and_Nonmarine_Genera\n",
      "http://www.irmng.org/aphia.php?p=taxdetails&id=118691\n",
      "/wiki/Integrated_Taxonomic_Information_System\n",
      "https://www.itis.gov/servlet/SingleRpt/SingleRpt?search_topic=TSN&search_value=563893\n",
      "/wiki/National_Center_for_Biotechnology_Information\n",
      "https://www.ncbi.nlm.nih.gov/Taxonomy/Browser/wwwtax.cgi?mode=Info&id=34984\n",
      "https://en.wikipedia.org/w/index.php?title=Pythonidae&oldid=947387395\n",
      "/wiki/Help:Category\n",
      "/wiki/Category:Pythonidae\n",
      "/wiki/Category:Snake_families\n",
      "/wiki/Category:Taxa_named_by_Leopold_Fitzinger\n",
      "/wiki/Category:CS1:_long_volume_value\n",
      "/wiki/Category:Articles_with_short_description\n",
      "/wiki/Category:Articles_with_%27species%27_microformats\n",
      "/wiki/Special:MyTalk\n",
      "/wiki/Special:MyContributions\n",
      "/w/index.php?title=Special:CreateAccount&returnto=Pythonidae\n",
      "/w/index.php?title=Special:UserLogin&returnto=Pythonidae\n",
      "/wiki/Pythonidae\n",
      "/wiki/Talk:Pythonidae\n",
      "/wiki/Pythonidae\n",
      "/w/index.php?title=Pythonidae&action=edit\n",
      "/w/index.php?title=Pythonidae&action=history\n",
      "/wiki/Main_Page\n",
      "/wiki/Main_Page\n",
      "/wiki/Wikipedia:Contents\n",
      "/wiki/Wikipedia:Featured_content\n",
      "/wiki/Portal:Current_events\n",
      "/wiki/Special:Random\n",
      "https://donate.wikimedia.org/wiki/Special:FundraiserRedirector?utm_source=donate&utm_medium=sidebar&utm_campaign=C13_en.wikipedia.org&uselang=en\n",
      "//shop.wikimedia.org\n",
      "/wiki/Help:Contents\n",
      "/wiki/Wikipedia:About\n",
      "/wiki/Wikipedia:Community_portal\n",
      "/wiki/Special:RecentChanges\n",
      "//en.wikipedia.org/wiki/Wikipedia:Contact_us\n",
      "/wiki/Special:WhatLinksHere/Pythonidae\n",
      "/wiki/Special:RecentChangesLinked/Pythonidae\n",
      "/wiki/Wikipedia:File_Upload_Wizard\n",
      "/wiki/Special:SpecialPages\n",
      "/w/index.php?title=Pythonidae&oldid=947387395\n",
      "/w/index.php?title=Pythonidae&action=info\n",
      "https://www.wikidata.org/wiki/Special:EntityPage/Q184018\n",
      "/w/index.php?title=Special:CiteThisPage&page=Pythonidae&id=947387395&wpFormIdentifier=titleform\n",
      "https://commons.wikimedia.org/wiki/Category:Pythonidae\n",
      "https://species.wikimedia.org/wiki/Pythonidae\n",
      "/w/index.php?title=Special:Book&bookcmd=book_creator&referer=Pythonidae\n",
      "/w/index.php?title=Special:ElectronPdf&page=Pythonidae&action=show-download-screen\n",
      "/w/index.php?title=Pythonidae&printable=yes\n",
      "https://af.wikipedia.org/wiki/Luislange\n",
      "https://ar.wikipedia.org/wiki/%D8%AD%D9%81%D8%A7%D8%AB%D9%8A%D8%A7%D8%AA\n",
      "https://az.wikipedia.org/wiki/Pitonlar\n",
      "https://bn.wikipedia.org/wiki/%E0%A6%85%E0%A6%9C%E0%A6%97%E0%A6%B0\n",
      "https://be.wikipedia.org/wiki/%D0%9F%D1%96%D1%82%D0%BE%D0%BD%D1%8B\n",
      "https://bg.wikipedia.org/wiki/%D0%9F%D0%B8%D1%82%D0%BE%D0%BD%D0%BE%D0%B2%D0%B8\n",
      "https://br.wikipedia.org/wiki/Naer-biton\n",
      "https://ca.wikipedia.org/wiki/Pitons_(fam%C3%ADlia)\n",
      "https://cs.wikipedia.org/wiki/Krajty\n",
      "https://sn.wikipedia.org/wiki/Shato\n",
      "https://cy.wikipedia.org/wiki/Peithon\n",
      "https://de.wikipedia.org/wiki/Pythons\n",
      "https://et.wikipedia.org/wiki/P%C3%BC%C3%BCtonlased\n",
      "https://es.wikipedia.org/wiki/Pythonidae\n",
      "https://eo.wikipedia.org/wiki/Pitonedoj\n",
      "https://eu.wikipedia.org/wiki/Pythonidae\n",
      "https://fa.wikipedia.org/wiki/%D9%BE%D8%A7%DB%8C%D8%AA%D9%88%D9%86%D8%A7%D9%86\n",
      "https://fr.wikipedia.org/wiki/Pythonidae\n",
      "https://gl.wikipedia.org/wiki/Pythonidae\n",
      "https://ko.wikipedia.org/wiki/%EB%B9%84%EB%8B%A8%EB%B1%80%EA%B3%BC\n",
      "https://hy.wikipedia.org/wiki/%D5%8A%D5%AB%D5%A9%D5%B8%D5%B6%D5%B6%D5%A5%D6%80\n",
      "https://hi.wikipedia.org/wiki/%E0%A4%85%E0%A4%9C%E0%A4%97%E0%A4%B0\n",
      "https://hr.wikipedia.org/wiki/Pitoni\n",
      "https://id.wikipedia.org/wiki/Sanca\n",
      "https://it.wikipedia.org/wiki/Pythonidae\n",
      "https://he.wikipedia.org/wiki/%D7%A4%D7%99%D7%AA%D7%95%D7%A0%D7%99%D7%99%D7%9D\n",
      "https://ka.wikipedia.org/wiki/%E1%83%9E%E1%83%98%E1%83%97%E1%83%9D%E1%83%9C%E1%83%94%E1%83%91%E1%83%98\n",
      "https://kk.wikipedia.org/wiki/%D0%9F%D0%B8%D1%82%D0%BE%D0%BD%D0%B4%D0%B0%D1%80\n",
      "https://ky.wikipedia.org/wiki/%D0%9F%D0%B8%D1%82%D0%BE%D0%BD%D0%B4%D0%BE%D1%80\n",
      "https://mrj.wikipedia.org/wiki/%D0%9F%D0%B8%D1%82%D0%BE%D0%BD\n",
      "https://lv.wikipedia.org/wiki/Pitonu_dzimta\n",
      "https://lt.wikipedia.org/wiki/Pitoniniai\n",
      "https://ln.wikipedia.org/wiki/Ng%C3%BAma\n",
      "https://hu.wikipedia.org/wiki/Pitonf%C3%A9l%C3%A9k\n",
      "https://ms.wikipedia.org/wiki/Pythonidae\n",
      "https://nl.wikipedia.org/wiki/Pythons\n",
      "https://new.wikipedia.org/wiki/%E0%A4%85%E0%A4%9C%E0%A4%BF%E0%A4%99%E0%A5%8D%E0%A4%97%E0%A4%B0\n",
      "https://ja.wikipedia.org/wiki/%E3%83%8B%E3%82%B7%E3%82%AD%E3%83%98%E3%83%93%E7%A7%91\n",
      "https://no.wikipedia.org/wiki/Pytonslanger\n",
      "https://pnb.wikipedia.org/wiki/%D9%BE%D8%A7%D8%A6%DB%8C%D8%AA%DA%BE%D9%86\n",
      "https://pl.wikipedia.org/wiki/Pytony\n",
      "https://pt.wikipedia.org/wiki/Pythonidae\n",
      "https://ro.wikipedia.org/wiki/Pitoni\n",
      "https://ru.wikipedia.org/wiki/%D0%9F%D0%B8%D1%82%D0%BE%D0%BD%D1%8B\n",
      "https://sco.wikipedia.org/wiki/Pythonidae\n",
      "https://nso.wikipedia.org/wiki/Hlware\n",
      "https://simple.wikipedia.org/wiki/Python\n",
      "https://sd.wikipedia.org/wiki/%D8%A7%D8%B1%DA%99\n",
      "https://sk.wikipedia.org/wiki/Pyt%C3%B3novit%C3%A9\n",
      "https://sh.wikipedia.org/wiki/Pitoni\n",
      "https://su.wikipedia.org/wiki/Sanca\n",
      "https://fi.wikipedia.org/wiki/Pytonk%C3%A4%C3%A4rmeet\n",
      "https://sv.wikipedia.org/wiki/Pytonormar\n",
      "https://tl.wikipedia.org/wiki/Sawa_(piton)\n",
      "https://th.wikipedia.org/wiki/%E0%B8%A7%E0%B8%87%E0%B8%A8%E0%B9%8C%E0%B8%87%E0%B8%B9%E0%B9%80%E0%B8%AB%E0%B8%A5%E0%B8%B7%E0%B8%AD%E0%B8%A1\n",
      "https://tr.wikipedia.org/wiki/Piton\n",
      "https://uk.wikipedia.org/wiki/%D0%9F%D1%96%D1%82%D0%BE%D0%BD%D0%B8\n",
      "https://vi.wikipedia.org/wiki/H%E1%BB%8D_Tr%C4%83n\n",
      "https://diq.wikipedia.org/wiki/Piton\n",
      "https://zh.wikipedia.org/wiki/%E8%9F%92%E7%A7%91\n",
      "https://www.wikidata.org/wiki/Special:EntityPage/Q184018#sitelinks-wikipedia\n",
      "//en.wikipedia.org/wiki/Wikipedia:Text_of_Creative_Commons_Attribution-ShareAlike_3.0_Unported_License\n",
      "//creativecommons.org/licenses/by-sa/3.0/\n",
      "//foundation.wikimedia.org/wiki/Terms_of_Use\n",
      "//foundation.wikimedia.org/wiki/Privacy_policy\n",
      "//www.wikimediafoundation.org/\n",
      "https://foundation.wikimedia.org/wiki/Privacy_policy\n",
      "/wiki/Wikipedia:About\n",
      "/wiki/Wikipedia:General_disclaimer\n",
      "//en.wikipedia.org/wiki/Wikipedia:Contact_us\n",
      "https://www.mediawiki.org/wiki/Special:MyLanguage/How_to_contribute\n",
      "https://stats.wikimedia.org/#/en.wikipedia.org\n",
      "https://foundation.wikimedia.org/wiki/Cookie_statement\n",
      "//en.m.wikipedia.org/w/index.php?title=Pythonidae&mobileaction=toggle_view_mobile\n",
      "https://wikimediafoundation.org/\n",
      "https://www.mediawiki.org/\n"
     ]
    }
   ],
   "source": [
    "lista_links = [link.get('href') for link in links]\n",
    "\n",
    "for l in lista_links:\n",
    "    print(l)\n"
   ]
  },
  {
   "cell_type": "markdown",
   "metadata": {},
   "source": [
    "#### Number of Titles that have changed in the United States Code since its last release point "
   ]
  },
  {
   "cell_type": "code",
   "execution_count": 32,
   "metadata": {},
   "outputs": [],
   "source": [
    "# This is the url you will scrape in this exercise\n",
    "url = 'http://uscode.house.gov/download/download.shtml'"
   ]
  },
  {
   "cell_type": "code",
   "execution_count": 33,
   "metadata": {},
   "outputs": [],
   "source": [
    "# Hacer la request\n",
    "request = requests.get(url)\n",
    "# Parsear la request con BeatifulSoup\n",
    "texto_soup = BeautifulSoup((requests.get(url)).text)\n",
    "#print(texto_soup)"
   ]
  },
  {
   "cell_type": "code",
   "execution_count": 34,
   "metadata": {},
   "outputs": [
    {
     "data": {
      "text/plain": [
       "'\\n\\n          Title 8 - Aliens and Nationality\\n\\n        '"
      ]
     },
     "execution_count": 34,
     "metadata": {},
     "output_type": "execute_result"
    }
   ],
   "source": [
    "#Los títulos en negrita pertnenecen a la clase \"usctitlechanged\"\n",
    "cambios = texto_soup.find_all(\"div\", class_=\"usctitlechanged\")\n",
    "cambios[0].text"
   ]
  },
  {
   "cell_type": "code",
   "execution_count": 35,
   "metadata": {},
   "outputs": [
    {
     "name": "stdout",
     "output_type": "stream",
     "text": [
      "Title 8 - Aliens and Nationality\n",
      "Title 22 - Foreign Relations and Intercourse\n",
      "Title 29 - Labor\n",
      "Title 42 - The Public Health and Welfare\n"
     ]
    }
   ],
   "source": [
    "# Limpiar el resultado y almacenarlo en una nueva lista\n",
    "titles_cl = [(cambio.text).rstrip().lstrip() for cambio in cambios]\n",
    "\n",
    "# Imprimir el resultado\n",
    "for e in titles_cl:\n",
    "    print(e)"
   ]
  },
  {
   "cell_type": "markdown",
   "metadata": {},
   "source": [
    "#### A Python list with the top ten FBI's Most Wanted names "
   ]
  },
  {
   "cell_type": "code",
   "execution_count": 36,
   "metadata": {},
   "outputs": [],
   "source": [
    "# This is the url you will scrape in this exercise\n",
    "url = 'https://www.fbi.gov/wanted/topten'"
   ]
  },
  {
   "cell_type": "code",
   "execution_count": 37,
   "metadata": {},
   "outputs": [],
   "source": [
    "# Hacer la request\n",
    "request = requests.get(url)\n",
    "# Parsear la request con BeatifulSoup\n",
    "texto_soup = BeautifulSoup((requests.get(url)).text)\n",
    "#print(texto_soup)"
   ]
  },
  {
   "cell_type": "code",
   "execution_count": 38,
   "metadata": {},
   "outputs": [
    {
     "data": {
      "text/plain": [
       "'\\nYASER ABDEL SAID\\n'"
      ]
     },
     "execution_count": 38,
     "metadata": {},
     "output_type": "execute_result"
    }
   ],
   "source": [
    "# Lista de los más buscados\n",
    "wanted = texto_soup.find_all(\"h3\", class_=\"title\")\n",
    "wanted[0].text"
   ]
  },
  {
   "cell_type": "code",
   "execution_count": 39,
   "metadata": {},
   "outputs": [
    {
     "name": "stdout",
     "output_type": "stream",
     "text": [
      "Yaser Abdel Said\n",
      "Alexis Flores\n",
      "Eugene Palmer\n",
      "Santiago Villalba Mederos\n",
      "Rafael Caro-Quintero\n",
      "Robert William Fisher\n",
      "Bhadreshkumar Chetanbhai Patel\n",
      "Alejandro Rosales Castillo\n",
      "Arnoldo Jimenez\n",
      "Jason Derek Brown\n"
     ]
    }
   ],
   "source": [
    "#Lista de los 10 más buscados\n",
    "wanted_cl = [(buscado.text).strip() for buscado in wanted]\n",
    "for w in wanted_cl:\n",
    "    print(w.title())"
   ]
  },
  {
   "cell_type": "markdown",
   "metadata": {},
   "source": [
    "####  20 latest earthquakes info (date, time, latitude, longitude and region name) by the EMSC as a pandas dataframe"
   ]
  },
  {
   "cell_type": "code",
   "execution_count": 24,
   "metadata": {},
   "outputs": [],
   "source": [
    "# This is the url you will scrape in this exercise\n",
    "url = 'https://www.emsc-csem.org/Earthquake/'"
   ]
  },
  {
   "cell_type": "code",
   "execution_count": 25,
   "metadata": {},
   "outputs": [],
   "source": [
    "# Hacer la request\n",
    "request = requests.get(url)\n",
    "# Parsear la request con BeatifulSoup\n",
    "texto_soup = BeautifulSoup((requests.get(url)).text)\n",
    "#print(texto_soup)"
   ]
  },
  {
   "cell_type": "code",
   "execution_count": 26,
   "metadata": {},
   "outputs": [],
   "source": [
    "# Sacar la tabla, que es la qu\n",
    "tablas = texto_soup.find_all(\"table\", width = \"100%\")\n",
    "len(tablas)\n",
    "# Sólo hay una tabla, almacenarla\n",
    "tabla = tablas[0]\n",
    "#tabla"
   ]
  },
  {
   "cell_type": "code",
   "execution_count": 44,
   "metadata": {},
   "outputs": [
    {
     "name": "stdout",
     "output_type": "stream",
     "text": [
      "['Date & Time UTC', 'Latitude degrees', 'Longitude degrees', 'Depth km', 'Mag  [+]', 'Region name  [+]']\n"
     ]
    }
   ],
   "source": [
    "# Cabecera\n",
    "tab_header = texto_soup.select(\"th[class=th2]\")\n",
    "tab_header[0].text\n",
    "# Sacar toda la cabecera a una lista\n",
    "cabecera = [e.text for e in tab_header]\n",
    "print(cabecera)"
   ]
  },
  {
   "cell_type": "code",
   "execution_count": 27,
   "metadata": {},
   "outputs": [],
   "source": [
    "# Cuerpo\n",
    "tab_body = texto_soup.select(\"tbody tr[class^=ligne]\")\n",
    "len(tab_body)\n",
    "lista = [(linea.text).split(\"\\xa0\") for linea in tab_body][:10]"
   ]
  },
  {
   "cell_type": "code",
   "execution_count": 47,
   "metadata": {
    "scrolled": true
   },
   "outputs": [
    {
     "name": "stdout",
     "output_type": "stream",
     "text": [
      "[['earthquake2020-04-10', '', '', '07:54:15.116min ago61.65', 'N', '', '149.79', 'W', '', '34ML3.4', 'SOUTHERN ALASKA2020-04-10 08:05'], ['earthquake2020-04-10', '', '', '07:37:15.833min ago32.33', 'N', '', '115.34', 'W', '', '0ML2.2', 'BAJA CALIFORNIA, MEXICO2020-04-10 07:39'], ['earthquake2020-04-10', '', '', '07:21:30.549min ago32.35', 'N', '', '115.32', 'W', '', '3ML2.5', 'BAJA CALIFORNIA, MEXICO2020-04-10 07:25'], ['earthquake2020-04-10', '', '', '07:04:36.01hr 06min ago33.28', 'S', '', '70.38', 'W', '', '108ML3.2', 'REGION METROPOLITANA, CHILE2020-04-10 07:25'], ['1683IIIearthquake2020-04-10', '', '', '06:50:03.81hr 20min ago45.88', 'N', '', '16.04', 'E', '', '8ML2.5', 'CROATIA2020-04-10 07:47'], ['earthquake2020-04-10', '', '', '06:46:16.41hr 24min ago2.94', 'S', '', '146.65', 'E', '', '10mb4.5', 'ADMIRALTY ISLANDS REGION, P.N.G.2020-04-10 07:10'], ['earthquake2020-04-10', '', '', '06:37:57.61hr 32min ago18.33', 'N', '', '66.60', 'W', '', '125Md3.2', 'PUERTO RICO2020-04-10 07:17'], ['earthquake2020-04-10', '', '', '05:56:35.92hr 14min ago19.21', 'N', '', '155.41', 'W', '', '32Md2.1', 'ISLAND OF HAWAII, HAWAII2020-04-10 06:00'], ['2Fearthquake2020-04-10', '', '', '05:55:57.12hr 14min ago32.35', 'N', '', '116.42', 'W', '', '22ML2.4', 'BAJA CALIFORNIA, MEXICO2020-04-10 05:59'], ['15IVearthquake2020-04-10', '', '', '05:49:09.92hr 21min ago32.33', 'N', '', '116.41', 'W', '', '25ML3.5', 'BAJA CALIFORNIA, MEXICO2020-04-10 06:12']]\n"
     ]
    }
   ],
   "source": [
    "print(lista)"
   ]
  },
  {
   "cell_type": "code",
   "execution_count": 28,
   "metadata": {},
   "outputs": [
    {
     "data": {
      "text/html": [
       "<div>\n",
       "<style scoped>\n",
       "    .dataframe tbody tr th:only-of-type {\n",
       "        vertical-align: middle;\n",
       "    }\n",
       "\n",
       "    .dataframe tbody tr th {\n",
       "        vertical-align: top;\n",
       "    }\n",
       "\n",
       "    .dataframe thead th {\n",
       "        text-align: right;\n",
       "    }\n",
       "</style>\n",
       "<table border=\"1\" class=\"dataframe\">\n",
       "  <thead>\n",
       "    <tr style=\"text-align: right;\">\n",
       "      <th></th>\n",
       "      <th>Date</th>\n",
       "      <th>Time</th>\n",
       "      <th>Latitude</th>\n",
       "      <th>Longitude</th>\n",
       "      <th>Region name</th>\n",
       "    </tr>\n",
       "  </thead>\n",
       "  <tbody>\n",
       "    <tr>\n",
       "      <th>0</th>\n",
       "      <td>2020-04-10</td>\n",
       "      <td>09:02:11</td>\n",
       "      <td>40.26N</td>\n",
       "      <td>121.19W</td>\n",
       "      <td>NORTHERN CALIFORNIA</td>\n",
       "    </tr>\n",
       "    <tr>\n",
       "      <th>1</th>\n",
       "      <td>2020-04-10</td>\n",
       "      <td>08:59:14</td>\n",
       "      <td>36.43N</td>\n",
       "      <td>120.57W</td>\n",
       "      <td>CENTRAL CALIFORNIA</td>\n",
       "    </tr>\n",
       "    <tr>\n",
       "      <th>2</th>\n",
       "      <td>2020-04-10</td>\n",
       "      <td>08:40:24</td>\n",
       "      <td>38.93N</td>\n",
       "      <td>43.61E</td>\n",
       "      <td>EASTERN TURKEY</td>\n",
       "    </tr>\n",
       "    <tr>\n",
       "      <th>3</th>\n",
       "      <td>2020-04-10</td>\n",
       "      <td>08:37:02</td>\n",
       "      <td>30.41S</td>\n",
       "      <td>72.56W</td>\n",
       "      <td>OFFSHORE COQUIMBO, CHILE</td>\n",
       "    </tr>\n",
       "    <tr>\n",
       "      <th>4</th>\n",
       "      <td>2020-04-10</td>\n",
       "      <td>08:33:52</td>\n",
       "      <td>36.77N</td>\n",
       "      <td>98.07W</td>\n",
       "      <td>OKLAHOMA</td>\n",
       "    </tr>\n",
       "    <tr>\n",
       "      <th>5</th>\n",
       "      <td>2020-04-10</td>\n",
       "      <td>08:26:50</td>\n",
       "      <td>36.76N</td>\n",
       "      <td>98.06W</td>\n",
       "      <td>OKLAHOMA</td>\n",
       "    </tr>\n",
       "    <tr>\n",
       "      <th>6</th>\n",
       "      <td>2020-04-10</td>\n",
       "      <td>08:23:54</td>\n",
       "      <td>19.22N</td>\n",
       "      <td>155.42W</td>\n",
       "      <td>ISLAND OF HAWAII, HAWAII</td>\n",
       "    </tr>\n",
       "    <tr>\n",
       "      <th>7</th>\n",
       "      <td>2020-04-10</td>\n",
       "      <td>08:00:40</td>\n",
       "      <td>12.77S</td>\n",
       "      <td>45.35E</td>\n",
       "      <td>MAYOTTE REGION</td>\n",
       "    </tr>\n",
       "    <tr>\n",
       "      <th>8</th>\n",
       "      <td>2020-04-10</td>\n",
       "      <td>07:54:15</td>\n",
       "      <td>61.65N</td>\n",
       "      <td>149.79W</td>\n",
       "      <td>SOUTHERN ALASKA</td>\n",
       "    </tr>\n",
       "    <tr>\n",
       "      <th>9</th>\n",
       "      <td>2020-04-10</td>\n",
       "      <td>07:37:15</td>\n",
       "      <td>32.33N</td>\n",
       "      <td>115.34W</td>\n",
       "      <td>BAJA CALIFORNIA, MEXICO</td>\n",
       "    </tr>\n",
       "  </tbody>\n",
       "</table>\n",
       "</div>"
      ],
      "text/plain": [
       "         Date      Time Latitude Longitude               Region name\n",
       "0  2020-04-10  09:02:11   40.26N   121.19W       NORTHERN CALIFORNIA\n",
       "1  2020-04-10  08:59:14   36.43N   120.57W        CENTRAL CALIFORNIA\n",
       "2  2020-04-10  08:40:24   38.93N    43.61E            EASTERN TURKEY\n",
       "3  2020-04-10  08:37:02   30.41S    72.56W  OFFSHORE COQUIMBO, CHILE\n",
       "4  2020-04-10  08:33:52   36.77N    98.07W                  OKLAHOMA\n",
       "5  2020-04-10  08:26:50   36.76N    98.06W                  OKLAHOMA\n",
       "6  2020-04-10  08:23:54   19.22N   155.42W  ISLAND OF HAWAII, HAWAII\n",
       "7  2020-04-10  08:00:40   12.77S    45.35E            MAYOTTE REGION\n",
       "8  2020-04-10  07:54:15   61.65N   149.79W           SOUTHERN ALASKA\n",
       "9  2020-04-10  07:37:15   32.33N   115.34W   BAJA CALIFORNIA, MEXICO"
      ]
     },
     "execution_count": 28,
     "metadata": {},
     "output_type": "execute_result"
    }
   ],
   "source": [
    "df = pd.DataFrame(lista)\n",
    "# Quitar columnas vacías\n",
    "df = df.iloc[:,[0,3,4,6,7,9,10]]\n",
    "# Limpiar las fechas\n",
    "df[\"Date\"] = df[0].str.extract(r'(\\d\\d\\d\\d-\\d\\d-\\d\\d)', expand=False)  \n",
    "# Limpiar la hora\n",
    "df[\"Time\"] = df[3].str.extract(r'^(\\d\\d\\:\\d\\d\\:\\d\\d)', expand=False) \n",
    "#Extraer latitud \n",
    "df[\"Latitude\"] = df[3].str.extract(r'o(\\d+\\.\\d+)', expand=False) \n",
    "# Concatenarla con la columna 4\n",
    "df[\"Latitude\"] = df[\"Latitude\"]+df[4]\n",
    "#Concatenar longitud\n",
    "df[\"Longitude\"] = df[6]+df[7]\n",
    "# Limpiar la columna de regiones\n",
    "#Extraer latitud \n",
    "df[\"Region name\"] = df[10].str.extract(r'([^\\d]*)', expand=False) \n",
    "df_final = df[[\"Date\", \"Time\", \"Latitude\", \"Longitude\", \"Region name\"]]\n",
    "df_final"
   ]
  },
  {
   "cell_type": "markdown",
   "metadata": {},
   "source": [
    "#### Display the date, days, title, city, country of next 25 hackathon events as a Pandas dataframe table"
   ]
  },
  {
   "cell_type": "code",
   "execution_count": 3,
   "metadata": {},
   "outputs": [],
   "source": [
    "# This is the url you will scrape in this exercise\n",
    "url ='https://hackevents.co/hackathons'"
   ]
  },
  {
   "cell_type": "code",
   "execution_count": 2,
   "metadata": {},
   "outputs": [
    {
     "ename": "NameError",
     "evalue": "name 'url' is not defined",
     "output_type": "error",
     "traceback": [
      "\u001b[0;31m---------------------------------------------------------------------------\u001b[0m",
      "\u001b[0;31mNameError\u001b[0m                                 Traceback (most recent call last)",
      "\u001b[0;32m<ipython-input-2-f784e230e134>\u001b[0m in \u001b[0;36m<module>\u001b[0;34m\u001b[0m\n\u001b[1;32m      1\u001b[0m \u001b[0;31m# Hacer la request\u001b[0m\u001b[0;34m\u001b[0m\u001b[0;34m\u001b[0m\u001b[0;34m\u001b[0m\u001b[0m\n\u001b[0;32m----> 2\u001b[0;31m \u001b[0mrequest\u001b[0m \u001b[0;34m=\u001b[0m \u001b[0mrequests\u001b[0m\u001b[0;34m.\u001b[0m\u001b[0mget\u001b[0m\u001b[0;34m(\u001b[0m\u001b[0murl\u001b[0m\u001b[0;34m)\u001b[0m\u001b[0;34m\u001b[0m\u001b[0;34m\u001b[0m\u001b[0m\n\u001b[0m\u001b[1;32m      3\u001b[0m \u001b[0;31m# Parsear la request con BeatifulSoup\u001b[0m\u001b[0;34m\u001b[0m\u001b[0;34m\u001b[0m\u001b[0;34m\u001b[0m\u001b[0m\n\u001b[1;32m      4\u001b[0m \u001b[0mtexto_soup\u001b[0m \u001b[0;34m=\u001b[0m \u001b[0mBeautifulSoup\u001b[0m\u001b[0;34m(\u001b[0m\u001b[0;34m(\u001b[0m\u001b[0mrequests\u001b[0m\u001b[0;34m.\u001b[0m\u001b[0mget\u001b[0m\u001b[0;34m(\u001b[0m\u001b[0murl\u001b[0m\u001b[0;34m)\u001b[0m\u001b[0;34m)\u001b[0m\u001b[0;34m.\u001b[0m\u001b[0mtext\u001b[0m\u001b[0;34m)\u001b[0m\u001b[0;34m\u001b[0m\u001b[0;34m\u001b[0m\u001b[0m\n\u001b[1;32m      5\u001b[0m \u001b[0mprint\u001b[0m\u001b[0;34m(\u001b[0m\u001b[0mtexto_soup\u001b[0m\u001b[0;34m)\u001b[0m\u001b[0;34m\u001b[0m\u001b[0;34m\u001b[0m\u001b[0m\n",
      "\u001b[0;31mNameError\u001b[0m: name 'url' is not defined"
     ]
    }
   ],
   "source": []
  },
  {
   "cell_type": "markdown",
   "metadata": {},
   "source": [
    "#### Count number of tweets by a given Twitter account."
   ]
  },
  {
   "cell_type": "markdown",
   "metadata": {},
   "source": [
    "You will need to include a ***try/except block*** for account names not found. \n",
    "<br>***Hint:*** the program should count the number of tweets for any provided account"
   ]
  },
  {
   "cell_type": "code",
   "execution_count": 50,
   "metadata": {},
   "outputs": [],
   "source": [
    "# This is the url you will scrape in this exercise \n",
    "# You will need to add the account credentials to this url\n",
    "url = 'https://twitter.com/IgnatiusFarray'"
   ]
  },
  {
   "cell_type": "code",
   "execution_count": 51,
   "metadata": {},
   "outputs": [],
   "source": [
    "# Hacer la request\n",
    "request = requests.get(url)\n",
    "# Parsear la request con BeatifulSoup\n",
    "texto_soup = BeautifulSoup((requests.get(url)).text)\n",
    "#print(texto_soup)"
   ]
  },
  {
   "cell_type": "code",
   "execution_count": 60,
   "metadata": {},
   "outputs": [
    {
     "data": {
      "text/plain": [
       "'\\nHay un momento en el que terminan los GENES y empiezan los MEMES.\\n'"
      ]
     },
     "execution_count": 60,
     "metadata": {},
     "output_type": "execute_result"
    }
   ],
   "source": [
    "tweets = texto_soup.find_all(\"div\", class_=\"js-tweet-text-container\")\n",
    "tweets[5].text"
   ]
  },
  {
   "cell_type": "code",
   "execution_count": 61,
   "metadata": {
    "scrolled": true
   },
   "outputs": [
    {
     "name": "stdout",
     "output_type": "stream",
     "text": [
      "20\n"
     ]
    }
   ],
   "source": [
    "#Número de tweets (incluidos retweets). Supongo que es tan bajo porque la página no se\n",
    "#carga en su totalidad\n",
    "print(len(tweets))"
   ]
  },
  {
   "cell_type": "markdown",
   "metadata": {},
   "source": [
    "#### Number of followers of a given twitter account"
   ]
  },
  {
   "cell_type": "markdown",
   "metadata": {},
   "source": [
    "You will need to include a ***try/except block*** in case account/s name not found. \n",
    "<br>***Hint:*** the program should count the followers for any provided account"
   ]
  },
  {
   "cell_type": "code",
   "execution_count": null,
   "metadata": {},
   "outputs": [],
   "source": [
    "# This is the url you will scrape in this exercise \n",
    "# You will need to add the account credentials to this url\n",
    "url = 'https://twitter.com/'"
   ]
  },
  {
   "cell_type": "code",
   "execution_count": null,
   "metadata": {},
   "outputs": [],
   "source": [
    "#your code"
   ]
  },
  {
   "cell_type": "markdown",
   "metadata": {},
   "source": [
    "#### List all language names and number of related articles in the order they appear in wikipedia.org"
   ]
  },
  {
   "cell_type": "code",
   "execution_count": 32,
   "metadata": {},
   "outputs": [],
   "source": [
    "# This is the url you will scrape in this exercise\n",
    "url = 'https://www.wikipedia.org/'"
   ]
  },
  {
   "cell_type": "code",
   "execution_count": 43,
   "metadata": {},
   "outputs": [],
   "source": [
    "# Hacer la request\n",
    "request = requests.get(url).content\n",
    "# Parsear la request con BeatifulSoup\n",
    "texto_soup = BeautifulSoup(request, 'html.parser')\n",
    "#print(texto_soup)"
   ]
  },
  {
   "cell_type": "code",
   "execution_count": 42,
   "metadata": {},
   "outputs": [
    {
     "name": "stdout",
     "output_type": "stream",
     "text": [
      "English\n",
      "6 050 000+ articles\n",
      "EspaÃ±ol\n",
      "1 588 000+ artÃ­culos\n",
      "æ¥æ¬èª\n",
      "1 198 000+ è¨äº\n",
      "Deutsch\n",
      "2 416 000+ Artikel\n",
      "FranÃ§ais\n",
      "2 197 000+ articles\n",
      "Ð ÑÑÑÐºÐ¸Ð¹\n",
      "1 611 000+ ÑÑÐ°ÑÐµÐ¹\n",
      "Italiano\n",
      "1 595 000+ voci\n",
      "ä¸­æ\n",
      "1 109 000+ æ¢ç®\n",
      "PortuguÃªs\n",
      "1 027 000+ artigos\n",
      "Polski\n",
      "1 399 000+ haseÅ\n"
     ]
    }
   ],
   "source": [
    "lenguajes = texto_soup.select(\"div[class^=central-featured-lang]\")\n",
    "lenguas = [(lenguaje.text).strip() for lenguaje in lenguajes]\n",
    "for l in lenguas:\n",
    "    print(l)"
   ]
  },
  {
   "cell_type": "markdown",
   "metadata": {},
   "source": [
    "#### A list with the different kind of datasets available in data.gov.uk "
   ]
  },
  {
   "cell_type": "code",
   "execution_count": null,
   "metadata": {},
   "outputs": [],
   "source": [
    "# This is the url you will scrape in this exercise\n",
    "url = 'https://data.gov.uk/'"
   ]
  },
  {
   "cell_type": "code",
   "execution_count": null,
   "metadata": {},
   "outputs": [],
   "source": [
    "#your code "
   ]
  },
  {
   "cell_type": "markdown",
   "metadata": {},
   "source": [
    "#### Top 10 languages by number of native speakers stored in a Pandas Dataframe"
   ]
  },
  {
   "cell_type": "code",
   "execution_count": null,
   "metadata": {},
   "outputs": [],
   "source": [
    "# This is the url you will scrape in this exercise\n",
    "url = 'https://en.wikipedia.org/wiki/List_of_languages_by_number_of_native_speakers'"
   ]
  },
  {
   "cell_type": "code",
   "execution_count": null,
   "metadata": {},
   "outputs": [],
   "source": [
    "#your code"
   ]
  },
  {
   "cell_type": "markdown",
   "metadata": {},
   "source": [
    "### BONUS QUESTIONS"
   ]
  },
  {
   "cell_type": "markdown",
   "metadata": {},
   "source": [
    "#### Scrape a certain number of tweets of a given Twitter account."
   ]
  },
  {
   "cell_type": "code",
   "execution_count": null,
   "metadata": {},
   "outputs": [],
   "source": [
    "# This is the url you will scrape in this exercise \n",
    "# You will need to add the account credentials to this url\n",
    "url = 'https://twitter.com/'"
   ]
  },
  {
   "cell_type": "code",
   "execution_count": null,
   "metadata": {},
   "outputs": [],
   "source": [
    "# your code"
   ]
  },
  {
   "cell_type": "markdown",
   "metadata": {},
   "source": [
    "#### IMDB's Top 250 data (movie name, Initial release, director name and stars) as a pandas dataframe"
   ]
  },
  {
   "cell_type": "code",
   "execution_count": null,
   "metadata": {},
   "outputs": [],
   "source": [
    "# This is the url you will scrape in this exercise \n",
    "url = 'https://www.imdb.com/chart/top'"
   ]
  },
  {
   "cell_type": "code",
   "execution_count": null,
   "metadata": {},
   "outputs": [],
   "source": [
    "# your code"
   ]
  },
  {
   "cell_type": "markdown",
   "metadata": {},
   "source": [
    "#### Movie name, year and a brief summary of the top 10 random movies (IMDB) as a pandas dataframe."
   ]
  },
  {
   "cell_type": "code",
   "execution_count": null,
   "metadata": {},
   "outputs": [],
   "source": [
    "#This is the url you will scrape in this exercise\n",
    "url = 'http://www.imdb.com/chart/top'"
   ]
  },
  {
   "cell_type": "code",
   "execution_count": null,
   "metadata": {},
   "outputs": [],
   "source": [
    "#your code"
   ]
  },
  {
   "cell_type": "markdown",
   "metadata": {},
   "source": [
    "#### Find the live weather report (temperature, wind speed, description and weather) of a given city."
   ]
  },
  {
   "cell_type": "code",
   "execution_count": null,
   "metadata": {},
   "outputs": [],
   "source": [
    "#https://openweathermap.org/current\n",
    "city = city=input('Enter the city:')\n",
    "url = 'http://api.openweathermap.org/data/2.5/weather?'+'q='+city+'&APPID=b35975e18dc93725acb092f7272cc6b8&units=metric'"
   ]
  },
  {
   "cell_type": "code",
   "execution_count": null,
   "metadata": {},
   "outputs": [],
   "source": [
    "# your code"
   ]
  },
  {
   "cell_type": "markdown",
   "metadata": {},
   "source": [
    "#### Book name,price and stock availability as a pandas dataframe."
   ]
  },
  {
   "cell_type": "code",
   "execution_count": null,
   "metadata": {},
   "outputs": [],
   "source": [
    "# This is the url you will scrape in this exercise. \n",
    "# It is a fictional bookstore created to be scraped. \n",
    "url = 'http://books.toscrape.com/'"
   ]
  },
  {
   "cell_type": "code",
   "execution_count": null,
   "metadata": {},
   "outputs": [],
   "source": [
    "#your code"
   ]
  }
 ],
 "metadata": {
  "kernelspec": {
   "display_name": "Python 3",
   "language": "python",
   "name": "python3"
  },
  "language_info": {
   "codemirror_mode": {
    "name": "ipython",
    "version": 3
   },
   "file_extension": ".py",
   "mimetype": "text/x-python",
   "name": "python",
   "nbconvert_exporter": "python",
   "pygments_lexer": "ipython3",
   "version": "3.7.6"
  }
 },
 "nbformat": 4,
 "nbformat_minor": 2
}
