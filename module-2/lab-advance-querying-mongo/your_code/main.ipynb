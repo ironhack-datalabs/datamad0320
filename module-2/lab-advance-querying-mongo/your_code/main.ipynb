{
 "cells": [
  {
   "cell_type": "markdown",
   "metadata": {},
   "source": [
    "# Advanced Querying Mongo"
   ]
  },
  {
   "cell_type": "markdown",
   "metadata": {},
   "source": [
    "Importing libraries and setting up connection"
   ]
  },
  {
   "cell_type": "code",
   "execution_count": 1,
   "metadata": {},
   "outputs": [],
   "source": [
    "from pymongo import MongoClient\n",
    "import re\n",
    "import pandas as pd\n",
    "from pymongo import ASCENDING, DESCENDING\n",
    "client = MongoClient(f\"mongodb://localhost/companies\")\n",
    "db = client.get_database()"
   ]
  },
  {
   "cell_type": "markdown",
   "metadata": {},
   "source": [
    "### 1. All the companies whose name match 'Babelgum'. Retrieve only their `name` field."
   ]
  },
  {
   "cell_type": "code",
   "execution_count": 2,
   "metadata": {},
   "outputs": [
    {
     "name": "stdout",
     "output_type": "stream",
     "text": [
      "Babelgum\n"
     ]
    }
   ],
   "source": [
    "searchre = re.compile(\"^Babelgum.*\")\n",
    "cursor = db.companies.find({\"name\":searchre})\n",
    "for e in cursor:\n",
    "    print(e[\"name\"])"
   ]
  },
  {
   "cell_type": "markdown",
   "metadata": {},
   "source": [
    "### 2. All the companies that have more than 5000 employees. Limit the search to 20 companies and sort them by **number of employees**."
   ]
  },
  {
   "cell_type": "code",
   "execution_count": 3,
   "metadata": {},
   "outputs": [
    {
     "data": {
      "text/html": [
       "<div>\n",
       "<style scoped>\n",
       "    .dataframe tbody tr th:only-of-type {\n",
       "        vertical-align: middle;\n",
       "    }\n",
       "\n",
       "    .dataframe tbody tr th {\n",
       "        vertical-align: top;\n",
       "    }\n",
       "\n",
       "    .dataframe thead th {\n",
       "        text-align: right;\n",
       "    }\n",
       "</style>\n",
       "<table border=\"1\" class=\"dataframe\">\n",
       "  <thead>\n",
       "    <tr style=\"text-align: right;\">\n",
       "      <th></th>\n",
       "      <th>name</th>\n",
       "      <th>number_of_employees</th>\n",
       "    </tr>\n",
       "  </thead>\n",
       "  <tbody>\n",
       "    <tr>\n",
       "      <th>0</th>\n",
       "      <td>Spotify</td>\n",
       "      <td>5000</td>\n",
       "    </tr>\n",
       "    <tr>\n",
       "      <th>1</th>\n",
       "      <td>PCH International</td>\n",
       "      <td>5000</td>\n",
       "    </tr>\n",
       "    <tr>\n",
       "      <th>2</th>\n",
       "      <td>McAfee</td>\n",
       "      <td>5000</td>\n",
       "    </tr>\n",
       "    <tr>\n",
       "      <th>3</th>\n",
       "      <td>JDS Uniphase Corporation</td>\n",
       "      <td>5000</td>\n",
       "    </tr>\n",
       "    <tr>\n",
       "      <th>4</th>\n",
       "      <td>Air Astana Airlines</td>\n",
       "      <td>5000</td>\n",
       "    </tr>\n",
       "    <tr>\n",
       "      <th>5</th>\n",
       "      <td>United Internet</td>\n",
       "      <td>5000</td>\n",
       "    </tr>\n",
       "    <tr>\n",
       "      <th>6</th>\n",
       "      <td>Vcare Call Center</td>\n",
       "      <td>5000</td>\n",
       "    </tr>\n",
       "    <tr>\n",
       "      <th>7</th>\n",
       "      <td>Nintendo</td>\n",
       "      <td>5080</td>\n",
       "    </tr>\n",
       "    <tr>\n",
       "      <th>8</th>\n",
       "      <td>Hexaware Technologies</td>\n",
       "      <td>5200</td>\n",
       "    </tr>\n",
       "    <tr>\n",
       "      <th>9</th>\n",
       "      <td>Facebook</td>\n",
       "      <td>5299</td>\n",
       "    </tr>\n",
       "    <tr>\n",
       "      <th>10</th>\n",
       "      <td>OpenText</td>\n",
       "      <td>5300</td>\n",
       "    </tr>\n",
       "    <tr>\n",
       "      <th>11</th>\n",
       "      <td>LSI</td>\n",
       "      <td>5400</td>\n",
       "    </tr>\n",
       "    <tr>\n",
       "      <th>12</th>\n",
       "      <td>CPM Braxis</td>\n",
       "      <td>5400</td>\n",
       "    </tr>\n",
       "    <tr>\n",
       "      <th>13</th>\n",
       "      <td>Microchip Technologies</td>\n",
       "      <td>5500</td>\n",
       "    </tr>\n",
       "    <tr>\n",
       "      <th>14</th>\n",
       "      <td>Mediaset</td>\n",
       "      <td>5729</td>\n",
       "    </tr>\n",
       "    <tr>\n",
       "      <th>15</th>\n",
       "      <td>Mindray Medical International</td>\n",
       "      <td>5763</td>\n",
       "    </tr>\n",
       "    <tr>\n",
       "      <th>16</th>\n",
       "      <td>Baidu</td>\n",
       "      <td>6000</td>\n",
       "    </tr>\n",
       "    <tr>\n",
       "      <th>17</th>\n",
       "      <td>Dentsu</td>\n",
       "      <td>6000</td>\n",
       "    </tr>\n",
       "    <tr>\n",
       "      <th>18</th>\n",
       "      <td>Tata Communications</td>\n",
       "      <td>6000</td>\n",
       "    </tr>\n",
       "    <tr>\n",
       "      <th>19</th>\n",
       "      <td>Atmel</td>\n",
       "      <td>6000</td>\n",
       "    </tr>\n",
       "  </tbody>\n",
       "</table>\n",
       "</div>"
      ],
      "text/plain": [
       "                             name  number_of_employees\n",
       "0                         Spotify                 5000\n",
       "1               PCH International                 5000\n",
       "2                          McAfee                 5000\n",
       "3        JDS Uniphase Corporation                 5000\n",
       "4             Air Astana Airlines                 5000\n",
       "5                 United Internet                 5000\n",
       "6               Vcare Call Center                 5000\n",
       "7                        Nintendo                 5080\n",
       "8           Hexaware Technologies                 5200\n",
       "9                        Facebook                 5299\n",
       "10                       OpenText                 5300\n",
       "11                            LSI                 5400\n",
       "12                     CPM Braxis                 5400\n",
       "13         Microchip Technologies                 5500\n",
       "14                       Mediaset                 5729\n",
       "15  Mindray Medical International                 5763\n",
       "16                          Baidu                 6000\n",
       "17                         Dentsu                 6000\n",
       "18            Tata Communications                 6000\n",
       "19                          Atmel                 6000"
      ]
     },
     "metadata": {},
     "output_type": "display_data"
    }
   ],
   "source": [
    "query={\"number_of_employees\":{'$gte': 5000}}\n",
    "data=list(db.companies.find(query,{\"name\":1, \"number_of_employees\":1,\"_id\":0}).sort('number_of_employees', ASCENDING).limit(20))\n",
    "df = pd.DataFrame(data)\n",
    "display(df)"
   ]
  },
  {
   "cell_type": "markdown",
   "metadata": {},
   "source": [
    "### 3. All the companies founded between 2000 and 2005, both years included. Retrieve only the `name` and `founded_year` fields."
   ]
  },
  {
   "cell_type": "code",
   "execution_count": 4,
   "metadata": {},
   "outputs": [
    {
     "data": {
      "text/plain": [
       "(3734, 2)"
      ]
     },
     "execution_count": 4,
     "metadata": {},
     "output_type": "execute_result"
    }
   ],
   "source": [
    "query = { \"founded_year\": { '$gte': 2000, '$lt': 2006 }}\n",
    "data= db.companies.find(query,{\"name\":1, \"founded_year\":1,\"_id\":0})\n",
    "df = pd.DataFrame(data)\n",
    "df.shape"
   ]
  },
  {
   "cell_type": "markdown",
   "metadata": {},
   "source": [
    "### 4. All the companies that had a Valuation Amount of more than 100.000.000 and have been founded before 2010. Retrieve only the `name` and `ipo` fields."
   ]
  },
  {
   "cell_type": "code",
   "execution_count": 5,
   "metadata": {},
   "outputs": [
    {
     "data": {
      "text/plain": [
       "(41, 7)"
      ]
     },
     "execution_count": 5,
     "metadata": {},
     "output_type": "execute_result"
    }
   ],
   "source": [
    "query = {'$and': [{\"founded_year\":{'$lt':2010}}, {\"ipo.valuation_amount\":{'$gte':100000000}}]}\n",
    "data= db.companies.find(query,{\"name\":1, \"ipo\":1,\"_id\":0})\n",
    "#pd.json_normalize(): normalize semi-structured JSON data into a flat table.\n",
    "df = pd.json_normalize(data)\n",
    "df.shape"
   ]
  },
  {
   "cell_type": "markdown",
   "metadata": {},
   "source": [
    "### 5. All the companies that have less than 1000 employees and have been founded before 2005. Order them by the number of employees and limit the search to 10 companies."
   ]
  },
  {
   "cell_type": "code",
   "execution_count": 6,
   "metadata": {},
   "outputs": [
    {
     "data": {
      "text/html": [
       "<div>\n",
       "<style scoped>\n",
       "    .dataframe tbody tr th:only-of-type {\n",
       "        vertical-align: middle;\n",
       "    }\n",
       "\n",
       "    .dataframe tbody tr th {\n",
       "        vertical-align: top;\n",
       "    }\n",
       "\n",
       "    .dataframe thead th {\n",
       "        text-align: right;\n",
       "    }\n",
       "</style>\n",
       "<table border=\"1\" class=\"dataframe\">\n",
       "  <thead>\n",
       "    <tr style=\"text-align: right;\">\n",
       "      <th></th>\n",
       "      <th>name</th>\n",
       "    </tr>\n",
       "  </thead>\n",
       "  <tbody>\n",
       "    <tr>\n",
       "      <th>0</th>\n",
       "      <td>Infinera Corporation</td>\n",
       "    </tr>\n",
       "    <tr>\n",
       "      <th>1</th>\n",
       "      <td>NorthPoint Communications Group</td>\n",
       "    </tr>\n",
       "    <tr>\n",
       "      <th>2</th>\n",
       "      <td>888 Holdings</td>\n",
       "    </tr>\n",
       "    <tr>\n",
       "      <th>3</th>\n",
       "      <td>Forrester Research</td>\n",
       "    </tr>\n",
       "    <tr>\n",
       "      <th>4</th>\n",
       "      <td>SonicWALL</td>\n",
       "    </tr>\n",
       "    <tr>\n",
       "      <th>5</th>\n",
       "      <td>Webmetrics</td>\n",
       "    </tr>\n",
       "    <tr>\n",
       "      <th>6</th>\n",
       "      <td>Cornerstone OnDemand</td>\n",
       "    </tr>\n",
       "    <tr>\n",
       "      <th>7</th>\n",
       "      <td>Yelp</td>\n",
       "    </tr>\n",
       "    <tr>\n",
       "      <th>8</th>\n",
       "      <td>MySpace</td>\n",
       "    </tr>\n",
       "    <tr>\n",
       "      <th>9</th>\n",
       "      <td>ZoomInfo</td>\n",
       "    </tr>\n",
       "  </tbody>\n",
       "</table>\n",
       "</div>"
      ],
      "text/plain": [
       "                              name\n",
       "0             Infinera Corporation\n",
       "1  NorthPoint Communications Group\n",
       "2                     888 Holdings\n",
       "3               Forrester Research\n",
       "4                        SonicWALL\n",
       "5                       Webmetrics\n",
       "6             Cornerstone OnDemand\n",
       "7                             Yelp\n",
       "8                          MySpace\n",
       "9                         ZoomInfo"
      ]
     },
     "metadata": {},
     "output_type": "display_data"
    }
   ],
   "source": [
    "query = {'$and': [{\"number_of_employees\":{'$lt':1000}}, {\"founded_year\":{'$lt':2005}}]}\n",
    "data= db.companies.find(query,{\"name\":1,\"_id\":0}).sort('number_of_employees', DESCENDING).limit(10)\n",
    "df = pd.DataFrame(data)\n",
    "display(df)"
   ]
  },
  {
   "cell_type": "markdown",
   "metadata": {},
   "source": [
    "### 6. All the companies that don't include the `partners` field."
   ]
  },
  {
   "cell_type": "code",
   "execution_count": 7,
   "metadata": {},
   "outputs": [
    {
     "data": {
      "text/plain": [
       "(0, 0)"
      ]
     },
     "execution_count": 7,
     "metadata": {},
     "output_type": "execute_result"
    }
   ],
   "source": [
    "query = {'partners':{ '$exists':False } } \n",
    "data= db.companies.find(query,{\"name\":1,\"_id\":0})\n",
    "df = pd.DataFrame(data)\n",
    "df.shape"
   ]
  },
  {
   "cell_type": "markdown",
   "metadata": {},
   "source": [
    "### 7. All the companies that have a null type of value on the `category_code` field."
   ]
  },
  {
   "cell_type": "code",
   "execution_count": 8,
   "metadata": {},
   "outputs": [
    {
     "data": {
      "text/plain": [
       "2751"
      ]
     },
     "execution_count": 8,
     "metadata": {},
     "output_type": "execute_result"
    }
   ],
   "source": [
    "query = {'category_code':{ '$type':'null' } } \n",
    "data = db.companies.find(query,{\"name\":1,\"_id\":0})\n",
    "df = pd.DataFrame(data)\n",
    "df.size"
   ]
  },
  {
   "cell_type": "markdown",
   "metadata": {},
   "source": [
    "### 8. All the companies that have at least 100 employees but less than 1000. Retrieve only the `name` and `number of employees` fields."
   ]
  },
  {
   "cell_type": "code",
   "execution_count": 9,
   "metadata": {},
   "outputs": [
    {
     "data": {
      "text/plain": [
       "(917, 2)"
      ]
     },
     "execution_count": 9,
     "metadata": {},
     "output_type": "execute_result"
    }
   ],
   "source": [
    "query = { \"number_of_employees\": { '$gte': 100, '$lt': 1000 }}\n",
    "data= db.companies.find(query,{\"name\":1, \"number_of_employees\":1,\"_id\":0})\n",
    "df = pd.DataFrame(data)\n",
    "df.shape"
   ]
  },
  {
   "cell_type": "markdown",
   "metadata": {},
   "source": [
    "### 9. Order all the companies by their IPO price in a descending order."
   ]
  },
  {
   "cell_type": "code",
   "execution_count": 10,
   "metadata": {},
   "outputs": [
    {
     "data": {
      "text/plain": [
       "(46, 2)"
      ]
     },
     "execution_count": 10,
     "metadata": {},
     "output_type": "execute_result"
    }
   ],
   "source": [
    "query = {\"ipo.valuation_amount\":{ '$type':'int' }}\n",
    "data= db.companies.find(query,{\"name\":1, \"ipo.valuation_amount\":1,\"_id\":0}).sort('ipo.valuation_amount', DESCENDING)\n",
    "df = pd.json_normalize(data)\n",
    "df.shape"
   ]
  },
  {
   "cell_type": "markdown",
   "metadata": {},
   "source": [
    "### 10. Retrieve the 10 companies with more employees, order by the `number of employees`"
   ]
  },
  {
   "cell_type": "code",
   "execution_count": 11,
   "metadata": {},
   "outputs": [
    {
     "data": {
      "text/html": [
       "<div>\n",
       "<style scoped>\n",
       "    .dataframe tbody tr th:only-of-type {\n",
       "        vertical-align: middle;\n",
       "    }\n",
       "\n",
       "    .dataframe tbody tr th {\n",
       "        vertical-align: top;\n",
       "    }\n",
       "\n",
       "    .dataframe thead th {\n",
       "        text-align: right;\n",
       "    }\n",
       "</style>\n",
       "<table border=\"1\" class=\"dataframe\">\n",
       "  <thead>\n",
       "    <tr style=\"text-align: right;\">\n",
       "      <th></th>\n",
       "      <th>name</th>\n",
       "      <th>number_of_employees</th>\n",
       "    </tr>\n",
       "  </thead>\n",
       "  <tbody>\n",
       "    <tr>\n",
       "      <th>0</th>\n",
       "      <td>Siemens</td>\n",
       "      <td>405000</td>\n",
       "    </tr>\n",
       "    <tr>\n",
       "      <th>1</th>\n",
       "      <td>IBM</td>\n",
       "      <td>388000</td>\n",
       "    </tr>\n",
       "    <tr>\n",
       "      <th>2</th>\n",
       "      <td>Toyota</td>\n",
       "      <td>320000</td>\n",
       "    </tr>\n",
       "    <tr>\n",
       "      <th>3</th>\n",
       "      <td>PayPal</td>\n",
       "      <td>300000</td>\n",
       "    </tr>\n",
       "    <tr>\n",
       "      <th>4</th>\n",
       "      <td>Nippon Telegraph and Telephone Corporation</td>\n",
       "      <td>227000</td>\n",
       "    </tr>\n",
       "    <tr>\n",
       "      <th>5</th>\n",
       "      <td>Samsung Electronics</td>\n",
       "      <td>221726</td>\n",
       "    </tr>\n",
       "    <tr>\n",
       "      <th>6</th>\n",
       "      <td>Accenture</td>\n",
       "      <td>205000</td>\n",
       "    </tr>\n",
       "    <tr>\n",
       "      <th>7</th>\n",
       "      <td>Tata Consultancy Services</td>\n",
       "      <td>200300</td>\n",
       "    </tr>\n",
       "    <tr>\n",
       "      <th>8</th>\n",
       "      <td>Flextronics International</td>\n",
       "      <td>200000</td>\n",
       "    </tr>\n",
       "    <tr>\n",
       "      <th>9</th>\n",
       "      <td>Safeway</td>\n",
       "      <td>186000</td>\n",
       "    </tr>\n",
       "  </tbody>\n",
       "</table>\n",
       "</div>"
      ],
      "text/plain": [
       "                                         name  number_of_employees\n",
       "0                                     Siemens               405000\n",
       "1                                         IBM               388000\n",
       "2                                      Toyota               320000\n",
       "3                                      PayPal               300000\n",
       "4  Nippon Telegraph and Telephone Corporation               227000\n",
       "5                         Samsung Electronics               221726\n",
       "6                                   Accenture               205000\n",
       "7                   Tata Consultancy Services               200300\n",
       "8                   Flextronics International               200000\n",
       "9                                     Safeway               186000"
      ]
     },
     "metadata": {},
     "output_type": "display_data"
    }
   ],
   "source": [
    "query = {'number_of_employees':{ '$exists':True } } \n",
    "data= db.companies.find(query,{\"name\":1, \"number_of_employees\":1,\"_id\":0}).sort('number_of_employees', DESCENDING).limit(10)\n",
    "df = pd.DataFrame(data)\n",
    "display(df)"
   ]
  },
  {
   "cell_type": "markdown",
   "metadata": {},
   "source": [
    "### 11. All the companies founded on the second semester of the year. Limit your search to 1000 companies."
   ]
  },
  {
   "cell_type": "code",
   "execution_count": 12,
   "metadata": {},
   "outputs": [
    {
     "data": {
      "text/plain": [
       "(1000, 2)"
      ]
     },
     "execution_count": 12,
     "metadata": {},
     "output_type": "execute_result"
    }
   ],
   "source": [
    "query = {'founded_month': {'$gte': 6, '$lte': 12}}  \n",
    "data= db.companies.find(query,{\"name\":1, \"founded_month\":1,\"_id\":0}).limit(1000)\n",
    "df = pd.DataFrame(data)\n",
    "df.shape"
   ]
  },
  {
   "cell_type": "markdown",
   "metadata": {},
   "source": [
    "### 12. All the companies founded before 2000 that have an acquisition amount of more than 10.000.00"
   ]
  },
  {
   "cell_type": "code",
   "execution_count": 13,
   "metadata": {},
   "outputs": [
    {
     "data": {
      "text/plain": [
       "(223, 3)"
      ]
     },
     "execution_count": 13,
     "metadata": {},
     "output_type": "execute_result"
    }
   ],
   "source": [
    "query = {'$and': [{'founded_year': {'$lt': 2000}}, {\"acquisition.price_amount\":{'$gt':1000000 }} ]}  \n",
    "data= db.companies.find(query,{\"name\":1,'founded_year':1,'acquisition.price_amount':1 ,\"_id\":0})\n",
    "df = pd.json_normalize(data)\n",
    "df.shape"
   ]
  },
  {
   "cell_type": "markdown",
   "metadata": {},
   "source": [
    "### 13. All the companies that have been acquired after 2010, order by the acquisition amount, and retrieve only their `name` and `acquisition` field."
   ]
  },
  {
   "cell_type": "code",
   "execution_count": 14,
   "metadata": {},
   "outputs": [
    {
     "data": {
      "text/plain": [
       "(735, 11)"
      ]
     },
     "execution_count": 14,
     "metadata": {},
     "output_type": "execute_result"
    }
   ],
   "source": [
    "query = {'acquisition.acquired_year': {'$gt': 2010}} \n",
    "data= db.companies.find(query,{\"name\":1,'acquisition':1,\"_id\":0}).sort('acquisition.price_amount',DESCENDING)\n",
    "df = pd.json_normalize(data)\n",
    "df.shape"
   ]
  },
  {
   "cell_type": "markdown",
   "metadata": {},
   "source": [
    "### 14. Order the companies by their `founded year`, retrieving only their `name` and `founded year`."
   ]
  },
  {
   "cell_type": "code",
   "execution_count": 15,
   "metadata": {},
   "outputs": [],
   "source": [
    "query = {'founded_year': {'$exists': True}} \n",
    "data= db.companies.find(query,{\"name\":1,'founded_year':1,\"_id\":0}).sort('founded_year', ASCENDING)\n",
    "#No puedo formar un dataframe con esto xq se come toda la RAM?\n",
    "#Cómo se solucionaría esto? Puedo coger una seleccion más pequeña pero\n",
    "#Y si me hace falta todo?"
   ]
  },
  {
   "cell_type": "markdown",
   "metadata": {},
   "source": [
    "### 15. All the companies that have been founded on the first seven days of the month, including the seventh. Sort them by their `acquisition price` in a descending order. Limit the search to 10 documents."
   ]
  },
  {
   "cell_type": "code",
   "execution_count": 16,
   "metadata": {},
   "outputs": [
    {
     "data": {
      "text/html": [
       "<div>\n",
       "<style scoped>\n",
       "    .dataframe tbody tr th:only-of-type {\n",
       "        vertical-align: middle;\n",
       "    }\n",
       "\n",
       "    .dataframe tbody tr th {\n",
       "        vertical-align: top;\n",
       "    }\n",
       "\n",
       "    .dataframe thead th {\n",
       "        text-align: right;\n",
       "    }\n",
       "</style>\n",
       "<table border=\"1\" class=\"dataframe\">\n",
       "  <thead>\n",
       "    <tr style=\"text-align: right;\">\n",
       "      <th></th>\n",
       "      <th>name</th>\n",
       "      <th>founded_day</th>\n",
       "      <th>acquisition.price_amount</th>\n",
       "    </tr>\n",
       "  </thead>\n",
       "  <tbody>\n",
       "    <tr>\n",
       "      <th>0</th>\n",
       "      <td>PayPal</td>\n",
       "      <td>1</td>\n",
       "      <td>1500000000</td>\n",
       "    </tr>\n",
       "    <tr>\n",
       "      <th>1</th>\n",
       "      <td>Zappos</td>\n",
       "      <td>1</td>\n",
       "      <td>1200000000</td>\n",
       "    </tr>\n",
       "    <tr>\n",
       "      <th>2</th>\n",
       "      <td>Alibaba</td>\n",
       "      <td>1</td>\n",
       "      <td>1000000000</td>\n",
       "    </tr>\n",
       "    <tr>\n",
       "      <th>3</th>\n",
       "      <td>Postini</td>\n",
       "      <td>2</td>\n",
       "      <td>625000000</td>\n",
       "    </tr>\n",
       "    <tr>\n",
       "      <th>4</th>\n",
       "      <td>Danger</td>\n",
       "      <td>1</td>\n",
       "      <td>500000000</td>\n",
       "    </tr>\n",
       "    <tr>\n",
       "      <th>5</th>\n",
       "      <td>Clearwell Systems</td>\n",
       "      <td>6</td>\n",
       "      <td>410000000</td>\n",
       "    </tr>\n",
       "    <tr>\n",
       "      <th>6</th>\n",
       "      <td>PrimeSense</td>\n",
       "      <td>1</td>\n",
       "      <td>345000000</td>\n",
       "    </tr>\n",
       "    <tr>\n",
       "      <th>7</th>\n",
       "      <td>Amobee</td>\n",
       "      <td>1</td>\n",
       "      <td>321000000</td>\n",
       "    </tr>\n",
       "    <tr>\n",
       "      <th>8</th>\n",
       "      <td>BlueLithium</td>\n",
       "      <td>1</td>\n",
       "      <td>300000000</td>\n",
       "    </tr>\n",
       "  </tbody>\n",
       "</table>\n",
       "</div>"
      ],
      "text/plain": [
       "                name  founded_day  acquisition.price_amount\n",
       "0             PayPal            1                1500000000\n",
       "1             Zappos            1                1200000000\n",
       "2            Alibaba            1                1000000000\n",
       "3            Postini            2                 625000000\n",
       "4             Danger            1                 500000000\n",
       "5  Clearwell Systems            6                 410000000\n",
       "6         PrimeSense            1                 345000000\n",
       "7             Amobee            1                 321000000\n",
       "8        BlueLithium            1                 300000000"
      ]
     },
     "metadata": {},
     "output_type": "display_data"
    }
   ],
   "source": [
    "query =  {'founded_day': {'$lte':7}} \n",
    "data= db.companies.find(query,{\"name\":1,'founded_day':1,'acquisition.price_amount':1,\"_id\":0}).sort('acquisition.price_amount', DESCENDING).limit(10)\n",
    "df = pd.json_normalize(data)\n",
    "display(df)"
   ]
  },
  {
   "cell_type": "markdown",
   "metadata": {},
   "source": [
    "### 16. All the companies on the 'web' `category` that have more than 4000 employees. Sort them by the amount of employees in ascending order."
   ]
  },
  {
   "cell_type": "code",
   "execution_count": 17,
   "metadata": {},
   "outputs": [
    {
     "data": {
      "text/html": [
       "<div>\n",
       "<style scoped>\n",
       "    .dataframe tbody tr th:only-of-type {\n",
       "        vertical-align: middle;\n",
       "    }\n",
       "\n",
       "    .dataframe tbody tr th {\n",
       "        vertical-align: top;\n",
       "    }\n",
       "\n",
       "    .dataframe thead th {\n",
       "        text-align: right;\n",
       "    }\n",
       "</style>\n",
       "<table border=\"1\" class=\"dataframe\">\n",
       "  <thead>\n",
       "    <tr style=\"text-align: right;\">\n",
       "      <th></th>\n",
       "      <th>name</th>\n",
       "      <th>category_code</th>\n",
       "      <th>number_of_employees</th>\n",
       "    </tr>\n",
       "  </thead>\n",
       "  <tbody>\n",
       "    <tr>\n",
       "      <th>0</th>\n",
       "      <td>Expedia</td>\n",
       "      <td>web</td>\n",
       "      <td>4400</td>\n",
       "    </tr>\n",
       "    <tr>\n",
       "      <th>1</th>\n",
       "      <td>AOL</td>\n",
       "      <td>web</td>\n",
       "      <td>8000</td>\n",
       "    </tr>\n",
       "    <tr>\n",
       "      <th>2</th>\n",
       "      <td>Webkinz</td>\n",
       "      <td>web</td>\n",
       "      <td>8657</td>\n",
       "    </tr>\n",
       "    <tr>\n",
       "      <th>3</th>\n",
       "      <td>Rakuten</td>\n",
       "      <td>web</td>\n",
       "      <td>10000</td>\n",
       "    </tr>\n",
       "    <tr>\n",
       "      <th>4</th>\n",
       "      <td>Los Angeles Times Media Group</td>\n",
       "      <td>web</td>\n",
       "      <td>10000</td>\n",
       "    </tr>\n",
       "    <tr>\n",
       "      <th>5</th>\n",
       "      <td>Groupon</td>\n",
       "      <td>web</td>\n",
       "      <td>10000</td>\n",
       "    </tr>\n",
       "    <tr>\n",
       "      <th>6</th>\n",
       "      <td>Yahoo!</td>\n",
       "      <td>web</td>\n",
       "      <td>13600</td>\n",
       "    </tr>\n",
       "    <tr>\n",
       "      <th>7</th>\n",
       "      <td>eBay</td>\n",
       "      <td>web</td>\n",
       "      <td>15000</td>\n",
       "    </tr>\n",
       "    <tr>\n",
       "      <th>8</th>\n",
       "      <td>Experian</td>\n",
       "      <td>web</td>\n",
       "      <td>15500</td>\n",
       "    </tr>\n",
       "  </tbody>\n",
       "</table>\n",
       "</div>"
      ],
      "text/plain": [
       "                            name category_code  number_of_employees\n",
       "0                        Expedia           web                 4400\n",
       "1                            AOL           web                 8000\n",
       "2                        Webkinz           web                 8657\n",
       "3                        Rakuten           web                10000\n",
       "4  Los Angeles Times Media Group           web                10000\n",
       "5                        Groupon           web                10000\n",
       "6                         Yahoo!           web                13600\n",
       "7                           eBay           web                15000\n",
       "8                       Experian           web                15500"
      ]
     },
     "metadata": {},
     "output_type": "display_data"
    }
   ],
   "source": [
    "query =  {'$and': [{'category_code': 'web'},{'number_of_employees': {'$gt':4000}}]}\n",
    "data= db.companies.find(query,{\"name\":1,'number_of_employees':1,'category_code':1,\"_id\":0}).sort('number_of_employees', ASCENDING)\n",
    "df = pd.DataFrame(data)\n",
    "display(df)"
   ]
  },
  {
   "cell_type": "markdown",
   "metadata": {},
   "source": [
    "### 17. All the companies whose acquisition amount is more than 10.000.000, and currency is 'EUR'."
   ]
  },
  {
   "cell_type": "code",
   "execution_count": 18,
   "metadata": {},
   "outputs": [
    {
     "data": {
      "text/html": [
       "<div>\n",
       "<style scoped>\n",
       "    .dataframe tbody tr th:only-of-type {\n",
       "        vertical-align: middle;\n",
       "    }\n",
       "\n",
       "    .dataframe tbody tr th {\n",
       "        vertical-align: top;\n",
       "    }\n",
       "\n",
       "    .dataframe thead th {\n",
       "        text-align: right;\n",
       "    }\n",
       "</style>\n",
       "<table border=\"1\" class=\"dataframe\">\n",
       "  <thead>\n",
       "    <tr style=\"text-align: right;\">\n",
       "      <th></th>\n",
       "      <th>name</th>\n",
       "      <th>acquisition.price_amount</th>\n",
       "      <th>acquisition.price_currency_code</th>\n",
       "    </tr>\n",
       "  </thead>\n",
       "  <tbody>\n",
       "    <tr>\n",
       "      <th>0</th>\n",
       "      <td>Apertio</td>\n",
       "      <td>140000000</td>\n",
       "      <td>EUR</td>\n",
       "    </tr>\n",
       "    <tr>\n",
       "      <th>1</th>\n",
       "      <td>Greenfield Online</td>\n",
       "      <td>40000000</td>\n",
       "      <td>EUR</td>\n",
       "    </tr>\n",
       "    <tr>\n",
       "      <th>2</th>\n",
       "      <td>Webedia</td>\n",
       "      <td>70000000</td>\n",
       "      <td>EUR</td>\n",
       "    </tr>\n",
       "    <tr>\n",
       "      <th>3</th>\n",
       "      <td>Wayfinder</td>\n",
       "      <td>24000000</td>\n",
       "      <td>EUR</td>\n",
       "    </tr>\n",
       "    <tr>\n",
       "      <th>4</th>\n",
       "      <td>Tuenti Technologies</td>\n",
       "      <td>70000000</td>\n",
       "      <td>EUR</td>\n",
       "    </tr>\n",
       "    <tr>\n",
       "      <th>5</th>\n",
       "      <td>BioMed Central</td>\n",
       "      <td>43400000</td>\n",
       "      <td>EUR</td>\n",
       "    </tr>\n",
       "  </tbody>\n",
       "</table>\n",
       "</div>"
      ],
      "text/plain": [
       "                  name  acquisition.price_amount  \\\n",
       "0              Apertio                 140000000   \n",
       "1    Greenfield Online                  40000000   \n",
       "2              Webedia                  70000000   \n",
       "3            Wayfinder                  24000000   \n",
       "4  Tuenti Technologies                  70000000   \n",
       "5       BioMed Central                  43400000   \n",
       "\n",
       "  acquisition.price_currency_code  \n",
       "0                             EUR  \n",
       "1                             EUR  \n",
       "2                             EUR  \n",
       "3                             EUR  \n",
       "4                             EUR  \n",
       "5                             EUR  "
      ]
     },
     "metadata": {},
     "output_type": "display_data"
    }
   ],
   "source": [
    "query =  {'$and': [{'acquisition.price_currency_code': 'EUR'},{'acquisition.price_amount': {'$gt':10000000}}]}\n",
    "data= db.companies.find(query,{\"name\":1,'acquisition.price_amount':1,'acquisition.price_currency_code':1,\"_id\":0})\n",
    "df = pd.json_normalize(data)\n",
    "display(df)"
   ]
  },
  {
   "cell_type": "markdown",
   "metadata": {},
   "source": [
    "### 18. All the companies that have been acquired on the first trimester of the year. Limit the search to 10 companies, and retrieve only their `name` and `acquisition` fields."
   ]
  },
  {
   "cell_type": "code",
   "execution_count": 19,
   "metadata": {},
   "outputs": [
    {
     "data": {
      "text/html": [
       "<div>\n",
       "<style scoped>\n",
       "    .dataframe tbody tr th:only-of-type {\n",
       "        vertical-align: middle;\n",
       "    }\n",
       "\n",
       "    .dataframe tbody tr th {\n",
       "        vertical-align: top;\n",
       "    }\n",
       "\n",
       "    .dataframe thead th {\n",
       "        text-align: right;\n",
       "    }\n",
       "</style>\n",
       "<table border=\"1\" class=\"dataframe\">\n",
       "  <thead>\n",
       "    <tr style=\"text-align: right;\">\n",
       "      <th></th>\n",
       "      <th>name</th>\n",
       "      <th>acquisition.price_amount</th>\n",
       "      <th>acquisition.price_currency_code</th>\n",
       "      <th>acquisition.term_code</th>\n",
       "      <th>acquisition.source_url</th>\n",
       "      <th>acquisition.source_description</th>\n",
       "      <th>acquisition.acquired_year</th>\n",
       "      <th>acquisition.acquired_month</th>\n",
       "      <th>acquisition.acquired_day</th>\n",
       "      <th>acquisition.acquiring_company.name</th>\n",
       "      <th>acquisition.acquiring_company.permalink</th>\n",
       "    </tr>\n",
       "  </thead>\n",
       "  <tbody>\n",
       "    <tr>\n",
       "      <th>0</th>\n",
       "      <td>Veoh</td>\n",
       "      <td>NaN</td>\n",
       "      <td>USD</td>\n",
       "      <td>None</td>\n",
       "      <td>http://techcrunch.com/2010/04/07/qlipso-veoh/</td>\n",
       "      <td>Qlipso's CEO Explains Why He Bought Veoh</td>\n",
       "      <td>2010</td>\n",
       "      <td>4</td>\n",
       "      <td>7.0</td>\n",
       "      <td>Qlipso</td>\n",
       "      <td>qlipso</td>\n",
       "    </tr>\n",
       "    <tr>\n",
       "      <th>1</th>\n",
       "      <td>Kyte</td>\n",
       "      <td>NaN</td>\n",
       "      <td>USD</td>\n",
       "      <td>None</td>\n",
       "      <td>http://techcrunch.com/2011/01/31/exclusive-kit...</td>\n",
       "      <td>KIT digital Acquires KickApps, Kewego AND Kyte...</td>\n",
       "      <td>2011</td>\n",
       "      <td>1</td>\n",
       "      <td>31.0</td>\n",
       "      <td>KIT digital</td>\n",
       "      <td>kit-digital</td>\n",
       "    </tr>\n",
       "    <tr>\n",
       "      <th>2</th>\n",
       "      <td>Jingle Networks</td>\n",
       "      <td>62500000.0</td>\n",
       "      <td>USD</td>\n",
       "      <td>cash_and_stock</td>\n",
       "      <td>http://www.masshightech.com/stories/2011/04/11...</td>\n",
       "      <td>Jingle Networks bought for up to $62.5M</td>\n",
       "      <td>2011</td>\n",
       "      <td>4</td>\n",
       "      <td>11.0</td>\n",
       "      <td>Marchex</td>\n",
       "      <td>marchex</td>\n",
       "    </tr>\n",
       "    <tr>\n",
       "      <th>3</th>\n",
       "      <td>NetRatings</td>\n",
       "      <td>327000000.0</td>\n",
       "      <td>USD</td>\n",
       "      <td>cash</td>\n",
       "      <td>http://login.vnuemedia.com/hr/login/login_subs...</td>\n",
       "      <td>Nielsen buys rest of NetRatings</td>\n",
       "      <td>2007</td>\n",
       "      <td>2</td>\n",
       "      <td>NaN</td>\n",
       "      <td>Nielsen</td>\n",
       "      <td>nielsen</td>\n",
       "    </tr>\n",
       "    <tr>\n",
       "      <th>4</th>\n",
       "      <td>blogTV</td>\n",
       "      <td>NaN</td>\n",
       "      <td>USD</td>\n",
       "      <td>None</td>\n",
       "      <td>http://techcrunch.com/2013/03/13/younow-buys-b...</td>\n",
       "      <td>Live Social Video Network YouNow Acquires Stre...</td>\n",
       "      <td>2013</td>\n",
       "      <td>3</td>\n",
       "      <td>13.0</td>\n",
       "      <td>YouNow</td>\n",
       "      <td>younow</td>\n",
       "    </tr>\n",
       "    <tr>\n",
       "      <th>...</th>\n",
       "      <td>...</td>\n",
       "      <td>...</td>\n",
       "      <td>...</td>\n",
       "      <td>...</td>\n",
       "      <td>...</td>\n",
       "      <td>...</td>\n",
       "      <td>...</td>\n",
       "      <td>...</td>\n",
       "      <td>...</td>\n",
       "      <td>...</td>\n",
       "      <td>...</td>\n",
       "    </tr>\n",
       "    <tr>\n",
       "      <th>911</th>\n",
       "      <td>Celestial Semiconductor</td>\n",
       "      <td>NaN</td>\n",
       "      <td>USD</td>\n",
       "      <td>None</td>\n",
       "      <td>http://www.freshnews.com/news/444859/cavium-ne...</td>\n",
       "      <td>CAVIUM NETWORKS SIGNS DEFINITIVE AGREEMENT TO ...</td>\n",
       "      <td>2011</td>\n",
       "      <td>1</td>\n",
       "      <td>31.0</td>\n",
       "      <td>Cavium</td>\n",
       "      <td>cavium-networks</td>\n",
       "    </tr>\n",
       "    <tr>\n",
       "      <th>912</th>\n",
       "      <td>InSound Medical</td>\n",
       "      <td>NaN</td>\n",
       "      <td>USD</td>\n",
       "      <td>None</td>\n",
       "      <td>http://www.audiologyonline.com/releases/sonova...</td>\n",
       "      <td>Sonova Acquires InSound Medical Inc</td>\n",
       "      <td>2010</td>\n",
       "      <td>1</td>\n",
       "      <td>6.0</td>\n",
       "      <td>Sonova Holding</td>\n",
       "      <td>sonova-holding</td>\n",
       "    </tr>\n",
       "    <tr>\n",
       "      <th>913</th>\n",
       "      <td>MyChances</td>\n",
       "      <td>NaN</td>\n",
       "      <td>USD</td>\n",
       "      <td>None</td>\n",
       "      <td>http://www.parchment.com/press-releases/new-st...</td>\n",
       "      <td>New Student-Developed Site Helps College Hopef...</td>\n",
       "      <td>2011</td>\n",
       "      <td>4</td>\n",
       "      <td>NaN</td>\n",
       "      <td>Parchment</td>\n",
       "      <td>parchment</td>\n",
       "    </tr>\n",
       "    <tr>\n",
       "      <th>914</th>\n",
       "      <td>EnterSys Group</td>\n",
       "      <td>17500000.0</td>\n",
       "      <td>USD</td>\n",
       "      <td>None</td>\n",
       "      <td></td>\n",
       "      <td></td>\n",
       "      <td>2009</td>\n",
       "      <td>1</td>\n",
       "      <td>10.0</td>\n",
       "      <td>Axon Solutions</td>\n",
       "      <td>axon-solutions</td>\n",
       "    </tr>\n",
       "    <tr>\n",
       "      <th>915</th>\n",
       "      <td>Intergy</td>\n",
       "      <td>16460000.0</td>\n",
       "      <td>USD</td>\n",
       "      <td>None</td>\n",
       "      <td></td>\n",
       "      <td></td>\n",
       "      <td>2009</td>\n",
       "      <td>1</td>\n",
       "      <td>2.0</td>\n",
       "      <td>Willdan Group</td>\n",
       "      <td>willdan-group</td>\n",
       "    </tr>\n",
       "  </tbody>\n",
       "</table>\n",
       "<p>916 rows × 11 columns</p>\n",
       "</div>"
      ],
      "text/plain": [
       "                        name  acquisition.price_amount  \\\n",
       "0                       Veoh                       NaN   \n",
       "1                       Kyte                       NaN   \n",
       "2            Jingle Networks                62500000.0   \n",
       "3                 NetRatings               327000000.0   \n",
       "4                     blogTV                       NaN   \n",
       "..                       ...                       ...   \n",
       "911  Celestial Semiconductor                       NaN   \n",
       "912          InSound Medical                       NaN   \n",
       "913                MyChances                       NaN   \n",
       "914           EnterSys Group                17500000.0   \n",
       "915                  Intergy                16460000.0   \n",
       "\n",
       "    acquisition.price_currency_code acquisition.term_code  \\\n",
       "0                               USD                  None   \n",
       "1                               USD                  None   \n",
       "2                               USD        cash_and_stock   \n",
       "3                               USD                  cash   \n",
       "4                               USD                  None   \n",
       "..                              ...                   ...   \n",
       "911                             USD                  None   \n",
       "912                             USD                  None   \n",
       "913                             USD                  None   \n",
       "914                             USD                  None   \n",
       "915                             USD                  None   \n",
       "\n",
       "                                acquisition.source_url  \\\n",
       "0        http://techcrunch.com/2010/04/07/qlipso-veoh/   \n",
       "1    http://techcrunch.com/2011/01/31/exclusive-kit...   \n",
       "2    http://www.masshightech.com/stories/2011/04/11...   \n",
       "3    http://login.vnuemedia.com/hr/login/login_subs...   \n",
       "4    http://techcrunch.com/2013/03/13/younow-buys-b...   \n",
       "..                                                 ...   \n",
       "911  http://www.freshnews.com/news/444859/cavium-ne...   \n",
       "912  http://www.audiologyonline.com/releases/sonova...   \n",
       "913  http://www.parchment.com/press-releases/new-st...   \n",
       "914                                                      \n",
       "915                                                      \n",
       "\n",
       "                        acquisition.source_description  \\\n",
       "0             Qlipso's CEO Explains Why He Bought Veoh   \n",
       "1    KIT digital Acquires KickApps, Kewego AND Kyte...   \n",
       "2              Jingle Networks bought for up to $62.5M   \n",
       "3                      Nielsen buys rest of NetRatings   \n",
       "4    Live Social Video Network YouNow Acquires Stre...   \n",
       "..                                                 ...   \n",
       "911  CAVIUM NETWORKS SIGNS DEFINITIVE AGREEMENT TO ...   \n",
       "912                Sonova Acquires InSound Medical Inc   \n",
       "913  New Student-Developed Site Helps College Hopef...   \n",
       "914                                                      \n",
       "915                                                      \n",
       "\n",
       "     acquisition.acquired_year  acquisition.acquired_month  \\\n",
       "0                         2010                           4   \n",
       "1                         2011                           1   \n",
       "2                         2011                           4   \n",
       "3                         2007                           2   \n",
       "4                         2013                           3   \n",
       "..                         ...                         ...   \n",
       "911                       2011                           1   \n",
       "912                       2010                           1   \n",
       "913                       2011                           4   \n",
       "914                       2009                           1   \n",
       "915                       2009                           1   \n",
       "\n",
       "     acquisition.acquired_day acquisition.acquiring_company.name  \\\n",
       "0                         7.0                             Qlipso   \n",
       "1                        31.0                        KIT digital   \n",
       "2                        11.0                            Marchex   \n",
       "3                         NaN                            Nielsen   \n",
       "4                        13.0                             YouNow   \n",
       "..                        ...                                ...   \n",
       "911                      31.0                             Cavium   \n",
       "912                       6.0                     Sonova Holding   \n",
       "913                       NaN                          Parchment   \n",
       "914                      10.0                     Axon Solutions   \n",
       "915                       2.0                      Willdan Group   \n",
       "\n",
       "    acquisition.acquiring_company.permalink  \n",
       "0                                    qlipso  \n",
       "1                               kit-digital  \n",
       "2                                   marchex  \n",
       "3                                   nielsen  \n",
       "4                                    younow  \n",
       "..                                      ...  \n",
       "911                         cavium-networks  \n",
       "912                          sonova-holding  \n",
       "913                               parchment  \n",
       "914                          axon-solutions  \n",
       "915                           willdan-group  \n",
       "\n",
       "[916 rows x 11 columns]"
      ]
     },
     "metadata": {},
     "output_type": "display_data"
    }
   ],
   "source": [
    "query = {'acquisition.acquired_month': {'$gte': 1, '$lte': 4}}  \n",
    "data= db.companies.find(query,{\"name\":1,'acquisition':1,\"_id\":0})\n",
    "df = pd.json_normalize(data)\n",
    "display(df)"
   ]
  },
  {
   "cell_type": "markdown",
   "metadata": {},
   "source": [
    "# Bonus\n",
    "### 19. All the companies that have been founded between 2000 and 2010, but have not been acquired before 2011."
   ]
  },
  {
   "cell_type": "code",
   "execution_count": 20,
   "metadata": {},
   "outputs": [
    {
     "data": {
      "text/html": [
       "<div>\n",
       "<style scoped>\n",
       "    .dataframe tbody tr th:only-of-type {\n",
       "        vertical-align: middle;\n",
       "    }\n",
       "\n",
       "    .dataframe tbody tr th {\n",
       "        vertical-align: top;\n",
       "    }\n",
       "\n",
       "    .dataframe thead th {\n",
       "        text-align: right;\n",
       "    }\n",
       "</style>\n",
       "<table border=\"1\" class=\"dataframe\">\n",
       "  <thead>\n",
       "    <tr style=\"text-align: right;\">\n",
       "      <th></th>\n",
       "      <th>name</th>\n",
       "      <th>founded_year</th>\n",
       "      <th>acquisition.acquired_year</th>\n",
       "    </tr>\n",
       "  </thead>\n",
       "  <tbody>\n",
       "    <tr>\n",
       "      <th>0</th>\n",
       "      <td>Geni</td>\n",
       "      <td>2006</td>\n",
       "      <td>2012</td>\n",
       "    </tr>\n",
       "    <tr>\n",
       "      <th>1</th>\n",
       "      <td>Digg</td>\n",
       "      <td>2004</td>\n",
       "      <td>2012</td>\n",
       "    </tr>\n",
       "    <tr>\n",
       "      <th>2</th>\n",
       "      <td>Kyte</td>\n",
       "      <td>2006</td>\n",
       "      <td>2011</td>\n",
       "    </tr>\n",
       "    <tr>\n",
       "      <th>3</th>\n",
       "      <td>Jingle Networks</td>\n",
       "      <td>2005</td>\n",
       "      <td>2011</td>\n",
       "    </tr>\n",
       "    <tr>\n",
       "      <th>4</th>\n",
       "      <td>blogTV</td>\n",
       "      <td>2006</td>\n",
       "      <td>2013</td>\n",
       "    </tr>\n",
       "    <tr>\n",
       "      <th>...</th>\n",
       "      <td>...</td>\n",
       "      <td>...</td>\n",
       "      <td>...</td>\n",
       "    </tr>\n",
       "    <tr>\n",
       "      <th>480</th>\n",
       "      <td>ALOT</td>\n",
       "      <td>2007</td>\n",
       "      <td>2012</td>\n",
       "    </tr>\n",
       "    <tr>\n",
       "      <th>481</th>\n",
       "      <td>OptiMedica</td>\n",
       "      <td>2004</td>\n",
       "      <td>2013</td>\n",
       "    </tr>\n",
       "    <tr>\n",
       "      <th>482</th>\n",
       "      <td>Luminus Devices</td>\n",
       "      <td>2002</td>\n",
       "      <td>2013</td>\n",
       "    </tr>\n",
       "    <tr>\n",
       "      <th>483</th>\n",
       "      <td>Celestial Semiconductor</td>\n",
       "      <td>2004</td>\n",
       "      <td>2011</td>\n",
       "    </tr>\n",
       "    <tr>\n",
       "      <th>484</th>\n",
       "      <td>MyChances</td>\n",
       "      <td>2009</td>\n",
       "      <td>2011</td>\n",
       "    </tr>\n",
       "  </tbody>\n",
       "</table>\n",
       "<p>485 rows × 3 columns</p>\n",
       "</div>"
      ],
      "text/plain": [
       "                        name  founded_year  acquisition.acquired_year\n",
       "0                       Geni          2006                       2012\n",
       "1                       Digg          2004                       2012\n",
       "2                       Kyte          2006                       2011\n",
       "3            Jingle Networks          2005                       2011\n",
       "4                     blogTV          2006                       2013\n",
       "..                       ...           ...                        ...\n",
       "480                     ALOT          2007                       2012\n",
       "481               OptiMedica          2004                       2013\n",
       "482          Luminus Devices          2002                       2013\n",
       "483  Celestial Semiconductor          2004                       2011\n",
       "484                MyChances          2009                       2011\n",
       "\n",
       "[485 rows x 3 columns]"
      ]
     },
     "metadata": {},
     "output_type": "display_data"
    }
   ],
   "source": [
    "query = {'$and': [ {'acquisition.acquired_year': {'$gte': 2011}}, {'founded_year': {'$gte': 2000, '$lte': 2010}} ]} \n",
    "data= db.companies.find(query,{\"name\":1,'acquisition.acquired_year':1,'founded_year':1 ,\"_id\":0})\n",
    "df = pd.json_normalize(data)\n",
    "display(df)"
   ]
  },
  {
   "cell_type": "markdown",
   "metadata": {},
   "source": [
    "### 20. All the companies that have been 'deadpooled' after the third year."
   ]
  },
  {
   "cell_type": "code",
   "execution_count": 21,
   "metadata": {},
   "outputs": [
    {
     "data": {
      "text/html": [
       "<div>\n",
       "<style scoped>\n",
       "    .dataframe tbody tr th:only-of-type {\n",
       "        vertical-align: middle;\n",
       "    }\n",
       "\n",
       "    .dataframe tbody tr th {\n",
       "        vertical-align: top;\n",
       "    }\n",
       "\n",
       "    .dataframe thead th {\n",
       "        text-align: right;\n",
       "    }\n",
       "</style>\n",
       "<table border=\"1\" class=\"dataframe\">\n",
       "  <thead>\n",
       "    <tr style=\"text-align: right;\">\n",
       "      <th></th>\n",
       "      <th>_id</th>\n",
       "      <th>name</th>\n",
       "      <th>dateDifference</th>\n",
       "    </tr>\n",
       "  </thead>\n",
       "  <tbody>\n",
       "    <tr>\n",
       "      <th>3</th>\n",
       "      <td>52cdef7c4bab8bd675297d8f</td>\n",
       "      <td>Omnidrive</td>\n",
       "      <td>3.0</td>\n",
       "    </tr>\n",
       "    <tr>\n",
       "      <th>18</th>\n",
       "      <td>52cdef7c4bab8bd675297da0</td>\n",
       "      <td>Babelgum</td>\n",
       "      <td>6.0</td>\n",
       "    </tr>\n",
       "    <tr>\n",
       "      <th>32</th>\n",
       "      <td>52cdef7c4bab8bd675297dae</td>\n",
       "      <td>Thoof</td>\n",
       "      <td>7.0</td>\n",
       "    </tr>\n",
       "    <tr>\n",
       "      <th>40</th>\n",
       "      <td>52cdef7c4bab8bd675297db6</td>\n",
       "      <td>Wesabe</td>\n",
       "      <td>5.0</td>\n",
       "    </tr>\n",
       "    <tr>\n",
       "      <th>43</th>\n",
       "      <td>52cdef7c4bab8bd675297db7</td>\n",
       "      <td>Jangl SMS</td>\n",
       "      <td>3.0</td>\n",
       "    </tr>\n",
       "  </tbody>\n",
       "</table>\n",
       "</div>"
      ],
      "text/plain": [
       "                         _id       name  dateDifference\n",
       "3   52cdef7c4bab8bd675297d8f  Omnidrive             3.0\n",
       "18  52cdef7c4bab8bd675297da0   Babelgum             6.0\n",
       "32  52cdef7c4bab8bd675297dae      Thoof             7.0\n",
       "40  52cdef7c4bab8bd675297db6     Wesabe             5.0\n",
       "43  52cdef7c4bab8bd675297db7  Jangl SMS             3.0"
      ]
     },
     "metadata": {},
     "output_type": "display_data"
    }
   ],
   "source": [
    "data = db.companies.aggregate( [ { '$project': { 'name': 1, 'dateDifference': { '$subtract': [ \"$deadpooled_year\", \"$founded_year\" ] } } } ] )\n",
    "df = pd.json_normalize(data)\n",
    "df=df.dropna()\n",
    "df=df[df[\"dateDifference\"]>=3]\n",
    "display(df.head())"
   ]
  }
 ],
 "metadata": {
  "kernelspec": {
   "display_name": "analytics_env",
   "language": "python",
   "name": "analytics_env"
  },
  "language_info": {
   "codemirror_mode": {
    "name": "ipython",
    "version": 3
   },
   "file_extension": ".py",
   "mimetype": "text/x-python",
   "name": "python",
   "nbconvert_exporter": "python",
   "pygments_lexer": "ipython3",
   "version": "3.8.2"
  }
 },
 "nbformat": 4,
 "nbformat_minor": 2
}
