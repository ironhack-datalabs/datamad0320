{
 "cells": [
  {
   "cell_type": "markdown",
   "metadata": {},
   "source": [
    "# Advanced Querying Mongo"
   ]
  },
  {
   "cell_type": "markdown",
   "metadata": {},
   "source": [
    "Importing libraries and setting up connection"
   ]
  },
  {
   "cell_type": "code",
   "execution_count": 1,
   "metadata": {},
   "outputs": [
    {
     "name": "stdout",
     "output_type": "stream",
     "text": [
      "mongodb://localhost/datamad0320\n",
      "Database(MongoClient(host=['localhost:27017'], document_class=dict, tz_aware=False, connect=True), 'datamad0320')\n",
      "{'name': 'Crunch', 'type': 'collection', 'options': {}, 'info': {'readOnly': False, 'uuid': UUID('ebb70dde-3213-45d7-bb29-3aa938567994')}, 'idIndex': {'v': 2, 'key': {'_id': 1}, 'name': '_id_', 'ns': 'datamad0320.Crunch'}}\n"
     ]
    }
   ],
   "source": [
    "from pymongo import MongoClient\n",
    "from pymongo import ASCENDING, DESCENDING\n",
    "dbName = \"datamad0320\"\n",
    "mongodbURL = f\"mongodb://localhost/{dbName}\"\n",
    "print(mongodbURL)\n",
    "client = MongoClient(mongodbURL)\n",
    "# Conectar la db\n",
    "db = client.get_database()\n",
    "print(db)\n",
    "# Listar las colecciones\n",
    "cols = db.list_collections()\n",
    "for collection in cols:\n",
    "    print(collection)"
   ]
  },
  {
   "cell_type": "markdown",
   "metadata": {},
   "source": [
    "### 1. All the companies whose name match 'Babelgum'. Retrieve only their `name` field."
   ]
  },
  {
   "cell_type": "code",
   "execution_count": 28,
   "metadata": {},
   "outputs": [
    {
     "name": "stdout",
     "output_type": "stream",
     "text": [
      "Babelgum\n"
     ]
    }
   ],
   "source": [
    "import re\n",
    "# Búsqueda por regex\n",
    "match = re.compile(r'Babelgum')\n",
    "# Hacer la búsqueda e imprimirla\n",
    "companies = list(db.Crunch.find({\"name\":match}, {\"name\":1, \"_id\":0}))\n",
    "for c in companies: print(c[\"name\"])"
   ]
  },
  {
   "cell_type": "markdown",
   "metadata": {},
   "source": [
    "### 2. All the companies that have more than 5000 employees. Limit the search to 20 companies and sort them by **number of employees**."
   ]
  },
  {
   "cell_type": "code",
   "execution_count": 59,
   "metadata": {},
   "outputs": [
    {
     "name": "stdout",
     "output_type": "stream",
     "text": [
      "Siemens 405000\n",
      "IBM 388000\n",
      "Toyota 320000\n",
      "PayPal 300000\n",
      "Nippon Telegraph and Telephone Corporation 227000\n",
      "Samsung Electronics 221726\n",
      "Accenture 205000\n",
      "Tata Consultancy Services 200300\n",
      "Flextronics International 200000\n",
      "Safeway 186000\n",
      "Sony 180500\n",
      "LG 177000\n",
      "Ford 171000\n",
      "Boeing 160000\n",
      "Digital Equipment Corporation 140000\n",
      "Nokia 125000\n",
      "MItsubishi Electric 107000\n",
      "MItsubishi Electric 107000\n",
      "Comcast 100000\n",
      "Bertelsmann 100000\n"
     ]
    }
   ],
   "source": [
    "query = {\"number_of_employees\": {\"$gt\": 5000} }\n",
    "employees = (list(db.Crunch.find((query), {\"name\":1, \"number_of_employees\":1}).sort([(\"number_of_employees\", DESCENDING)]).limit(20)))\n",
    "for c in employees:\n",
    "    print(c[\"name\"], c[\"number_of_employees\"])"
   ]
  },
  {
   "cell_type": "markdown",
   "metadata": {},
   "source": [
    "### 3. All the companies founded between 2000 and 2005, both years included. Retrieve only the `name` and `founded_year` fields."
   ]
  },
  {
   "cell_type": "code",
   "execution_count": 77,
   "metadata": {},
   "outputs": [
    {
     "data": {
      "text/plain": [
       "3734"
      ]
     },
     "execution_count": 77,
     "metadata": {},
     "output_type": "execute_result"
    }
   ],
   "source": [
    "# La query\n",
    "#query = {\"$and\":[{\"founded_year\":{\"$gte\": 2000}},{\"founded_year\":{\"$lte\": 2005}}]}\n",
    "query = {\"founded_year\":{\"$in\": [i for i in range(2000,2006)]}}\n",
    "c_years = (list(db.Crunch.find((query), {\"name\":1, \"founded_year\":1})))\n",
    "# Imprimir\n",
    "len(c_years)"
   ]
  },
  {
   "cell_type": "markdown",
   "metadata": {},
   "source": [
    "### 4. All the companies that had a Valuation Amount of more than 100.000.000 and have been founded before 2010. Retrieve only the `name` and `ipo` fields."
   ]
  },
  {
   "cell_type": "code",
   "execution_count": 8,
   "metadata": {},
   "outputs": [
    {
     "data": {
      "text/plain": [
       "42"
      ]
     },
     "execution_count": 8,
     "metadata": {},
     "output_type": "execute_result"
    }
   ],
   "source": [
    "query = {\"$and\":[{\"ipo.valuation_amount\": {\"$gt\":100000000}}, {\"founded_year\": {\"$lt\":2010}}]}\n",
    "results = (list(db.Crunch.find((query), {\"name\":1, \"ipo\":1}).limit(1000)))\n",
    "# Comprobar\n",
    "len(results)"
   ]
  },
  {
   "cell_type": "markdown",
   "metadata": {},
   "source": [
    "### 5. All the companies that have less than 1000 employees and have been founded before 2005. Order them by the number of employees and limit the search to 10 companies."
   ]
  },
  {
   "cell_type": "code",
   "execution_count": 81,
   "metadata": {},
   "outputs": [
    {
     "data": {
      "text/plain": [
       "10"
      ]
     },
     "execution_count": 81,
     "metadata": {},
     "output_type": "execute_result"
    }
   ],
   "source": [
    "query = {\"$and\":[{\"number_of_employees\": {\"$lt\":1000}}, {\"founded_year\": {\"$lt\":2005}}]}\n",
    "results = (list(db.Crunch.find((query), {\"name\":1}).limit(10)))\n",
    "# Comprobar\n",
    "len(results)"
   ]
  },
  {
   "cell_type": "markdown",
   "metadata": {},
   "source": [
    "### 6. All the companies that don't include the `partners` field."
   ]
  },
  {
   "cell_type": "code",
   "execution_count": 89,
   "metadata": {},
   "outputs": [
    {
     "data": {
      "text/plain": [
       "0"
      ]
     },
     "execution_count": 89,
     "metadata": {},
     "output_type": "execute_result"
    }
   ],
   "source": [
    "query = { \"partners\": { \"$exists\": False } }\n",
    "results = (list(db.Crunch.find((query), {\"name\":1})))\n",
    "len(results)"
   ]
  },
  {
   "cell_type": "markdown",
   "metadata": {},
   "source": [
    "### 7. All the companies that have a null type of value on the `category_code` field."
   ]
  },
  {
   "cell_type": "code",
   "execution_count": 91,
   "metadata": {},
   "outputs": [
    {
     "data": {
      "text/plain": [
       "2751"
      ]
     },
     "execution_count": 91,
     "metadata": {},
     "output_type": "execute_result"
    }
   ],
   "source": [
    "query = { \"category_code\": None}\n",
    "results = (list(db.Crunch.find((query), {\"name\":1})))\n",
    "len(results)"
   ]
  },
  {
   "cell_type": "markdown",
   "metadata": {},
   "source": [
    "### 8. All the companies that have at least 100 employees but less than 1000. Retrieve only the `name` and `number of employees` fields."
   ]
  },
  {
   "cell_type": "code",
   "execution_count": 95,
   "metadata": {},
   "outputs": [
    {
     "data": {
      "text/plain": [
       "753"
      ]
     },
     "execution_count": 95,
     "metadata": {},
     "output_type": "execute_result"
    }
   ],
   "source": [
    "query = {\"$and\":[{\"number_of_employees\": {\"$gt\":100}}, {\"number_of_employees\": {\"$lt\":1000}}]}\n",
    "results = (list(db.Crunch.find((query), {\"name\":1, \"number_of_employees\":1})))\n",
    "# Comprobar\n",
    "len(results)"
   ]
  },
  {
   "cell_type": "markdown",
   "metadata": {},
   "source": [
    "### 9. Order all the companies by their IPO price in a descending order."
   ]
  },
  {
   "cell_type": "code",
   "execution_count": 138,
   "metadata": {},
   "outputs": [
    {
     "data": {
      "text/plain": [
       "5"
      ]
     },
     "execution_count": 138,
     "metadata": {},
     "output_type": "execute_result"
    }
   ],
   "source": [
    "# Lo he limitado a 5 para no petar el sistema\n",
    "results = list(db.Crunch.find().sort([(\"ipo\",-1)]).limit(5))\n",
    "\n",
    "# Comprobar\n",
    "len(results)\n"
   ]
  },
  {
   "cell_type": "markdown",
   "metadata": {},
   "source": [
    "### 10. Retrieve the 10 companies with more employees, order by the `number of employees`"
   ]
  },
  {
   "cell_type": "code",
   "execution_count": 24,
   "metadata": {},
   "outputs": [
    {
     "name": "stdout",
     "output_type": "stream",
     "text": [
      "Siemens\n",
      "IBM\n",
      "Toyota\n",
      "PayPal\n",
      "Nippon Telegraph and Telephone Corporation\n",
      "Samsung Electronics\n",
      "Accenture\n",
      "Tata Consultancy Services\n",
      "Flextronics International\n",
      "Safeway\n"
     ]
    }
   ],
   "source": [
    "results = list(db.Crunch.find().sort([(\"number_of_employees\", -1)]).limit(10))\n",
    "len(results)\n",
    "for e in results:\n",
    "    print(e[\"name\"])"
   ]
  },
  {
   "cell_type": "markdown",
   "metadata": {},
   "source": [
    "### 11. All the companies founded on the second semester of the year. Limit your search to 1000 companies."
   ]
  },
  {
   "cell_type": "code",
   "execution_count": 143,
   "metadata": {},
   "outputs": [
    {
     "data": {
      "text/plain": [
       "1000"
      ]
     },
     "execution_count": 143,
     "metadata": {},
     "output_type": "execute_result"
    }
   ],
   "source": [
    "query = {\"founded_month\": {\"$gte\": 7}}\n",
    "results = (list(db.Crunch.find((query), {\"_id\"}).limit(1000)))\n",
    "len(results)"
   ]
  },
  {
   "cell_type": "markdown",
   "metadata": {},
   "source": [
    "### 12. All the companies founded before 2000 that have an acquisition amount of more than 10.000.00"
   ]
  },
  {
   "cell_type": "code",
   "execution_count": 37,
   "metadata": {},
   "outputs": [
    {
     "data": {
      "text/plain": [
       "225"
      ]
     },
     "execution_count": 37,
     "metadata": {},
     "output_type": "execute_result"
    }
   ],
   "source": [
    "query = {\"$and\":[{\"founded_year\": {\"$lt\": 2000}}, {\"acquisition.price_amount\": {\"$gt\": 10000}}]}\n",
    "results = (list(db.Crunch.find((query)).limit(1000)))\n",
    "len(results)"
   ]
  },
  {
   "cell_type": "markdown",
   "metadata": {},
   "source": [
    "### 13. All the companies that have been acquired after 2010, order by the acquisition amount, and retrieve only their `name` and `acquisition` field."
   ]
  },
  {
   "cell_type": "code",
   "execution_count": 20,
   "metadata": {},
   "outputs": [
    {
     "name": "stdout",
     "output_type": "stream",
     "text": [
      "736\n",
      "{'name': 'Jingle Networks', 'acquisition': {'price_amount': 62500000, 'price_currency_code': 'USD', 'term_code': 'cash_and_stock', 'source_url': 'http://www.masshightech.com/stories/2011/04/11/daily11-Jingle-Networks-bought-for-up-to-625M.html', 'source_description': 'Jingle Networks bought for up to $62.5M', 'acquired_year': 2011, 'acquired_month': 4, 'acquired_day': 11, 'acquiring_company': {'name': 'Marchex', 'permalink': 'marchex'}}}\n"
     ]
    }
   ],
   "source": [
    "query = {\"acquisition.acquired_year\": {\"$gt\": 2010}}\n",
    "results = (list(db.Crunch.find((query), {\"name\":1, \"acquisition\":1, \"_id\":0})\n",
    "                .sort([(\"acquisition.acquired_year\",1)]).limit(1000)))\n",
    "print(len(results))\n",
    "print(results[1])"
   ]
  },
  {
   "cell_type": "markdown",
   "metadata": {},
   "source": [
    "### 14. Order the companies by their `founded year`, retrieving only their `name` and `founded year`."
   ]
  },
  {
   "cell_type": "code",
   "execution_count": 31,
   "metadata": {},
   "outputs": [
    {
     "name": "stdout",
     "output_type": "stream",
     "text": [
      "1000\n",
      "{'_id': ObjectId('52cdef7c4bab8bd675297d92'), 'name': 'Flektor', 'founded_year': None}\n"
     ]
    }
   ],
   "source": [
    "results = (list(db.Crunch.find({}, {\"name\":1, \"founded_year\":1}).sort([(\"founded_year\",1)]).limit(1000)))\n",
    "print(len(results))\n",
    "print(results[0])"
   ]
  },
  {
   "cell_type": "markdown",
   "metadata": {},
   "source": [
    "### 15. All the companies that have been founded on the first seven days of the month, including the seventh. Sort them by their `acquisition price` in a descending order. Limit the search to 10 documents."
   ]
  },
  {
   "cell_type": "code",
   "execution_count": 33,
   "metadata": {},
   "outputs": [
    {
     "data": {
      "text/plain": [
       "10"
      ]
     },
     "execution_count": 33,
     "metadata": {},
     "output_type": "execute_result"
    }
   ],
   "source": [
    "query = {\"founded_day\": {\"$lte\": 7}}\n",
    "results = (list(db.Crunch.find((query)).sort([(\"acquisition.price_amount\",-1)]).limit(10)))\n",
    "len(results)\n"
   ]
  },
  {
   "cell_type": "markdown",
   "metadata": {},
   "source": [
    "### 16. All the companies on the 'web' `category` that have more than 4000 employees. Sort them by the amount of employees in ascending order."
   ]
  },
  {
   "cell_type": "code",
   "execution_count": 34,
   "metadata": {},
   "outputs": [
    {
     "data": {
      "text/plain": [
       "9"
      ]
     },
     "execution_count": 34,
     "metadata": {},
     "output_type": "execute_result"
    }
   ],
   "source": [
    "query = {\"$and\":[{\"category_code\": \"web\"}, {\"number_of_employees\": {\"$gt\": 4000}}]}\n",
    "results = (list(db.Crunch.find((query)).sort([(\"number_of_employees\", 1)]).limit(1000)))\n",
    "len(results)"
   ]
  },
  {
   "cell_type": "markdown",
   "metadata": {},
   "source": [
    "### 17. All the companies whose acquisition amount is more than 10.000.000, and currency is 'EUR'."
   ]
  },
  {
   "cell_type": "code",
   "execution_count": 35,
   "metadata": {},
   "outputs": [
    {
     "data": {
      "text/plain": [
       "7"
      ]
     },
     "execution_count": 35,
     "metadata": {},
     "output_type": "execute_result"
    }
   ],
   "source": [
    "query = {\"$and\":[{\"acquisition.price_currency_code\": \"EUR\"}, {\"acquisition.price_amount\": {\"$gt\": 10000000}}]}\n",
    "results = (list(db.Crunch.find((query)).limit(1000)))\n",
    "len(results)"
   ]
  },
  {
   "cell_type": "markdown",
   "metadata": {},
   "source": [
    "### 18. All the companies that have been acquired on the first trimester of the year. Limit the search to 10 companies, and retrieve only their `name` and `acquisition` fields."
   ]
  },
  {
   "cell_type": "code",
   "execution_count": 36,
   "metadata": {},
   "outputs": [
    {
     "data": {
      "text/plain": [
       "10"
      ]
     },
     "execution_count": 36,
     "metadata": {},
     "output_type": "execute_result"
    }
   ],
   "source": [
    "query = {\"acquisition.acquired_month\": {\"$lte\": 3}}\n",
    "results = (list(db.Crunch.find((query), {\"_name\":1}).limit(10)))\n",
    "len(results)"
   ]
  },
  {
   "cell_type": "markdown",
   "metadata": {},
   "source": [
    "# Bonus\n",
    "### 19. All the companies that have been founded between 2000 and 2010, but have not been acquired before 2011."
   ]
  },
  {
   "cell_type": "code",
   "execution_count": 10,
   "metadata": {},
   "outputs": [
    {
     "name": "stdout",
     "output_type": "stream",
     "text": [
      "274\n"
     ]
    }
   ],
   "source": [
    "query = {\"$and\": [{\"founded_year\": {\"$gte\": 2000,\"$lte\": 2010}}, {\"acquisition.acquired_year\": {\"$gt\": 2011}}]}\n",
    "results = (list(db.Crunch.find((query), {\"name\":1}).limit(1000)))\n",
    "print(len(results))\n"
   ]
  },
  {
   "cell_type": "markdown",
   "metadata": {},
   "source": [
    "### 20. All the companies that have been 'deadpooled' after the third year."
   ]
  },
  {
   "cell_type": "code",
   "execution_count": null,
   "metadata": {},
   "outputs": [],
   "source": [
    "# Your Code"
   ]
  }
 ],
 "metadata": {
  "kernelspec": {
   "display_name": "Python 3",
   "language": "python",
   "name": "python3"
  },
  "language_info": {
   "codemirror_mode": {
    "name": "ipython",
    "version": 3
   },
   "file_extension": ".py",
   "mimetype": "text/x-python",
   "name": "python",
   "nbconvert_exporter": "python",
   "pygments_lexer": "ipython3",
   "version": "3.8.1"
  }
 },
 "nbformat": 4,
 "nbformat_minor": 2
}
