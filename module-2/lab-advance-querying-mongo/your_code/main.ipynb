{
 "cells": [
  {
   "cell_type": "markdown",
   "metadata": {},
   "source": [
    "# Advanced Querying Mongo"
   ]
  },
  {
   "cell_type": "markdown",
   "metadata": {},
   "source": [
    "Importing libraries and setting up connection"
   ]
  },
  {
   "cell_type": "code",
   "execution_count": 1,
   "metadata": {},
   "outputs": [
    {
     "name": "stdout",
     "output_type": "stream",
     "text": [
      "Requirement already satisfied: pymongo in /usr/local/lib/python3.7/site-packages (3.10.1)\r\n"
     ]
    }
   ],
   "source": [
    "!pip3 install pymongo\n",
    "#En muchas he tenido que incluir un limite menor al que pide el ejercicio o incluso aunque el ejercicio no lo pida\n",
    "#para que el resultado de la busqueda no sea demasiado grande, normalmente también pongo que saque solo el nombre\n",
    "#por el mismo motivo"
   ]
  },
  {
   "cell_type": "code",
   "execution_count": 2,
   "metadata": {},
   "outputs": [],
   "source": [
    "from pymongo import MongoClient\n",
    "client = MongoClient(\"mongodb://localhost/Lab_mongo\")\n",
    "db = client.get_database()"
   ]
  },
  {
   "cell_type": "markdown",
   "metadata": {},
   "source": [
    "### 1. All the companies whose name match 'Babelgum'. Retrieve only their `name` field."
   ]
  },
  {
   "cell_type": "code",
   "execution_count": 3,
   "metadata": {},
   "outputs": [
    {
     "name": "stdout",
     "output_type": "stream",
     "text": [
      "Babelgum\n"
     ]
    }
   ],
   "source": [
    "# Your Code\n",
    "for c in db.companies.find({\"name\": \"Babelgum\"}):\n",
    "    print(c[\"name\"])"
   ]
  },
  {
   "cell_type": "markdown",
   "metadata": {},
   "source": [
    "### 2. All the companies that have more than 5000 employees. Limit the search to 20 companies and sort them by **number of employees**."
   ]
  },
  {
   "cell_type": "code",
   "execution_count": 82,
   "metadata": {},
   "outputs": [
    {
     "name": "stdout",
     "output_type": "stream",
     "text": [
      "Nintendo\n",
      "Hexaware Technologies\n",
      "Facebook\n",
      "OpenText\n",
      "LSI\n",
      "CPM Braxis\n",
      "Microchip Technologies\n",
      "Mediaset\n",
      "Mindray Medical International\n",
      "Baidu\n",
      "Dentsu\n",
      "Tata Communications\n",
      "Atmel\n",
      "Acxiom\n",
      "Acxiom\n",
      "SRA International\n",
      "Moody's\n",
      "ManTech\n",
      "Adobe Systems\n",
      "Broadcom\n"
     ]
    }
   ],
   "source": [
    "# Your Code\n",
    "from pymongo import ASCENDING, DESCENDING\n",
    "for c in db.companies.find({\"number_of_employees\": {\"$gt\":5000}}).sort(\"number_of_employees\", ASCENDING).limit(20):\n",
    "    print(c[\"name\"])"
   ]
  },
  {
   "cell_type": "markdown",
   "metadata": {},
   "source": [
    "### 3. All the companies founded between 2000 and 2005, both years included. Retrieve only the `name` and `founded_year` fields."
   ]
  },
  {
   "cell_type": "code",
   "execution_count": 103,
   "metadata": {},
   "outputs": [
    {
     "name": "stdout",
     "output_type": "stream",
     "text": [
      "Digg 2004\n",
      "Facebook 2004\n",
      "StumbleUpon 2002\n",
      "Gizmoz 2003\n",
      "Plaxo 2002\n",
      "Technorati 2002\n",
      "AddThis 2004\n",
      "Veoh 2004\n",
      "Meetup 2002\n",
      "SmugMug 2002\n"
     ]
    }
   ],
   "source": [
    "# Your Code\n",
    "def byNextNYears(yearStart,numYears=5):\n",
    "    years = list(range(yearStart,yearStart+numYears))\n",
    "    query = {\"$or\":[{\"founded_year\":year} for year in years]}\n",
    "    return query\n",
    "for c in db.companies.find(byNextNYears(2000)).limit(10):\n",
    "    print(c[\"name\"], c[\"founded_year\"])"
   ]
  },
  {
   "cell_type": "markdown",
   "metadata": {},
   "source": [
    "### 4. All the companies that had a Valuation Amount of more than 100.000.000 and have been founded before 2010. Retrieve only the `name` and `ipo` fields."
   ]
  },
  {
   "cell_type": "code",
   "execution_count": 105,
   "metadata": {},
   "outputs": [
    {
     "name": "stdout",
     "output_type": "stream",
     "text": [
      "Facebook {'valuation_amount': 104000000000, 'valuation_currency_code': 'USD', 'pub_year': 2012, 'pub_month': 5, 'pub_day': 18, 'stock_symbol': 'NASDAQ:FB'}\n",
      "Twitter {'valuation_amount': 18100000000, 'valuation_currency_code': 'USD', 'pub_year': 2013, 'pub_month': 11, 'pub_day': 7, 'stock_symbol': 'NYSE:TWTR'}\n",
      "Yelp {'valuation_amount': 1300000000, 'valuation_currency_code': 'USD', 'pub_year': 2012, 'pub_month': 3, 'pub_day': 2, 'stock_symbol': 'NYSE:YELP'}\n",
      "LinkedIn {'valuation_amount': 9310000000, 'valuation_currency_code': 'USD', 'pub_year': 2011, 'pub_month': 7, 'pub_day': 20, 'stock_symbol': 'NYSE:LNKD'}\n",
      "Amazon {'valuation_amount': 100000000000, 'valuation_currency_code': 'USD', 'pub_year': 1997, 'pub_month': 5, 'pub_day': None, 'stock_symbol': 'NASDAQ:AMZN'}\n",
      "Brightcove {'valuation_amount': 290000000, 'valuation_currency_code': 'USD', 'pub_year': 2012, 'pub_month': 2, 'pub_day': 17, 'stock_symbol': 'NASDAQ:BCOV'}\n",
      "KIT digital {'valuation_amount': 235000000, 'valuation_currency_code': 'USD', 'pub_year': 2010, 'pub_month': 7, 'pub_day': 27, 'stock_symbol': 'KITD'}\n",
      "Nielsen {'valuation_amount': 1600000000, 'valuation_currency_code': 'USD', 'pub_year': 2011, 'pub_month': 1, 'pub_day': 26, 'stock_symbol': 'NYSE:NLSN'}\n",
      "OpenTable {'valuation_amount': 1050000000, 'valuation_currency_code': 'USD', 'pub_year': 2009, 'pub_month': 5, 'pub_day': 21, 'stock_symbol': 'NASDAQ:OPEN'}\n",
      "ChannelAdvisor {'valuation_amount': 287000000, 'valuation_currency_code': 'USD', 'pub_year': 2013, 'pub_month': 5, 'pub_day': 23, 'stock_symbol': 'NYSE:ECOM'}\n"
     ]
    }
   ],
   "source": [
    "# Your Code\n",
    "for c in db.companies.find({\"$and\":[{\"ipo.valuation_amount\": {\"$gt\":100000000}}, {\"founded_year\":{\"$lt\": 2010}}]}).limit(10):\n",
    "    print(c[\"name\"], c[\"ipo\"])"
   ]
  },
  {
   "cell_type": "markdown",
   "metadata": {},
   "source": [
    "### 5. All the companies that have less than 1000 employees and have been founded before 2005. Order them by the number of employees and limit the search to 10 companies."
   ]
  },
  {
   "cell_type": "code",
   "execution_count": 81,
   "metadata": {},
   "outputs": [
    {
     "name": "stdout",
     "output_type": "stream",
     "text": [
      "Fox Interactive Media\n",
      "Skype\n",
      "Ticketmaster\n",
      "stylediary\n",
      "MindTouch\n",
      "Simpy\n",
      "Eurekster\n",
      "Compete\n",
      "EditGrid\n",
      "Monster\n"
     ]
    }
   ],
   "source": [
    "# Your Code\n",
    "for c in db.companies.find({\"$and\":[{\"number_of_employees\": {\"$lt\":1000}}, {\"founded_year\": {\"$lt\": 2005}}]}).sort(\"number_of_employees\", ASCENDING).limit(10):\n",
    "    print(c[\"name\"])"
   ]
  },
  {
   "cell_type": "markdown",
   "metadata": {},
   "source": [
    "### 6. All the companies that don't include the `partners` field."
   ]
  },
  {
   "cell_type": "code",
   "execution_count": 73,
   "metadata": {},
   "outputs": [
    {
     "ename": "SyntaxError",
     "evalue": "unexpected EOF while parsing (<ipython-input-73-c9a0f19ed6fc>, line 2)",
     "output_type": "error",
     "traceback": [
      "\u001b[0;36m  File \u001b[0;32m\"<ipython-input-73-c9a0f19ed6fc>\"\u001b[0;36m, line \u001b[0;32m2\u001b[0m\n\u001b[0;31m    for c in db.companies.find({\"$nin\": \"partners\"}):\u001b[0m\n\u001b[0m                                                     ^\u001b[0m\n\u001b[0;31mSyntaxError\u001b[0m\u001b[0;31m:\u001b[0m unexpected EOF while parsing\n"
     ]
    }
   ],
   "source": [
    "# Your Code\n",
    "for c in db.companies.find({\"$nin\": \"partners\"}):"
   ]
  },
  {
   "cell_type": "markdown",
   "metadata": {},
   "source": [
    "### 7. All the companies that have a null type of value on the `category_code` field."
   ]
  },
  {
   "cell_type": "code",
   "execution_count": 74,
   "metadata": {},
   "outputs": [],
   "source": [
    "# Your Code\n",
    "for c in db.companies.find({ \"category_code\": {\"$exists\": False }}):\n",
    "    print(c)"
   ]
  },
  {
   "cell_type": "markdown",
   "metadata": {},
   "source": [
    "### 8. All the companies that have at least 100 employees but less than 1000. Retrieve only the `name` and `number of employees` fields."
   ]
  },
  {
   "cell_type": "code",
   "execution_count": 76,
   "metadata": {},
   "outputs": [
    {
     "name": "stdout",
     "output_type": "stream",
     "text": [
      "AdventNet 600\n",
      "AddThis 120\n",
      "OpenX 305\n",
      "LifeLock 644\n",
      "Jajah 110\n",
      "Livestream 120\n",
      "Ustream 250\n",
      "iContact 300\n",
      "Yelp 800\n",
      "Dailymotion 120\n"
     ]
    }
   ],
   "source": [
    "# Your Code\n",
    "for c in db.companies.find({\"$and\":[{\"number_of_employees\": {\"$gt\":100}}, {\"number_of_employees\": {\"$lt\":1000}}]}).limit(10):\n",
    "    print(c[\"name\"], c[\"number_of_employees\"])"
   ]
  },
  {
   "cell_type": "markdown",
   "metadata": {},
   "source": [
    "### 9. Order all the companies by their IPO price in a descending order."
   ]
  },
  {
   "cell_type": "code",
   "execution_count": 94,
   "metadata": {},
   "outputs": [
    {
     "ename": "OperationFailure",
     "evalue": "Executor error during find command :: caused by :: Sort operation used more than the maximum 33554432 bytes of RAM. Add an index, or specify a smaller limit.",
     "output_type": "error",
     "traceback": [
      "\u001b[0;31m---------------------------------------------------------------------------\u001b[0m",
      "\u001b[0;31mOperationFailure\u001b[0m                          Traceback (most recent call last)",
      "\u001b[0;32m<ipython-input-94-8a4a111d5823>\u001b[0m in \u001b[0;36m<module>\u001b[0;34m\u001b[0m\n\u001b[1;32m      1\u001b[0m \u001b[0;31m# Your Code\u001b[0m\u001b[0;34m\u001b[0m\u001b[0;34m\u001b[0m\u001b[0;34m\u001b[0m\u001b[0m\n\u001b[0;32m----> 2\u001b[0;31m \u001b[0;32mfor\u001b[0m \u001b[0mc\u001b[0m \u001b[0;32min\u001b[0m \u001b[0mdb\u001b[0m\u001b[0;34m.\u001b[0m\u001b[0mcompanies\u001b[0m\u001b[0;34m.\u001b[0m\u001b[0mfind\u001b[0m\u001b[0;34m(\u001b[0m\u001b[0;34m{\u001b[0m\u001b[0;34m\"ipo\"\u001b[0m\u001b[0;34m:\u001b[0m\u001b[0;34m{\u001b[0m\u001b[0;34m\"$exists\"\u001b[0m\u001b[0;34m:\u001b[0m \u001b[0;32mTrue\u001b[0m\u001b[0;34m}\u001b[0m\u001b[0;34m}\u001b[0m\u001b[0;34m)\u001b[0m\u001b[0;34m.\u001b[0m\u001b[0msort\u001b[0m\u001b[0;34m(\u001b[0m\u001b[0;34m\"ipo.valuation_amount\"\u001b[0m\u001b[0;34m,\u001b[0m \u001b[0mDESCENDING\u001b[0m\u001b[0;34m)\u001b[0m\u001b[0;34m:\u001b[0m\u001b[0;34m\u001b[0m\u001b[0;34m\u001b[0m\u001b[0m\n\u001b[0m\u001b[1;32m      3\u001b[0m     \u001b[0mprint\u001b[0m\u001b[0;34m(\u001b[0m\u001b[0mc\u001b[0m\u001b[0;34m[\u001b[0m\u001b[0;34m\"name\"\u001b[0m\u001b[0;34m]\u001b[0m\u001b[0;34m)\u001b[0m\u001b[0;34m\u001b[0m\u001b[0;34m\u001b[0m\u001b[0m\n",
      "\u001b[0;32m~/opt/anaconda3/lib/python3.7/site-packages/pymongo/cursor.py\u001b[0m in \u001b[0;36mnext\u001b[0;34m(self)\u001b[0m\n\u001b[1;32m   1154\u001b[0m         \u001b[0;32mif\u001b[0m \u001b[0mself\u001b[0m\u001b[0;34m.\u001b[0m\u001b[0m__empty\u001b[0m\u001b[0;34m:\u001b[0m\u001b[0;34m\u001b[0m\u001b[0;34m\u001b[0m\u001b[0m\n\u001b[1;32m   1155\u001b[0m             \u001b[0;32mraise\u001b[0m \u001b[0mStopIteration\u001b[0m\u001b[0;34m\u001b[0m\u001b[0;34m\u001b[0m\u001b[0m\n\u001b[0;32m-> 1156\u001b[0;31m         \u001b[0;32mif\u001b[0m \u001b[0mlen\u001b[0m\u001b[0;34m(\u001b[0m\u001b[0mself\u001b[0m\u001b[0;34m.\u001b[0m\u001b[0m__data\u001b[0m\u001b[0;34m)\u001b[0m \u001b[0;32mor\u001b[0m \u001b[0mself\u001b[0m\u001b[0;34m.\u001b[0m\u001b[0m_refresh\u001b[0m\u001b[0;34m(\u001b[0m\u001b[0;34m)\u001b[0m\u001b[0;34m:\u001b[0m\u001b[0;34m\u001b[0m\u001b[0;34m\u001b[0m\u001b[0m\n\u001b[0m\u001b[1;32m   1157\u001b[0m             \u001b[0;32mif\u001b[0m \u001b[0mself\u001b[0m\u001b[0;34m.\u001b[0m\u001b[0m__manipulate\u001b[0m\u001b[0;34m:\u001b[0m\u001b[0;34m\u001b[0m\u001b[0;34m\u001b[0m\u001b[0m\n\u001b[1;32m   1158\u001b[0m                 \u001b[0m_db\u001b[0m \u001b[0;34m=\u001b[0m \u001b[0mself\u001b[0m\u001b[0;34m.\u001b[0m\u001b[0m__collection\u001b[0m\u001b[0;34m.\u001b[0m\u001b[0mdatabase\u001b[0m\u001b[0;34m\u001b[0m\u001b[0;34m\u001b[0m\u001b[0m\n",
      "\u001b[0;32m~/opt/anaconda3/lib/python3.7/site-packages/pymongo/cursor.py\u001b[0m in \u001b[0;36m_refresh\u001b[0;34m(self)\u001b[0m\n\u001b[1;32m   1071\u001b[0m                                   \u001b[0mself\u001b[0m\u001b[0;34m.\u001b[0m\u001b[0m__session\u001b[0m\u001b[0;34m,\u001b[0m\u001b[0;34m\u001b[0m\u001b[0;34m\u001b[0m\u001b[0m\n\u001b[1;32m   1072\u001b[0m                                   self.__collection.database.client)\n\u001b[0;32m-> 1073\u001b[0;31m             \u001b[0mself\u001b[0m\u001b[0;34m.\u001b[0m\u001b[0m__send_message\u001b[0m\u001b[0;34m(\u001b[0m\u001b[0mq\u001b[0m\u001b[0;34m)\u001b[0m\u001b[0;34m\u001b[0m\u001b[0;34m\u001b[0m\u001b[0m\n\u001b[0m\u001b[1;32m   1074\u001b[0m         \u001b[0;32melif\u001b[0m \u001b[0mself\u001b[0m\u001b[0;34m.\u001b[0m\u001b[0m__id\u001b[0m\u001b[0;34m:\u001b[0m  \u001b[0;31m# Get More\u001b[0m\u001b[0;34m\u001b[0m\u001b[0;34m\u001b[0m\u001b[0m\n\u001b[1;32m   1075\u001b[0m             \u001b[0;32mif\u001b[0m \u001b[0mself\u001b[0m\u001b[0;34m.\u001b[0m\u001b[0m__limit\u001b[0m\u001b[0;34m:\u001b[0m\u001b[0;34m\u001b[0m\u001b[0;34m\u001b[0m\u001b[0m\n",
      "\u001b[0;32m~/opt/anaconda3/lib/python3.7/site-packages/pymongo/cursor.py\u001b[0m in \u001b[0;36m__send_message\u001b[0;34m(self, operation)\u001b[0m\n\u001b[1;32m    953\u001b[0m             response = client._run_operation_with_response(\n\u001b[1;32m    954\u001b[0m                 \u001b[0moperation\u001b[0m\u001b[0;34m,\u001b[0m \u001b[0mself\u001b[0m\u001b[0;34m.\u001b[0m\u001b[0m_unpack_response\u001b[0m\u001b[0;34m,\u001b[0m \u001b[0mexhaust\u001b[0m\u001b[0;34m=\u001b[0m\u001b[0mself\u001b[0m\u001b[0;34m.\u001b[0m\u001b[0m__exhaust\u001b[0m\u001b[0;34m,\u001b[0m\u001b[0;34m\u001b[0m\u001b[0;34m\u001b[0m\u001b[0m\n\u001b[0;32m--> 955\u001b[0;31m                 address=self.__address)\n\u001b[0m\u001b[1;32m    956\u001b[0m         \u001b[0;32mexcept\u001b[0m \u001b[0mOperationFailure\u001b[0m\u001b[0;34m:\u001b[0m\u001b[0;34m\u001b[0m\u001b[0;34m\u001b[0m\u001b[0m\n\u001b[1;32m    957\u001b[0m             \u001b[0mself\u001b[0m\u001b[0;34m.\u001b[0m\u001b[0m__killed\u001b[0m \u001b[0;34m=\u001b[0m \u001b[0;32mTrue\u001b[0m\u001b[0;34m\u001b[0m\u001b[0;34m\u001b[0m\u001b[0m\n",
      "\u001b[0;32m~/opt/anaconda3/lib/python3.7/site-packages/pymongo/mongo_client.py\u001b[0m in \u001b[0;36m_run_operation_with_response\u001b[0;34m(self, operation, unpack_res, exhaust, address)\u001b[0m\n\u001b[1;32m   1344\u001b[0m             \u001b[0maddress\u001b[0m\u001b[0;34m=\u001b[0m\u001b[0maddress\u001b[0m\u001b[0;34m,\u001b[0m\u001b[0;34m\u001b[0m\u001b[0;34m\u001b[0m\u001b[0m\n\u001b[1;32m   1345\u001b[0m             \u001b[0mretryable\u001b[0m\u001b[0;34m=\u001b[0m\u001b[0misinstance\u001b[0m\u001b[0;34m(\u001b[0m\u001b[0moperation\u001b[0m\u001b[0;34m,\u001b[0m \u001b[0mmessage\u001b[0m\u001b[0;34m.\u001b[0m\u001b[0m_Query\u001b[0m\u001b[0;34m)\u001b[0m\u001b[0;34m,\u001b[0m\u001b[0;34m\u001b[0m\u001b[0;34m\u001b[0m\u001b[0m\n\u001b[0;32m-> 1346\u001b[0;31m             exhaust=exhaust)\n\u001b[0m\u001b[1;32m   1347\u001b[0m \u001b[0;34m\u001b[0m\u001b[0m\n\u001b[1;32m   1348\u001b[0m     \u001b[0;32mdef\u001b[0m \u001b[0m_retry_with_session\u001b[0m\u001b[0;34m(\u001b[0m\u001b[0mself\u001b[0m\u001b[0;34m,\u001b[0m \u001b[0mretryable\u001b[0m\u001b[0;34m,\u001b[0m \u001b[0mfunc\u001b[0m\u001b[0;34m,\u001b[0m \u001b[0msession\u001b[0m\u001b[0;34m,\u001b[0m \u001b[0mbulk\u001b[0m\u001b[0;34m)\u001b[0m\u001b[0;34m:\u001b[0m\u001b[0;34m\u001b[0m\u001b[0;34m\u001b[0m\u001b[0m\n",
      "\u001b[0;32m~/opt/anaconda3/lib/python3.7/site-packages/pymongo/mongo_client.py\u001b[0m in \u001b[0;36m_retryable_read\u001b[0;34m(self, func, read_pref, session, address, retryable, exhaust)\u001b[0m\n\u001b[1;32m   1462\u001b[0m                         \u001b[0;31m# not support retryable reads, raise the last error.\u001b[0m\u001b[0;34m\u001b[0m\u001b[0;34m\u001b[0m\u001b[0;34m\u001b[0m\u001b[0m\n\u001b[1;32m   1463\u001b[0m                         \u001b[0;32mraise\u001b[0m \u001b[0mlast_error\u001b[0m\u001b[0;34m\u001b[0m\u001b[0;34m\u001b[0m\u001b[0m\n\u001b[0;32m-> 1464\u001b[0;31m                     \u001b[0;32mreturn\u001b[0m \u001b[0mfunc\u001b[0m\u001b[0;34m(\u001b[0m\u001b[0msession\u001b[0m\u001b[0;34m,\u001b[0m \u001b[0mserver\u001b[0m\u001b[0;34m,\u001b[0m \u001b[0msock_info\u001b[0m\u001b[0;34m,\u001b[0m \u001b[0mslave_ok\u001b[0m\u001b[0;34m)\u001b[0m\u001b[0;34m\u001b[0m\u001b[0;34m\u001b[0m\u001b[0m\n\u001b[0m\u001b[1;32m   1465\u001b[0m             \u001b[0;32mexcept\u001b[0m \u001b[0mServerSelectionTimeoutError\u001b[0m\u001b[0;34m:\u001b[0m\u001b[0;34m\u001b[0m\u001b[0;34m\u001b[0m\u001b[0m\n\u001b[1;32m   1466\u001b[0m                 \u001b[0;32mif\u001b[0m \u001b[0mretrying\u001b[0m\u001b[0;34m:\u001b[0m\u001b[0;34m\u001b[0m\u001b[0;34m\u001b[0m\u001b[0m\n",
      "\u001b[0;32m~/opt/anaconda3/lib/python3.7/site-packages/pymongo/mongo_client.py\u001b[0m in \u001b[0;36m_cmd\u001b[0;34m(session, server, sock_info, slave_ok)\u001b[0m\n\u001b[1;32m   1338\u001b[0m                 \u001b[0mself\u001b[0m\u001b[0;34m.\u001b[0m\u001b[0m_event_listeners\u001b[0m\u001b[0;34m,\u001b[0m\u001b[0;34m\u001b[0m\u001b[0;34m\u001b[0m\u001b[0m\n\u001b[1;32m   1339\u001b[0m                 \u001b[0mexhaust\u001b[0m\u001b[0;34m,\u001b[0m\u001b[0;34m\u001b[0m\u001b[0;34m\u001b[0m\u001b[0m\n\u001b[0;32m-> 1340\u001b[0;31m                 unpack_res)\n\u001b[0m\u001b[1;32m   1341\u001b[0m \u001b[0;34m\u001b[0m\u001b[0m\n\u001b[1;32m   1342\u001b[0m         return self._retryable_read(\n",
      "\u001b[0;32m~/opt/anaconda3/lib/python3.7/site-packages/pymongo/server.py\u001b[0m in \u001b[0;36mrun_operation_with_response\u001b[0;34m(self, sock_info, operation, set_slave_okay, listeners, exhaust, unpack_res)\u001b[0m\n\u001b[1;32m    134\u001b[0m                 operation.client._process_response(\n\u001b[1;32m    135\u001b[0m                     first, operation.session)\n\u001b[0;32m--> 136\u001b[0;31m                 \u001b[0m_check_command_response\u001b[0m\u001b[0;34m(\u001b[0m\u001b[0mfirst\u001b[0m\u001b[0;34m)\u001b[0m\u001b[0;34m\u001b[0m\u001b[0;34m\u001b[0m\u001b[0m\n\u001b[0m\u001b[1;32m    137\u001b[0m         \u001b[0;32mexcept\u001b[0m \u001b[0mException\u001b[0m \u001b[0;32mas\u001b[0m \u001b[0mexc\u001b[0m\u001b[0;34m:\u001b[0m\u001b[0;34m\u001b[0m\u001b[0;34m\u001b[0m\u001b[0m\n\u001b[1;32m    138\u001b[0m             \u001b[0;32mif\u001b[0m \u001b[0mpublish\u001b[0m\u001b[0;34m:\u001b[0m\u001b[0;34m\u001b[0m\u001b[0;34m\u001b[0m\u001b[0m\n",
      "\u001b[0;32m~/opt/anaconda3/lib/python3.7/site-packages/pymongo/helpers.py\u001b[0m in \u001b[0;36m_check_command_response\u001b[0;34m(response, msg, allowable_errors, parse_write_concern_error)\u001b[0m\n\u001b[1;32m    157\u001b[0m \u001b[0;34m\u001b[0m\u001b[0m\n\u001b[1;32m    158\u001b[0m             \u001b[0mmsg\u001b[0m \u001b[0;34m=\u001b[0m \u001b[0mmsg\u001b[0m \u001b[0;32mor\u001b[0m \u001b[0;34m\"%s\"\u001b[0m\u001b[0;34m\u001b[0m\u001b[0;34m\u001b[0m\u001b[0m\n\u001b[0;32m--> 159\u001b[0;31m             \u001b[0;32mraise\u001b[0m \u001b[0mOperationFailure\u001b[0m\u001b[0;34m(\u001b[0m\u001b[0mmsg\u001b[0m \u001b[0;34m%\u001b[0m \u001b[0merrmsg\u001b[0m\u001b[0;34m,\u001b[0m \u001b[0mcode\u001b[0m\u001b[0;34m,\u001b[0m \u001b[0mresponse\u001b[0m\u001b[0;34m)\u001b[0m\u001b[0;34m\u001b[0m\u001b[0;34m\u001b[0m\u001b[0m\n\u001b[0m\u001b[1;32m    160\u001b[0m \u001b[0;34m\u001b[0m\u001b[0m\n\u001b[1;32m    161\u001b[0m \u001b[0;34m\u001b[0m\u001b[0m\n",
      "\u001b[0;31mOperationFailure\u001b[0m: Executor error during find command :: caused by :: Sort operation used more than the maximum 33554432 bytes of RAM. Add an index, or specify a smaller limit."
     ]
    }
   ],
   "source": [
    "# Your Code\n",
    "for c in db.companies.find({\"ipo\":{\"$exists\": True}}).sort(\"ipo.valuation_amount\", DESCENDING):\n",
    "    print(c[\"name\"])\n",
    "#Me sale este error, aunque si le pongo un limit si me devuelve un resultado, lo dejo así ya que no sé si el erroe es normal"
   ]
  },
  {
   "cell_type": "markdown",
   "metadata": {},
   "source": [
    "### 10. Retrieve the 10 companies with more employees, order by the `number of employees`"
   ]
  },
  {
   "cell_type": "code",
   "execution_count": 96,
   "metadata": {},
   "outputs": [
    {
     "name": "stdout",
     "output_type": "stream",
     "text": [
      "Siemens\n",
      "IBM\n",
      "Toyota\n",
      "PayPal\n",
      "Nippon Telegraph and Telephone Corporation\n",
      "Samsung Electronics\n",
      "Accenture\n",
      "Tata Consultancy Services\n",
      "Flextronics International\n",
      "Safeway\n"
     ]
    }
   ],
   "source": [
    "# Your Code\n",
    "for c in db.companies.find().sort(\"number_of_employees\", DESCENDING).limit(10):\n",
    "    print(c[\"name\"])"
   ]
  },
  {
   "cell_type": "markdown",
   "metadata": {},
   "source": [
    "### 11. All the companies founded on the second semester of the year. Limit your search to 1000 companies."
   ]
  },
  {
   "cell_type": "code",
   "execution_count": 102,
   "metadata": {},
   "outputs": [
    {
     "name": "stdout",
     "output_type": "stream",
     "text": [
      "Wetpaint\n",
      "Zoho\n",
      "Digg\n",
      "Omnidrive\n",
      "Postini\n",
      "Geni\n",
      "Fox Interactive Media\n",
      "eBay\n",
      "Joost\n",
      "Plaxo\n"
     ]
    }
   ],
   "source": [
    "# Your Code\n",
    "for c in db.companies.find({\"founded_month\": {\"$gte\":6}}).limit(10):\n",
    "    print(c[\"name\"])"
   ]
  },
  {
   "cell_type": "markdown",
   "metadata": {},
   "source": [
    "### 12. All the companies founded before 2000 that have an acquisition amount of more than 10.000.00"
   ]
  },
  {
   "cell_type": "code",
   "execution_count": 109,
   "metadata": {},
   "outputs": [
    {
     "name": "stdout",
     "output_type": "stream",
     "text": [
      "Postini\n",
      "SideStep\n",
      "Recipezaar\n",
      "PayPal\n",
      "Snapfish\n",
      "Neopets\n",
      "Sun Microsystems\n",
      "Zappos\n",
      "Alibaba\n",
      "Sabre\n"
     ]
    }
   ],
   "source": [
    "# Your Code\n",
    "for c in db.companies.find({\"$and\":[{\"acquisition.price_amount\": {\"$gt\":10000000}}, {\"founded_year\":{\"$lt\": 2000}}]}).limit(10):\n",
    "    print(c[\"name\"])"
   ]
  },
  {
   "cell_type": "markdown",
   "metadata": {},
   "source": [
    "### 13. All the companies that have been acquired after 2010, order by the acquisition amount, and retrieve only their `name` and `acquisition` field."
   ]
  },
  {
   "cell_type": "code",
   "execution_count": 112,
   "metadata": {},
   "outputs": [
    {
     "name": "stdout",
     "output_type": "stream",
     "text": [
      "Wetpaint {'price_amount': 30000000, 'price_currency_code': 'USD', 'term_code': 'cash_and_stock', 'source_url': 'http://allthingsd.com/20131216/viggle-tries-to-bulk-up-its-social-tv-business-by-buying-wetpaint/?mod=atdtweet', 'source_description': ' Viggle Tries to Bulk Up Its Social TV Business by Buying Wetpaint', 'acquired_year': 2013, 'acquired_month': 12, 'acquired_day': 16, 'acquiring_company': {'name': 'Viggle', 'permalink': 'viggle'}}\n",
      "Digg {'price_amount': 500000, 'price_currency_code': 'USD', 'term_code': None, 'source_url': 'http://techcrunch.com/2012/07/12/betaworks-acquires-digg/', 'source_description': 'Betaworks Acquires Digg (TechCrunch)', 'acquired_year': 2012, 'acquired_month': 7, 'acquired_day': 12, 'acquiring_company': {'name': 'betaworks', 'permalink': 'betaworks'}}\n",
      "Geni {'price_amount': None, 'price_currency_code': 'USD', 'term_code': None, 'source_url': 'http://techcrunch.com/2012/11/28/all-in-the-family-myheritage-buys-former-yammer-stablemate-geni-com-raises-25m/', 'source_description': 'MyHeritage acquires Geni and $25M to build family tree of the whole world', 'acquired_year': 2012, 'acquired_month': 11, 'acquired_day': 28, 'acquiring_company': {'name': 'MyHeritage', 'permalink': 'myheritage'}}\n",
      "Kyte {'price_amount': None, 'price_currency_code': 'USD', 'term_code': None, 'source_url': 'http://techcrunch.com/2011/01/31/exclusive-kit-digital-acquires-kickapps-kewego-and-kyte-for-77-2-million/', 'source_description': 'KIT digital Acquires KickApps, Kewego AND Kyte For $77.2 Million', 'acquired_year': 2011, 'acquired_month': 1, 'acquired_day': 31, 'acquiring_company': {'name': 'KIT digital', 'permalink': 'kit-digital'}}\n",
      "Jingle Networks {'price_amount': 62500000, 'price_currency_code': 'USD', 'term_code': 'cash_and_stock', 'source_url': 'http://www.masshightech.com/stories/2011/04/11/daily11-Jingle-Networks-bought-for-up-to-625M.html', 'source_description': 'Jingle Networks bought for up to $62.5M', 'acquired_year': 2011, 'acquired_month': 4, 'acquired_day': 11, 'acquiring_company': {'name': 'Marchex', 'permalink': 'marchex'}}\n",
      "blogTV {'price_amount': None, 'price_currency_code': 'USD', 'term_code': None, 'source_url': 'http://techcrunch.com/2013/03/13/younow-buys-blogtv/', 'source_description': 'Live Social Video Network YouNow Acquires Streaming Service BlogTV', 'acquired_year': 2013, 'acquired_month': 3, 'acquired_day': 13, 'acquiring_company': {'name': 'YouNow', 'permalink': 'younow'}}\n",
      "delicious {'price_amount': None, 'price_currency_code': 'USD', 'term_code': None, 'source_url': 'http://techcrunch.com/2011/04/27/yahoo-sells-delicious-to-youtube-founders/', 'source_description': 'Yahoo Sells Delicious To YouTube Founders', 'acquired_year': 2011, 'acquired_month': 4, 'acquired_day': 27, 'acquiring_company': {'name': 'AVOS Systems', 'permalink': 'avos'}}\n",
      "Revision3 {'price_amount': 30000000, 'price_currency_code': 'USD', 'term_code': None, 'source_url': 'http://allthingsd.com/20120503/discovery-gets-a-web-video-arm-courtesy-of-revision-3/', 'source_description': 'Discovery Gets a Web Video Arm, Courtesy of Revision3', 'acquired_year': 2012, 'acquired_month': 5, 'acquired_day': 3, 'acquiring_company': {'name': 'Discovery Communications', 'permalink': 'discoverycommunications'}}\n",
      "iContact {'price_amount': 169000000, 'price_currency_code': 'USD', 'term_code': 'cash_and_stock', 'source_url': 'http://techcrunch.com/2012/02/28/vocus-buys-email-marketing-company-icontact-for-169-million/', 'source_description': 'Vocus Buys Email Marketing Company iContact For $169 Million', 'acquired_year': 2012, 'acquired_month': 2, 'acquired_day': 28, 'acquiring_company': {'name': 'Vocus', 'permalink': 'vocus'}}\n",
      "Mashery {'price_amount': None, 'price_currency_code': 'USD', 'term_code': None, 'source_url': 'http://allthingsd.com/20130417/intel-acquires-api-manager-mashery/', 'source_description': 'Intel Acquires API Manager Mashery', 'acquired_year': 2013, 'acquired_month': 4, 'acquired_day': 17, 'acquiring_company': {'name': 'Intel', 'permalink': 'intel'}}\n"
     ]
    }
   ],
   "source": [
    "# Your Code\n",
    "for c in db.companies.find({\"acquisition.acquired_year\": {\"$gt\":2010}}).sort(\"acquisition_amount\", DESCENDING).limit(10):\n",
    "    print(c[\"name\"], c[\"acquisition\"])"
   ]
  },
  {
   "cell_type": "markdown",
   "metadata": {},
   "source": [
    "### 14. Order the companies by their `founded year`, retrieving only their `name` and `founded year`."
   ]
  },
  {
   "cell_type": "code",
   "execution_count": 118,
   "metadata": {},
   "outputs": [
    {
     "name": "stdout",
     "output_type": "stream",
     "text": [
      "Fixya 2013\n",
      "Wamba 2013\n",
      "Advaliant 2013\n",
      "Fluc 2013\n",
      "iBazar 2013\n",
      "Gimigo 2013\n",
      "SEOGroup 2013\n",
      "Clowdy 2013\n",
      "WhosCall 2013\n",
      "Pikk 2013\n"
     ]
    }
   ],
   "source": [
    "# Your Code\n",
    "for c in db.companies.find().sort(\"founded_year\", DESCENDING).limit(10):\n",
    "    print(c[\"name\"], c[\"founded_year\"])\n",
    "#En este ejercicio me vuelve a dar el mismo error que en el ejercicio 9, en este caso si le pongo el limit, ya que como\n",
    "#en el otro ejercicio, de esa manera si me devuelve un resultado."
   ]
  },
  {
   "cell_type": "markdown",
   "metadata": {},
   "source": [
    "### 15. All the companies that have been founded on the first seven days of the month, including the seventh. Sort them by their `acquisition price` in a descending order. Limit the search to 10 documents."
   ]
  },
  {
   "cell_type": "code",
   "execution_count": 120,
   "metadata": {},
   "outputs": [
    {
     "name": "stdout",
     "output_type": "stream",
     "text": [
      "Siebel Systems\n",
      "Yammer\n",
      "Yammer\n",
      "ngmoco\n",
      "Adify\n",
      "Audible\n",
      "Zong\n",
      "Topsy Labs\n",
      "BreakingPoint Systems\n",
      "Plaxo\n"
     ]
    }
   ],
   "source": [
    "# Your Code\n",
    "for c in db.companies.find({\"founded_day\": {\"$gte\":7}}).sort(\"acquisition.price_amount\", DESCENDING).limit(10):\n",
    "    print(c[\"name\"])"
   ]
  },
  {
   "cell_type": "markdown",
   "metadata": {},
   "source": [
    "### 16. All the companies on the 'web' `category` that have more than 4000 employees. Sort them by the amount of employees in ascending order."
   ]
  },
  {
   "cell_type": "code",
   "execution_count": 123,
   "metadata": {},
   "outputs": [
    {
     "name": "stdout",
     "output_type": "stream",
     "text": [
      "Expedia\n",
      "AOL\n",
      "Webkinz\n",
      "Rakuten\n",
      "Los Angeles Times Media Group\n",
      "Groupon\n",
      "Yahoo!\n",
      "eBay\n",
      "Experian\n"
     ]
    }
   ],
   "source": [
    "# Your Code\n",
    "for c in db.companies.find({\"$and\":[{\"category_code\": {\"$in\": [\"web\"]}}, {\"number_of_employees\": {\"$gt\": 4000}}]}).sort(\"number_of_employees\", ASCENDING):\n",
    "    print(c[\"name\"])"
   ]
  },
  {
   "cell_type": "markdown",
   "metadata": {},
   "source": [
    "### 17. All the companies whose acquisition amount is more than 10.000.000, and currency is 'EUR'."
   ]
  },
  {
   "cell_type": "code",
   "execution_count": 135,
   "metadata": {},
   "outputs": [],
   "source": [
    "# Your Code\n",
    "for c in db.companies.find({\"$and\":[{\"acquisition.price_amount\": {\"$gt\":10000000}}, {\"acquisition.price_currency_code\":{\"$in\": [\"Eur\"]}}]}):\n",
    "    print(c[\"name\"])"
   ]
  },
  {
   "cell_type": "markdown",
   "metadata": {},
   "source": [
    "### 18. All the companies that have been acquired on the first trimester of the year. Limit the search to 10 companies, and retrieve only their `name` and `acquisition` fields."
   ]
  },
  {
   "cell_type": "code",
   "execution_count": 137,
   "metadata": {},
   "outputs": [
    {
     "name": "stdout",
     "output_type": "stream",
     "text": [
      "Kyte {'price_amount': None, 'price_currency_code': 'USD', 'term_code': None, 'source_url': 'http://techcrunch.com/2011/01/31/exclusive-kit-digital-acquires-kickapps-kewego-and-kyte-for-77-2-million/', 'source_description': 'KIT digital Acquires KickApps, Kewego AND Kyte For $77.2 Million', 'acquired_year': 2011, 'acquired_month': 1, 'acquired_day': 31, 'acquiring_company': {'name': 'KIT digital', 'permalink': 'kit-digital'}}\n",
      "NetRatings {'price_amount': 327000000, 'price_currency_code': 'USD', 'term_code': 'cash', 'source_url': 'http://login.vnuemedia.com/hr/login/login_subscribe.jsp?id=0oqDem1gYIfIclz9i2%2Ffqj5NxCp2AC5DPbVnyT2da8GyV2mXjasabE128n69OrmcAh52%2FGE3pSG%2F%0AEKRYD9vh9EhrJrxukmUzh532fSMTZXL42gwPB80UWVtF1NwJ5UZSM%2BCkLU1mpYBoHFgiH%2Fi0f6Ax%0A9yMIVxt47t%2BHamhEQ0nkOEK24L', 'source_description': 'Nielsen buys rest of NetRatings', 'acquired_year': 2007, 'acquired_month': 2, 'acquired_day': None, 'acquiring_company': {'name': 'Nielsen', 'permalink': 'nielsen'}}\n",
      "blogTV {'price_amount': None, 'price_currency_code': 'USD', 'term_code': None, 'source_url': 'http://techcrunch.com/2013/03/13/younow-buys-blogtv/', 'source_description': 'Live Social Video Network YouNow Acquires Streaming Service BlogTV', 'acquired_year': 2013, 'acquired_month': 3, 'acquired_day': 13, 'acquiring_company': {'name': 'YouNow', 'permalink': 'younow'}}\n",
      "Livestream {'price_amount': None, 'price_currency_code': 'USD', 'term_code': 'cash_and_stock', 'source_url': '', 'source_description': 'company', 'acquired_year': 2008, 'acquired_month': 1, 'acquired_day': 1, 'acquiring_company': {'name': 'Adviqo', 'permalink': 'adviqo'}}\n",
      "iContact {'price_amount': 169000000, 'price_currency_code': 'USD', 'term_code': 'cash_and_stock', 'source_url': 'http://techcrunch.com/2012/02/28/vocus-buys-email-marketing-company-icontact-for-169-million/', 'source_description': 'Vocus Buys Email Marketing Company iContact For $169 Million', 'acquired_year': 2012, 'acquired_month': 2, 'acquired_day': 28, 'acquiring_company': {'name': 'Vocus', 'permalink': 'vocus'}}\n",
      "Coghead {'price_amount': None, 'price_currency_code': 'USD', 'term_code': None, 'source_url': 'http://www.techcrunch.com/2009/02/19/sap-acquires-cogheads-technology-as-it-looks-towards-the-cloud/', 'source_description': 'SAP Acquires Cogheadâ€™s Technology As It Looks Towards The Cloud', 'acquired_year': 2009, 'acquired_month': 2, 'acquired_day': 19, 'acquiring_company': {'name': 'SAP', 'permalink': 'sap'}}\n",
      "Dailymotion {'price_amount': 168000000, 'price_currency_code': 'USD', 'term_code': None, 'source_url': 'http://techcrunch.com/2013/02/22/orange-acquired-dailymotion-for-168-million-by-buying-out-the-remaining-51-stake/', 'source_description': 'Orange Acquired Dailymotion For $168 Million By Buying Out Remaining 51% Stake [Update: Orange Confirms]', 'acquired_year': 2013, 'acquired_month': 2, 'acquired_day': 22, 'acquiring_company': {'name': 'Orange', 'permalink': 'orange'}}\n",
      "Netvibes {'price_amount': None, 'price_currency_code': 'USD', 'term_code': None, 'source_url': 'http://www.marketwatch.com/story/dassault-systemes-acquires-netvibes-2012-02-09', 'source_description': 'Dassault Systemes Acquires Netvibes', 'acquired_year': 2012, 'acquired_month': 2, 'acquired_day': 9, 'acquiring_company': {'name': 'Dassault Systemes', 'permalink': 'dassault'}}\n",
      "Flickr {'price_amount': None, 'price_currency_code': 'USD', 'term_code': 'cash_and_stock', 'source_url': 'http://news.cnet.com/Yahoo-buys-photo-sharing-site-Flickr/2100-1038_3-5627640.html?tag=mncol;txt', 'source_description': 'CNET', 'acquired_year': 2005, 'acquired_month': 3, 'acquired_day': None, 'acquiring_company': {'name': 'Yahoo!', 'permalink': 'yahoo'}}\n",
      "BabyCenter {'price_amount': None, 'price_currency_code': 'USD', 'term_code': None, 'source_url': 'http://www.investor.jnj.com/releasedetail.cfm?releaseid=63836', 'source_description': 'Johnson & Johnson Acquires BabyCenter From eToys, Inc. Leading Online Destination for Parents Plans for Continued Expansion of Operations', 'acquired_year': 2001, 'acquired_month': 3, 'acquired_day': 2, 'acquiring_company': {'name': 'Johnson & Johnson', 'permalink': 'johnson-johnson'}}\n"
     ]
    }
   ],
   "source": [
    "# Your Code\n",
    "for c in db.companies.find({\"acquisition.acquired_month\": {\"$lte\":3}}).limit(10):\n",
    "    print(c[\"name\"], c[\"acquisition\"])"
   ]
  },
  {
   "cell_type": "markdown",
   "metadata": {},
   "source": [
    "# Bonus\n",
    "### 19. All the companies that have been founded between 2000 and 2010, but have not been acquired before 2011."
   ]
  },
  {
   "cell_type": "code",
   "execution_count": 161,
   "metadata": {},
   "outputs": [
    {
     "name": "stdout",
     "output_type": "stream",
     "text": [
      "Wetpaint\n",
      "Zoho\n",
      "Digg\n",
      "Facebook\n",
      "Omnidrive\n",
      "Geni\n",
      "Twitter\n",
      "Scribd\n",
      "Slacker\n",
      "MeetMoi\n"
     ]
    }
   ],
   "source": [
    "# Your Code\n",
    "for c in db.companies.find({\"$and\":[(byNextNYears(2000, 10)), {\"acquisition.acquired_year\": {\"$not\":{\"$lt\": 2011}}}]}).limit(10):\n",
    "    print(c[\"name\"])"
   ]
  },
  {
   "cell_type": "markdown",
   "metadata": {},
   "source": [
    "### 20. All the companies that have been 'deadpooled' after the third year."
   ]
  },
  {
   "cell_type": "code",
   "execution_count": 22,
   "metadata": {},
   "outputs": [],
   "source": [
    "# Your Code"
   ]
  }
 ],
 "metadata": {
  "kernelspec": {
   "display_name": "Python 3",
   "language": "python",
   "name": "python3"
  },
  "language_info": {
   "codemirror_mode": {
    "name": "ipython",
    "version": 3
   },
   "file_extension": ".py",
   "mimetype": "text/x-python",
   "name": "python",
   "nbconvert_exporter": "python",
   "pygments_lexer": "ipython3",
   "version": "3.7.6"
  }
 },
 "nbformat": 4,
 "nbformat_minor": 2
}
