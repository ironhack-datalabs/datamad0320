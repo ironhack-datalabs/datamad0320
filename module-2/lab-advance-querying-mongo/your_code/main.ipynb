{
 "cells": [
  {
   "cell_type": "markdown",
   "metadata": {},
   "source": [
    "# Advanced Querying Mongo"
   ]
  },
  {
   "cell_type": "markdown",
   "metadata": {},
   "source": [
    "Importing libraries and setting up connection"
   ]
  },
  {
   "cell_type": "code",
   "execution_count": 46,
   "metadata": {},
   "outputs": [],
   "source": [
    "from pymongo import MongoClient\n",
    "from pymongo import ASCENDING, DESCENDING\n",
    "client = MongoClient(\"mongodb://localhost/companies\")\n",
    "db = client.get_database()"
   ]
  },
  {
   "cell_type": "markdown",
   "metadata": {},
   "source": [
    "### 1. All the companies whose name match 'Babelgum'. Retrieve only their `name` field."
   ]
  },
  {
   "cell_type": "code",
   "execution_count": 68,
   "metadata": {},
   "outputs": [
    {
     "data": {
      "text/plain": [
       "['Babelgum']"
      ]
     },
     "execution_count": 68,
     "metadata": {},
     "output_type": "execute_result"
    }
   ],
   "source": [
    "# Your Code\n",
    "q1= [c[\"name\"] for c in db.companies.find({\"name\":\"Babelgum\"})]\n",
    "q1"
   ]
  },
  {
   "cell_type": "markdown",
   "metadata": {},
   "source": [
    "### 2. All the companies that have more than 5000 employees. Limit the search to 20 companies and sort them by **number of employees**."
   ]
  },
  {
   "cell_type": "code",
   "execution_count": 59,
   "metadata": {},
   "outputs": [],
   "source": [
    "# Your Code\n",
    "q2={\"number_of_employees\":{\"$gt\":5000}}\n",
    "data2= list(db.companies.find(q2).sort([(\"number_of_employees\", -1)]).limit(20))\n",
    "#data2"
   ]
  },
  {
   "cell_type": "markdown",
   "metadata": {},
   "source": [
    "### 3. All the companies founded between 2000 and 2005, both years included. Retrieve only the `name` and `founded_year` fields."
   ]
  },
  {
   "cell_type": "code",
   "execution_count": 79,
   "metadata": {},
   "outputs": [],
   "source": [
    "# Your Code\n",
    "q3= {\"$and\":[{\"founded_year\":{\"$gte\":2000}},{\"founded_year\":{\"$lte\":2005}}]}\n",
    "data3= db[\"companies\"].find(q3, {'name': 1, \"founded_year\":1, '_id':0})\n",
    "#list(data3)"
   ]
  },
  {
   "cell_type": "markdown",
   "metadata": {},
   "source": [
    "### 4. All the companies that had a Valuation Amount of more than 100.000.000 and have been founded before 2010. Retrieve only the `name` and `ipo` fields."
   ]
  },
  {
   "cell_type": "code",
   "execution_count": 86,
   "metadata": {},
   "outputs": [],
   "source": [
    "# Your Code\n",
    "q4={\"$and\":[{\"founded_year\":{\"$lte\":2010}},{\"ipo.valuation_amount\":{\"$gte\":100000000}}]}\n",
    "data4= db[\"companies\"].find(q4, {'name': 1, \"ipo\":1, '_id':0})\n",
    "#list(data4)"
   ]
  },
  {
   "cell_type": "markdown",
   "metadata": {},
   "source": [
    "### 5. All the companies that have less than 1000 employees and have been founded before 2005. Order them by the number of employees and limit the search to 10 companies."
   ]
  },
  {
   "cell_type": "code",
   "execution_count": 102,
   "metadata": {},
   "outputs": [],
   "source": [
    "# Your Code\n",
    "q5={\"$and\":[{\"founded_year\":{\"$lte\":2005}},{\"number_of_employees\":{\"$lte\":1000}}]}\n",
    "data5= db.companies.find(q4).sort([(\"number_of_employees\", -1)]).limit(10)\n",
    "#list(data5)"
   ]
  },
  {
   "cell_type": "markdown",
   "metadata": {},
   "source": [
    "### 6. All the companies that don't include the `partners` field."
   ]
  },
  {
   "cell_type": "code",
   "execution_count": 117,
   "metadata": {},
   "outputs": [],
   "source": [
    "# Your Code\n",
    "q6= ({\"partners\":{\"$exists\": \"false\"}})\n",
    "data6= db.companies.find(q6)\n",
    "#list(data6)[:2]"
   ]
  },
  {
   "cell_type": "markdown",
   "metadata": {},
   "source": [
    "### 7. All the companies that have a null type of value on the `category_code` field."
   ]
  },
  {
   "cell_type": "code",
   "execution_count": 119,
   "metadata": {},
   "outputs": [],
   "source": [
    "# Your Code\n",
    "q7= ({\"category_code\":{\"$type\":10}})\n",
    "data7= db.companies.find(q7)\n",
    "#list(data7)[:2]"
   ]
  },
  {
   "cell_type": "markdown",
   "metadata": {},
   "source": [
    "### 8. All the companies that have at least 100 employees but less than 1000. Retrieve only the `name` and `number of employees` fields."
   ]
  },
  {
   "cell_type": "code",
   "execution_count": 125,
   "metadata": {},
   "outputs": [],
   "source": [
    "# Your Code\n",
    "q8= {\"$and\":[{\"number_of_employees\":{\"$gte\":100}},{\"number_of_employees\":{\"$lt\":1000}}]}\n",
    "data8= db.companies.find(q8, {'name': 1, \"number_of_employees\":1, '_id':0})\n",
    "#list(data8)[:2]"
   ]
  },
  {
   "cell_type": "markdown",
   "metadata": {},
   "source": [
    "### 9. Order all the companies by their IPO price in a descending order."
   ]
  },
  {
   "cell_type": "code",
   "execution_count": 136,
   "metadata": {},
   "outputs": [],
   "source": [
    "# Your Code\n",
    "data9= db[\"companies\"].find().sort([(\"ipo.valuation_amount\", -1)]).limit(10)\n",
    "#list(data9)[:2]"
   ]
  },
  {
   "cell_type": "markdown",
   "metadata": {},
   "source": [
    "### 10. Retrieve the 10 companies with more employees, order by the `number of employees`"
   ]
  },
  {
   "cell_type": "code",
   "execution_count": 137,
   "metadata": {},
   "outputs": [],
   "source": [
    "# Your Code\n",
    "data10= db.companies.find().sort([(\"number_of_employees\",-1)]).limit(10)\n",
    "#list(data10)[:2]"
   ]
  },
  {
   "cell_type": "markdown",
   "metadata": {},
   "source": [
    "### 11. All the companies founded on the second semester of the year. Limit your search to 1000 companies."
   ]
  },
  {
   "cell_type": "code",
   "execution_count": 139,
   "metadata": {},
   "outputs": [],
   "source": [
    "# Your Code\n",
    "q11= {\"founded_month\":{\"$gte\":6}}\n",
    "data11= db.companies.find(q11).limit(1000)\n",
    "#list(data11)[:2]"
   ]
  },
  {
   "cell_type": "markdown",
   "metadata": {},
   "source": [
    "### 12. All the companies founded before 2000 that have an acquisition amount of more than 10.000.00"
   ]
  },
  {
   "cell_type": "code",
   "execution_count": 143,
   "metadata": {},
   "outputs": [],
   "source": [
    "# Your Code\n",
    "q12= {\"$and\":[{\"founded_year\":{\"$lt\":2000}},{\"acquisitions.price_amount\":{\"$gt\":1000000}}]}\n",
    "data12= db.companies.find(q12)\n",
    "#list(data12))#[:2]"
   ]
  },
  {
   "cell_type": "markdown",
   "metadata": {},
   "source": [
    "### 13. All the companies that have been acquired after 2010, order by the acquisition amount, and retrieve only their `name` and `acquisition` field."
   ]
  },
  {
   "cell_type": "code",
   "execution_count": 149,
   "metadata": {},
   "outputs": [],
   "source": [
    "# Your Code\n",
    "q13= {\"acquisitions.acquired_year\":{\"$gt\":2010}}\n",
    "data13= db.companies.find(q13,{'name': 1, \"acquisitions\":1, '_id':0}).sort([(\"acquisitions.price_amount\",-1)])\n",
    "#list(data13)[:2]"
   ]
  },
  {
   "cell_type": "markdown",
   "metadata": {},
   "source": [
    "### 14. Order the companies by their `founded year`, retrieving only their `name` and `founded year`."
   ]
  },
  {
   "cell_type": "code",
   "execution_count": 162,
   "metadata": {},
   "outputs": [],
   "source": [
    "# Your Code\n",
    "#data14= db.companies.find({},{\"name\": 1, \"founded_year\":1, \"_id\":0}).sort([(\"founded_year\",1)]).limit(5)\n",
    "#list(data14)[:2]\n",
    "#Hago de nuevo para eliminar los none\n",
    "q14={\"founded_year\": {\"$not\":{\"$eq\": None}}}\n",
    "data14 = db.companies.find(q14,{\"name\": 1, \"founded_year\":1, \"_id\":0}).sort(\"founded_year\",1).limit(5)\n",
    "#list(data14)[:2]"
   ]
  },
  {
   "cell_type": "markdown",
   "metadata": {},
   "source": [
    "### 15. All the companies that have been founded on the first seven days of the month, including the seventh. Sort them by their `acquisition price` in a descending order. Limit the search to 10 documents."
   ]
  },
  {
   "cell_type": "code",
   "execution_count": 164,
   "metadata": {},
   "outputs": [],
   "source": [
    "# Your Code\n",
    "q15 = {\"founded_day\":{\"$lte\":7}}\n",
    "data15 = db.companies.find(q15).sort(\"acquisition.price_amount\",-1).limit(10)\n",
    "#list(data15)[:2]"
   ]
  },
  {
   "cell_type": "markdown",
   "metadata": {},
   "source": [
    "### 16. All the companies on the 'web' `category` that have more than 4000 employees. Sort them by the amount of employees in ascending order."
   ]
  },
  {
   "cell_type": "code",
   "execution_count": 166,
   "metadata": {},
   "outputs": [],
   "source": [
    "# Your Code\n",
    "q16 = {\"$and\":[{\"category_code\":{\"$eq\":\"web\"}},{\"number_of_employees\":{\"$gt\":4000}}]}\n",
    "data16 = db.companies.find(q16).sort(\"number_of_employees\",1)\n",
    "#list(data16)[:2]"
   ]
  },
  {
   "cell_type": "markdown",
   "metadata": {},
   "source": [
    "### 17. All the companies whose acquisition amount is more than 10.000.000, and currency is 'EUR'."
   ]
  },
  {
   "cell_type": "code",
   "execution_count": 171,
   "metadata": {},
   "outputs": [],
   "source": [
    "# Your Code\n",
    "q17 = {\"$and\":[{\"acquisition.price_currency_code\":{\"$eq\":\"EUR\"}},{\"acquisition.price_amount\":{\"$gt\":10000000}}]}\n",
    "data17 = db.companies.find(q17)\n",
    "#list(data17)[:2]"
   ]
  },
  {
   "cell_type": "markdown",
   "metadata": {},
   "source": [
    "### 18. All the companies that have been acquired on the first trimester of the year. Limit the search to 10 companies, and retrieve only their `name` and `acquisition` fields."
   ]
  },
  {
   "cell_type": "code",
   "execution_count": 173,
   "metadata": {},
   "outputs": [],
   "source": [
    "# Your Code\n",
    "data18= db.companies.find({\"founded_month\":{\"$lte\":3}},{\"name\":1, \"acquisition\":1,\"_id\":0}).limit(10)\n",
    "#list(data18)[:2]"
   ]
  },
  {
   "cell_type": "markdown",
   "metadata": {},
   "source": [
    "# Bonus\n",
    "### 19. All the companies that have been founded between 2000 and 2010, but have not been acquired before 2011."
   ]
  },
  {
   "cell_type": "code",
   "execution_count": 174,
   "metadata": {},
   "outputs": [],
   "source": [
    "# Your Code\n",
    "q19= {\"$and\":[{\"founded_year\":{\"$gte\":2000}},{\"founded_year\":{\"$lte\":2010}},{\"$or\": [{\"acquisition.acquired_year\":{\"$gt\":2011}},{\"acquisition.acquired_year\":{\"$eq\":\"null\"}}] }]}\n",
    "data19=db.companies.find(q19)\n",
    "#list(data19)[:2]"
   ]
  },
  {
   "cell_type": "markdown",
   "metadata": {},
   "source": [
    "### 20. All the companies that have been 'deadpooled' after the third year."
   ]
  },
  {
   "cell_type": "code",
   "execution_count": 178,
   "metadata": {},
   "outputs": [],
   "source": [
    "# Your Code\n",
    "#Compañia deadpooled year > fundation year+3\n",
    "#q20= [{\"deadpooled_year\":{\"$gte\":\"founded_year\"}}]\n",
    "q20=({\"$expr\":{\"$gt\":[\"$deadpooled_year\",\"founded_year\"]}}) \n",
    "data20=db.companies.find(q20)\n",
    "#"
   ]
  },
  {
   "cell_type": "code",
   "execution_count": null,
   "metadata": {},
   "outputs": [],
   "source": []
  }
 ],
 "metadata": {
  "kernelspec": {
   "display_name": "Python 3",
   "language": "python",
   "name": "python3"
  },
  "language_info": {
   "codemirror_mode": {
    "name": "ipython",
    "version": 3
   },
   "file_extension": ".py",
   "mimetype": "text/x-python",
   "name": "python",
   "nbconvert_exporter": "python",
   "pygments_lexer": "ipython3",
   "version": "3.7.7"
  }
 },
 "nbformat": 4,
 "nbformat_minor": 2
}
