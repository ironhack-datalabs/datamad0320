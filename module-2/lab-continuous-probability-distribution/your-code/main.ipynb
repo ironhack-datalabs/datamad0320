{
 "cells": [
  {
   "cell_type": "markdown",
   "metadata": {},
   "source": [
    "# Before your start:\n",
    "\n",
    "    Read the README.md file\n",
    "    Comment as much as you can and use the resources (README.md file)\n",
    "    Happy learning!"
   ]
  },
  {
   "cell_type": "markdown",
   "metadata": {},
   "source": [
    "In this exercise, we  will generate random numbers from the continuous disributions we learned in the lesson. There are two ways to generate random numbers:\n",
    "\n",
    "1. Using the numpy library \n",
    "1. using the Scipy library \n",
    "\n",
    "Use either or both of the lbraries in this exercise."
   ]
  },
  {
   "cell_type": "code",
   "execution_count": 1,
   "metadata": {},
   "outputs": [],
   "source": [
    "import numpy as np\n",
    "import pandas as pd\n",
    "import matplotlib. pyplot as plt "
   ]
  },
  {
   "cell_type": "markdown",
   "metadata": {},
   "source": [
    "## Uniform Distribution\n",
    "\n",
    "To generate uniform random numbers between any two given values using scipy, we can either use the following code or the code that we have\n",
    "discussed in class:"
   ]
  },
  {
   "cell_type": "code",
   "execution_count": 2,
   "metadata": {},
   "outputs": [
    {
     "name": "stdout",
     "output_type": "stream",
     "text": [
      "[2.47072391 2.73678364 2.89836799 2.36879263 2.89415019 2.45475614\n",
      " 2.16767843 2.59041858 2.97585033 2.62458386]\n"
     ]
    }
   ],
   "source": [
    "from scipy.stats import uniform\n",
    "x = uniform.rvs(size=10)\n",
    "a = 2\n",
    "b = 3\n",
    "randoms  = a + (b-a)*x\n",
    "print(randoms)"
   ]
  },
  {
   "cell_type": "markdown",
   "metadata": {},
   "source": [
    "**Your task:**\n",
    "\n",
    "1. Based on the code above, write a function that generates uniformly distributed random numbers. There are several requirements for your function:\n",
    "    * It should accept 3 parameters: \n",
    "        * `bottom` - the lower boundary of the generated numbers\n",
    "        * `ceiling` - the upper boundary of the generated numbers\n",
    "        * `count` - how many numbers to generate\n",
    "    * It should return an array of uniformly distributed random numbers\n",
    "\n",
    "1. Call your function with 2 sets of params below:\n",
    "    * bottom=10, ceiling=15, count=100\n",
    "    * bottom=10, ceiling=60, count=1,000\n",
    "\n",
    "1. Plot the uniform distributions generated above using histograms, where x axis is the value and y axis is the count. Let the histogram's number of bins be 10.\n",
    "\n",
    "Your output should look like below:\n",
    "\n",
    "![uniform distribution](ud.png)"
   ]
  },
  {
   "cell_type": "code",
   "execution_count": 3,
   "metadata": {},
   "outputs": [],
   "source": [
    "def dist_rand_nums(bottom, ceiling, counter):\n",
    "    a = bottom\n",
    "    b = ceiling\n",
    "    x = uniform.rvs(size=counter)    \n",
    "    return a+(b-a)*x "
   ]
  },
  {
   "cell_type": "code",
   "execution_count": 4,
   "metadata": {},
   "outputs": [],
   "source": [
    "d1=dist_rand_nums(10 ,15, 100)\n",
    "d2=dist_rand_nums(10 ,60, 1000)"
   ]
  },
  {
   "cell_type": "code",
   "execution_count": 5,
   "metadata": {},
   "outputs": [
    {
     "data": {
      "text/plain": [
       "(array([121., 106.,  94., 102.,  90.,  95.,  95., 101., 109.,  87.]),\n",
       " array([10.1092127 , 15.08459728, 20.05998185, 25.03536642, 30.01075099,\n",
       "        34.98613557, 39.96152014, 44.93690471, 49.91228928, 54.88767386,\n",
       "        59.86305843]),\n",
       " <a list of 10 Patch objects>)"
      ]
     },
     "execution_count": 5,
     "metadata": {},
     "output_type": "execute_result"
    },
    {
     "data": {
      "image/png": "[encoded data removed]",
      "text/plain": [
       "<Figure size 720x216 with 2 Axes>"
      ]
     },
     "metadata": {
      "needs_background": "light"
     },
     "output_type": "display_data"
    }
   ],
   "source": [
    "fig = plt.figure(figsize=(10,3)) #cm\n",
    "\n",
    "plt.subplot(121)\n",
    "plt.hist(d1, bins=10)\n",
    "\n",
    "plt.subplot(122)\n",
    "plt.hist(d2, bins=10)"
   ]
  },
  {
   "cell_type": "markdown",
   "metadata": {},
   "source": [
    "How are the two distributions different?"
   ]
  },
  {
   "cell_type": "code",
   "execution_count": 6,
   "metadata": {},
   "outputs": [],
   "source": [
    "#The sample probability distribution is compared to the theoretical uniform distribution as you increase the sample size. \n",
    "#In general, as the sample size increases, the more closely the sample distribution matches the theoretical distribution. "
   ]
  },
  {
   "cell_type": "markdown",
   "metadata": {},
   "source": [
    "## Normal Distribution\n",
    "\n",
    "1. In the same way in the Uniform Distribution challenge, write a function that generates normally distributed random numbers.\n",
    "1. Generate 1,000 normally distributed numbers with the average of 10 and standard deviation of 1\n",
    "1. Generate 1,000 normally distributed numbers with the average of 10 and standard deviation of 50\n",
    "2. Plot the distributions of the data generated.\n",
    "\n",
    "Expected output:\n",
    "\n",
    "![normal distribution](nd.png)"
   ]
  },
  {
   "cell_type": "code",
   "execution_count": 7,
   "metadata": {},
   "outputs": [],
   "source": [
    "d1=np.random.normal(loc=10, scale=1, size=1000)\n",
    "d2=np.random.normal(loc=10, scale=50,size=1000)"
   ]
  },
  {
   "cell_type": "code",
   "execution_count": 8,
   "metadata": {},
   "outputs": [
    {
     "data": {
      "text/plain": [
       "(array([ 1.,  0.,  5.,  5.,  7., 17., 17., 25., 31., 43., 60., 58., 78.,\n",
       "        83., 90., 69., 64., 64., 70., 50., 51., 30., 17., 22., 18., 13.,\n",
       "         6.,  3.,  1.,  2.]),\n",
       " array([-144.4355132 , -134.2213047 , -124.0070962 , -113.79288771,\n",
       "        -103.57867921,  -93.36447071,  -83.15026221,  -72.93605371,\n",
       "         -62.72184521,  -52.50763671,  -42.29342821,  -32.07921971,\n",
       "         -21.86501121,  -11.65080271,   -1.43659421,    8.77761428,\n",
       "          18.99182278,   29.20603128,   39.42023978,   49.63444828,\n",
       "          59.84865678,   70.06286528,   80.27707378,   90.49128228,\n",
       "         100.70549078,  110.91969928,  121.13390778,  131.34811627,\n",
       "         141.56232477,  151.77653327,  161.99074177]),\n",
       " <a list of 30 Patch objects>)"
      ]
     },
     "execution_count": 8,
     "metadata": {},
     "output_type": "execute_result"
    },
    {
     "data": {
      "image/png": "[encoded data removed]",
      "text/plain": [
       "<Figure size 720x216 with 2 Axes>"
      ]
     },
     "metadata": {
      "needs_background": "light"
     },
     "output_type": "display_data"
    }
   ],
   "source": [
    "fig = plt.figure(figsize=(10,3)) #cm\n",
    "\n",
    "plt.subplot(121)\n",
    "plt.hist(d1, bins=30)\n",
    "\n",
    "plt.subplot(122)\n",
    "plt.hist(d2, bins=30)"
   ]
  },
  {
   "cell_type": "markdown",
   "metadata": {},
   "source": [
    "How are the two distributions different?"
   ]
  },
  {
   "cell_type": "code",
   "execution_count": 9,
   "metadata": {},
   "outputs": [],
   "source": [
    "#A very low standard deviation means that the majority of the values cluster closely around the mean. (1st graph)\n",
    "#A high standard deviation implies that the values are far from the mean (2nd graph)"
   ]
  },
  {
   "cell_type": "markdown",
   "metadata": {},
   "source": [
    "## Normal Distribution of Real Data\n",
    "\n",
    "In this challenge we are going to take a look the real data. We will use vehicles.csv file for this exercise"
   ]
  },
  {
   "cell_type": "markdown",
   "metadata": {},
   "source": [
    "First import vehicles.csv.\n",
    "Then plot the histograms for the following variables:\n",
    "\n",
    "1. Fuel Barrels/Year"
   ]
  },
  {
   "cell_type": "code",
   "execution_count": 10,
   "metadata": {},
   "outputs": [],
   "source": [
    "df = pd.read_csv('vehicles.csv')"
   ]
  },
  {
   "cell_type": "code",
   "execution_count": 11,
   "metadata": {},
   "outputs": [
    {
     "data": {
      "text/plain": [
       "(array([6.300e+01, 5.000e+00, 1.300e+01, 1.800e+01, 1.000e+02, 2.560e+02,\n",
       "        1.060e+03, 1.833e+03, 3.872e+03, 7.168e+03, 3.111e+03, 6.760e+03,\n",
       "        2.387e+03, 4.501e+03, 2.078e+03, 8.600e+01, 1.275e+03, 7.350e+02,\n",
       "        0.000e+00, 4.390e+02, 1.300e+02, 0.000e+00, 0.000e+00, 3.600e+01,\n",
       "        0.000e+00, 0.000e+00, 2.100e+01, 0.000e+00, 0.000e+00, 5.000e+00]),\n",
       " array([ 0.06      ,  1.62757143,  3.19514286,  4.76271429,  6.33028571,\n",
       "         7.89785714,  9.46542857, 11.033     , 12.60057143, 14.16814286,\n",
       "        15.73571429, 17.30328571, 18.87085714, 20.43842857, 22.006     ,\n",
       "        23.57357143, 25.14114286, 26.70871429, 28.27628571, 29.84385714,\n",
       "        31.41142857, 32.979     , 34.54657143, 36.11414286, 37.68171429,\n",
       "        39.24928571, 40.81685714, 42.38442857, 43.952     , 45.51957143,\n",
       "        47.08714286]),\n",
       " <a list of 30 Patch objects>)"
      ]
     },
     "execution_count": 11,
     "metadata": {},
     "output_type": "execute_result"
    },
    {
     "data": {
      "image/png": "[encoded data removed]",
      "text/plain": [
       "<Figure size 432x288 with 1 Axes>"
      ]
     },
     "metadata": {
      "needs_background": "light"
     },
     "output_type": "display_data"
    }
   ],
   "source": [
    "plt.hist(df['Fuel Barrels/Year'], bins=30)"
   ]
  },
  {
   "cell_type": "markdown",
   "metadata": {},
   "source": [
    "2. CO2 Emission Grams/Mile "
   ]
  },
  {
   "cell_type": "code",
   "execution_count": 12,
   "metadata": {},
   "outputs": [
    {
     "data": {
      "text/plain": [
       "(array([5.000e+00, 1.200e+01, 1.700e+01, 6.200e+01, 2.120e+02, 5.580e+02,\n",
       "        1.835e+03, 2.971e+03, 5.399e+03, 6.280e+03, 3.538e+03, 5.593e+03,\n",
       "        2.424e+03, 2.368e+03, 2.033e+03, 1.250e+03, 5.000e+01, 7.100e+02,\n",
       "        4.430e+02, 3.000e+00, 1.270e+02, 0.000e+00, 0.000e+00, 3.600e+01,\n",
       "        0.000e+00, 0.000e+00, 2.100e+01, 0.000e+00, 0.000e+00, 5.000e+00]),\n",
       " array([  37.        ,   78.08571429,  119.17142857,  160.25714286,\n",
       "         201.34285714,  242.42857143,  283.51428571,  324.6       ,\n",
       "         365.68571429,  406.77142857,  447.85714286,  488.94285714,\n",
       "         530.02857143,  571.11428571,  612.2       ,  653.28571429,\n",
       "         694.37142857,  735.45714286,  776.54285714,  817.62857143,\n",
       "         858.71428571,  899.8       ,  940.88571429,  981.97142857,\n",
       "        1023.05714286, 1064.14285714, 1105.22857143, 1146.31428571,\n",
       "        1187.4       , 1228.48571429, 1269.57142857]),\n",
       " <a list of 30 Patch objects>)"
      ]
     },
     "execution_count": 12,
     "metadata": {},
     "output_type": "execute_result"
    },
    {
     "data": {
      "image/png": "[encoded data removed]",
      "text/plain": [
       "<Figure size 432x288 with 1 Axes>"
      ]
     },
     "metadata": {
      "needs_background": "light"
     },
     "output_type": "display_data"
    }
   ],
   "source": [
    "plt.hist(df['CO2 Emission Grams/Mile'], bins=30)"
   ]
  },
  {
   "cell_type": "markdown",
   "metadata": {},
   "source": [
    "3. Combined MPG"
   ]
  },
  {
   "cell_type": "code",
   "execution_count": 13,
   "metadata": {},
   "outputs": [
    {
     "data": {
      "text/plain": [
       "(array([2.600e+01, 1.710e+02, 4.410e+02, 1.996e+03, 4.188e+03, 2.315e+03,\n",
       "        5.979e+03, 6.375e+03, 3.158e+03, 4.041e+03, 1.546e+03, 2.345e+03,\n",
       "        1.331e+03, 4.530e+02, 6.320e+02, 3.450e+02, 1.620e+02, 1.290e+02,\n",
       "        8.400e+01, 2.300e+01, 1.030e+02, 3.700e+01, 1.200e+01, 1.600e+01,\n",
       "        1.600e+01, 2.000e+00, 1.500e+01, 5.000e+00, 4.000e+00, 2.000e+00]),\n",
       " array([ 7.        ,  8.63333333, 10.26666667, 11.9       , 13.53333333,\n",
       "        15.16666667, 16.8       , 18.43333333, 20.06666667, 21.7       ,\n",
       "        23.33333333, 24.96666667, 26.6       , 28.23333333, 29.86666667,\n",
       "        31.5       , 33.13333333, 34.76666667, 36.4       , 38.03333333,\n",
       "        39.66666667, 41.3       , 42.93333333, 44.56666667, 46.2       ,\n",
       "        47.83333333, 49.46666667, 51.1       , 52.73333333, 54.36666667,\n",
       "        56.        ]),\n",
       " <a list of 30 Patch objects>)"
      ]
     },
     "execution_count": 13,
     "metadata": {},
     "output_type": "execute_result"
    },
    {
     "data": {
      "image/png": "[encoded data removed]",
      "text/plain": [
       "<Figure size 432x288 with 1 Axes>"
      ]
     },
     "metadata": {
      "needs_background": "light"
     },
     "output_type": "display_data"
    }
   ],
   "source": [
    "plt.hist(df['Combined MPG'], bins=30)"
   ]
  },
  {
   "cell_type": "markdown",
   "metadata": {},
   "source": [
    "Which one(s) of the variables are nearly normally distributed? How do you know?"
   ]
  },
  {
   "cell_type": "code",
   "execution_count": 14,
   "metadata": {},
   "outputs": [],
   "source": [
    "#Fuel Barrels/Year --> is more symmetrical --> nearly normally distributed \n",
    "#Fuel Barrels/Year --> positive skew\n",
    "#Combined MPG --> positive skew"
   ]
  },
  {
   "cell_type": "markdown",
   "metadata": {},
   "source": [
    "## Exponential Distribution"
   ]
  },
  {
   "cell_type": "markdown",
   "metadata": {},
   "source": [
    "1. Using `numpy.random.exponential`, create a function that returns a list of numbers exponentially distributed with the mean of 10. \n",
    "\n",
    "1. Use the function to generate two number sequences with the size of 10 and 100.\n",
    "\n",
    "1. Plot the distributions as histograms with the nubmer of bins as 100.\n",
    "\n",
    "Your output should look like below:\n",
    "\n",
    "![exponential distribution](ed.png)"
   ]
  },
  {
   "cell_type": "code",
   "execution_count": 15,
   "metadata": {},
   "outputs": [],
   "source": [
    "# your code here"
   ]
  },
  {
   "cell_type": "markdown",
   "metadata": {},
   "source": [
    "How are the two distributions different?"
   ]
  },
  {
   "cell_type": "code",
   "execution_count": 16,
   "metadata": {},
   "outputs": [],
   "source": [
    "# your answer here"
   ]
  },
  {
   "cell_type": "markdown",
   "metadata": {},
   "source": [
    "## Exponential Distribution of Real Data\n",
    "\n",
    "Suppose that the amount of time one spends in a bank is exponentially distributed with mean as 10 minutes (i.e. λ = 1/10). What is the probability that a customer will spend less than fifteen minutes in the bank? \n",
    "\n",
    "Write a code in python to solve this problem"
   ]
  },
  {
   "cell_type": "code",
   "execution_count": 17,
   "metadata": {},
   "outputs": [],
   "source": [
    "# your answer here\n",
    "# Hint: This is same as saying P(x<15)"
   ]
  },
  {
   "cell_type": "markdown",
   "metadata": {},
   "source": [
    "What is the probability that the customer will spend more than 15 minutes"
   ]
  },
  {
   "cell_type": "code",
   "execution_count": 18,
   "metadata": {},
   "outputs": [],
   "source": [
    "# your answer here"
   ]
  },
  {
   "cell_type": "code",
   "execution_count": null,
   "metadata": {},
   "outputs": [],
   "source": []
  }
 ],
 "metadata": {
  "kernelspec": {
   "display_name": "analytics_env",
   "language": "python",
   "name": "analytics_env"
  },
  "language_info": {
   "codemirror_mode": {
    "name": "ipython",
    "version": 3
   },
   "file_extension": ".py",
   "mimetype": "text/x-python",
   "name": "python",
   "nbconvert_exporter": "python",
   "pygments_lexer": "ipython3",
   "version": "3.8.2"
  }
 },
 "nbformat": 4,
 "nbformat_minor": 2
}
