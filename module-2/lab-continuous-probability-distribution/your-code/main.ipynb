{
 "cells": [
  {
   "cell_type": "markdown",
   "metadata": {},
   "source": [
    "# Before your start:\n",
    "\n",
    "    Read the README.md file\n",
    "    Comment as much as you can and use the resources (README.md file)\n",
    "    Happy learning!"
   ]
  },
  {
   "cell_type": "markdown",
   "metadata": {},
   "source": [
    "In this exercise, we  will generate random numbers from the continuous disributions we learned in the lesson. There are two ways to generate random numbers:\n",
    "\n",
    "1. Using the numpy library \n",
    "1. using the Scipy library \n",
    "\n",
    "Use either or both of the lbraries in this exercise."
   ]
  },
  {
   "cell_type": "code",
   "execution_count": 1,
   "metadata": {},
   "outputs": [],
   "source": [
    "import numpy as np\n",
    "import pandas as pd\n",
    "import matplotlib. pyplot as plt \n",
    "from scipy.stats import expon"
   ]
  },
  {
   "cell_type": "markdown",
   "metadata": {},
   "source": [
    "## Uniform Distribution\n",
    "\n",
    "To generate uniform random numbers between any two given values using scipy, we can either use the following code or the code that we have\n",
    "discussed in class:"
   ]
  },
  {
   "cell_type": "code",
   "execution_count": 2,
   "metadata": {},
   "outputs": [
    {
     "name": "stdout",
     "output_type": "stream",
     "text": [
      "[2.05046975 2.72584342 2.84922211 2.86147581 2.35674278 2.78383214\n",
      " 2.86006081 2.97250401 2.31717392 2.81572064]\n"
     ]
    }
   ],
   "source": [
    "from scipy.stats import uniform\n",
    "x = uniform.rvs(size=10)\n",
    "a = 2\n",
    "b = 3\n",
    "randoms  = a + (b-a)*x\n",
    "print(randoms)"
   ]
  },
  {
   "cell_type": "markdown",
   "metadata": {},
   "source": [
    "**Your task:**\n",
    "\n",
    "1. Based on the code above, write a function that generates uniformly distributed random numbers. There are several requirements for your function:\n",
    "    * It should accept 3 parameters: \n",
    "        * `bottom` - the lower boundary of the generated numbers\n",
    "        * `ceiling` - the upper boundary of the generated numbers\n",
    "        * `count` - how many numbers to generate\n",
    "    * It should return an array of uniformly distributed random numbers\n",
    "\n",
    "1. Call your function with 2 sets of params below:\n",
    "    * bottom=10, ceiling=15, count=100\n",
    "    * bottom=10, ceiling=60, count=1,000\n",
    "\n",
    "1. Plot the uniform distributions generated above using histograms, where x axis is the value and y axis is the count. Let the histogram's number of bins be 10.\n",
    "\n",
    "Your output should look like below:\n",
    "\n",
    "![uniform distribution](ud.png)"
   ]
  },
  {
   "cell_type": "code",
   "execution_count": 3,
   "metadata": {},
   "outputs": [],
   "source": [
    "def dist_rand_nums(bottom, ceiling, counter):\n",
    "    a = bottom\n",
    "    b = ceiling\n",
    "    x = uniform.rvs(size=counter)    \n",
    "    return a+(b-a)*x "
   ]
  },
  {
   "cell_type": "code",
   "execution_count": 4,
   "metadata": {},
   "outputs": [],
   "source": [
    "d1=dist_rand_nums(10 ,15, 100)\n",
    "d2=dist_rand_nums(10 ,60, 1000)"
   ]
  },
  {
   "cell_type": "code",
   "execution_count": 5,
   "metadata": {},
   "outputs": [
    {
     "data": {
      "text/plain": [
       "(array([111., 103., 102.,  79., 101.,  81., 107.,  91., 123., 102.]),\n",
       " array([10.24474049, 15.21810046, 20.19146043, 25.16482041, 30.13818038,\n",
       "        35.11154035, 40.08490032, 45.05826029, 50.03162026, 55.00498023,\n",
       "        59.9783402 ]),\n",
       " <a list of 10 Patch objects>)"
      ]
     },
     "execution_count": 5,
     "metadata": {},
     "output_type": "execute_result"
    },
    {
     "data": {
      "image/png": "[encoded data removed]",
      "text/plain": [
       "<Figure size 720x216 with 2 Axes>"
      ]
     },
     "metadata": {
      "needs_background": "light"
     },
     "output_type": "display_data"
    }
   ],
   "source": [
    "fig = plt.figure(figsize=(10,3)) #cm\n",
    "\n",
    "plt.subplot(121)\n",
    "plt.hist(d1, bins=10)\n",
    "\n",
    "plt.subplot(122)\n",
    "plt.hist(d2, bins=10)"
   ]
  },
  {
   "cell_type": "markdown",
   "metadata": {},
   "source": [
    "How are the two distributions different?"
   ]
  },
  {
   "cell_type": "code",
   "execution_count": 6,
   "metadata": {},
   "outputs": [],
   "source": [
    "#The sample probability distribution is compared to the theoretical uniform distribution as you increase the sample size. \n",
    "#In general, as the sample size increases, the more closely the sample distribution matches the theoretical distribution. "
   ]
  },
  {
   "cell_type": "markdown",
   "metadata": {},
   "source": [
    "## Normal Distribution\n",
    "\n",
    "1. In the same way in the Uniform Distribution challenge, write a function that generates normally distributed random numbers.\n",
    "1. Generate 1,000 normally distributed numbers with the average of 10 and standard deviation of 1\n",
    "1. Generate 1,000 normally distributed numbers with the average of 10 and standard deviation of 50\n",
    "2. Plot the distributions of the data generated.\n",
    "\n",
    "Expected output:\n",
    "\n",
    "![normal distribution](nd.png)"
   ]
  },
  {
   "cell_type": "code",
   "execution_count": 7,
   "metadata": {},
   "outputs": [],
   "source": [
    "d1=np.random.normal(loc=10, scale=1, size=1000)\n",
    "d2=np.random.normal(loc=10, scale=50,size=1000)"
   ]
  },
  {
   "cell_type": "code",
   "execution_count": 8,
   "metadata": {},
   "outputs": [
    {
     "data": {
      "text/plain": [
       "(array([  1.,   0.,   1.,   2.,   5.,   4.,  12.,  22.,  19.,  31.,  47.,\n",
       "         48.,  56.,  88.,  80., 107.,  90.,  96.,  59.,  80.,  47.,  38.,\n",
       "         33.,   6.,  15.,   4.,   5.,   0.,   3.,   1.]),\n",
       " array([-1.73489593e+02, -1.61924187e+02, -1.50358781e+02, -1.38793375e+02,\n",
       "        -1.27227969e+02, -1.15662563e+02, -1.04097157e+02, -9.25317508e+01,\n",
       "        -8.09663448e+01, -6.94009388e+01, -5.78355328e+01, -4.62701268e+01,\n",
       "        -3.47047207e+01, -2.31393147e+01, -1.15739087e+01, -8.50268383e-03,\n",
       "         1.15569033e+01,  2.31223094e+01,  3.46877154e+01,  4.62531214e+01,\n",
       "         5.78185274e+01,  6.93839334e+01,  8.09493395e+01,  9.25147455e+01,\n",
       "         1.04080151e+02,  1.15645558e+02,  1.27210964e+02,  1.38776370e+02,\n",
       "         1.50341776e+02,  1.61907182e+02,  1.73472588e+02]),\n",
       " <a list of 30 Patch objects>)"
      ]
     },
     "execution_count": 8,
     "metadata": {},
     "output_type": "execute_result"
    },
    {
     "data": {
      "image/png": "[encoded data removed]",
      "text/plain": [
       "<Figure size 720x216 with 2 Axes>"
      ]
     },
     "metadata": {
      "needs_background": "light"
     },
     "output_type": "display_data"
    }
   ],
   "source": [
    "fig = plt.figure(figsize=(10,3)) #cm\n",
    "\n",
    "plt.subplot(121)\n",
    "plt.hist(d1, bins=30)\n",
    "\n",
    "plt.subplot(122)\n",
    "plt.hist(d2, bins=30)"
   ]
  },
  {
   "cell_type": "markdown",
   "metadata": {},
   "source": [
    "How are the two distributions different?"
   ]
  },
  {
   "cell_type": "code",
   "execution_count": 9,
   "metadata": {},
   "outputs": [],
   "source": [
    "#A very low standard deviation means that the majority of the values cluster closely around the mean. (1st graph)\n",
    "#A high standard deviation implies that the values are far from the mean (2nd graph)"
   ]
  },
  {
   "cell_type": "markdown",
   "metadata": {},
   "source": [
    "## Normal Distribution of Real Data\n",
    "\n",
    "In this challenge we are going to take a look the real data. We will use vehicles.csv file for this exercise"
   ]
  },
  {
   "cell_type": "markdown",
   "metadata": {},
   "source": [
    "First import vehicles.csv.\n",
    "Then plot the histograms for the following variables:\n",
    "\n",
    "1. Fuel Barrels/Year"
   ]
  },
  {
   "cell_type": "code",
   "execution_count": 10,
   "metadata": {},
   "outputs": [],
   "source": [
    "df = pd.read_csv('vehicles.csv')"
   ]
  },
  {
   "cell_type": "code",
   "execution_count": 11,
   "metadata": {},
   "outputs": [
    {
     "data": {
      "text/plain": [
       "(array([6.300e+01, 5.000e+00, 1.300e+01, 1.800e+01, 1.000e+02, 2.560e+02,\n",
       "        1.060e+03, 1.833e+03, 3.872e+03, 7.168e+03, 3.111e+03, 6.760e+03,\n",
       "        2.387e+03, 4.501e+03, 2.078e+03, 8.600e+01, 1.275e+03, 7.350e+02,\n",
       "        0.000e+00, 4.390e+02, 1.300e+02, 0.000e+00, 0.000e+00, 3.600e+01,\n",
       "        0.000e+00, 0.000e+00, 2.100e+01, 0.000e+00, 0.000e+00, 5.000e+00]),\n",
       " array([ 0.06      ,  1.62757143,  3.19514286,  4.76271429,  6.33028571,\n",
       "         7.89785714,  9.46542857, 11.033     , 12.60057143, 14.16814286,\n",
       "        15.73571429, 17.30328571, 18.87085714, 20.43842857, 22.006     ,\n",
       "        23.57357143, 25.14114286, 26.70871429, 28.27628571, 29.84385714,\n",
       "        31.41142857, 32.979     , 34.54657143, 36.11414286, 37.68171429,\n",
       "        39.24928571, 40.81685714, 42.38442857, 43.952     , 45.51957143,\n",
       "        47.08714286]),\n",
       " <a list of 30 Patch objects>)"
      ]
     },
     "execution_count": 11,
     "metadata": {},
     "output_type": "execute_result"
    },
    {
     "data": {
      "image/png": "[encoded data removed]",
      "text/plain": [
       "<Figure size 432x288 with 1 Axes>"
      ]
     },
     "metadata": {
      "needs_background": "light"
     },
     "output_type": "display_data"
    }
   ],
   "source": [
    "plt.hist(df['Fuel Barrels/Year'], bins=30)"
   ]
  },
  {
   "cell_type": "markdown",
   "metadata": {},
   "source": [
    "2. CO2 Emission Grams/Mile "
   ]
  },
  {
   "cell_type": "code",
   "execution_count": 12,
   "metadata": {},
   "outputs": [
    {
     "data": {
      "text/plain": [
       "(array([5.000e+00, 1.200e+01, 1.700e+01, 6.200e+01, 2.120e+02, 5.580e+02,\n",
       "        1.835e+03, 2.971e+03, 5.399e+03, 6.280e+03, 3.538e+03, 5.593e+03,\n",
       "        2.424e+03, 2.368e+03, 2.033e+03, 1.250e+03, 5.000e+01, 7.100e+02,\n",
       "        4.430e+02, 3.000e+00, 1.270e+02, 0.000e+00, 0.000e+00, 3.600e+01,\n",
       "        0.000e+00, 0.000e+00, 2.100e+01, 0.000e+00, 0.000e+00, 5.000e+00]),\n",
       " array([  37.        ,   78.08571429,  119.17142857,  160.25714286,\n",
       "         201.34285714,  242.42857143,  283.51428571,  324.6       ,\n",
       "         365.68571429,  406.77142857,  447.85714286,  488.94285714,\n",
       "         530.02857143,  571.11428571,  612.2       ,  653.28571429,\n",
       "         694.37142857,  735.45714286,  776.54285714,  817.62857143,\n",
       "         858.71428571,  899.8       ,  940.88571429,  981.97142857,\n",
       "        1023.05714286, 1064.14285714, 1105.22857143, 1146.31428571,\n",
       "        1187.4       , 1228.48571429, 1269.57142857]),\n",
       " <a list of 30 Patch objects>)"
      ]
     },
     "execution_count": 12,
     "metadata": {},
     "output_type": "execute_result"
    },
    {
     "data": {
      "image/png": "[encoded data removed]",
      "text/plain": [
       "<Figure size 432x288 with 1 Axes>"
      ]
     },
     "metadata": {
      "needs_background": "light"
     },
     "output_type": "display_data"
    }
   ],
   "source": [
    "plt.hist(df['CO2 Emission Grams/Mile'], bins=30)"
   ]
  },
  {
   "cell_type": "markdown",
   "metadata": {},
   "source": [
    "3. Combined MPG"
   ]
  },
  {
   "cell_type": "code",
   "execution_count": 13,
   "metadata": {},
   "outputs": [
    {
     "data": {
      "text/plain": [
       "(array([2.600e+01, 1.710e+02, 4.410e+02, 1.996e+03, 4.188e+03, 2.315e+03,\n",
       "        5.979e+03, 6.375e+03, 3.158e+03, 4.041e+03, 1.546e+03, 2.345e+03,\n",
       "        1.331e+03, 4.530e+02, 6.320e+02, 3.450e+02, 1.620e+02, 1.290e+02,\n",
       "        8.400e+01, 2.300e+01, 1.030e+02, 3.700e+01, 1.200e+01, 1.600e+01,\n",
       "        1.600e+01, 2.000e+00, 1.500e+01, 5.000e+00, 4.000e+00, 2.000e+00]),\n",
       " array([ 7.        ,  8.63333333, 10.26666667, 11.9       , 13.53333333,\n",
       "        15.16666667, 16.8       , 18.43333333, 20.06666667, 21.7       ,\n",
       "        23.33333333, 24.96666667, 26.6       , 28.23333333, 29.86666667,\n",
       "        31.5       , 33.13333333, 34.76666667, 36.4       , 38.03333333,\n",
       "        39.66666667, 41.3       , 42.93333333, 44.56666667, 46.2       ,\n",
       "        47.83333333, 49.46666667, 51.1       , 52.73333333, 54.36666667,\n",
       "        56.        ]),\n",
       " <a list of 30 Patch objects>)"
      ]
     },
     "execution_count": 13,
     "metadata": {},
     "output_type": "execute_result"
    },
    {
     "data": {
      "image/png": "[encoded data removed]",
      "text/plain": [
       "<Figure size 432x288 with 1 Axes>"
      ]
     },
     "metadata": {
      "needs_background": "light"
     },
     "output_type": "display_data"
    }
   ],
   "source": [
    "plt.hist(df['Combined MPG'], bins=30)"
   ]
  },
  {
   "cell_type": "markdown",
   "metadata": {},
   "source": [
    "Which one(s) of the variables are nearly normally distributed? How do you know?"
   ]
  },
  {
   "cell_type": "code",
   "execution_count": 14,
   "metadata": {},
   "outputs": [],
   "source": [
    "#Fuel Barrels/Year --> is more symmetrical --> nearly normally distributed \n",
    "#Fuel Barrels/Year --> positive skew\n",
    "#Combined MPG --> positive skew"
   ]
  },
  {
   "cell_type": "markdown",
   "metadata": {},
   "source": [
    "## Exponential Distribution"
   ]
  },
  {
   "cell_type": "markdown",
   "metadata": {},
   "source": [
    "1. Using `numpy.random.exponential`, create a function that returns a list of numbers exponentially distributed with the mean of 10. \n",
    "\n",
    "1. Use the function to generate two number sequences with the size of 10 and 100.\n",
    "\n",
    "1. Plot the distributions as histograms with the nubmer of bins as 100.\n",
    "\n",
    "Your output should look like below:\n",
    "\n",
    "![exponential distribution](ed.png)"
   ]
  },
  {
   "cell_type": "code",
   "execution_count": 15,
   "metadata": {},
   "outputs": [],
   "source": [
    "#expon.rvs(size=10, loc=10)\n",
    "#expon.rvs(size=100, loc=10)\n",
    "d1 = np.random.exponential(size=1000)+10\n",
    "d2 = np.random.exponential(size=10000)+10"
   ]
  },
  {
   "cell_type": "code",
   "execution_count": 16,
   "metadata": {},
   "outputs": [
    {
     "data": {
      "text/plain": [
       "(array([967., 814., 753., 723., 652., 598., 536., 453., 461., 385., 347.,\n",
       "        292., 298., 235., 251., 195., 179., 149., 165., 135., 143., 127.,\n",
       "        106.,  99.,  96.,  69.,  76.,  62.,  64.,  58.,  59.,  43.,  46.,\n",
       "         31.,  27.,  22.,  24.,  16.,  23.,  15.,  17.,  20.,  10.,  12.,\n",
       "          7.,  20.,   9.,  16.,   8.,  12.,   7.,   8.,   7.,   4.,   3.,\n",
       "          3.,   3.,   3.,   5.,   3.,   3.,   2.,   1.,   0.,   1.,   4.,\n",
       "          3.,   1.,   1.,   2.,   0.,   0.,   1.,   1.,   0.,   0.,   0.,\n",
       "          1.,   0.,   5.,   0.,   0.,   1.,   0.,   0.,   0.,   0.,   0.,\n",
       "          0.,   0.,   0.,   1.,   0.,   0.,   0.,   0.,   0.,   0.,   0.,\n",
       "          1.]),\n",
       " array([10.00004831, 10.09845962, 10.19687094, 10.29528226, 10.39369357,\n",
       "        10.49210489, 10.59051621, 10.68892752, 10.78733884, 10.88575016,\n",
       "        10.98416148, 11.08257279, 11.18098411, 11.27939543, 11.37780674,\n",
       "        11.47621806, 11.57462938, 11.67304069, 11.77145201, 11.86986333,\n",
       "        11.96827464, 12.06668596, 12.16509728, 12.2635086 , 12.36191991,\n",
       "        12.46033123, 12.55874255, 12.65715386, 12.75556518, 12.8539765 ,\n",
       "        12.95238781, 13.05079913, 13.14921045, 13.24762176, 13.34603308,\n",
       "        13.4444444 , 13.54285572, 13.64126703, 13.73967835, 13.83808967,\n",
       "        13.93650098, 14.0349123 , 14.13332362, 14.23173493, 14.33014625,\n",
       "        14.42855757, 14.52696888, 14.6253802 , 14.72379152, 14.82220284,\n",
       "        14.92061415, 15.01902547, 15.11743679, 15.2158481 , 15.31425942,\n",
       "        15.41267074, 15.51108205, 15.60949337, 15.70790469, 15.806316  ,\n",
       "        15.90472732, 16.00313864, 16.10154996, 16.19996127, 16.29837259,\n",
       "        16.39678391, 16.49519522, 16.59360654, 16.69201786, 16.79042917,\n",
       "        16.88884049, 16.98725181, 17.08566313, 17.18407444, 17.28248576,\n",
       "        17.38089708, 17.47930839, 17.57771971, 17.67613103, 17.77454234,\n",
       "        17.87295366, 17.97136498, 18.06977629, 18.16818761, 18.26659893,\n",
       "        18.36501025, 18.46342156, 18.56183288, 18.6602442 , 18.75865551,\n",
       "        18.85706683, 18.95547815, 19.05388946, 19.15230078, 19.2507121 ,\n",
       "        19.34912341, 19.44753473, 19.54594605, 19.64435737, 19.74276868,\n",
       "        19.84118   ]),\n",
       " <a list of 100 Patch objects>)"
      ]
     },
     "execution_count": 16,
     "metadata": {},
     "output_type": "execute_result"
    },
    {
     "data": {
      "image/png": "[encoded data removed]",
      "text/plain": [
       "<Figure size 720x216 with 2 Axes>"
      ]
     },
     "metadata": {
      "needs_background": "light"
     },
     "output_type": "display_data"
    }
   ],
   "source": [
    "fig = plt.figure(figsize=(10,3)) #cm\n",
    "\n",
    "plt.subplot(121)\n",
    "plt.hist(d1, bins=100)\n",
    "\n",
    "plt.subplot(122)\n",
    "plt.hist(d2, bins=100)"
   ]
  },
  {
   "cell_type": "markdown",
   "metadata": {},
   "source": [
    "How are the two distributions different?"
   ]
  },
  {
   "cell_type": "code",
   "execution_count": 17,
   "metadata": {},
   "outputs": [],
   "source": [
    "#As the sample size increases the histogram becomes more and more similar to the underlying exponential distribution."
   ]
  },
  {
   "cell_type": "markdown",
   "metadata": {},
   "source": [
    "## Exponential Distribution of Real Data\n",
    "\n",
    "Suppose that the amount of time one spends in a bank is exponentially distributed with mean as 10 minutes (i.e. λ = 1/10). What is the probability that a customer will spend less than fifteen minutes in the bank? \n",
    "\n",
    "Write a code in python to solve this problem"
   ]
  },
  {
   "cell_type": "code",
   "execution_count": 18,
   "metadata": {},
   "outputs": [
    {
     "data": {
      "text/plain": [
       "0.7768698398515702"
      ]
     },
     "execution_count": 18,
     "metadata": {},
     "output_type": "execute_result"
    }
   ],
   "source": [
    "# P(x<15)\n",
    "# X ~ Exp(λ)\n",
    "# scale = 1/lambda -> scale = 10\n",
    "expon.cdf(x=15, loc=0, scale=10)"
   ]
  },
  {
   "cell_type": "markdown",
   "metadata": {},
   "source": [
    "What is the probability that the customer will spend more than 15 minutes"
   ]
  },
  {
   "cell_type": "code",
   "execution_count": 19,
   "metadata": {},
   "outputs": [
    {
     "data": {
      "text/plain": [
       "0.2231301601484298"
      ]
     },
     "execution_count": 19,
     "metadata": {},
     "output_type": "execute_result"
    }
   ],
   "source": [
    "# P(x>15)=1-P(x<15)\n",
    "1-expon.cdf(x=15, scale=10)"
   ]
  },
  {
   "cell_type": "code",
   "execution_count": 20,
   "metadata": {},
   "outputs": [
    {
     "data": {
      "text/plain": [
       "9.913598746933591"
      ]
     },
     "execution_count": 20,
     "metadata": {},
     "output_type": "execute_result"
    }
   ],
   "source": [
    "t=expon.rvs(scale=10, size=1000) #Random Sample\n",
    "np.mean(t) #Mean of the random sample -> scale"
   ]
  },
  {
   "cell_type": "code",
   "execution_count": 21,
   "metadata": {},
   "outputs": [
    {
     "data": {
      "text/plain": [
       "[<matplotlib.lines.Line2D at 0x121576e80>]"
      ]
     },
     "execution_count": 21,
     "metadata": {},
     "output_type": "execute_result"
    },
    {
     "data": {
      "image/png": "[encoded data removed]",
      "text/plain": [
       "<Figure size 432x288 with 1 Axes>"
      ]
     },
     "metadata": {
      "needs_background": "light"
     },
     "output_type": "display_data"
    }
   ],
   "source": [
    "x=np.arange(0,100)\n",
    "pdf=expon.pdf(x, scale=10)\n",
    "cdf=expon.cdf(x, scale=10)\n",
    "plt.plot(pdf, 'b')\n",
    "plt.plot(cdf, 'r')"
   ]
  }
 ],
 "metadata": {
  "kernelspec": {
   "display_name": "analytics_env",
   "language": "python",
   "name": "analytics_env"
  },
  "language_info": {
   "codemirror_mode": {
    "name": "ipython",
    "version": 3
   },
   "file_extension": ".py",
   "mimetype": "text/x-python",
   "name": "python",
   "nbconvert_exporter": "python",
   "pygments_lexer": "ipython3",
   "version": "3.8.2"
  }
 },
 "nbformat": 4,
 "nbformat_minor": 2
}
