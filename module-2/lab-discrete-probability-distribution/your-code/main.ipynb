{
 "cells": [
  {
   "cell_type": "markdown",
   "metadata": {},
   "source": [
    "# Before your start:\n",
    "\n",
    "    Read the README.md file\n",
    "    Comment as much as you can and use the resources (README.md file)\n",
    "    Happy learning!\n",
    "\n",
    "*Notes:* \n",
    "\n",
    "- Solve the questions with python.\n",
    "\n",
    "- Round the final answer to three decimal places."
   ]
  },
  {
   "cell_type": "code",
   "execution_count": 1,
   "metadata": {},
   "outputs": [],
   "source": [
    "from scipy.stats import bernoulli\n",
    "from scipy.stats import binom\n",
    "from scipy.stats import poisson\n",
    "import math\n",
    "import matplotlib.pyplot as plt \n",
    "import numpy as np"
   ]
  },
  {
   "cell_type": "markdown",
   "metadata": {},
   "source": [
    "## Bernoulli's Distribution\n",
    "\n",
    "In a basket containing 100 fruits, there are 60 apples and 40 oranges. \n",
    "\n",
    "A fruit is picked randomly from the basket. \n",
    "\n",
    "1. **What is the probability that the fruit is apple?**\n",
    "1. **What is the probability that it is an orange?**"
   ]
  },
  {
   "cell_type": "code",
   "execution_count": 2,
   "metadata": {},
   "outputs": [
    {
     "name": "stdout",
     "output_type": "stream",
     "text": [
      "#ManualMode# Probability that the fruit is an apple:  0.6\n",
      "#ManualMode# Probability that the fruit is an orange:  0.4\n",
      "#SciPyMode\" Probability that the fruit is an apple:  0.6\n",
      "#SciPyMode\" Probability that the fruit is an orange:  0.4\n"
     ]
    }
   ],
   "source": [
    "########## Manual\n",
    "p=60/100\n",
    "q=1-p\n",
    "print('#ManualMode# Probability that the fruit is an apple: ', p)\n",
    "print('#ManualMode# Probability that the fruit is an orange: ', q)\n",
    "\n",
    "########## Scipy\n",
    "p_scipy=round(bernoulli.pmf(k=1, p=p),3)\n",
    "q_scipy=1-p_scipy\n",
    "print('#SciPyMode\" Probability that the fruit is an apple: ', p_scipy)\n",
    "print('#SciPyMode\" Probability that the fruit is an orange: ', q_scipy)"
   ]
  },
  {
   "cell_type": "markdown",
   "metadata": {},
   "source": [
    "Now we take a random sample of 20 fruits from the basket. After each fruit is taken, a new fruit of the same type is replaced in the basket. Therefore, every time we are taking 1 fruit from 100 fruits. \n",
    "\n",
    "1. **What is the probability that the first 5 fruits are all apples?**\n",
    "\n",
    "1. **What is the probability that the first 5 fruits are all apples and the next 15 fruits are all oranges?**\n",
    "\n",
    "You can include the `p` and `q` probabilities you previous calculated in your solution."
   ]
  },
  {
   "cell_type": "code",
   "execution_count": 3,
   "metadata": {},
   "outputs": [
    {
     "name": "stdout",
     "output_type": "stream",
     "text": [
      "Sample:  [0 1 1 1 0 1 1 1 0 1 0 1 1 0 0 1 0 1 0 0]\n",
      "Probability that the first 5 fruits are all apples:  0.078\n",
      "Probability that the first 5 fruits are all apples and the next 15 fruits are all oranges:  0.0\n"
     ]
    }
   ],
   "source": [
    "########## Sample\n",
    "sample = bernoulli.rvs(p=0.6, size=20) #1: apples #0:oranges\n",
    "print('Sample: ', sample)\n",
    "\n",
    "########## Resolution process\n",
    "#Non-Mutually Exclusive Events (Intersection)\n",
    "#Replaceable events: The fact that A occurs does not affect the probability of B occurring (Independence)\n",
    "#P(AnO)=P(A)·P(O)\n",
    "#P(AnAnAnAnA)=P(A)·P(A)·P(A)·P(A)·P(A) = P(A)**5 \n",
    "#P(AnAnAnAnAnOnOnOnOnOnOnOnOnOnOnOnOnOnOnOnOnOnOnOnO) = P(A)**5 * P(B)**15\n",
    "\n",
    "p1=round(p**5,3)\n",
    "print('Probability that the first 5 fruits are all apples: ', p1)\n",
    "\n",
    "p2=round(p1*q**15,3)\n",
    "print('Probability that the first 5 fruits are all apples and the next 15 fruits are all oranges: ', p2)"
   ]
  },
  {
   "cell_type": "markdown",
   "metadata": {},
   "source": [
    "## Binomial Distribution\n",
    "\n",
    "Similar to the above problem, this time again we randomly sample 20 fruits.\n",
    "\n",
    "**What is the probability that this time the sample contains 5 apples and 15 oranges?**\n",
    "\n",
    "Please note that this time the order of the fruits being picked does not matter."
   ]
  },
  {
   "cell_type": "code",
   "execution_count": 4,
   "metadata": {
    "scrolled": true
   },
   "outputs": [
    {
     "name": "stdout",
     "output_type": "stream",
     "text": [
      "Probability that the sample contains 5 apples and 15 oranges:  0.001\n"
     ]
    }
   ],
   "source": [
    "#X ~ B(20, p)\n",
    "#binom.pmf(k=successes, n=trials, p=probability of success, loc=0) \n",
    "print('Probability that the sample contains 5 apples and 15 oranges: ', round(binom.pmf(k=5, n=20, p=p), 3)) #P(X=5)"
   ]
  },
  {
   "cell_type": "markdown",
   "metadata": {},
   "source": [
    "In the lesson we also discussed CDF (cumulative distribution function). In the context of the above problem, **what is the probability that less than 5 fruits picked are apples?**\n",
    "\n",
    "Write the formula and calculate the probability below."
   ]
  },
  {
   "cell_type": "code",
   "execution_count": 5,
   "metadata": {},
   "outputs": [
    {
     "name": "stdout",
     "output_type": "stream",
     "text": [
      "probability that less than 5 fruits picked are apples:  0.922\n"
     ]
    }
   ],
   "source": [
    "#CDF: Cumulative Distribution Function -> Probability that X will take a value less than or equal to x \n",
    "print('probability that less than 5 fruits picked are apples: ', round(binom.cdf(k=4, n=5, p=p), 3)) #P(X<5)"
   ]
  },
  {
   "cell_type": "markdown",
   "metadata": {},
   "source": [
    "**Plot the PDF (probability distributiom function) for the above binomial distribution.**\n",
    "\n",
    "*Hint: The range of x in a binomial distribution is from `0` to `n`.*"
   ]
  },
  {
   "cell_type": "code",
   "execution_count": 6,
   "metadata": {},
   "outputs": [
    {
     "data": {
      "text/plain": [
       "Text(0, 0.5, 'Probability')"
      ]
     },
     "execution_count": 6,
     "metadata": {},
     "output_type": "execute_result"
    },
    {
     "data": {
      "image/png": "[encoded data removed]",
      "text/plain": [
       "<Figure size 432x288 with 1 Axes>"
      ]
     },
     "metadata": {
      "needs_background": "light"
     },
     "output_type": "display_data"
    }
   ],
   "source": [
    "plt.stem(binom.pmf(k=range(21), n=20, p=p, loc=0), use_line_collection=True)\n",
    "plt.title('Probability distribution')\n",
    "plt.xlabel('Number of events')\n",
    "plt.ylabel('Probability')"
   ]
  },
  {
   "cell_type": "markdown",
   "metadata": {},
   "source": [
    "## Poisson Distribution\n",
    "\n",
    "In this challenge you are required to use the Math library in python to solve the problems.\n",
    "\n",
    "In the UEFA champions league tournament, the average number of goals scored in a match is 2.3. \n",
    "\n",
    "**What is the probability that the number of goals scored in a match is 5?**\n",
    "\n",
    "*Hint: Use the exp() in the math library*\n",
    "\n",
    "And to calculate the factorial, you can use the following code:\n",
    "\n",
    "```python\n",
    "import math\n",
    "math.factorial(n) # n is the number you want to find the factorial of\n",
    "```"
   ]
  },
  {
   "cell_type": "code",
   "execution_count": 7,
   "metadata": {},
   "outputs": [
    {
     "name": "stdout",
     "output_type": "stream",
     "text": [
      "#ManualMode# Probability that the number of goals scored in a match is 5round:  0.054\n",
      "#SciPyMode# Probability that the number of goals scored in a match is 5round:  0.054\n"
     ]
    }
   ],
   "source": [
    "#X ~ P(λ)\n",
    "\n",
    "########## Manual\n",
    "print('#ManualMode# Probability that the number of goals scored in a match is 5round: ', round((math.exp(1)**-2.3*2.3**5)/math.factorial(5), 3))\n",
    "\n",
    "########## Scipy\n",
    "#poisson.pmf(k=number of events, mu=average number of events that occur in the time period)\n",
    "print('#SciPyMode# Probability that the number of goals scored in a match is 5round: ', round(poisson.pmf(k=5, mu=2.3), 3))"
   ]
  },
  {
   "cell_type": "markdown",
   "metadata": {},
   "source": [
    "**Draw a poisson probability distribution plot for the number of goals to be between 0 to 10.**"
   ]
  },
  {
   "cell_type": "code",
   "execution_count": 8,
   "metadata": {},
   "outputs": [
    {
     "data": {
      "text/plain": [
       "Text(0, 0.5, 'Probability')"
      ]
     },
     "execution_count": 8,
     "metadata": {},
     "output_type": "execute_result"
    },
    {
     "data": {
      "image/png": "[encoded data removed]",
      "text/plain": [
       "<Figure size 432x288 with 1 Axes>"
      ]
     },
     "metadata": {
      "needs_background": "light"
     },
     "output_type": "display_data"
    }
   ],
   "source": [
    "# your code here\n",
    "# Please label the axes and give a title to the plot\n",
    "\n",
    "plt.stem(poisson.pmf(k=range(11), mu=2.3), use_line_collection=True)\n",
    "plt.title('Probability distribution')\n",
    "plt.xlabel('Number of events')\n",
    "plt.ylabel('Probability')"
   ]
  }
 ],
 "metadata": {
  "kernelspec": {
   "display_name": "analytics_env",
   "language": "python",
   "name": "analytics_env"
  },
  "language_info": {
   "codemirror_mode": {
    "name": "ipython",
    "version": 3
   },
   "file_extension": ".py",
   "mimetype": "text/x-python",
   "name": "python",
   "nbconvert_exporter": "python",
   "pygments_lexer": "ipython3",
   "version": "3.8.2"
  }
 },
 "nbformat": 4,
 "nbformat_minor": 2
}
