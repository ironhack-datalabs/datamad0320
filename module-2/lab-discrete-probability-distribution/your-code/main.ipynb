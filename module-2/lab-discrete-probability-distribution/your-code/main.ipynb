{
 "cells": [
  {
   "cell_type": "markdown",
   "metadata": {},
   "source": [
    "# Before your start:\n",
    "\n",
    "    Read the README.md file\n",
    "    Comment as much as you can and use the resources (README.md file)\n",
    "    Happy learning!\n",
    "\n",
    "*Notes:* \n",
    "\n",
    "- Solve the questions with python.\n",
    "\n",
    "- Round the final answer to three decimal places."
   ]
  },
  {
   "cell_type": "code",
   "execution_count": 43,
   "metadata": {},
   "outputs": [],
   "source": [
    "import scipy\n",
    "import matplotlib.pyplot as plt\n",
    "import seaborn as sns"
   ]
  },
  {
   "cell_type": "markdown",
   "metadata": {},
   "source": [
    "## Bernoulli's Distribution\n",
    "\n",
    "In a basket containing 100 fruits, there are 60 apples and 40 oranges. \n",
    "\n",
    "A fruit is picked randomly from the basket. \n",
    "\n",
    "1. **What is the probability that the fruit is apple?**\n",
    "1. **What is the probability that it is an orange?**"
   ]
  },
  {
   "cell_type": "code",
   "execution_count": 1,
   "metadata": {},
   "outputs": [],
   "source": [
    "\"\"\"\n",
    "Calculate:\n",
    "p = probability that the fruit is an apple \n",
    "q = probability that the fruit is an orange\n",
    "\"\"\"\n",
    "p = 60/100\n",
    "q = 40/100"
   ]
  },
  {
   "cell_type": "markdown",
   "metadata": {},
   "source": [
    "Now we take a random sample of 20 fruits from the basket. After each fruit is taken, a new fruit of the same type is replaced in the basket. Therefore, every time we are taking 1 fruit from 100 fruits. \n",
    "\n",
    "1. **What is the probability that the first 5 fruits are all apples?**\n",
    "\n",
    "1. **What is the probability that the first 5 fruits are all apples and the next 15 fruits are all oranges?**\n",
    "\n",
    "You can include the `p` and `q` probabilities you previous calculated in your solution."
   ]
  },
  {
   "cell_type": "code",
   "execution_count": 22,
   "metadata": {},
   "outputs": [
    {
     "name": "stdout",
     "output_type": "stream",
     "text": [
      "5 manzanas: 0.001\n",
      "5 manzanas y 15 naranjas: 0.0\n"
     ]
    }
   ],
   "source": [
    "# Probabilidad de que salga manzana\n",
    "p\n",
    "# Número de éxitos-> que 5 frutas seguidas sean manzanas\n",
    "k = 5\n",
    "# Probabilidad 5 manzanas\n",
    "p_5manz = (p**k)*(1-p)**(k-1)\n",
    "print('5 manzanas:',round(p_5manz,3))\n",
    "# Probabilidad 5 manzanas y luego 15 naranjas\n",
    "k = 15\n",
    "p_15nar = (q**k)*(1-q)**(k-1)\n",
    "p_5manz15nar= p_5manz*p_15nar\n",
    "print('5 manzanas y 15 naranjas:',round(p_5manz15nar,3))\n"
   ]
  },
  {
   "cell_type": "markdown",
   "metadata": {},
   "source": [
    "## Binomial Distribution\n",
    "\n",
    "Similar to the above problem, this time again we randomly sample 20 fruits.\n",
    "\n",
    "**What is the probability that this time the sample contains 5 apples and 15 oranges?**\n",
    "\n",
    "Please note that this time the order of the fruits being picked does not matter."
   ]
  },
  {
   "cell_type": "code",
   "execution_count": 36,
   "metadata": {},
   "outputs": [
    {
     "data": {
      "text/plain": [
       "0.001"
      ]
     },
     "execution_count": 36,
     "metadata": {},
     "output_type": "execute_result"
    }
   ],
   "source": [
    "from scipy.stats import binom\n",
    "# Probabilidad de coger una manzana\n",
    "p = 60/100\n",
    "# Muestra\n",
    "n = 20\n",
    "# Casos de éxito: 5 frutas sean manzanas\n",
    "k = 5\n",
    "# Probablidad\n",
    "resultado = round(binom.pmf(k, n, p),3)\n",
    "resultado"
   ]
  },
  {
   "cell_type": "markdown",
   "metadata": {},
   "source": [
    "In the lesson we also discussed CDF (cumulative distribution function). In the context of the above problem, **what is the probability that less than 5 fruits picked are apples?**\n",
    "\n",
    "Write the formula and calculate the probability below."
   ]
  },
  {
   "cell_type": "code",
   "execution_count": 30,
   "metadata": {},
   "outputs": [
    {
     "name": "stdout",
     "output_type": "stream",
     "text": [
      "0.002\n"
     ]
    }
   ],
   "source": [
    "prob = binom.cdf(5, 20, (60/100))\n",
    "print(round(prob,3))"
   ]
  },
  {
   "cell_type": "markdown",
   "metadata": {},
   "source": [
    "**Plot the PDF (probability distributiom function) for the above binomial distribution.**\n",
    "\n",
    "*Hint: The range of x in a binomial distribution is from `0` to `n`.*"
   ]
  },
  {
   "cell_type": "code",
   "execution_count": 49,
   "metadata": {},
   "outputs": [
    {
     "data": {
      "text/plain": [
       "[<matplotlib.axis.XTick at 0x7f12d8931c10>,\n",
       " <matplotlib.axis.XTick at 0x7f12d89313d0>,\n",
       " <matplotlib.axis.XTick at 0x7f12d8931250>,\n",
       " <matplotlib.axis.XTick at 0x7f12d88dd9d0>,\n",
       " <matplotlib.axis.XTick at 0x7f12d88dd8d0>,\n",
       " <matplotlib.axis.XTick at 0x7f12d88e4510>,\n",
       " <matplotlib.axis.XTick at 0x7f12d88e4410>,\n",
       " <matplotlib.axis.XTick at 0x7f12d88e9250>,\n",
       " <matplotlib.axis.XTick at 0x7f12d88dde50>,\n",
       " <matplotlib.axis.XTick at 0x7f12d88e9750>,\n",
       " <matplotlib.axis.XTick at 0x7f12d88e9d10>,\n",
       " <matplotlib.axis.XTick at 0x7f12d88f1390>,\n",
       " <matplotlib.axis.XTick at 0x7f12d88f19d0>,\n",
       " <matplotlib.axis.XTick at 0x7f12d88f1d90>,\n",
       " <matplotlib.axis.XTick at 0x7f12d88f7690>,\n",
       " <matplotlib.axis.XTick at 0x7f12d88f7510>,\n",
       " <matplotlib.axis.XTick at 0x7f12d8901350>,\n",
       " <matplotlib.axis.XTick at 0x7f12d88f1f50>,\n",
       " <matplotlib.axis.XTick at 0x7f12d88f1190>,\n",
       " <matplotlib.axis.XTick at 0x7f12d89010d0>]"
      ]
     },
     "execution_count": 49,
     "metadata": {},
     "output_type": "execute_result"
    },
    {
     "data": {
      "image/png": "[encoded data removed]",
      "text/plain": [
       "<Figure size 432x288 with 1 Axes>"
      ]
     },
     "metadata": {
      "needs_background": "light"
     },
     "output_type": "display_data"
    }
   ],
   "source": [
    "p = 60/100\n",
    "n = 20\n",
    "x = range(0,n)\n",
    "fig, ax = plt.subplots(1, 1)\n",
    "ax.plot(x, binom.pmf(x, n, p))\n",
    "ax.set_xticks(range(0,20))"
   ]
  },
  {
   "cell_type": "markdown",
   "metadata": {},
   "source": [
    "## Poisson Distribution\n",
    "\n",
    "In this challenge you are required to use the Math library in python to solve the problems.\n",
    "\n",
    "In the UEFA champions league tournament, the average number of goals scored in a match is 2.3. \n",
    "\n",
    "**What is the probability that the number of goals scored in a match is 5?**\n",
    "\n",
    "*Hint: Use the exp() in the math library*\n",
    "\n",
    "And to calculate the factorial, you can use the following code:\n",
    "\n",
    "```python\n",
    "import math\n",
    "math.factorial(n) # n is the number you want to find the factorial of\n",
    "```"
   ]
  },
  {
   "cell_type": "code",
   "execution_count": 53,
   "metadata": {},
   "outputs": [
    {
     "name": "stdout",
     "output_type": "stream",
     "text": [
      "0.054\n"
     ]
    }
   ],
   "source": [
    "import math\n",
    "media = 2.3\n",
    "x = 5\n",
    "prob= ((math.exp(-media))*(media**x))/(math.factorial(x))\n",
    "print(round(prob,3))"
   ]
  },
  {
   "cell_type": "code",
   "execution_count": 54,
   "metadata": {},
   "outputs": [
    {
     "data": {
      "text/plain": [
       "0.053775025581946814"
      ]
     },
     "execution_count": 54,
     "metadata": {},
     "output_type": "execute_result"
    }
   ],
   "source": [
    "from scipy.stats import poisson\n",
    "poisson.pmf(x, media)"
   ]
  },
  {
   "cell_type": "code",
   "execution_count": 56,
   "metadata": {},
   "outputs": [
    {
     "data": {
      "text/plain": [
       "0.9700243063025452"
      ]
     },
     "execution_count": 56,
     "metadata": {},
     "output_type": "execute_result"
    }
   ],
   "source": [
    "prob = poisson.cdf(x, media)\n",
    "prob"
   ]
  },
  {
   "cell_type": "markdown",
   "metadata": {},
   "source": [
    "**Draw a poisson probability distribution plot for the number of goals to be between 0 to 10.**"
   ]
  },
  {
   "cell_type": "code",
   "execution_count": 57,
   "metadata": {},
   "outputs": [
    {
     "data": {
      "text/plain": [
       "[<matplotlib.axis.XTick at 0x7f12d8bd6210>,\n",
       " <matplotlib.axis.XTick at 0x7f12d891a610>,\n",
       " <matplotlib.axis.XTick at 0x7f12d891aad0>,\n",
       " <matplotlib.axis.XTick at 0x7f12d8878850>,\n",
       " <matplotlib.axis.XTick at 0x7f12d8878750>,\n",
       " <matplotlib.axis.XTick at 0x7f12d887d350>,\n",
       " <matplotlib.axis.XTick at 0x7f12d887d990>,\n",
       " <matplotlib.axis.XTick at 0x7f12d887da50>,\n",
       " <matplotlib.axis.XTick at 0x7f12d8884650>,\n",
       " <matplotlib.axis.XTick at 0x7f12d88844d0>]"
      ]
     },
     "execution_count": 57,
     "metadata": {},
     "output_type": "execute_result"
    },
    {
     "data": {
      "image/png": "[encoded data removed]",
      "text/plain": [
       "<Figure size 432x288 with 1 Axes>"
      ]
     },
     "metadata": {
      "needs_background": "light"
     },
     "output_type": "display_data"
    }
   ],
   "source": [
    "fig, ax = plt.subplots(1, 1)\n",
    "x = range(10)\n",
    "ax.plot(x, poisson.cdf(x, media))\n",
    "ax.set_xticks(range(0,10))\n"
   ]
  }
 ],
 "metadata": {
  "kernelspec": {
   "display_name": "Python 3",
   "language": "python",
   "name": "python3"
  },
  "language_info": {
   "codemirror_mode": {
    "name": "ipython",
    "version": 3
   },
   "file_extension": ".py",
   "mimetype": "text/x-python",
   "name": "python",
   "nbconvert_exporter": "python",
   "pygments_lexer": "ipython3",
   "version": "3.7.6"
  }
 },
 "nbformat": 4,
 "nbformat_minor": 2
}
