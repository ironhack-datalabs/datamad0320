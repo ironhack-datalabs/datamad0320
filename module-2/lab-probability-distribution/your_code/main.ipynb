{
 "cells": [
  {
   "cell_type": "markdown",
   "metadata": {},
   "source": [
    "# Before your start:\n",
    "- Read the README.md file\n",
    "- Comment as much as you can and use the resources (README.md file)\n",
    "- Happy learning!"
   ]
  },
  {
   "cell_type": "code",
   "execution_count": 1,
   "metadata": {},
   "outputs": [],
   "source": [
    "from scipy import stats\n",
    "import numpy as np\n",
    "import matplotlib.pyplot as plt"
   ]
  },
  {
   "cell_type": "markdown",
   "metadata": {},
   "source": [
    "# Challenge 1 - Generate and Plot Normal Distributions"
   ]
  },
  {
   "cell_type": "markdown",
   "metadata": {},
   "source": [
    "#### Step 1: Generate samples and test normal distribution\n",
    "\n",
    "Use mean=50, standard_deviation=5, and sample_size=[10, 50, 500, 5000] to generate 4 random samples that are normally distributed. Test your normal distributions with [`scipy.stats.normaltest`](https://docs.scipy.org/doc/scipy/reference/generated/scipy.stats.normaltest.html).\n",
    "\n",
    "\n",
    "*Hint: Read the documentation for `scipy.stats.normaltest`. The function does not simply return Yes or No for whether your data is normal distribution. It returns the likelihood.*"
   ]
  },
  {
   "cell_type": "code",
   "execution_count": 2,
   "metadata": {},
   "outputs": [
    {
     "name": "stderr",
     "output_type": "stream",
     "text": [
      "/Users/miriam/miniconda3/envs/analytics_env/lib/python3.8/site-packages/scipy/stats/stats.py:1534: UserWarning: kurtosistest only valid for n>=20 ... continuing anyway, n=10\n",
      "  warnings.warn(\"kurtosistest only valid for n>=20 ... continuing \"\n"
     ]
    }
   ],
   "source": [
    "sample_1=np.random.normal(loc=50, scale=5, size=10)\n",
    "sample_2=np.random.normal(loc=50, scale=5, size=50)\n",
    "sample_3=np.random.normal(loc=50, scale=5, size=500)\n",
    "sample_4=np.random.normal(loc=50, scale=5, size=5000)\n",
    "\n",
    "k1, p1 = stats.normaltest(sample_1)\n",
    "k1, p2 = stats.normaltest(sample_2)\n",
    "k1, p3 = stats.normaltest(sample_3)\n",
    "k1, p4 = stats.normaltest(sample_4)\n"
   ]
  },
  {
   "cell_type": "markdown",
   "metadata": {},
   "source": [
    "#### Interpret the normaltest results and make your observations."
   ]
  },
  {
   "cell_type": "code",
   "execution_count": 3,
   "metadata": {},
   "outputs": [],
   "source": [
    "#https://www.dummies.com/education/math/statistics/what-a-p-value-tells-you-about-statistical-data/"
   ]
  },
  {
   "cell_type": "code",
   "execution_count": 4,
   "metadata": {},
   "outputs": [
    {
     "name": "stdout",
     "output_type": "stream",
     "text": [
      "0.8807325873719842\n",
      "Sample 1 comes from a normal distribution\n",
      "0.9202456300897\n",
      "Sample 2 comes from a normal distribution\n",
      "0.8223235544573568\n",
      "Sample 3 comes from a normal distribution\n",
      "0.5640668796107156\n",
      "Sample 4 comes from a normal distribution\n"
     ]
    }
   ],
   "source": [
    "#null hypothesis: sample comes from a normal distribution\n",
    "\n",
    "#A small p-value (typically ≤ 0.05) indicates strong evidence against \n",
    "#the null hypothesis, so you reject the null hypothesis.\n",
    "#>>Sample doesn't come from a normal distribution<<\n",
    "\n",
    "#A large p-value (> 0.05) indicates weak evidence against \n",
    "#the null hypothesis, so you fail to reject the null hypothesis.\n",
    "#>>Sample comes from a normal distribution<<\n",
    "\n",
    "print(p1) \n",
    "\n",
    "if p1 <= 0.05:\n",
    "    print(\"Sample 1 doesn't come from a normal distribution\")\n",
    "else:\n",
    "    print(\"Sample 1 comes from a normal distribution\")\n",
    "\n",
    "print(p2) \n",
    "\n",
    "if p2 <= 0.05:\n",
    "    print(\"Sample 2 doesn't come from a normal distribution\")\n",
    "else:\n",
    "    print(\"Sample 2 comes from a normal distribution\")\n",
    "\n",
    "print(p3) \n",
    "\n",
    "if p3 <= 0.05:\n",
    "    print(\"Sample 3 doesn't come from a normal distribution\")\n",
    "else:\n",
    "    print(\"Sample 3 comes from a normal distribution\")\n",
    "    \n",
    "print(p4) \n",
    "\n",
    "if p4 <= 0.05:\n",
    "    print(\"Sample 4 doesn't come from a normal distribution\")\n",
    "else:\n",
    "    print(\"Sample 4 comes from a normal distribution\")"
   ]
  },
  {
   "cell_type": "markdown",
   "metadata": {},
   "source": [
    "#### Step 2: Plot normal distributions\n",
    "\n",
    "Use matplotlib subplots to plot a histogram of each sample. \n",
    "\n",
    "*Hints:*\n",
    "- Use subplots to compare your figures side by side.\n",
    "\n",
    "- Your output should look like below:\n",
    "\n",
    "![normal distributions with different sample sizes](ch-1.png)"
   ]
  },
  {
   "cell_type": "code",
   "execution_count": 5,
   "metadata": {},
   "outputs": [
    {
     "data": {
      "text/plain": [
       "Text(0.5, 1.0, 'n=5000')"
      ]
     },
     "execution_count": 5,
     "metadata": {},
     "output_type": "execute_result"
    },
    {
     "data": {
      "image/png": "[encoded data removed]",
      "text/plain": [
       "<Figure size 1080x216 with 4 Axes>"
      ]
     },
     "metadata": {
      "needs_background": "light"
     },
     "output_type": "display_data"
    }
   ],
   "source": [
    "fig = plt.figure(figsize=(15,3)) #cm\n",
    "\n",
    "ax1 = plt.subplot(141)\n",
    "plt.hist(sample_1)\n",
    "ax1.set_title('n=5')\n",
    "\n",
    "ax2 = plt.subplot(142)\n",
    "plt.hist(sample_2)\n",
    "ax2.set_title('n=50')\n",
    "\n",
    "ax3 = plt.subplot(143)\n",
    "plt.hist(sample_3)\n",
    "ax3.set_title('n=500')\n",
    "\n",
    "ax4 = plt.subplot(144)\n",
    "plt.hist(sample_4)\n",
    "ax4.set_title('n=5000')\n",
    "\n"
   ]
  },
  {
   "cell_type": "code",
   "execution_count": 6,
   "metadata": {},
   "outputs": [
    {
     "data": {
      "text/plain": [
       "array([46.81821158, 40.12586032, 51.97062974, 49.65584362, 45.01668531,\n",
       "       50.66190526, 40.24546883, 47.70425054, 52.87502859, 56.46797741])"
      ]
     },
     "execution_count": 6,
     "metadata": {},
     "output_type": "execute_result"
    }
   ],
   "source": [
    "sample_1"
   ]
  },
  {
   "cell_type": "markdown",
   "metadata": {},
   "source": [
    "#### Compare the distributions above. What do you observe? Explain with the Central Limit Theorem."
   ]
  },
  {
   "cell_type": "code",
   "execution_count": 7,
   "metadata": {},
   "outputs": [],
   "source": [
    "#https://statisticsbyjim.com/basics/central-limit-theorem/"
   ]
  },
  {
   "cell_type": "markdown",
   "metadata": {},
   "source": [
    "The central limit theorem links the following two distributions:\n",
    "\n",
    "- The **distribution of the variable** in the **population**.\n",
    "- The **sampling distribution** of the mean.\n",
    "\n",
    "CLT states that regardless of the variable’s distribution in the population, the sampling distribution of the mean will tend to approximate the normal distribution.\n",
    "\n",
    "The shape of the sampling distribution changes with the sample size. And, the central limit theorem states that when you have a sufficiently large sample size, the sampling distribution starts to approximate a normal distribution. \n",
    "\n",
    "It depends on the shape of the variable’s distribution in the underlying population. The more the population distribution differs from being normal, the larger the sample size must be."
   ]
  },
  {
   "cell_type": "markdown",
   "metadata": {},
   "source": [
    "# Challenge 2 - Plot Probability Mass Function (PMF)"
   ]
  },
  {
   "cell_type": "markdown",
   "metadata": {},
   "source": [
    "#### Background knowledge\n",
    "\n",
    "[PMF](https://en.wikipedia.org/wiki/Probability_mass_function) shows the probability distribution of a **discrete random variable**. A [discrete random variable](https://en.wikipedia.org/wiki/Random_variable#Discrete_random_variable) has random numeric values that are not continuous. For example, the number of people in a household can only be integers but not floats. Therefore the number of people in a household is a discrete variable.\n",
    "\n",
    "#### Question: We assume that the probability of clicking an Ad in a Youtube video is 0.15. We have a sample of 5 people who wathched the video and we want to plot the PMF for a binomial distribution.\n",
    "\n",
    "*Hint: use binom from `scipy.stats.binom`. Your output should look like below:*\n",
    "\n",
    "![binom 10](ch-2.png)"
   ]
  },
  {
   "cell_type": "code",
   "execution_count": 8,
   "metadata": {},
   "outputs": [
    {
     "name": "stderr",
     "output_type": "stream",
     "text": [
      "<ipython-input-8-e826d3a7068b>:2: UserWarning: In Matplotlib 3.3 individual lines on a stem plot will be added as a LineCollection instead of individual lines. This significantly improves the performance of a stem plot. To remove this warning and switch to the new behaviour, set the \"use_line_collection\" keyword argument to True.\n",
      "  plt.stem(data_binom)\n"
     ]
    },
    {
     "data": {
      "text/plain": [
       "<StemContainer object of 3 artists>"
      ]
     },
     "execution_count": 8,
     "metadata": {},
     "output_type": "execute_result"
    },
    {
     "data": {
      "image/png": "[encoded data removed]",
      "text/plain": [
       "<Figure size 432x288 with 1 Axes>"
      ]
     },
     "metadata": {
      "needs_background": "light"
     },
     "output_type": "display_data"
    }
   ],
   "source": [
    "data_binom = stats.binom.rvs(n=5,p=0.15,size=10)\n",
    "plt.stem(data_binom)"
   ]
  },
  {
   "cell_type": "markdown",
   "metadata": {},
   "source": [
    "#### Explain what you observe from the plot above"
   ]
  },
  {
   "cell_type": "code",
   "execution_count": 9,
   "metadata": {},
   "outputs": [],
   "source": [
    "#n: is the maximum number of successes\n",
    "#p: probability of success\n",
    "#size: number of experiments\n",
    "\n",
    "#we have 10 experiments, and we success 3 times\n",
    "#the 7th try is the one with more successes --> 2 "
   ]
  },
  {
   "cell_type": "markdown",
   "metadata": {},
   "source": [
    "#### Now plot PMF with 50, 500, and 5000 visitors."
   ]
  },
  {
   "cell_type": "code",
   "execution_count": 10,
   "metadata": {
    "scrolled": true
   },
   "outputs": [
    {
     "data": {
      "text/plain": [
       "Text(0.5, 1.0, 'n=5000')"
      ]
     },
     "execution_count": 10,
     "metadata": {},
     "output_type": "execute_result"
    },
    {
     "data": {
      "image/png": "[encoded data removed]",
      "text/plain": [
       "<Figure size 1080x216 with 3 Axes>"
      ]
     },
     "metadata": {
      "needs_background": "light"
     },
     "output_type": "display_data"
    }
   ],
   "source": [
    "fig = plt.figure(figsize=(15,3)) #cm\n",
    "\n",
    "ax1 = plt.subplot(131)\n",
    "plt.hist(stats.binom.rvs(n=5,p=0.15,size=50))\n",
    "#plt.stem(stats.binom.rvs(n=5,p=0.15,size=50))\n",
    "ax1.set_title('n=50')\n",
    "\n",
    "ax2 = plt.subplot(132)\n",
    "plt.hist(stats.binom.rvs(n=5,p=0.15,size=500))\n",
    "#plt.stem(stats.binom.rvs(n=5,p=0.15,size=500))\n",
    "ax2.set_title('n=500')\n",
    "\n",
    "ax3 = plt.subplot(133)\n",
    "plt.hist(stats.binom.rvs(n=5,p=0.15,size=5000))\n",
    "#plt.stem(stats.binom.rvs(n=5,p=0.15,size=5000))\n",
    "ax3.set_title('n=5000')"
   ]
  },
  {
   "cell_type": "markdown",
   "metadata": {},
   "source": [
    "#### What did you notice from the distribution plots? Comment your findings."
   ]
  },
  {
   "cell_type": "markdown",
   "metadata": {},
   "source": [
    "The higher the number of experiments:\n",
    "\n",
    "- The most probable outcome is 0. \n",
    "- It makes sense because the probability of success is very low.\n",
    "- The higher number of outliers"
   ]
  },
  {
   "cell_type": "markdown",
   "metadata": {},
   "source": [
    "# Challenge 3"
   ]
  },
  {
   "cell_type": "markdown",
   "metadata": {},
   "source": [
    "#### Reaserch the Poisson distribution. Write about your own understanding of the Poisson distribution."
   ]
  },
  {
   "cell_type": "markdown",
   "metadata": {},
   "source": [
    "The Poisson distribution is useful for measuring how many events may occur during a given time horizon, such as the number of customers that enter a store during the next hour, the number of hits on a website during the next minute, and so forth. The Poisson process takes place over time instead of a series of trials; each interval of time is assumed to be independent of all other intervals."
   ]
  },
  {
   "cell_type": "markdown",
   "metadata": {},
   "source": [
    "#### A website has an average of 300 visits per day. What is the probability of getting 320 visitors in a day?\n",
    "\n",
    "*Hint: use `scipy.stats.poisson`*"
   ]
  },
  {
   "cell_type": "code",
   "execution_count": 11,
   "metadata": {},
   "outputs": [
    {
     "data": {
      "text/plain": [
       "0.011612348610402475"
      ]
     },
     "execution_count": 11,
     "metadata": {},
     "output_type": "execute_result"
    }
   ],
   "source": [
    "#mu: average number of events that occur in the time period\n",
    "#k: number of events whose probability we are calculating\n",
    "#loc=mean?? (Question for TA)\n",
    "stats.poisson.pmf(k=320, mu=300, loc=0)"
   ]
  },
  {
   "cell_type": "markdown",
   "metadata": {},
   "source": [
    "#### What is the probability of getting 60 visits?"
   ]
  },
  {
   "cell_type": "code",
   "execution_count": 12,
   "metadata": {},
   "outputs": [
    {
     "data": {
      "text/plain": [
       "2.622743762294515e-64"
      ]
     },
     "execution_count": 12,
     "metadata": {},
     "output_type": "execute_result"
    }
   ],
   "source": [
    "stats.poisson.pmf(k=60, mu=300, loc=0)"
   ]
  },
  {
   "cell_type": "markdown",
   "metadata": {},
   "source": [
    "#### Plot the distribution of the probability for getting 0-1000 visits.\n",
    "\n",
    "*Hints:* \n",
    "\n",
    "- Create a list to store the Poisson distribution probabilities for n=0 to 1000. Then plot the probabilities.\n",
    "\n",
    "- Your plot should look like below:\n",
    "\n",
    "![poisson distribution](ch-3.png)"
   ]
  },
  {
   "cell_type": "code",
   "execution_count": 13,
   "metadata": {},
   "outputs": [
    {
     "data": {
      "text/plain": [
       "[<matplotlib.lines.Line2D at 0x127c399d0>]"
      ]
     },
     "execution_count": 13,
     "metadata": {},
     "output_type": "execute_result"
    },
    {
     "data": {
      "image/png": "[encoded data removed]",
      "text/plain": [
       "<Figure size 432x288 with 1 Axes>"
      ]
     },
     "metadata": {
      "needs_background": "light"
     },
     "output_type": "display_data"
    }
   ],
   "source": [
    "plt.plot(stats.poisson.pmf(k=range(1000), mu=300, loc=0))"
   ]
  }
 ],
 "metadata": {
  "anaconda-cloud": {},
  "kernelspec": {
   "display_name": "analytics_env",
   "language": "python",
   "name": "analytics_env"
  },
  "language_info": {
   "codemirror_mode": {
    "name": "ipython",
    "version": 3
   },
   "file_extension": ".py",
   "mimetype": "text/x-python",
   "name": "python",
   "nbconvert_exporter": "python",
   "pygments_lexer": "ipython3",
   "version": "3.8.2"
  }
 },
 "nbformat": 4,
 "nbformat_minor": 1
}
